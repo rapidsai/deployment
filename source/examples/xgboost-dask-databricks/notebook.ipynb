{
 "cells": [
  {
   "cell_type": "markdown",
   "metadata": {
    "application/vnd.databricks.v1+cell": {
     "cellMetadata": {
      "byteLimit": 2048000,
      "rowLimit": 10000
     },
     "inputWidgets": {},
     "nuid": "db9cf912-1f7b-431d-9628-1afdea311779",
     "showTitle": false,
     "title": ""
    }
   },
   "source": [
    "# Training XGBoost with Dask RAPIDS in Databricks\n",
    "\n",
    "This notebook shows how to deploy Dask RAPIDS workflow in Databricks. We will focus on the HIGGS dataset, a moderately sized classification problem from the [UCI Machine Learning repository.](https://archive.ics.uci.edu/dataset/280/higgs)\n",
    "\n",
    "In the following sections, we start from basic data loading from Delta Lake and preprocessing with Dask. Then, train an XGBoost model on returned data with different configurations. Lastly, we share some optimization techniques with inference.\n"
   ]
  },
  {
   "cell_type": "markdown",
   "metadata": {
    "application/vnd.databricks.v1+cell": {
     "cellMetadata": {
      "byteLimit": 2048000,
      "rowLimit": 10000
     },
     "inputWidgets": {},
     "nuid": "1518eb70-21f5-4768-b06a-b376ec379335",
     "showTitle": false,
     "title": ""
    }
   },
   "source": [
    "## Launch multi-node Dask Cluster\n",
    "\n",
    "This workflow example can be ran on GPU, and you don't even need to have the GPU locally since Databricks can provide one for you. Whereas Dask enables users to easily distribute or scale up computation tasks within a single GPU or across multiple GPUs.\n",
    "\n",
    "Dask  recently introduced [**dask-databricks**](https://github.com/dask-contrib/dask-databricks) (available via [conda](https://github.com/conda-forge/dask-databricks-feedstock) and [pip](https://pypi.org/project/dask-databricks/)). With this CLI tool, the `dask databricks run --cuda` command will launch a dask scheduler in the driver node and cuda workers in the remaining nodes.\n",
    "\n",
    "From a high level, we could break down this section into the following steps:\n",
    "* dask-databricks can help us launch a Dask cluster alongside Spark on databricks\n",
    "* Create a new init script that installs RAPIDS and runs `dask-databricks`\n",
    "* Create a new multi-node cluster that uses the init script\n",
    "* Once the cluster is running upload this notebook to Databricks and continue running these cells on there\n",
    "\n",
    "```{docref} /platforms/databricks\n",
    "For more detailed information on launching Dask-RAPIDS in Databricks see the documentation.\n",
    "```\n"
   ]
  },
  {
   "cell_type": "markdown",
   "metadata": {
    "application/vnd.databricks.v1+cell": {
     "cellMetadata": {
      "byteLimit": 2048000,
      "rowLimit": 10000
     },
     "inputWidgets": {},
     "nuid": "dd79b033-6013-471d-a70c-a55d55fe52c1",
     "showTitle": false,
     "title": ""
    }
   },
   "source": [
    "## Import packages \n",
    "\n",
    "Once your cluster has launched, start by importing all necessary libraries and dependencies."
   ]
  },
  {
   "cell_type": "code",
   "execution_count": null,
   "metadata": {
    "application/vnd.databricks.v1+cell": {
     "cellMetadata": {
      "byteLimit": 2048000,
      "rowLimit": 10000
     },
     "inputWidgets": {},
     "nuid": "1337aca2-9f5f-4f21-a0c2-a7f5903e09d7",
     "showTitle": false,
     "title": ""
    }
   },
   "outputs": [
    {
     "name": "stdout",
     "output_type": "stream",
     "text": [
      "Package                      Version\n",
      "---------------------------- -------------\n",
      "absl-py                      1.4.0\n",
      "asttokens                    2.2.1\n",
      "astunparse                   1.6.3\n",
      "backcall                     0.2.0\n",
      "blinker                      1.4\n",
      "bokeh                        3.2.2\n",
      "cachetools                   5.3.1\n",
      "certifi                      2023.7.22\n",
      "charset-normalizer           3.2.0\n",
      "click                        8.1.7\n",
      "cloudpickle                  3.0.0\n",
      "comm                         0.1.3\n",
      "contourpy                    1.1.0\n",
      "cryptography                 3.4.8\n",
      "cubinlinker-cu11             0.3.0.post1\n",
      "cuda-python                  11.8.3\n",
      "cudf-cu11                    23.10.2\n",
      "cuml-cu11                    23.10.0\n",
      "cupy-cuda11x                 12.3.0\n",
      "cycler                       0.11.0\n",
      "dask                         2023.9.2\n",
      "dask-cuda                    23.10.0\n",
      "dask-cudf-cu11               23.10.2\n",
      "dask-databricks              0.3.0\n",
      "dask-deltatable              0.3.1\n",
      "dask-glm                     0.3.2\n",
      "dask-ml                      2023.3.24\n",
      "databricks-sdk               0.1.6\n",
      "dbus-python                  1.2.18\n",
      "debugpy                      1.6.7\n",
      "decorator                    5.1.1\n",
      "deltalake                    0.13.0\n",
      "distlib                      0.3.7\n",
      "distributed                  2023.9.2\n",
      "distro                       1.7.0\n",
      "distro-info                  1.1build1\n",
      "executing                    1.2.0\n",
      "fastrlock                    0.8.2\n",
      "filelock                     3.12.2\n",
      "flatbuffers                  23.5.26\n",
      "fonttools                    4.41.1\n",
      "fsspec                       2023.12.2\n",
      "gast                         0.4.0\n",
      "google-auth                  2.22.0\n",
      "google-auth-oauthlib         1.0.0\n",
      "google-pasta                 0.2.0\n",
      "googleapis-common-protos     1.60.0\n",
      "grpcio                       1.48.2\n",
      "grpcio-status                1.48.1\n",
      "h5py                         3.9.0\n",
      "httplib2                     0.20.2\n",
      "idna                         3.4\n",
      "importlib-metadata           7.0.0\n",
      "ipykernel                    6.25.0\n",
      "ipython                      8.14.0\n",
      "ipython-genutils             0.2.0\n",
      "jedi                         0.18.1\n",
      "jeepney                      0.7.1\n",
      "Jinja2                       3.1.2\n",
      "joblib                       1.3.2\n",
      "jupyter_client               8.3.0\n",
      "jupyter_core                 5.3.1\n",
      "keras                        2.13.1\n",
      "keyring                      23.5.0\n",
      "kiwisolver                   1.4.4\n",
      "launchpadlib                 1.10.16\n",
      "lazr.restfulclient           0.14.4\n",
      "lazr.uri                     1.0.6\n",
      "libclang                     16.0.6\n",
      "llvmlite                     0.40.1\n",
      "locket                       1.0.0\n",
      "lz4                          4.3.2\n",
      "Markdown                     3.4.4\n",
      "markdown-it-py               3.0.0\n",
      "MarkupSafe                   2.1.3\n",
      "matplotlib                   3.7.0\n",
      "matplotlib-inline            0.1.6\n",
      "mdurl                        0.1.2\n",
      "more-itertools               8.10.0\n",
      "msgpack                      1.0.7\n",
      "multipledispatch             1.0.0\n",
      "nest-asyncio                 1.5.7\n",
      "numba                        0.57.1\n",
      "numpy                        1.23.5\n",
      "nvtx                         0.2.8\n",
      "oauthlib                     3.2.0\n",
      "opt-einsum                   3.3.0\n",
      "packaging                    23.1\n",
      "pandas                       1.5.3\n",
      "parso                        0.8.3\n",
      "partd                        1.4.1\n",
      "pexpect                      4.8.0\n",
      "pickleshare                  0.7.5\n",
      "Pillow                       10.0.0\n",
      "pip                          22.3.1\n",
      "platformdirs                 2.6.2\n",
      "prompt-toolkit               3.0.39\n",
      "protobuf                     4.23.3\n",
      "psutil                       5.9.5\n",
      "ptxcompiler-cu11             0.7.0.post1\n",
      "ptyprocess                   0.7.0\n",
      "pure-eval                    0.2.2\n",
      "pyarrow                      12.0.1\n",
      "pyasn1                       0.5.0\n",
      "pyasn1-modules               0.3.0\n",
      "Pygments                     2.15.1\n",
      "PyGObject                    3.42.1\n",
      "PyJWT                        2.3.0\n",
      "pylibraft-cu11               23.10.0\n",
      "pynvml                       11.4.1\n",
      "pyparsing                    2.4.7\n",
      "python-apt                   2.4.0+ubuntu1\n",
      "python-dateutil              2.8.2\n",
      "pytz                         2023.3\n",
      "PyYAML                       6.0.1\n",
      "pyzmq                        25.1.0\n",
      "raft-dask-cu11               23.10.0\n",
      "requests                     2.28.2\n",
      "requests-oauthlib            1.3.1\n",
      "rich                         13.7.0\n",
      "rmm-cu11                     23.10.0\n",
      "rsa                          4.9\n",
      "scikit-learn                 1.3.2\n",
      "scipy                        1.11.4\n",
      "SecretStorage                3.3.1\n",
      "setuptools                   65.5.1\n",
      "six                          1.16.0\n",
      "sortedcontainers             2.4.0\n",
      "sparse                       0.14.0\n",
      "stack-data                   0.6.2\n",
      "tblib                        3.0.0\n",
      "tensorboard                  2.13.0\n",
      "tensorboard-data-server      0.7.1\n",
      "tensorflow                   2.13.0\n",
      "tensorflow-estimator         2.13.0\n",
      "tensorflow-io-gcs-filesystem 0.32.0\n",
      "termcolor                    2.3.0\n",
      "threadpoolctl                3.2.0\n",
      "toolz                        0.12.0\n",
      "tornado                      6.3.2\n",
      "traitlets                    5.9.0\n",
      "treelite                     3.9.1\n",
      "treelite-runtime             3.9.1\n",
      "typing_extensions            4.5.0\n",
      "ucx-py-cu11                  0.34.0\n",
      "unattended-upgrades          0.1\n",
      "urllib3                      1.26.16\n",
      "virtualenv                   20.16.7\n",
      "wadllib                      1.3.6\n",
      "wcwidth                      0.2.6\n",
      "Werkzeug                     2.3.6\n",
      "wheel                        0.38.4\n",
      "wrapt                        1.15.0\n",
      "xgboost                      2.0.2\n",
      "xyzservices                  2023.10.1\n",
      "zict                         3.0.0\n",
      "zipp                         1.0.0\n"
     ]
    }
   ],
   "source": [
    "pip list"
   ]
  },
  {
   "cell_type": "code",
   "execution_count": null,
   "metadata": {
    "application/vnd.databricks.v1+cell": {
     "cellMetadata": {
      "byteLimit": 2048000,
      "rowLimit": 10000
     },
     "inputWidgets": {},
     "nuid": "109cfcaa-f2e4-446a-a3fa-c4025e0b70a4",
     "showTitle": false,
     "title": ""
    }
   },
   "outputs": [
    {
     "data": {
      "application/vnd.databricks.v1+bamboolib_hint": "{\"pd.DataFrames\": [], \"version\": \"0.0.1\"}",
      "text/plain": []
     },
     "metadata": {},
     "output_type": "display_data"
    }
   ],
   "source": [
    "import os\n",
    "from time import time\n",
    "from typing import Tuple\n",
    "\n",
    "import pandas as pd\n",
    "import numpy as np\n",
    "import cupy\n",
    "import cudf\n",
    "import dask\n",
    "import dask.dataframe as dd\n",
    "import dask_cudf\n",
    "import dask_databricks\n",
    "import dask_deltatable as ddt\n",
    "import xgboost as xgb\n",
    "from xgboost import dask as dxgb\n",
    "from dask_ml.model_selection import train_test_split\n",
    "from distributed import wait"
   ]
  },
  {
   "cell_type": "markdown",
   "metadata": {
    "application/vnd.databricks.v1+cell": {
     "cellMetadata": {
      "byteLimit": 2048000,
      "rowLimit": 10000
     },
     "inputWidgets": {},
     "nuid": "90de1e5e-d645-46db-85ac-874f0a191412",
     "showTitle": false,
     "title": ""
    }
   },
   "source": [
    "## Connect to Dask Client\n",
    "\n",
    "Connect to the client (and optionally Dashboard) to submit tasks."
   ]
  },
  {
   "cell_type": "code",
   "execution_count": null,
   "metadata": {
    "application/vnd.databricks.v1+cell": {
     "cellMetadata": {
      "byteLimit": 2048000,
      "rowLimit": 10000
     },
     "inputWidgets": {},
     "nuid": "0b6e31e3-d4da-4c86-9b10-d9eac4e4a40f",
     "showTitle": false,
     "title": ""
    }
   },
   "outputs": [
    {
     "data": {
      "text/html": [
       "<div>\n",
       "    <div style=\"width: 24px; height: 24px; background-color: #e1e1e1; border: 3px solid #9D9D9D; border-radius: 5px; position: absolute;\"> </div>\n",
       "    <div style=\"margin-left: 48px;\">\n",
       "        <h3 style=\"margin-bottom: 0px;\">Client</h3>\n",
       "        <p style=\"color: #9D9D9D; margin-bottom: 0px;\">Client-754167e5-9e91-11ee-8693-1e8fa6d2d046</p>\n",
       "        <table style=\"width: 100%; text-align: left;\">\n",
       "\n",
       "        <tr>\n",
       "        \n",
       "            <td style=\"text-align: left;\"><strong>Connection method:</strong> Cluster object</td>\n",
       "            <td style=\"text-align: left;\"><strong>Cluster type:</strong> dask_databricks.DatabricksCluster</td>\n",
       "        \n",
       "        </tr>\n",
       "\n",
       "        \n",
       "            <tr>\n",
       "                <td style=\"text-align: left;\">\n",
       "                    <strong>Dashboard: </strong> <a href=\"https://dbc-dp-8721196619973675.cloud.databricks.com/driver-proxy/o/8721196619973675/1031-230718-l2ubf858/8087/status\" target=\"_blank\">https://dbc-dp-8721196619973675.cloud.databricks.com/driver-proxy/o/8721196619973675/1031-230718-l2ubf858/8087/status</a>\n",
       "                </td>\n",
       "                <td style=\"text-align: left;\"></td>\n",
       "            </tr>\n",
       "        \n",
       "\n",
       "        </table>\n",
       "\n",
       "        \n",
       "\n",
       "        \n",
       "            <details>\n",
       "            <summary style=\"margin-bottom: 20px;\"><h3 style=\"display: inline;\">Cluster Info</h3></summary>\n",
       "            <div class=\"jp-RenderedHTMLCommon jp-RenderedHTML jp-mod-trusted jp-OutputArea-output\">\n",
       "    <div style=\"width: 24px; height: 24px; background-color: #e1e1e1; border: 3px solid #9D9D9D; border-radius: 5px; position: absolute;\">\n",
       "    </div>\n",
       "    <div style=\"margin-left: 48px;\">\n",
       "        <h3 style=\"margin-bottom: 0px; margin-top: 0px;\">DatabricksCluster</h3>\n",
       "        <p style=\"color: #9D9D9D; margin-bottom: 0px;\">1031-230718-l2ubf858</p>\n",
       "        <table style=\"width: 100%; text-align: left;\">\n",
       "            <tr>\n",
       "                <td style=\"text-align: left;\">\n",
       "                    <strong>Dashboard:</strong> <a href=\"https://dbc-dp-8721196619973675.cloud.databricks.com/driver-proxy/o/8721196619973675/1031-230718-l2ubf858/8087/status\" target=\"_blank\">https://dbc-dp-8721196619973675.cloud.databricks.com/driver-proxy/o/8721196619973675/1031-230718-l2ubf858/8087/status</a>\n",
       "                </td>\n",
       "                <td style=\"text-align: left;\">\n",
       "                    <strong>Workers:</strong> 2\n",
       "                </td>\n",
       "            </tr>\n",
       "            <tr>\n",
       "                <td style=\"text-align: left;\">\n",
       "                    <strong>Total threads:</strong> 2\n",
       "                </td>\n",
       "                <td style=\"text-align: left;\">\n",
       "                    <strong>Total memory:</strong> 30.65 GiB\n",
       "                </td>\n",
       "            </tr>\n",
       "            \n",
       "        </table>\n",
       "\n",
       "        <details>\n",
       "            <summary style=\"margin-bottom: 20px;\">\n",
       "                <h3 style=\"display: inline;\">Scheduler Info</h3>\n",
       "            </summary>\n",
       "\n",
       "            <div style=\"\">\n",
       "    <div>\n",
       "        <div style=\"width: 24px; height: 24px; background-color: #FFF7E5; border: 3px solid #FF6132; border-radius: 5px; position: absolute;\"> </div>\n",
       "        <div style=\"margin-left: 48px;\">\n",
       "            <h3 style=\"margin-bottom: 0px;\">Scheduler</h3>\n",
       "            <p style=\"color: #9D9D9D; margin-bottom: 0px;\">Scheduler-d1cffeb9-d155-43d8-a2cb-de213008ef45</p>\n",
       "            <table style=\"width: 100%; text-align: left;\">\n",
       "                <tr>\n",
       "                    <td style=\"text-align: left;\">\n",
       "                        <strong>Comm:</strong> tcp://10.59.240.185:8786\n",
       "                    </td>\n",
       "                    <td style=\"text-align: left;\">\n",
       "                        <strong>Workers:</strong> 2\n",
       "                    </td>\n",
       "                </tr>\n",
       "                <tr>\n",
       "                    <td style=\"text-align: left;\">\n",
       "                        <strong>Dashboard:</strong> <a href=\"http://10.59.240.185:8087/status\" target=\"_blank\">http://10.59.240.185:8087/status</a>\n",
       "                    </td>\n",
       "                    <td style=\"text-align: left;\">\n",
       "                        <strong>Total threads:</strong> 2\n",
       "                    </td>\n",
       "                </tr>\n",
       "                <tr>\n",
       "                    <td style=\"text-align: left;\">\n",
       "                        <strong>Started:</strong> 15 minutes ago\n",
       "                    </td>\n",
       "                    <td style=\"text-align: left;\">\n",
       "                        <strong>Total memory:</strong> 30.65 GiB\n",
       "                    </td>\n",
       "                </tr>\n",
       "            </table>\n",
       "        </div>\n",
       "    </div>\n",
       "\n",
       "    <details style=\"margin-left: 48px;\">\n",
       "        <summary style=\"margin-bottom: 20px;\">\n",
       "            <h3 style=\"display: inline;\">Workers</h3>\n",
       "        </summary>\n",
       "\n",
       "        \n",
       "        <div style=\"margin-bottom: 20px;\">\n",
       "            <div style=\"width: 24px; height: 24px; background-color: #DBF5FF; border: 3px solid #4CC9FF; border-radius: 5px; position: absolute;\"> </div>\n",
       "            <div style=\"margin-left: 48px;\">\n",
       "            <details>\n",
       "                <summary>\n",
       "                    <h4 style=\"margin-bottom: 0px; display: inline;\">Worker: tcp://10.59.238.201:35351</h4>\n",
       "                </summary>\n",
       "                <table style=\"width: 100%; text-align: left;\">\n",
       "                    <tr>\n",
       "                        <td style=\"text-align: left;\">\n",
       "                            <strong>Comm: </strong> tcp://10.59.238.201:35351\n",
       "                        </td>\n",
       "                        <td style=\"text-align: left;\">\n",
       "                            <strong>Total threads: </strong> 1\n",
       "                        </td>\n",
       "                    </tr>\n",
       "                    <tr>\n",
       "                        <td style=\"text-align: left;\">\n",
       "                            <strong>Dashboard: </strong> <a href=\"http://10.59.238.201:34953/status\" target=\"_blank\">http://10.59.238.201:34953/status</a>\n",
       "                        </td>\n",
       "                        <td style=\"text-align: left;\">\n",
       "                            <strong>Memory: </strong> 15.33 GiB\n",
       "                        </td>\n",
       "                    </tr>\n",
       "                    <tr>\n",
       "                        <td style=\"text-align: left;\">\n",
       "                            <strong>Nanny: </strong> tcp://10.59.238.201:36151\n",
       "                        </td>\n",
       "                        <td style=\"text-align: left;\"></td>\n",
       "                    </tr>\n",
       "                    <tr>\n",
       "                        <td colspan=\"2\" style=\"text-align: left;\">\n",
       "                            <strong>Local directory: </strong> /tmp/dask-scratch-space/worker-s8wdpnav\n",
       "                        </td>\n",
       "                    </tr>\n",
       "\n",
       "                    \n",
       "                    <tr>\n",
       "                        <td style=\"text-align: left;\">\n",
       "                            <strong>GPU: </strong>Tesla T4\n",
       "                        </td>\n",
       "                        <td style=\"text-align: left;\">\n",
       "                            <strong>GPU memory: </strong> 15.00 GiB\n",
       "                        </td>\n",
       "                    </tr>\n",
       "                    \n",
       "\n",
       "                    \n",
       "\n",
       "                </table>\n",
       "            </details>\n",
       "            </div>\n",
       "        </div>\n",
       "        \n",
       "        <div style=\"margin-bottom: 20px;\">\n",
       "            <div style=\"width: 24px; height: 24px; background-color: #DBF5FF; border: 3px solid #4CC9FF; border-radius: 5px; position: absolute;\"> </div>\n",
       "            <div style=\"margin-left: 48px;\">\n",
       "            <details>\n",
       "                <summary>\n",
       "                    <h4 style=\"margin-bottom: 0px; display: inline;\">Worker: tcp://10.59.246.244:35789</h4>\n",
       "                </summary>\n",
       "                <table style=\"width: 100%; text-align: left;\">\n",
       "                    <tr>\n",
       "                        <td style=\"text-align: left;\">\n",
       "                            <strong>Comm: </strong> tcp://10.59.246.244:35789\n",
       "                        </td>\n",
       "                        <td style=\"text-align: left;\">\n",
       "                            <strong>Total threads: </strong> 1\n",
       "                        </td>\n",
       "                    </tr>\n",
       "                    <tr>\n",
       "                        <td style=\"text-align: left;\">\n",
       "                            <strong>Dashboard: </strong> <a href=\"http://10.59.246.244:33581/status\" target=\"_blank\">http://10.59.246.244:33581/status</a>\n",
       "                        </td>\n",
       "                        <td style=\"text-align: left;\">\n",
       "                            <strong>Memory: </strong> 15.33 GiB\n",
       "                        </td>\n",
       "                    </tr>\n",
       "                    <tr>\n",
       "                        <td style=\"text-align: left;\">\n",
       "                            <strong>Nanny: </strong> tcp://10.59.246.244:35785\n",
       "                        </td>\n",
       "                        <td style=\"text-align: left;\"></td>\n",
       "                    </tr>\n",
       "                    <tr>\n",
       "                        <td colspan=\"2\" style=\"text-align: left;\">\n",
       "                            <strong>Local directory: </strong> /tmp/dask-scratch-space/worker-h0n7o6rt\n",
       "                        </td>\n",
       "                    </tr>\n",
       "\n",
       "                    \n",
       "                    <tr>\n",
       "                        <td style=\"text-align: left;\">\n",
       "                            <strong>GPU: </strong>Tesla T4\n",
       "                        </td>\n",
       "                        <td style=\"text-align: left;\">\n",
       "                            <strong>GPU memory: </strong> 15.00 GiB\n",
       "                        </td>\n",
       "                    </tr>\n",
       "                    \n",
       "\n",
       "                    \n",
       "\n",
       "                </table>\n",
       "            </details>\n",
       "            </div>\n",
       "        </div>\n",
       "        \n",
       "\n",
       "    </details>\n",
       "</div>\n",
       "\n",
       "        </details>\n",
       "    </div>\n",
       "</div>\n",
       "            </details>\n",
       "        \n",
       "\n",
       "    </div>\n",
       "</div>"
      ]
     },
     "metadata": {
      "application/vnd.databricks.v1+output": {
       "addedWidgets": {},
       "arguments": {},
       "data": "<div>\n    <div style=\"width: 24px; height: 24px; background-color: #e1e1e1; border: 3px solid #9D9D9D; border-radius: 5px; position: absolute;\"> </div>\n    <div style=\"margin-left: 48px;\">\n        <h3 style=\"margin-bottom: 0px;\">Client</h3>\n        <p style=\"color: #9D9D9D; margin-bottom: 0px;\">Client-754167e5-9e91-11ee-8693-1e8fa6d2d046</p>\n        <table style=\"width: 100%; text-align: left;\">\n\n        <tr>\n        \n            <td style=\"text-align: left;\"><strong>Connection method:</strong> Cluster object</td>\n            <td style=\"text-align: left;\"><strong>Cluster type:</strong> dask_databricks.DatabricksCluster</td>\n        \n        </tr>\n\n        \n            <tr>\n                <td style=\"text-align: left;\">\n                    <strong>Dashboard: </strong> <a href=\"https://dbc-dp-8721196619973675.cloud.databricks.com/driver-proxy/o/8721196619973675/1031-230718-l2ubf858/8087/status\" target=\"_blank\">https://dbc-dp-8721196619973675.cloud.databricks.com/driver-proxy/o/8721196619973675/1031-230718-l2ubf858/8087/status</a>\n                </td>\n                <td style=\"text-align: left;\"></td>\n            </tr>\n        \n\n        </table>\n\n        \n\n        \n            <details>\n            <summary style=\"margin-bottom: 20px;\"><h3 style=\"display: inline;\">Cluster Info</h3></summary>\n            <div class=\"jp-RenderedHTMLCommon jp-RenderedHTML jp-mod-trusted jp-OutputArea-output\">\n    <div style=\"width: 24px; height: 24px; background-color: #e1e1e1; border: 3px solid #9D9D9D; border-radius: 5px; position: absolute;\">\n    </div>\n    <div style=\"margin-left: 48px;\">\n        <h3 style=\"margin-bottom: 0px; margin-top: 0px;\">DatabricksCluster</h3>\n        <p style=\"color: #9D9D9D; margin-bottom: 0px;\">1031-230718-l2ubf858</p>\n        <table style=\"width: 100%; text-align: left;\">\n            <tr>\n                <td style=\"text-align: left;\">\n                    <strong>Dashboard:</strong> <a href=\"https://dbc-dp-8721196619973675.cloud.databricks.com/driver-proxy/o/8721196619973675/1031-230718-l2ubf858/8087/status\" target=\"_blank\">https://dbc-dp-8721196619973675.cloud.databricks.com/driver-proxy/o/8721196619973675/1031-230718-l2ubf858/8087/status</a>\n                </td>\n                <td style=\"text-align: left;\">\n                    <strong>Workers:</strong> 2\n                </td>\n            </tr>\n            <tr>\n                <td style=\"text-align: left;\">\n                    <strong>Total threads:</strong> 2\n                </td>\n                <td style=\"text-align: left;\">\n                    <strong>Total memory:</strong> 30.65 GiB\n                </td>\n            </tr>\n            \n        </table>\n\n        <details>\n            <summary style=\"margin-bottom: 20px;\">\n                <h3 style=\"display: inline;\">Scheduler Info</h3>\n            </summary>\n\n            <div style=\"\">\n    <div>\n        <div style=\"width: 24px; height: 24px; background-color: #FFF7E5; border: 3px solid #FF6132; border-radius: 5px; position: absolute;\"> </div>\n        <div style=\"margin-left: 48px;\">\n            <h3 style=\"margin-bottom: 0px;\">Scheduler</h3>\n            <p style=\"color: #9D9D9D; margin-bottom: 0px;\">Scheduler-d1cffeb9-d155-43d8-a2cb-de213008ef45</p>\n            <table style=\"width: 100%; text-align: left;\">\n                <tr>\n                    <td style=\"text-align: left;\">\n                        <strong>Comm:</strong> tcp://10.59.240.185:8786\n                    </td>\n                    <td style=\"text-align: left;\">\n                        <strong>Workers:</strong> 2\n                    </td>\n                </tr>\n                <tr>\n                    <td style=\"text-align: left;\">\n                        <strong>Dashboard:</strong> <a href=\"http://10.59.240.185:8087/status\" target=\"_blank\">http://10.59.240.185:8087/status</a>\n                    </td>\n                    <td style=\"text-align: left;\">\n                        <strong>Total threads:</strong> 2\n                    </td>\n                </tr>\n                <tr>\n                    <td style=\"text-align: left;\">\n                        <strong>Started:</strong> 15 minutes ago\n                    </td>\n                    <td style=\"text-align: left;\">\n                        <strong>Total memory:</strong> 30.65 GiB\n                    </td>\n                </tr>\n            </table>\n        </div>\n    </div>\n\n    <details style=\"margin-left: 48px;\">\n        <summary style=\"margin-bottom: 20px;\">\n            <h3 style=\"display: inline;\">Workers</h3>\n        </summary>\n\n        \n        <div style=\"margin-bottom: 20px;\">\n            <div style=\"width: 24px; height: 24px; background-color: #DBF5FF; border: 3px solid #4CC9FF; border-radius: 5px; position: absolute;\"> </div>\n            <div style=\"margin-left: 48px;\">\n            <details>\n                <summary>\n                    <h4 style=\"margin-bottom: 0px; display: inline;\">Worker: tcp://10.59.238.201:35351</h4>\n                </summary>\n                <table style=\"width: 100%; text-align: left;\">\n                    <tr>\n                        <td style=\"text-align: left;\">\n                            <strong>Comm: </strong> tcp://10.59.238.201:35351\n                        </td>\n                        <td style=\"text-align: left;\">\n                            <strong>Total threads: </strong> 1\n                        </td>\n                    </tr>\n                    <tr>\n                        <td style=\"text-align: left;\">\n                            <strong>Dashboard: </strong> <a href=\"http://10.59.238.201:34953/status\" target=\"_blank\">http://10.59.238.201:34953/status</a>\n                        </td>\n                        <td style=\"text-align: left;\">\n                            <strong>Memory: </strong> 15.33 GiB\n                        </td>\n                    </tr>\n                    <tr>\n                        <td style=\"text-align: left;\">\n                            <strong>Nanny: </strong> tcp://10.59.238.201:36151\n                        </td>\n                        <td style=\"text-align: left;\"></td>\n                    </tr>\n                    <tr>\n                        <td colspan=\"2\" style=\"text-align: left;\">\n                            <strong>Local directory: </strong> /tmp/dask-scratch-space/worker-s8wdpnav\n                        </td>\n                    </tr>\n\n                    \n                    <tr>\n                        <td style=\"text-align: left;\">\n                            <strong>GPU: </strong>Tesla T4\n                        </td>\n                        <td style=\"text-align: left;\">\n                            <strong>GPU memory: </strong> 15.00 GiB\n                        </td>\n                    </tr>\n                    \n\n                    \n\n                </table>\n            </details>\n            </div>\n        </div>\n        \n        <div style=\"margin-bottom: 20px;\">\n            <div style=\"width: 24px; height: 24px; background-color: #DBF5FF; border: 3px solid #4CC9FF; border-radius: 5px; position: absolute;\"> </div>\n            <div style=\"margin-left: 48px;\">\n            <details>\n                <summary>\n                    <h4 style=\"margin-bottom: 0px; display: inline;\">Worker: tcp://10.59.246.244:35789</h4>\n                </summary>\n                <table style=\"width: 100%; text-align: left;\">\n                    <tr>\n                        <td style=\"text-align: left;\">\n                            <strong>Comm: </strong> tcp://10.59.246.244:35789\n                        </td>\n                        <td style=\"text-align: left;\">\n                            <strong>Total threads: </strong> 1\n                        </td>\n                    </tr>\n                    <tr>\n                        <td style=\"text-align: left;\">\n                            <strong>Dashboard: </strong> <a href=\"http://10.59.246.244:33581/status\" target=\"_blank\">http://10.59.246.244:33581/status</a>\n                        </td>\n                        <td style=\"text-align: left;\">\n                            <strong>Memory: </strong> 15.33 GiB\n                        </td>\n                    </tr>\n                    <tr>\n                        <td style=\"text-align: left;\">\n                            <strong>Nanny: </strong> tcp://10.59.246.244:35785\n                        </td>\n                        <td style=\"text-align: left;\"></td>\n                    </tr>\n                    <tr>\n                        <td colspan=\"2\" style=\"text-align: left;\">\n                            <strong>Local directory: </strong> /tmp/dask-scratch-space/worker-h0n7o6rt\n                        </td>\n                    </tr>\n\n                    \n                    <tr>\n                        <td style=\"text-align: left;\">\n                            <strong>GPU: </strong>Tesla T4\n                        </td>\n                        <td style=\"text-align: left;\">\n                            <strong>GPU memory: </strong> 15.00 GiB\n                        </td>\n                    </tr>\n                    \n\n                    \n\n                </table>\n            </details>\n            </div>\n        </div>\n        \n\n    </details>\n</div>\n\n        </details>\n    </div>\n</div>\n            </details>\n        \n\n    </div>\n</div>",
       "datasetInfos": [],
       "metadata": {},
       "removedWidgets": [],
       "textData": null,
       "type": "htmlSandbox"
      }
     },
     "output_type": "display_data"
    }
   ],
   "source": [
    "client = dask_databricks.get_client()\n",
    "client"
   ]
  },
  {
   "cell_type": "markdown",
   "metadata": {
    "application/vnd.databricks.v1+cell": {
     "cellMetadata": {
      "byteLimit": 2048000,
      "rowLimit": 10000
     },
     "inputWidgets": {},
     "nuid": "c658c7b9-d0ce-43d1-ac5c-78e271bef57f",
     "showTitle": false,
     "title": ""
    }
   },
   "source": [
    "\n",
    "## Download dataset\n",
    "\n",
    "First we download the dataset into `/data` in current directory or Databrick File Storage (DBFS). Alternatively, you could also use cloud storage (S3, Google Cloud, Azure Data Lake). Refer to [docs](https://docs.databricks.com/en/storage/index.html#:~:text=Databricks%20uses%20cloud%20object%20storage,storage%20locations%20in%20your%20account.) for  more information\n",
    "\n",
    "Uncomment the next three lines to upload the dataset to your chosen location. Only run ONCE!\n"
   ]
  },
  {
   "cell_type": "code",
   "execution_count": null,
   "metadata": {
    "application/vnd.databricks.v1+cell": {
     "cellMetadata": {
      "byteLimit": 2048000,
      "rowLimit": 10000
     },
     "inputWidgets": {},
     "nuid": "12b65c3d-c249-488f-ae08-27da6c3a2167",
     "showTitle": false,
     "title": ""
    }
   },
   "outputs": [],
   "source": [
    "# %fs mkdirs dbfs:/databricks/rapids"
   ]
  },
  {
   "cell_type": "code",
   "execution_count": null,
   "metadata": {
    "application/vnd.databricks.v1+cell": {
     "cellMetadata": {
      "byteLimit": 2048000,
      "rowLimit": 10000
     },
     "inputWidgets": {},
     "nuid": "3f738b1a-2f82-475f-bc75-728a2409c688",
     "showTitle": false,
     "title": ""
    }
   },
   "outputs": [],
   "source": [
    "# !curl https://archive.ics.uci.edu/ml/machine-learning-databases/00280/HIGGS.csv.gz --output /dbfs/databricks/rapids/HIGGS.csv.gz"
   ]
  },
  {
   "cell_type": "code",
   "execution_count": null,
   "metadata": {
    "application/vnd.databricks.v1+cell": {
     "cellMetadata": {
      "byteLimit": 2048000,
      "rowLimit": 10000
     },
     "inputWidgets": {},
     "nuid": "eda1e2e2-34cb-4453-8301-957b01977c78",
     "showTitle": false,
     "title": ""
    }
   },
   "outputs": [],
   "source": [
    "# # unzip compressed file into .csv file\n",
    "# !gunzip \"/dbfs/databricks/rapids/HIGGS.csv.gz\""
   ]
  },
  {
   "cell_type": "markdown",
   "metadata": {
    "application/vnd.databricks.v1+cell": {
     "cellMetadata": {
      "byteLimit": 2048000,
      "rowLimit": 10000
     },
     "inputWidgets": {},
     "nuid": "ea03cd9a-9077-4cfc-a1a0-becdc84efe1a",
     "showTitle": false,
     "title": ""
    }
   },
   "source": [
    "Next we load the data into GPUs.  Because the data is loaded multiple times during parameter tuning, we convert the original CSV file into Parquet format for better performance.  This can be easily done using delta table as shown in the next steps."
   ]
  },
  {
   "cell_type": "markdown",
   "metadata": {
    "application/vnd.databricks.v1+cell": {
     "cellMetadata": {
      "byteLimit": 2048000,
      "rowLimit": 10000
     },
     "inputWidgets": {},
     "nuid": "2a87ba1c-14be-4d99-9b79-15d62052a902",
     "showTitle": false,
     "title": ""
    }
   },
   "source": [
    "## Integrating Dask and Delta Lake\n",
    "\n",
    "[Delta Lake](https://docs.databricks.com/en/delta/index.html) is an optimized storage layer within the Databricks lakehouse that provides a foundational platform for storing data and tables. This open-source software extends Parquet data files by incorporating a file-based transaction log to support [ACID transactions](https://docs.databricks.com/en/lakehouse/acid.html) and scalable metadata handling. \n",
    "\n",
    "Delta Lake is the default storage format for all operations on Databricks, i.e (unless otherwise specified, all tables on Databricks are Delta tables). \n",
    "Check out [tutorial](https://docs.databricks.com/en/delta/tutorial.html) for examples with basic Delta Lake operations.\n",
    "\n",
    "Let's explore step-by-step how we can leverage Data Lake tables with dask to accelerate data pre-processing with RAPIDS."
   ]
  },
  {
   "cell_type": "markdown",
   "metadata": {
    "application/vnd.databricks.v1+cell": {
     "cellMetadata": {
      "byteLimit": 2048000,
      "rowLimit": 10000
     },
     "inputWidgets": {},
     "nuid": "48b26e2b-5563-4836-a67c-dae5c9607db8",
     "showTitle": false,
     "title": ""
    }
   },
   "source": [
    "## Read from Delta table with Dask\n",
    "\n",
    "With Dask's [**dask-deltatable**](https://github.com/dask-contrib/dask-deltatable/tree/main), we can write the `.csv` file into a Delta table then read and parallelize with Dask. \n",
    "\n",
    "Calling `dask_deltalake.read_deltalake()` will return a `dask dataframe`. However, our objective is to utilize GPU acceleration for the entire ML pipeline, including data processing, model training and inference. For this reason, we will read the dask dataframe into a `cUDF dask-dataframe`  using `dask_cudf.from_dask_dataframe()`"
   ]
  },
  {
   "cell_type": "code",
   "execution_count": null,
   "metadata": {
    "application/vnd.databricks.v1+cell": {
     "cellMetadata": {
      "byteLimit": 2048000,
      "rowLimit": 10000
     },
     "inputWidgets": {},
     "nuid": "0ede3a1d-70db-4bc7-8782-3b606820b409",
     "showTitle": false,
     "title": ""
    }
   },
   "outputs": [],
   "source": [
    "def write_read_deltatable_with_dask(csv_path, delta_path):\n",
    "    \"\"\"\n",
    "    1. Write csv file into a Delta table\n",
    "    2. Read from the Delta table using Dask\n",
    "    3. Convert returned dask dataframe to Dask cuDF DataFrame.\n",
    "\n",
    "    Parameters:\n",
    "    - csv_path: The DBFS path to HIGGS.csv dataset.\n",
    "    - delta_path : the delta lake path to write the dataset\n",
    "\n",
    "    Returns:\n",
    "    - ddf: cuDF Dask DataFrame representing the data from the Delta table.\n",
    "    \"\"\"\n",
    "    # Write csv file to Delta table\n",
    "    data = dd.read_csv(csv_path, header=0)\n",
    "    ddt.to_deltalake(delta_path, data)\n",
    "\n",
    "    # Read from Delta table using Dask, returns dask dataframe\n",
    "    df = ddt.read_deltalake(delta_path)\n",
    "\n",
    "    # Convert Dask DataFrame to Dask cuDF for GPU acceleration\n",
    "    ddf = dask_cudf.from_dask_dataframe(df)\n",
    "\n",
    "    return ddf"
   ]
  },
  {
   "cell_type": "code",
   "execution_count": null,
   "metadata": {
    "application/vnd.databricks.v1+cell": {
     "cellMetadata": {},
     "inputWidgets": {},
     "nuid": "9880cc0f-6788-43f3-a17b-fd7bf9f1e7c2",
     "showTitle": false,
     "title": ""
    }
   },
   "outputs": [],
   "source": [
    "pip list"
   ]
  },
  {
   "cell_type": "code",
   "execution_count": null,
   "metadata": {
    "application/vnd.databricks.v1+cell": {
     "cellMetadata": {
      "byteLimit": 2048000,
      "rowLimit": 10000
     },
     "inputWidgets": {},
     "nuid": "921de512-d3f0-49cf-9606-93c3ad7a53f9",
     "showTitle": false,
     "title": ""
    }
   },
   "outputs": [
    {
     "data": {
      "text/plain": [
       "\u001b[0;31m---------------------------------------------------------------------------\u001b[0m\n",
       "\u001b[0;31mOSError\u001b[0m                                   Traceback (most recent call last)\n",
       "File \u001b[0;32m<command-2663225126019140>:4\u001b[0m\n",
       "\u001b[1;32m      1\u001b[0m csv_path \u001b[38;5;241m=\u001b[39m \u001b[38;5;124m\"\u001b[39m\u001b[38;5;124m/dbfs/databricks/rapids/HIGGS.csv\u001b[39m\u001b[38;5;124m\"\u001b[39m\n",
       "\u001b[1;32m      2\u001b[0m delta_path \u001b[38;5;241m=\u001b[39m \u001b[38;5;124m\"\u001b[39m\u001b[38;5;124m/dbfs/databricks/rapids/higgs_table\u001b[39m\u001b[38;5;124m\"\u001b[39m\n",
       "\u001b[0;32m----> 4\u001b[0m ddf \u001b[38;5;241m=\u001b[39m write_read_deltatable_with_dask(csv_path\u001b[38;5;241m=\u001b[39mcsv_path, delta_path\u001b[38;5;241m=\u001b[39mdelta_path)\n",
       "\u001b[1;32m      5\u001b[0m ddf\n",
       "\n",
       "File \u001b[0;32m<command-4456799276724339>:16\u001b[0m, in \u001b[0;36mwrite_read_deltatable_with_dask\u001b[0;34m(csv_path, delta_path)\u001b[0m\n",
       "\u001b[1;32m     14\u001b[0m \u001b[38;5;66;03m# Write csv file to Delta table \u001b[39;00m\n",
       "\u001b[1;32m     15\u001b[0m data \u001b[38;5;241m=\u001b[39m dd\u001b[38;5;241m.\u001b[39mread_csv(csv_path, header\u001b[38;5;241m=\u001b[39m\u001b[38;5;241m0\u001b[39m)\n",
       "\u001b[0;32m---> 16\u001b[0m \u001b[43mddt\u001b[49m\u001b[38;5;241;43m.\u001b[39;49m\u001b[43mto_deltalake\u001b[49m\u001b[43m(\u001b[49m\u001b[43mdelta_path\u001b[49m\u001b[43m,\u001b[49m\u001b[43m \u001b[49m\u001b[43mdata\u001b[49m\u001b[43m)\u001b[49m\n",
       "\u001b[1;32m     18\u001b[0m \u001b[38;5;66;03m# Read from Delta table using Dask, returns dask dataframe\u001b[39;00m\n",
       "\u001b[1;32m     19\u001b[0m df \u001b[38;5;241m=\u001b[39m ddt\u001b[38;5;241m.\u001b[39mread_deltalake(delta_path)\n",
       "\n",
       "File \u001b[0;32m/databricks/python/lib/python3.10/site-packages/dask_deltatable/write.py:224\u001b[0m, in \u001b[0;36mto_deltalake\u001b[0;34m(table_or_uri, df, schema, partition_by, filesystem, mode, file_options, max_partitions, max_open_files, max_rows_per_file, min_rows_per_group, max_rows_per_group, name, description, configuration, overwrite_schema, storage_options, partition_filters, compute)\u001b[0m\n",
       "\u001b[1;32m    222\u001b[0m result \u001b[38;5;241m=\u001b[39m Scalar(graph, final_name, \u001b[38;5;124m\"\u001b[39m\u001b[38;5;124m\"\u001b[39m)\n",
       "\u001b[1;32m    223\u001b[0m \u001b[38;5;28;01mif\u001b[39;00m compute:\n",
       "\u001b[0;32m--> 224\u001b[0m     result \u001b[38;5;241m=\u001b[39m \u001b[43mresult\u001b[49m\u001b[38;5;241;43m.\u001b[39;49m\u001b[43mcompute\u001b[49m\u001b[43m(\u001b[49m\u001b[43m)\u001b[49m\n",
       "\u001b[1;32m    225\u001b[0m \u001b[38;5;28;01mreturn\u001b[39;00m result\n",
       "\n",
       "File \u001b[0;32m/databricks/python/lib/python3.10/site-packages/dask/base.py:342\u001b[0m, in \u001b[0;36mDaskMethodsMixin.compute\u001b[0;34m(self, **kwargs)\u001b[0m\n",
       "\u001b[1;32m    318\u001b[0m \u001b[38;5;28;01mdef\u001b[39;00m \u001b[38;5;21mcompute\u001b[39m(\u001b[38;5;28mself\u001b[39m, \u001b[38;5;241m*\u001b[39m\u001b[38;5;241m*\u001b[39mkwargs):\n",
       "\u001b[1;32m    319\u001b[0m \u001b[38;5;250m    \u001b[39m\u001b[38;5;124;03m\"\"\"Compute this dask collection\u001b[39;00m\n",
       "\u001b[1;32m    320\u001b[0m \n",
       "\u001b[1;32m    321\u001b[0m \u001b[38;5;124;03m    This turns a lazy Dask collection into its in-memory equivalent.\u001b[39;00m\n",
       "\u001b[0;32m   (...)\u001b[0m\n",
       "\u001b[1;32m    340\u001b[0m \u001b[38;5;124;03m    dask.compute\u001b[39;00m\n",
       "\u001b[1;32m    341\u001b[0m \u001b[38;5;124;03m    \"\"\"\u001b[39;00m\n",
       "\u001b[0;32m--> 342\u001b[0m     (result,) \u001b[38;5;241m=\u001b[39m \u001b[43mcompute\u001b[49m\u001b[43m(\u001b[49m\u001b[38;5;28;43mself\u001b[39;49m\u001b[43m,\u001b[49m\u001b[43m \u001b[49m\u001b[43mtraverse\u001b[49m\u001b[38;5;241;43m=\u001b[39;49m\u001b[38;5;28;43;01mFalse\u001b[39;49;00m\u001b[43m,\u001b[49m\u001b[43m \u001b[49m\u001b[38;5;241;43m*\u001b[39;49m\u001b[38;5;241;43m*\u001b[39;49m\u001b[43mkwargs\u001b[49m\u001b[43m)\u001b[49m\n",
       "\u001b[1;32m    343\u001b[0m     \u001b[38;5;28;01mreturn\u001b[39;00m result\n",
       "\n",
       "File \u001b[0;32m/databricks/python/lib/python3.10/site-packages/dask/base.py:628\u001b[0m, in \u001b[0;36mcompute\u001b[0;34m(traverse, optimize_graph, scheduler, get, *args, **kwargs)\u001b[0m\n",
       "\u001b[1;32m    625\u001b[0m     postcomputes\u001b[38;5;241m.\u001b[39mappend(x\u001b[38;5;241m.\u001b[39m__dask_postcompute__())\n",
       "\u001b[1;32m    627\u001b[0m \u001b[38;5;28;01mwith\u001b[39;00m shorten_traceback():\n",
       "\u001b[0;32m--> 628\u001b[0m     results \u001b[38;5;241m=\u001b[39m \u001b[43mschedule\u001b[49m\u001b[43m(\u001b[49m\u001b[43mdsk\u001b[49m\u001b[43m,\u001b[49m\u001b[43m \u001b[49m\u001b[43mkeys\u001b[49m\u001b[43m,\u001b[49m\u001b[43m \u001b[49m\u001b[38;5;241;43m*\u001b[39;49m\u001b[38;5;241;43m*\u001b[39;49m\u001b[43mkwargs\u001b[49m\u001b[43m)\u001b[49m\n",
       "\u001b[1;32m    630\u001b[0m \u001b[38;5;28;01mreturn\u001b[39;00m repack([f(r, \u001b[38;5;241m*\u001b[39ma) \u001b[38;5;28;01mfor\u001b[39;00m r, (f, a) \u001b[38;5;129;01min\u001b[39;00m \u001b[38;5;28mzip\u001b[39m(results, postcomputes)])\n",
       "\n",
       "File \u001b[0;32m/databricks/python/lib/python3.10/site-packages/dask_deltatable/write.py:253\u001b[0m, in \u001b[0;36m_commit\u001b[0;34m()\u001b[0m\n",
       "\u001b[1;32m    251\u001b[0m \u001b[38;5;28;01massert\u001b[39;00m schema\n",
       "\u001b[1;32m    252\u001b[0m \u001b[38;5;28;01mif\u001b[39;00m table \u001b[38;5;129;01mis\u001b[39;00m \u001b[38;5;28;01mNone\u001b[39;00m:\n",
       "\u001b[0;32m--> 253\u001b[0m     _write_new_deltalake(\n",
       "\u001b[1;32m    254\u001b[0m         table_uri,\n",
       "\u001b[1;32m    255\u001b[0m         schema,\n",
       "\u001b[1;32m    256\u001b[0m         add_actions,\n",
       "\u001b[1;32m    257\u001b[0m         mode,\n",
       "\u001b[1;32m    258\u001b[0m         partition_by \u001b[38;5;129;01mor\u001b[39;00m [],\n",
       "\u001b[1;32m    259\u001b[0m         name,\n",
       "\u001b[1;32m    260\u001b[0m         description,\n",
       "\u001b[1;32m    261\u001b[0m         configuration,\n",
       "\u001b[1;32m    262\u001b[0m         storage_options,\n",
       "\u001b[1;32m    263\u001b[0m     )\n",
       "\u001b[1;32m    264\u001b[0m \u001b[38;5;28;01melse\u001b[39;00m:\n",
       "\u001b[1;32m    265\u001b[0m     table\u001b[38;5;241m.\u001b[39m_table\u001b[38;5;241m.\u001b[39mcreate_write_transaction(\n",
       "\u001b[1;32m    266\u001b[0m         add_actions,\n",
       "\u001b[1;32m    267\u001b[0m         mode,\n",
       "\u001b[0;32m   (...)\u001b[0m\n",
       "\u001b[1;32m    270\u001b[0m         partition_filters,\n",
       "\u001b[1;32m    271\u001b[0m     )\n",
       "\n",
       "\u001b[0;31mOSError\u001b[0m: Generic DeltaLocalObjectStore error: Function not implemented (os error 38)"
      ]
     },
     "metadata": {
      "application/vnd.databricks.v1+output": {
       "arguments": {},
       "data": "\u001b[0;31m---------------------------------------------------------------------------\u001b[0m\n\u001b[0;31mOSError\u001b[0m                                   Traceback (most recent call last)\nFile \u001b[0;32m<command-2663225126019140>:4\u001b[0m\n\u001b[1;32m      1\u001b[0m csv_path \u001b[38;5;241m=\u001b[39m \u001b[38;5;124m\"\u001b[39m\u001b[38;5;124m/dbfs/databricks/rapids/HIGGS.csv\u001b[39m\u001b[38;5;124m\"\u001b[39m\n\u001b[1;32m      2\u001b[0m delta_path \u001b[38;5;241m=\u001b[39m \u001b[38;5;124m\"\u001b[39m\u001b[38;5;124m/dbfs/databricks/rapids/higgs_table\u001b[39m\u001b[38;5;124m\"\u001b[39m\n\u001b[0;32m----> 4\u001b[0m ddf \u001b[38;5;241m=\u001b[39m write_read_deltatable_with_dask(csv_path\u001b[38;5;241m=\u001b[39mcsv_path, delta_path\u001b[38;5;241m=\u001b[39mdelta_path)\n\u001b[1;32m      5\u001b[0m ddf\n\nFile \u001b[0;32m<command-4456799276724339>:16\u001b[0m, in \u001b[0;36mwrite_read_deltatable_with_dask\u001b[0;34m(csv_path, delta_path)\u001b[0m\n\u001b[1;32m     14\u001b[0m \u001b[38;5;66;03m# Write csv file to Delta table \u001b[39;00m\n\u001b[1;32m     15\u001b[0m data \u001b[38;5;241m=\u001b[39m dd\u001b[38;5;241m.\u001b[39mread_csv(csv_path, header\u001b[38;5;241m=\u001b[39m\u001b[38;5;241m0\u001b[39m)\n\u001b[0;32m---> 16\u001b[0m \u001b[43mddt\u001b[49m\u001b[38;5;241;43m.\u001b[39;49m\u001b[43mto_deltalake\u001b[49m\u001b[43m(\u001b[49m\u001b[43mdelta_path\u001b[49m\u001b[43m,\u001b[49m\u001b[43m \u001b[49m\u001b[43mdata\u001b[49m\u001b[43m)\u001b[49m\n\u001b[1;32m     18\u001b[0m \u001b[38;5;66;03m# Read from Delta table using Dask, returns dask dataframe\u001b[39;00m\n\u001b[1;32m     19\u001b[0m df \u001b[38;5;241m=\u001b[39m ddt\u001b[38;5;241m.\u001b[39mread_deltalake(delta_path)\n\nFile \u001b[0;32m/databricks/python/lib/python3.10/site-packages/dask_deltatable/write.py:224\u001b[0m, in \u001b[0;36mto_deltalake\u001b[0;34m(table_or_uri, df, schema, partition_by, filesystem, mode, file_options, max_partitions, max_open_files, max_rows_per_file, min_rows_per_group, max_rows_per_group, name, description, configuration, overwrite_schema, storage_options, partition_filters, compute)\u001b[0m\n\u001b[1;32m    222\u001b[0m result \u001b[38;5;241m=\u001b[39m Scalar(graph, final_name, \u001b[38;5;124m\"\u001b[39m\u001b[38;5;124m\"\u001b[39m)\n\u001b[1;32m    223\u001b[0m \u001b[38;5;28;01mif\u001b[39;00m compute:\n\u001b[0;32m--> 224\u001b[0m     result \u001b[38;5;241m=\u001b[39m \u001b[43mresult\u001b[49m\u001b[38;5;241;43m.\u001b[39;49m\u001b[43mcompute\u001b[49m\u001b[43m(\u001b[49m\u001b[43m)\u001b[49m\n\u001b[1;32m    225\u001b[0m \u001b[38;5;28;01mreturn\u001b[39;00m result\n\nFile \u001b[0;32m/databricks/python/lib/python3.10/site-packages/dask/base.py:342\u001b[0m, in \u001b[0;36mDaskMethodsMixin.compute\u001b[0;34m(self, **kwargs)\u001b[0m\n\u001b[1;32m    318\u001b[0m \u001b[38;5;28;01mdef\u001b[39;00m \u001b[38;5;21mcompute\u001b[39m(\u001b[38;5;28mself\u001b[39m, \u001b[38;5;241m*\u001b[39m\u001b[38;5;241m*\u001b[39mkwargs):\n\u001b[1;32m    319\u001b[0m \u001b[38;5;250m    \u001b[39m\u001b[38;5;124;03m\"\"\"Compute this dask collection\u001b[39;00m\n\u001b[1;32m    320\u001b[0m \n\u001b[1;32m    321\u001b[0m \u001b[38;5;124;03m    This turns a lazy Dask collection into its in-memory equivalent.\u001b[39;00m\n\u001b[0;32m   (...)\u001b[0m\n\u001b[1;32m    340\u001b[0m \u001b[38;5;124;03m    dask.compute\u001b[39;00m\n\u001b[1;32m    341\u001b[0m \u001b[38;5;124;03m    \"\"\"\u001b[39;00m\n\u001b[0;32m--> 342\u001b[0m     (result,) \u001b[38;5;241m=\u001b[39m \u001b[43mcompute\u001b[49m\u001b[43m(\u001b[49m\u001b[38;5;28;43mself\u001b[39;49m\u001b[43m,\u001b[49m\u001b[43m \u001b[49m\u001b[43mtraverse\u001b[49m\u001b[38;5;241;43m=\u001b[39;49m\u001b[38;5;28;43;01mFalse\u001b[39;49;00m\u001b[43m,\u001b[49m\u001b[43m \u001b[49m\u001b[38;5;241;43m*\u001b[39;49m\u001b[38;5;241;43m*\u001b[39;49m\u001b[43mkwargs\u001b[49m\u001b[43m)\u001b[49m\n\u001b[1;32m    343\u001b[0m     \u001b[38;5;28;01mreturn\u001b[39;00m result\n\nFile \u001b[0;32m/databricks/python/lib/python3.10/site-packages/dask/base.py:628\u001b[0m, in \u001b[0;36mcompute\u001b[0;34m(traverse, optimize_graph, scheduler, get, *args, **kwargs)\u001b[0m\n\u001b[1;32m    625\u001b[0m     postcomputes\u001b[38;5;241m.\u001b[39mappend(x\u001b[38;5;241m.\u001b[39m__dask_postcompute__())\n\u001b[1;32m    627\u001b[0m \u001b[38;5;28;01mwith\u001b[39;00m shorten_traceback():\n\u001b[0;32m--> 628\u001b[0m     results \u001b[38;5;241m=\u001b[39m \u001b[43mschedule\u001b[49m\u001b[43m(\u001b[49m\u001b[43mdsk\u001b[49m\u001b[43m,\u001b[49m\u001b[43m \u001b[49m\u001b[43mkeys\u001b[49m\u001b[43m,\u001b[49m\u001b[43m \u001b[49m\u001b[38;5;241;43m*\u001b[39;49m\u001b[38;5;241;43m*\u001b[39;49m\u001b[43mkwargs\u001b[49m\u001b[43m)\u001b[49m\n\u001b[1;32m    630\u001b[0m \u001b[38;5;28;01mreturn\u001b[39;00m repack([f(r, \u001b[38;5;241m*\u001b[39ma) \u001b[38;5;28;01mfor\u001b[39;00m r, (f, a) \u001b[38;5;129;01min\u001b[39;00m \u001b[38;5;28mzip\u001b[39m(results, postcomputes)])\n\nFile \u001b[0;32m/databricks/python/lib/python3.10/site-packages/dask_deltatable/write.py:253\u001b[0m, in \u001b[0;36m_commit\u001b[0;34m()\u001b[0m\n\u001b[1;32m    251\u001b[0m \u001b[38;5;28;01massert\u001b[39;00m schema\n\u001b[1;32m    252\u001b[0m \u001b[38;5;28;01mif\u001b[39;00m table \u001b[38;5;129;01mis\u001b[39;00m \u001b[38;5;28;01mNone\u001b[39;00m:\n\u001b[0;32m--> 253\u001b[0m     _write_new_deltalake(\n\u001b[1;32m    254\u001b[0m         table_uri,\n\u001b[1;32m    255\u001b[0m         schema,\n\u001b[1;32m    256\u001b[0m         add_actions,\n\u001b[1;32m    257\u001b[0m         mode,\n\u001b[1;32m    258\u001b[0m         partition_by \u001b[38;5;129;01mor\u001b[39;00m [],\n\u001b[1;32m    259\u001b[0m         name,\n\u001b[1;32m    260\u001b[0m         description,\n\u001b[1;32m    261\u001b[0m         configuration,\n\u001b[1;32m    262\u001b[0m         storage_options,\n\u001b[1;32m    263\u001b[0m     )\n\u001b[1;32m    264\u001b[0m \u001b[38;5;28;01melse\u001b[39;00m:\n\u001b[1;32m    265\u001b[0m     table\u001b[38;5;241m.\u001b[39m_table\u001b[38;5;241m.\u001b[39mcreate_write_transaction(\n\u001b[1;32m    266\u001b[0m         add_actions,\n\u001b[1;32m    267\u001b[0m         mode,\n\u001b[0;32m   (...)\u001b[0m\n\u001b[1;32m    270\u001b[0m         partition_filters,\n\u001b[1;32m    271\u001b[0m     )\n\n\u001b[0;31mOSError\u001b[0m: Generic DeltaLocalObjectStore error: Function not implemented (os error 38)",
       "errorSummary": "<span class='ansi-red-fg'>OSError</span>: Generic DeltaLocalObjectStore error: Function not implemented (os error 38)",
       "errorTraceType": "ansi",
       "metadata": {},
       "type": "ipynbError"
      }
     },
     "output_type": "display_data"
    }
   ],
   "source": [
    "csv_path = \"/dbfs/databricks/rapids/HIGGS.csv\"\n",
    "delta_path = \"/dbfs/databricks/rapids/higgs_table\"\n",
    "\n",
    "ddf = write_read_deltatable_with_dask(csv_path=csv_path, delta_path=delta_path)\n",
    "ddf"
   ]
  },
  {
   "cell_type": "code",
   "execution_count": null,
   "metadata": {
    "application/vnd.databricks.v1+cell": {
     "cellMetadata": {
      "byteLimit": 2048000,
      "rowLimit": 10000
     },
     "inputWidgets": {},
     "nuid": "22868ebc-d4ea-49b5-b225-353e251b6074",
     "showTitle": false,
     "title": ""
    }
   },
   "outputs": [],
   "source": [
    "ddf.shape"
   ]
  },
  {
   "cell_type": "code",
   "execution_count": null,
   "metadata": {
    "application/vnd.databricks.v1+cell": {
     "cellMetadata": {
      "byteLimit": 2048000,
      "rowLimit": 10000
     },
     "inputWidgets": {},
     "nuid": "1cdae47a-46a3-4015-bdc6-836c2823e295",
     "showTitle": false,
     "title": ""
    }
   },
   "outputs": [],
   "source": [
    "colnames = [\"partition\"] + [\"label\"] + [\"feature-%02d\" % i for i in range(1, 29)]\n",
    "ddf.columns = colnames\n",
    "ddf.head()"
   ]
  },
  {
   "cell_type": "markdown",
   "metadata": {
    "application/vnd.databricks.v1+cell": {
     "cellMetadata": {
      "byteLimit": 2048000,
      "rowLimit": 10000
     },
     "inputWidgets": {},
     "nuid": "79d52d53-c22b-485c-82f5-7c6e8e9f486a",
     "showTitle": false,
     "title": ""
    }
   },
   "source": [
    "## Split data\n",
    "\n",
    "In the preceding step, we used `dask-cudf` for loading data from the Delta table's, now use `train_test_split()` function from `dask-ml` to split up the dataset. \n",
    "\n",
    "Most of the time, the GPU backend of dask works seamlessly with utilities in `dask-ml` and we can accelerate the entire ML pipeline as such: \n"
   ]
  },
  {
   "cell_type": "code",
   "execution_count": null,
   "metadata": {
    "application/vnd.databricks.v1+cell": {
     "cellMetadata": {
      "byteLimit": 2048000,
      "rowLimit": 10000
     },
     "inputWidgets": {},
     "nuid": "7f2f4238-a2a0-445a-a5f5-ee1e554a7548",
     "showTitle": false,
     "title": ""
    }
   },
   "outputs": [],
   "source": [
    "def load_higgs(\n",
    "    ddf,\n",
    ") -> Tuple[\n",
    "    dask_cudf.core.DataFrame,\n",
    "    dask_cudf.core.Series,\n",
    "    dask_cudf.core.DataFrame,\n",
    "    dask_cudf.core.Series,\n",
    "]:\n",
    "    y = ddf[\"label\"]\n",
    "    X = ddf[ddf.columns.difference([\"label\"])]\n",
    "\n",
    "    X_train, X_valid, y_train, y_valid = train_test_split(\n",
    "        X, y, test_size=0.33, random_state=42\n",
    "    )\n",
    "    X_train, X_valid, y_train, y_valid = client.persist(\n",
    "        [X_train, X_valid, y_train, y_valid]\n",
    "    )\n",
    "    wait([X_train, X_valid, y_train, y_valid])\n",
    "\n",
    "    return X_train, X_valid, y_train, y_valid"
   ]
  },
  {
   "cell_type": "code",
   "execution_count": null,
   "metadata": {
    "application/vnd.databricks.v1+cell": {
     "cellMetadata": {
      "byteLimit": 2048000,
      "rowLimit": 10000
     },
     "inputWidgets": {},
     "nuid": "8539a1aa-fc35-4add-a067-81ca7ceaea5a",
     "showTitle": false,
     "title": ""
    }
   },
   "outputs": [],
   "source": [
    "X_train, X_valid, y_train, y_valid = load_higgs(ddf)"
   ]
  },
  {
   "cell_type": "code",
   "execution_count": null,
   "metadata": {
    "application/vnd.databricks.v1+cell": {
     "cellMetadata": {
      "byteLimit": 2048000,
      "rowLimit": 10000
     },
     "inputWidgets": {},
     "nuid": "450ae6b7-b33e-490b-a509-9b7a90319422",
     "showTitle": false,
     "title": ""
    }
   },
   "outputs": [],
   "source": [
    "X_train.head()"
   ]
  },
  {
   "cell_type": "code",
   "execution_count": null,
   "metadata": {
    "application/vnd.databricks.v1+cell": {
     "cellMetadata": {
      "byteLimit": 2048000,
      "rowLimit": 10000
     },
     "inputWidgets": {},
     "nuid": "62ffc8ef-194c-4664-a45d-1a5bb0733925",
     "showTitle": false,
     "title": ""
    }
   },
   "outputs": [],
   "source": [
    "y_train.head()"
   ]
  },
  {
   "cell_type": "markdown",
   "metadata": {
    "application/vnd.databricks.v1+cell": {
     "cellMetadata": {
      "byteLimit": 2048000,
      "rowLimit": 10000
     },
     "inputWidgets": {},
     "nuid": "9190527c-ad0c-4f96-ac60-d38f6e0fd615",
     "showTitle": false,
     "title": ""
    }
   },
   "source": [
    "## Model training\n",
    "\n",
    "There are two things to notice here.  Firstly, we specify the number of rounds to trigger early stopping for training.  XGBoost will stop the training process once the validation metric fails to improve in consecutive X rounds, where X is the number of rounds specified for early \n",
    "stopping.  \n",
    "\n",
    "Secondly, we use a data type called `DaskDeviceQuantileDMatrix` for training but `DaskDMatrix` for validation.  `DaskDeviceQuantileDMatrix` is a drop-in replacement of `DaskDMatrix` for GPU-based training inputs that avoids extra data copies."
   ]
  },
  {
   "cell_type": "code",
   "execution_count": null,
   "metadata": {
    "application/vnd.databricks.v1+cell": {
     "cellMetadata": {
      "byteLimit": 2048000,
      "rowLimit": 10000
     },
     "inputWidgets": {},
     "nuid": "514a1d11-8257-4920-a25d-bb2401b9dd43",
     "showTitle": false,
     "title": ""
    }
   },
   "outputs": [],
   "source": [
    "def fit_model_es(client, X, y, X_valid, y_valid) -> dxgb.Booster:\n",
    "    early_stopping_rounds = 5\n",
    "    Xy = dxgb.DaskDeviceQuantileDMatrix(client, X, y)\n",
    "    Xy_valid = dxgb.DaskDMatrix(client, X_valid, y_valid)\n",
    "    # train the model\n",
    "    booster = dxgb.train(\n",
    "        client,\n",
    "        {\n",
    "            \"objective\": \"binary:logistic\",\n",
    "            \"eval_metric\": \"error\",\n",
    "            \"tree_method\": \"gpu_hist\",\n",
    "        },\n",
    "        Xy,\n",
    "        evals=[(Xy_valid, \"Valid\")],\n",
    "        num_boost_round=1000,\n",
    "        early_stopping_rounds=early_stopping_rounds,\n",
    "    )[\"booster\"]\n",
    "    return booster"
   ]
  },
  {
   "cell_type": "code",
   "execution_count": null,
   "metadata": {
    "application/vnd.databricks.v1+cell": {
     "cellMetadata": {
      "byteLimit": 2048000,
      "rowLimit": 10000
     },
     "inputWidgets": {},
     "nuid": "3f3f8935-4f76-47c1-9280-386df3e6a49d",
     "showTitle": false,
     "title": ""
    }
   },
   "outputs": [],
   "source": [
    "booster = fit_model_es(client, X=X_train, y=y_train, X_valid=X_valid, y_valid=y_valid)\n",
    "booster"
   ]
  },
  {
   "cell_type": "markdown",
   "metadata": {
    "application/vnd.databricks.v1+cell": {
     "cellMetadata": {
      "byteLimit": 2048000,
      "rowLimit": 10000
     },
     "inputWidgets": {},
     "nuid": "83932465-f261-4ad8-82da-f696e727edc4",
     "showTitle": false,
     "title": ""
    }
   },
   "source": [
    "## Train with Customized objective and evaluation metric\n",
    "\n",
    " In the example below the XGBoost model is trained using a custom logistic regression-based objective function (`logit`) and a custom evaluation metric (`error`) along with early stopping.\n",
    " \n",
    " Note that the function returns both gradient and hessian, which XGBoost uses to optimize the model.  Also, the parameter named `metric_name` needs to be specified in our callback. It is used to inform XGBoost that the custom error function should be used for evaluating early stopping criteria."
   ]
  },
  {
   "cell_type": "code",
   "execution_count": null,
   "metadata": {
    "application/vnd.databricks.v1+cell": {
     "cellMetadata": {
      "byteLimit": 2048000,
      "rowLimit": 10000
     },
     "inputWidgets": {},
     "nuid": "2b40ef80-c783-4216-9434-0a55c2eb3a63",
     "showTitle": false,
     "title": ""
    }
   },
   "outputs": [],
   "source": [
    "def fit_model_customized_objective(client, X, y, X_valid, y_valid) -> dxgb.Booster:\n",
    "    def logit(predt: np.ndarray, Xy: xgb.DMatrix) -> Tuple[np.ndarray, np.ndarray]:\n",
    "        predt = 1.0 / (1.0 + np.exp(-predt))\n",
    "        labels = Xy.get_label()\n",
    "        grad = predt - labels\n",
    "        hess = predt * (1.0 - predt)\n",
    "        return grad, hess\n",
    "\n",
    "    def error(predt: np.ndarray, Xy: xgb.DMatrix) -> Tuple[str, float]:\n",
    "        label = Xy.get_label()\n",
    "        r = np.zeros(predt.shape)\n",
    "        predt = 1.0 / (1.0 + np.exp(-predt))\n",
    "        gt = predt > 0.5\n",
    "        r[gt] = 1 - label[gt]\n",
    "        le = predt <= 0.5\n",
    "        r[le] = label[le]\n",
    "        return \"CustomErr\", float(np.average(r))\n",
    "\n",
    "    # Use early stopping with custom objective and metric.\n",
    "    early_stopping_rounds = 5\n",
    "    # Specify the metric we want to use for early stopping.\n",
    "    es = xgb.callback.EarlyStopping(\n",
    "        rounds=early_stopping_rounds, save_best=True, metric_name=\"CustomErr\"\n",
    "    )\n",
    "\n",
    "    Xy = dxgb.DaskDeviceQuantileDMatrix(client, X, y)\n",
    "    Xy_valid = dxgb.DaskDMatrix(client, X_valid, y_valid)\n",
    "    booster = dxgb.train(\n",
    "        client,\n",
    "        {\"eval_metric\": \"error\", \"tree_method\": \"gpu_hist\"},\n",
    "        Xy,\n",
    "        evals=[(Xy_valid, \"Valid\")],\n",
    "        num_boost_round=1000,\n",
    "        obj=logit,  # pass the custom objective\n",
    "        feval=error,  # pass the custom metric\n",
    "        callbacks=[es],\n",
    "    )[\"booster\"]\n",
    "    return booster"
   ]
  },
  {
   "cell_type": "code",
   "execution_count": null,
   "metadata": {
    "application/vnd.databricks.v1+cell": {
     "cellMetadata": {
      "byteLimit": 2048000,
      "rowLimit": 10000
     },
     "inputWidgets": {},
     "nuid": "2fa0482c-319a-412a-a156-e03fc0186982",
     "showTitle": false,
     "title": ""
    }
   },
   "outputs": [],
   "source": [
    "booster_custom = fit_model_customized_objective(\n",
    "    client, X=X_train, y=y_train, X_valid=X_valid, y_valid=y_valid\n",
    ")\n",
    "booster_custom"
   ]
  },
  {
   "cell_type": "markdown",
   "metadata": {
    "application/vnd.databricks.v1+cell": {
     "cellMetadata": {},
     "inputWidgets": {},
     "nuid": "746097aa-6b0a-43b8-be1a-fe476206f057",
     "showTitle": false,
     "title": ""
    }
   },
   "source": [
    "## Running inference\n",
    "\n",
    "After some tuning, we arrive at the final model for performing inference on new data. \n",
    "\n"
   ]
  },
  {
   "cell_type": "code",
   "execution_count": null,
   "metadata": {
    "application/vnd.databricks.v1+cell": {
     "cellMetadata": {
      "byteLimit": 2048000,
      "rowLimit": 10000
     },
     "inputWidgets": {},
     "nuid": "4ad9abd0-10b2-46e5-8d57-3b163b421888",
     "showTitle": false,
     "title": ""
    }
   },
   "outputs": [],
   "source": [
    "def predict(client, model, X):\n",
    "    predt = dxgb.predict(client, model, X)\n",
    "    return predt"
   ]
  },
  {
   "cell_type": "code",
   "execution_count": null,
   "metadata": {
    "application/vnd.databricks.v1+cell": {
     "cellMetadata": {
      "byteLimit": 2048000,
      "rowLimit": 10000
     },
     "inputWidgets": {},
     "nuid": "1bd1cdcc-5296-4671-b339-87862db38fde",
     "showTitle": false,
     "title": ""
    }
   },
   "outputs": [],
   "source": [
    "preds = predict(client, booster, X_train)\n",
    "preds.head()"
   ]
  },
  {
   "cell_type": "markdown",
   "metadata": {
    "application/vnd.databricks.v1+cell": {
     "cellMetadata": {
      "byteLimit": 2048000,
      "rowLimit": 10000
     },
     "inputWidgets": {},
     "nuid": "c000a28d-473b-487b-92c1-1f5965f1898b",
     "showTitle": false,
     "title": ""
    }
   },
   "source": [
    "## Clean up\n",
    "\n",
    "When finished, be sure to destroy your cluster to avoid incurring extra costs for idle resources. If you forget to destroy the cluster manually, it's important to note that Databricks clusters will automatically time out after a certain period (as specified during cluster creation)."
   ]
  },
  {
   "cell_type": "code",
   "execution_count": null,
   "metadata": {
    "application/vnd.databricks.v1+cell": {
     "cellMetadata": {
      "byteLimit": 2048000,
      "rowLimit": 10000
     },
     "inputWidgets": {},
     "nuid": "191ca13c-1678-4b9e-9235-6ef2b4f1dbb9",
     "showTitle": false,
     "title": ""
    }
   },
   "outputs": [],
   "source": [
    "client.close()"
   ]
  }
 ],
 "metadata": {
  "application/vnd.databricks.v1+notebook": {
   "dashboards": [],
   "language": "python",
   "notebookMetadata": {
    "mostRecentlyExecutedCommandWithImplicitDF": {
     "commandId": -1,
     "dataframes": [
      "_sqldf"
     ]
    },
    "pythonIndentUnit": 2
   },
   "notebookName": "xgboost-dask",
   "widgets": {}
  },
  "language_info": {
   "name": "python"
  }
 },
 "nbformat": 4,
 "nbformat_minor": 0
}
