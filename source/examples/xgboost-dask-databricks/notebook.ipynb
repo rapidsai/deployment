{
 "cells": [
  {
   "cell_type": "markdown",
   "metadata": {
    "application/vnd.databricks.v1+cell": {
     "cellMetadata": {
      "byteLimit": 2048000,
      "rowLimit": 10000
     },
     "inputWidgets": {},
     "nuid": "d9c1bcee-5f45-4c58-991b-f8d25fa34fc3",
     "showTitle": false,
     "title": ""
    },
    "papermill": {
     "duration": 0.007511,
     "end_time": "2022-06-06T11:21:26.521194",
     "exception": false,
     "start_time": "2022-06-06T11:21:26.513683",
     "status": "completed"
    },
    "tags": []
   },
   "source": [
    "# XGBoost Starter - LB 0.793\n",
    "In this notebook we build and train an XGBoost model using @raddar Kaggle dataset from [here][1] with discussion [here][2]. Then we engineer features suggested by @huseyincot in his notebooks [here][3] and [here][4]. This XGB model achieves CV 0.792 LB 0.793! When training with XGB, we use a special XGB dataloader called `DeviceQuantileDMatrix` which uses a small GPU memory footprint. This allows us to engineer more additional columns and train with more rows of data. Our feature engineering is performed using [RAPIDS][5] on the GPU to create new features quickly.\n",
    "\n",
    "[1]: https://www.kaggle.com/datasets/raddar/amex-data-integer-dtypes-parquet-format\n",
    "[2]: https://www.kaggle.com/competitions/amex-default-prediction/discussion/328514\n",
    "[3]: https://www.kaggle.com/code/huseyincot/amex-catboost-0-793\n",
    "[4]: https://www.kaggle.com/code/huseyincot/amex-agg-data-how-it-created\n",
    "[5]: https://rapids.ai/"
   ]
  },
  {
   "cell_type": "code",
   "execution_count": 0,
   "metadata": {
    "application/vnd.databricks.v1+cell": {
     "cellMetadata": {},
     "inputWidgets": {},
     "nuid": "387ab347-a239-48ab-9503-73f10d99652b",
     "showTitle": false,
     "title": ""
    }
   },
   "outputs": [],
   "source": [
    "dbutils.fs.rm(\"dbfs:/dbfs/databricks/skirui/\", True)"
   ]
  },
  {
   "cell_type": "markdown",
   "metadata": {
    "application/vnd.databricks.v1+cell": {
     "cellMetadata": {
      "byteLimit": 2048000,
      "rowLimit": 10000
     },
     "inputWidgets": {},
     "nuid": "53dc5854-bd16-4d08-a85b-0e04a9704d1f",
     "showTitle": false,
     "title": ""
    },
    "papermill": {
     "duration": 0.006826,
     "end_time": "2022-06-06T11:21:26.534912",
     "exception": false,
     "start_time": "2022-06-06T11:21:26.528086",
     "status": "completed"
    },
    "tags": []
   },
   "source": [
    "# Load Libraries"
   ]
  },
  {
   "cell_type": "code",
   "execution_count": 0,
   "metadata": {
    "application/vnd.databricks.v1+cell": {
     "cellMetadata": {
      "byteLimit": 2048000,
      "rowLimit": 10000
     },
     "inputWidgets": {},
     "nuid": "a9a2585e-43c6-4d9f-ade2-56c95d2997e9",
     "showTitle": false,
     "title": ""
    }
   },
   "outputs": [],
   "source": [
    "# LOAD LIBRARIES\n",
    "import pandas as pd\n",
    "import numpy as np\n",
    "import cupy, cudf\n",
    "import dask\n",
    "import dask_cudf\n",
    "import dask_deltatable as ddt\n",
    "import matplotlib.pyplot as plt, gc, os\n",
    "import dask_databricks\n",
    "\n",
    "print(\"RAPIDS version\", cudf.__version__)"
   ]
  },
  {
   "cell_type": "code",
   "execution_count": 0,
   "metadata": {
    "application/vnd.databricks.v1+cell": {
     "cellMetadata": {
      "byteLimit": 2048000,
      "rowLimit": 10000
     },
     "inputWidgets": {},
     "nuid": "52045500-82e7-4dbd-aff1-ac4dd7fe4144",
     "showTitle": false,
     "title": ""
    }
   },
   "outputs": [],
   "source": [
    "client = dask_databricks.get_client()\n",
    "client"
   ]
  },
  {
   "cell_type": "code",
   "execution_count": 0,
   "metadata": {
    "application/vnd.databricks.v1+cell": {
     "cellMetadata": {
      "byteLimit": 2048000,
      "rowLimit": 10000
     },
     "inputWidgets": {},
     "nuid": "9d0477ff-99aa-4f74-81cc-b820b1c88431",
     "showTitle": false,
     "title": ""
    }
   },
   "outputs": [],
   "source": [
    "def read_deltatable():\n",
    "    # # The next 3three lines should be run only ONCE!\n",
    "    # data = spark.read.load(\"dbfs:/dbfs/databricks/skirui/skirui_train.parquet\",\n",
    "    #                        format=\"parquet\")\n",
    "\n",
    "    # # Write to Delta table using the schema inferred from `data`\n",
    "    # # All tables created on Databricks use Delta Lake by default.\n",
    "    # table_name = \"skirui_xgboost_train\"\n",
    "    # data.write.saveAsTable(table_name)\n",
    "\n",
    "    # display(spark.sql('DESCRIBE DETAIL skirui_xgboost_train'))\n",
    "\n",
    "    # read from delta table using dask\n",
    "    dd = ddt.read_deltalake(\n",
    "        \"/dbfs/user/hive/warehouse/skirui_xgboost_train/\"\n",
    "    )  # returns Dask.DataFrame\n",
    "\n",
    "    dask.config.set({\"dataframe.backend\": \"cudf\"})\n",
    "    ddf = dask_cudf.from_dask_dataframe(dd)\n",
    "    return ddf"
   ]
  },
  {
   "cell_type": "code",
   "execution_count": 0,
   "metadata": {
    "application/vnd.databricks.v1+cell": {
     "cellMetadata": {
      "byteLimit": 2048000,
      "rowLimit": 10000
     },
     "inputWidgets": {},
     "nuid": "c5a13234-3044-42f8-a5d0-213d97301934",
     "showTitle": false,
     "title": ""
    },
    "papermill": {
     "duration": 0.019507,
     "end_time": "2022-06-06T11:21:30.143229",
     "exception": false,
     "start_time": "2022-06-06T11:21:30.123722",
     "status": "completed"
    },
    "tags": []
   },
   "outputs": [],
   "source": [
    "# VERSION NAME FOR SAVED MODEL FILES\n",
    "VER = 1\n",
    "\n",
    "# TRAIN RANDOM SEED\n",
    "SEED = 42\n",
    "\n",
    "# FILL NAN VALUE\n",
    "NAN_VALUE = -127  # will fit in int8\n",
    "\n",
    "# FOLDS PER MODEL\n",
    "FOLDS = 5"
   ]
  },
  {
   "cell_type": "markdown",
   "metadata": {
    "application/vnd.databricks.v1+cell": {
     "cellMetadata": {
      "byteLimit": 2048000,
      "rowLimit": 10000
     },
     "inputWidgets": {},
     "nuid": "8648b103-a7c4-46b5-aca4-ccbcbec77413",
     "showTitle": false,
     "title": ""
    },
    "papermill": {
     "duration": 0.011286,
     "end_time": "2022-06-06T11:21:30.166082",
     "exception": false,
     "start_time": "2022-06-06T11:21:30.154796",
     "status": "completed"
    },
    "tags": []
   },
   "source": [
    "# Process and Feature Engineer Train Data\n",
    "We will load @raddar Kaggle dataset from [here][1] with discussion [here][2]. Then we will engineer features suggested by @huseyincot in his notebooks [here][3] and [here][4]. We will use [RAPIDS][5] and the GPU to create new features quickly.\n",
    "\n",
    "[1]: https://www.kaggle.com/datasets/raddar/amex-data-integer-dtypes-parquet-format\n",
    "[2]: https://www.kaggle.com/competitions/amex-default-prediction/discussion/328514\n",
    "[3]: https://www.kaggle.com/code/huseyincot/amex-catboost-0-793\n",
    "[4]: https://www.kaggle.com/code/huseyincot/amex-agg-data-how-it-created\n",
    "[5]: https://rapids.ai/"
   ]
  },
  {
   "cell_type": "code",
   "execution_count": 0,
   "metadata": {
    "application/vnd.databricks.v1+cell": {
     "cellMetadata": {
      "byteLimit": 2048000,
      "rowLimit": 10000
     },
     "inputWidgets": {},
     "nuid": "1c4fa829-3298-4656-adab-639ee8a14988",
     "showTitle": false,
     "title": ""
    }
   },
   "outputs": [],
   "source": [
    "ddf = read_deltatable()\n",
    "ddf"
   ]
  },
  {
   "cell_type": "code",
   "execution_count": 0,
   "metadata": {
    "application/vnd.databricks.v1+cell": {
     "cellMetadata": {
      "byteLimit": 2048000,
      "rowLimit": 10000
     },
     "inputWidgets": {},
     "nuid": "91e3603a-e703-463e-be5b-4bf3d6f3a2ca",
     "showTitle": false,
     "title": ""
    }
   },
   "outputs": [],
   "source": [
    "type(ddf)"
   ]
  },
  {
   "cell_type": "code",
   "execution_count": 0,
   "metadata": {
    "application/vnd.databricks.v1+cell": {
     "cellMetadata": {
      "byteLimit": 2048000,
      "rowLimit": 10000
     },
     "inputWidgets": {},
     "nuid": "5f29ab1c-8277-4c91-a407-e970e45d1d8e",
     "showTitle": false,
     "title": ""
    }
   },
   "outputs": [],
   "source": [
    "! pip list"
   ]
  },
  {
   "cell_type": "code",
   "execution_count": 0,
   "metadata": {
    "application/vnd.databricks.v1+cell": {
     "cellMetadata": {
      "byteLimit": 2048000,
      "rowLimit": 10000
     },
     "inputWidgets": {},
     "nuid": "2628a45e-1a54-417f-af58-2946a2609927",
     "showTitle": false,
     "title": ""
    }
   },
   "outputs": [],
   "source": [
    "def hex_to_int(s):\n",
    "    return int(s, 16)\n",
    "\n",
    "\n",
    "# REDUCE DTYPE FOR CUSTOMER AND DATE\n",
    "# ddf['customer_ID'] = ddf['customer_ID'].str[-16:].str.extract('([0-9a-fA-F]+)').apply(hex_to_int, meta=('int64'), axis=1)\n",
    "ddf[\"customer_ID\"] = (\n",
    "    ddf[\"customer_ID\"]\n",
    "    .str[-16:]\n",
    "    .str.extract(\"([0-9a-fA-F]+)\")\n",
    "    .map(hex_to_int, meta=(\"int64\"))\n",
    ")\n",
    "ddf"
   ]
  },
  {
   "cell_type": "code",
   "execution_count": 0,
   "metadata": {
    "application/vnd.databricks.v1+cell": {
     "cellMetadata": {
      "byteLimit": 2048000,
      "rowLimit": 10000
     },
     "inputWidgets": {},
     "nuid": "2d978744-aeb5-4632-ac48-bcf1cae403f3",
     "showTitle": false,
     "title": ""
    }
   },
   "outputs": [],
   "source": [
    "ddf.compute()"
   ]
  },
  {
   "cell_type": "code",
   "execution_count": 0,
   "metadata": {
    "application/vnd.databricks.v1+cell": {
     "cellMetadata": {},
     "inputWidgets": {},
     "nuid": "2b3eacb9-85e4-4ed2-92e7-af88e0062b76",
     "showTitle": false,
     "title": ""
    }
   },
   "outputs": [],
   "source": [
    "ddf[\"S_2\"] = cudf.to_datetime(ddf[\"S_2\"])"
   ]
  },
  {
   "cell_type": "code",
   "execution_count": 0,
   "metadata": {
    "application/vnd.databricks.v1+cell": {
     "cellMetadata": {
      "byteLimit": 2048000,
      "rowLimit": 10000
     },
     "inputWidgets": {},
     "nuid": "6d1b08f5-3023-4411-9175-55fa3367e45d",
     "showTitle": false,
     "title": ""
    },
    "papermill": {
     "duration": 24.314197,
     "end_time": "2022-06-06T11:21:54.491417",
     "exception": false,
     "start_time": "2022-06-06T11:21:30.177220",
     "status": "completed"
    },
    "tags": []
   },
   "outputs": [],
   "source": [
    "def clean_data(usecols=None):\n",
    "    ddf = read_deltatable()\n",
    "    # LOAD DATAFRAME\n",
    "    df = ddf[usecols] if usecols is not None else ddf\n",
    "\n",
    "    def hex_to_int(s):\n",
    "        return int(s, 16)\n",
    "\n",
    "    # REDUCE DTYPE FOR CUSTOMER AND DATE\n",
    "    df[\"customer_ID\"] = (\n",
    "        df[\"customer_ID\"]\n",
    "        .str[-16:]\n",
    "        .str.extract(\"([0-9a-fA-F]+)\")\n",
    "        .apply(hex_to_int, meta=(\"int64\"), axis=1)\n",
    "    )\n",
    "    df[\"S_2\"] = cudf.to_datetime(df[\"S_2\"])\n",
    "\n",
    "    # SORT BY CUSTOMER AND DATE (so agg('last') works correctly)\n",
    "    df = df.sort_values([\"customer_ID\", \"S_2\"])\n",
    "    df = df.reset_index(drop=True)\n",
    "\n",
    "    # FILL NAN\n",
    "    df = df.fillna(NAN_VALUE)\n",
    "    print(\"shape of data:\", df.shape)\n",
    "\n",
    "    return df\n",
    "\n",
    "\n",
    "print(\"Reading train data...\")\n",
    "train = clean_data()"
   ]
  },
  {
   "cell_type": "code",
   "execution_count": 0,
   "metadata": {
    "application/vnd.databricks.v1+cell": {
     "cellMetadata": {
      "byteLimit": 2048000,
      "rowLimit": 10000
     },
     "inputWidgets": {},
     "nuid": "26ffdd5c-94f9-4a7f-b85f-e0cb6dcac0c6",
     "showTitle": false,
     "title": ""
    }
   },
   "outputs": [],
   "source": [
    "df[\"S_2\"]"
   ]
  },
  {
   "cell_type": "code",
   "execution_count": 0,
   "metadata": {
    "application/vnd.databricks.v1+cell": {
     "cellMetadata": {},
     "inputWidgets": {},
     "nuid": "4f7e4207-a17d-4b16-ab9e-1718a72ee9a6",
     "showTitle": false,
     "title": ""
    },
    "papermill": {
     "duration": 0.245681,
     "end_time": "2022-06-06T11:21:54.744230",
     "exception": false,
     "start_time": "2022-06-06T11:21:54.498549",
     "status": "completed"
    },
    "tags": []
   },
   "outputs": [],
   "source": [
    "train.head()"
   ]
  },
  {
   "cell_type": "code",
   "execution_count": 0,
   "metadata": {
    "application/vnd.databricks.v1+cell": {
     "cellMetadata": {},
     "inputWidgets": {},
     "nuid": "34a0e113-9902-4d2c-93f6-cc6ea7a347dc",
     "showTitle": false,
     "title": ""
    },
    "papermill": {
     "duration": 1.169204,
     "end_time": "2022-06-06T11:21:55.920635",
     "exception": false,
     "start_time": "2022-06-06T11:21:54.751431",
     "status": "completed"
    },
    "tags": []
   },
   "outputs": [],
   "source": [
    "def process_and_feature_engineer(df):\n",
    "    # FEATURE ENGINEERING FROM\n",
    "    # https://www.kaggle.com/code/huseyincot/amex-agg-data-how-it-created\n",
    "    all_cols = [c for c in list(df.columns) if c not in [\"customer_ID\", \"S_2\"]]\n",
    "    cat_features = [\n",
    "        \"B_30\",\n",
    "        \"B_38\",\n",
    "        \"D_114\",\n",
    "        \"D_116\",\n",
    "        \"D_117\",\n",
    "        \"D_120\",\n",
    "        \"D_126\",\n",
    "        \"D_63\",\n",
    "        \"D_64\",\n",
    "        \"D_66\",\n",
    "        \"D_68\",\n",
    "    ]\n",
    "    num_features = [col for col in all_cols if col not in cat_features]\n",
    "\n",
    "    test_num_agg = df.groupby(\"customer_ID\")[num_features].agg(\n",
    "        [\"mean\", \"std\", \"min\", \"max\", \"last\"]\n",
    "    )\n",
    "    test_num_agg.columns = [\"_\".join(x) for x in test_num_agg.columns]\n",
    "\n",
    "    test_cat_agg = df.groupby(\"customer_ID\")[cat_features].agg(\n",
    "        [\"count\", \"last\", \"nunique\"]\n",
    "    )\n",
    "    test_cat_agg.columns = [\"_\".join(x) for x in test_cat_agg.columns]\n",
    "\n",
    "    df = cudf.concat([test_num_agg, test_cat_agg], axis=1)\n",
    "    del test_num_agg, test_cat_agg\n",
    "    print(\"shape after engineering\", df.shape)\n",
    "\n",
    "    return df\n",
    "\n",
    "\n",
    "train = process_and_feature_engineer(train)"
   ]
  },
  {
   "cell_type": "code",
   "execution_count": 0,
   "metadata": {
    "application/vnd.databricks.v1+cell": {
     "cellMetadata": {},
     "inputWidgets": {},
     "nuid": "d765ff62-4cca-479b-bbb9-d264eccf4795",
     "showTitle": false,
     "title": ""
    },
    "papermill": {
     "duration": 1.313204,
     "end_time": "2022-06-06T11:21:57.240862",
     "exception": false,
     "start_time": "2022-06-06T11:21:55.927658",
     "status": "completed"
    },
    "tags": []
   },
   "outputs": [],
   "source": [
    "# ADD TARGETS\n",
    "targets = cudf.read_csv(\"../input/amex-default-prediction/train_labels.csv\")\n",
    "targets[\"customer_ID\"] = (\n",
    "    targets[\"customer_ID\"].str[-16:].str.hex_to_int().astype(\"int64\")\n",
    ")\n",
    "targets = targets.set_index(\"customer_ID\")\n",
    "train = train.merge(targets, left_index=True, right_index=True, how=\"left\")\n",
    "train.target = train.target.astype(\"int8\")\n",
    "del targets\n",
    "\n",
    "# NEEDED TO MAKE CV DETERMINISTIC (cudf merge above randomly shuffles rows)\n",
    "train = train.sort_index().reset_index()\n",
    "\n",
    "# FEATURES\n",
    "FEATURES = train.columns[1:-1]\n",
    "print(f\"There are {len(FEATURES)} features!\")"
   ]
  },
  {
   "cell_type": "markdown",
   "metadata": {
    "application/vnd.databricks.v1+cell": {
     "cellMetadata": {},
     "inputWidgets": {},
     "nuid": "fd3e4365-d800-4207-b12a-52d2d0cb63b8",
     "showTitle": false,
     "title": ""
    },
    "papermill": {
     "duration": 0.007074,
     "end_time": "2022-06-06T11:21:57.255646",
     "exception": false,
     "start_time": "2022-06-06T11:21:57.248572",
     "status": "completed"
    },
    "tags": []
   },
   "source": [
    "# Train XGB\n",
    "We will train using `DeviceQuantileDMatrix`. This has a very small GPU memory footprint."
   ]
  },
  {
   "cell_type": "code",
   "execution_count": 0,
   "metadata": {
    "application/vnd.databricks.v1+cell": {
     "cellMetadata": {},
     "inputWidgets": {},
     "nuid": "177123b5-46d0-4eaf-aab5-fab7bb5d23c0",
     "showTitle": false,
     "title": ""
    },
    "papermill": {
     "duration": 0.098578,
     "end_time": "2022-06-06T11:21:57.361093",
     "exception": false,
     "start_time": "2022-06-06T11:21:57.262515",
     "status": "completed"
    },
    "tags": []
   },
   "outputs": [],
   "source": [
    "# LOAD XGB LIBRARY\n",
    "from sklearn.model_selection import KFold\n",
    "import xgboost as xgb\n",
    "\n",
    "print(\"XGB Version\", xgb.__version__)\n",
    "\n",
    "# XGB MODEL PARAMETERS\n",
    "xgb_parms = {\n",
    "    \"max_depth\": 4,\n",
    "    \"learning_rate\": 0.05,\n",
    "    \"subsample\": 0.8,\n",
    "    \"colsample_bytree\": 0.6,\n",
    "    \"eval_metric\": \"logloss\",\n",
    "    \"objective\": \"binary:logistic\",\n",
    "    \"tree_method\": \"gpu_hist\",\n",
    "    \"predictor\": \"gpu_predictor\",\n",
    "    \"random_state\": SEED,\n",
    "}"
   ]
  },
  {
   "cell_type": "code",
   "execution_count": 0,
   "metadata": {
    "application/vnd.databricks.v1+cell": {
     "cellMetadata": {},
     "inputWidgets": {},
     "nuid": "833b5a55-70a3-4923-8816-b8611e26215d",
     "showTitle": false,
     "title": ""
    },
    "papermill": {
     "duration": 0.018239,
     "end_time": "2022-06-06T11:21:57.386813",
     "exception": false,
     "start_time": "2022-06-06T11:21:57.368574",
     "status": "completed"
    },
    "tags": []
   },
   "outputs": [],
   "source": [
    "# NEEDED WITH DeviceQuantileDMatrix BELOW\n",
    "class IterLoadForDMatrix(xgb.core.DataIter):\n",
    "    def __init__(self, df=None, features=None, target=None, batch_size=256 * 1024):\n",
    "        self.features = features\n",
    "        self.target = target\n",
    "        self.df = df\n",
    "        self.it = 0  # set iterator to 0\n",
    "        self.batch_size = batch_size\n",
    "        self.batches = int(np.ceil(len(df) / self.batch_size))\n",
    "        super().__init__()\n",
    "\n",
    "    def reset(self):\n",
    "        \"\"\"Reset the iterator\"\"\"\n",
    "        self.it = 0\n",
    "\n",
    "    def next(self, input_data):\n",
    "        \"\"\"Yield next batch of data.\"\"\"\n",
    "        if self.it == self.batches:\n",
    "            return 0  # Return 0 when there's no more batch.\n",
    "\n",
    "        a = self.it * self.batch_size\n",
    "        b = min((self.it + 1) * self.batch_size, len(self.df))\n",
    "        dt = cudf.DataFrame(self.df.iloc[a:b])\n",
    "        input_data(\n",
    "            data=dt[self.features], label=dt[self.target]\n",
    "        )  # , weight=dt['weight'])\n",
    "        self.it += 1\n",
    "        return 1"
   ]
  },
  {
   "cell_type": "code",
   "execution_count": 0,
   "metadata": {
    "application/vnd.databricks.v1+cell": {
     "cellMetadata": {},
     "inputWidgets": {},
     "nuid": "142bb2ac-7273-439a-9f60-00014e59e180",
     "showTitle": false,
     "title": ""
    },
    "papermill": {
     "duration": 0.018607,
     "end_time": "2022-06-06T11:21:57.412235",
     "exception": false,
     "start_time": "2022-06-06T11:21:57.393628",
     "status": "completed"
    },
    "tags": []
   },
   "outputs": [],
   "source": [
    "# https://www.kaggle.com/kyakovlev\n",
    "# https://www.kaggle.com/competitions/amex-default-prediction/discussion/327534\n",
    "def amex_metric_mod(y_true, y_pred):\n",
    "    labels = np.transpose(np.array([y_true, y_pred]))\n",
    "    labels = labels[labels[:, 1].argsort()[::-1]]\n",
    "    weights = np.where(labels[:, 0] == 0, 20, 1)\n",
    "    cut_vals = labels[np.cumsum(weights) <= int(0.04 * np.sum(weights))]\n",
    "    top_four = np.sum(cut_vals[:, 0]) / np.sum(labels[:, 0])\n",
    "\n",
    "    gini = [0, 0]\n",
    "    for i in [1, 0]:\n",
    "        labels = np.transpose(np.array([y_true, y_pred]))\n",
    "        labels = labels[labels[:, i].argsort()[::-1]]\n",
    "        weight = np.where(labels[:, 0] == 0, 20, 1)\n",
    "        weight_random = np.cumsum(weight / np.sum(weight))\n",
    "        total_pos = np.sum(labels[:, 0] * weight)\n",
    "        cum_pos_found = np.cumsum(labels[:, 0] * weight)\n",
    "        lorentz = cum_pos_found / total_pos\n",
    "        gini[i] = np.sum((lorentz - weight_random) * weight)\n",
    "\n",
    "    return 0.5 * (gini[1] / gini[0] + top_four)"
   ]
  },
  {
   "cell_type": "code",
   "execution_count": 0,
   "metadata": {
    "application/vnd.databricks.v1+cell": {
     "cellMetadata": {},
     "inputWidgets": {},
     "nuid": "f644a9e0-0354-4229-a46c-28b34d904054",
     "showTitle": false,
     "title": ""
    },
    "papermill": {
     "duration": 552.141046,
     "end_time": "2022-06-06T11:31:09.560336",
     "exception": false,
     "start_time": "2022-06-06T11:21:57.419290",
     "status": "completed"
    },
    "scrolled": true,
    "tags": []
   },
   "outputs": [],
   "source": [
    "importances = []\n",
    "oof = []\n",
    "train = train.to_pandas()  # free GPU memory\n",
    "TRAIN_SUBSAMPLE = 1.0\n",
    "gc.collect()\n",
    "\n",
    "skf = KFold(n_splits=FOLDS, shuffle=True, random_state=SEED)\n",
    "for fold, (train_idx, valid_idx) in enumerate(skf.split(train, train.target)):\n",
    "    # TRAIN WITH SUBSAMPLE OF TRAIN FOLD DATA\n",
    "    if TRAIN_SUBSAMPLE < 1.0:\n",
    "        np.random.seed(SEED)\n",
    "        train_idx = np.random.choice(\n",
    "            train_idx, int(len(train_idx) * TRAIN_SUBSAMPLE), replace=False\n",
    "        )\n",
    "        np.random.seed(None)\n",
    "\n",
    "    print(\"#\" * 25)\n",
    "    print(\"### Fold\", fold + 1)\n",
    "    print(\"### Train size\", len(train_idx), \"Valid size\", len(valid_idx))\n",
    "    print(f\"### Training with {int(TRAIN_SUBSAMPLE*100)}% fold data...\")\n",
    "    print(\"#\" * 25)\n",
    "\n",
    "    # TRAIN, VALID, TEST FOR FOLD K\n",
    "    Xy_train = IterLoadForDMatrix(train.loc[train_idx], FEATURES, \"target\")\n",
    "    X_valid = train.loc[valid_idx, FEATURES]\n",
    "    y_valid = train.loc[valid_idx, \"target\"]\n",
    "\n",
    "    dtrain = xgb.DeviceQuantileDMatrix(Xy_train, max_bin=256)\n",
    "    dvalid = xgb.DMatrix(data=X_valid, label=y_valid)\n",
    "\n",
    "    # TRAIN MODEL FOLD K\n",
    "    model = xgb.train(\n",
    "        xgb_parms,\n",
    "        dtrain=dtrain,\n",
    "        evals=[(dtrain, \"train\"), (dvalid, \"valid\")],\n",
    "        num_boost_round=9999,\n",
    "        early_stopping_rounds=100,\n",
    "        verbose_eval=100,\n",
    "    )\n",
    "    model.save_model(f\"XGB_v{VER}_fold{fold}.xgb\")\n",
    "\n",
    "    # GET FEATURE IMPORTANCE FOR FOLD K\n",
    "    dd = model.get_score(importance_type=\"weight\")\n",
    "    df = pd.DataFrame({\"feature\": dd.keys(), f\"importance_{fold}\": dd.values()})\n",
    "    importances.append(df)\n",
    "\n",
    "    # INFER OOF FOLD K\n",
    "    oof_preds = model.predict(dvalid)\n",
    "    acc = amex_metric_mod(y_valid.values, oof_preds)\n",
    "    print(\"Kaggle Metric =\", acc, \"\\n\")\n",
    "\n",
    "    # SAVE OOF\n",
    "    df = train.loc[valid_idx, [\"customer_ID\", \"target\"]].copy()\n",
    "    df[\"oof_pred\"] = oof_preds\n",
    "    oof.append(df)\n",
    "\n",
    "    del dtrain, Xy_train, dd, df\n",
    "    del X_valid, y_valid, dvalid, model\n",
    "    _ = gc.collect()\n",
    "\n",
    "print(\"#\" * 25)\n",
    "oof = pd.concat(oof, axis=0, ignore_index=True).set_index(\"customer_ID\")\n",
    "acc = amex_metric_mod(oof.target.values, oof.oof_pred.values)\n",
    "print(\"OVERALL CV Kaggle Metric =\", acc)"
   ]
  },
  {
   "cell_type": "code",
   "execution_count": 0,
   "metadata": {
    "application/vnd.databricks.v1+cell": {
     "cellMetadata": {},
     "inputWidgets": {},
     "nuid": "14278384-e06b-413b-9043-cc95791b8b19",
     "showTitle": false,
     "title": ""
    },
    "papermill": {
     "duration": 0.155515,
     "end_time": "2022-06-06T11:31:09.729872",
     "exception": false,
     "start_time": "2022-06-06T11:31:09.574357",
     "status": "completed"
    },
    "tags": []
   },
   "outputs": [],
   "source": [
    "# CLEAN RAM\n",
    "del train\n",
    "_ = gc.collect()"
   ]
  },
  {
   "cell_type": "markdown",
   "metadata": {
    "application/vnd.databricks.v1+cell": {
     "cellMetadata": {},
     "inputWidgets": {},
     "nuid": "2d03ea0e-3fa3-4823-9b65-7409acc32f09",
     "showTitle": false,
     "title": ""
    },
    "papermill": {
     "duration": 0.013214,
     "end_time": "2022-06-06T11:31:09.756695",
     "exception": false,
     "start_time": "2022-06-06T11:31:09.743481",
     "status": "completed"
    },
    "tags": []
   },
   "source": [
    "# Save OOF Preds"
   ]
  },
  {
   "cell_type": "code",
   "execution_count": 0,
   "metadata": {
    "application/vnd.databricks.v1+cell": {
     "cellMetadata": {},
     "inputWidgets": {},
     "nuid": "ef594859-33f0-4f92-8aa7-cedffce54dd2",
     "showTitle": false,
     "title": ""
    },
    "papermill": {
     "duration": 5.297897,
     "end_time": "2022-06-06T11:31:15.067625",
     "exception": false,
     "start_time": "2022-06-06T11:31:09.769728",
     "status": "completed"
    },
    "tags": []
   },
   "outputs": [],
   "source": [
    "oof_xgb = pd.read_parquet(TRAIN_PATH, columns=[\"customer_ID\"]).drop_duplicates()\n",
    "oof_xgb[\"customer_ID_hash\"] = (\n",
    "    oof_xgb[\"customer_ID\"].apply(lambda x: int(x[-16:], 16)).astype(\"int64\")\n",
    ")\n",
    "oof_xgb = oof_xgb.set_index(\"customer_ID_hash\")\n",
    "oof_xgb = oof_xgb.merge(oof, left_index=True, right_index=True)\n",
    "oof_xgb = oof_xgb.sort_index().reset_index(drop=True)\n",
    "oof_xgb.to_csv(f\"oof_xgb_v{VER}.csv\", index=False)\n",
    "oof_xgb.head()"
   ]
  },
  {
   "cell_type": "code",
   "execution_count": 0,
   "metadata": {
    "application/vnd.databricks.v1+cell": {
     "cellMetadata": {},
     "inputWidgets": {},
     "nuid": "75a85162-bef4-4321-8c48-bb5c016b047c",
     "showTitle": false,
     "title": ""
    },
    "papermill": {
     "duration": 0.394727,
     "end_time": "2022-06-06T11:31:15.476728",
     "exception": false,
     "start_time": "2022-06-06T11:31:15.082001",
     "status": "completed"
    },
    "tags": []
   },
   "outputs": [],
   "source": [
    "# PLOT OOF PREDICTIONS\n",
    "plt.hist(oof_xgb.oof_pred.values, bins=100)\n",
    "plt.title(\"OOF Predictions\")\n",
    "plt.show()"
   ]
  },
  {
   "cell_type": "code",
   "execution_count": 0,
   "metadata": {
    "application/vnd.databricks.v1+cell": {
     "cellMetadata": {},
     "inputWidgets": {},
     "nuid": "f6f2714c-19fb-482f-93e9-de961a46ab05",
     "showTitle": false,
     "title": ""
    },
    "papermill": {
     "duration": 0.160294,
     "end_time": "2022-06-06T11:31:15.651235",
     "exception": false,
     "start_time": "2022-06-06T11:31:15.490941",
     "status": "completed"
    },
    "tags": []
   },
   "outputs": [],
   "source": [
    "# CLEAR VRAM, RAM FOR INFERENCE BELOW\n",
    "del oof_xgb, oof\n",
    "_ = gc.collect()"
   ]
  },
  {
   "cell_type": "markdown",
   "metadata": {
    "application/vnd.databricks.v1+cell": {
     "cellMetadata": {},
     "inputWidgets": {},
     "nuid": "81609030-5b93-438a-a243-536431b4602a",
     "showTitle": false,
     "title": ""
    },
    "papermill": {
     "duration": 0.013247,
     "end_time": "2022-06-06T11:31:15.678846",
     "exception": false,
     "start_time": "2022-06-06T11:31:15.665599",
     "status": "completed"
    },
    "tags": []
   },
   "source": [
    "# Feature Importance"
   ]
  },
  {
   "cell_type": "code",
   "execution_count": 0,
   "metadata": {
    "application/vnd.databricks.v1+cell": {
     "cellMetadata": {},
     "inputWidgets": {},
     "nuid": "65a2843e-aa9d-41e4-9039-96968d9a2fa8",
     "showTitle": false,
     "title": ""
    },
    "papermill": {
     "duration": 0.04789,
     "end_time": "2022-06-06T11:31:15.740614",
     "exception": false,
     "start_time": "2022-06-06T11:31:15.692724",
     "status": "completed"
    },
    "tags": []
   },
   "outputs": [],
   "source": [
    "import matplotlib.pyplot as plt\n",
    "\n",
    "df = importances[0].copy()\n",
    "for k in range(1, FOLDS):\n",
    "    df = df.merge(importances[k], on=\"feature\", how=\"left\")\n",
    "df[\"importance\"] = df.iloc[:, 1:].mean(axis=1)\n",
    "df = df.sort_values(\"importance\", ascending=False)\n",
    "df.to_csv(f\"xgb_feature_importance_v{VER}.csv\", index=False)"
   ]
  },
  {
   "cell_type": "code",
   "execution_count": 0,
   "metadata": {
    "application/vnd.databricks.v1+cell": {
     "cellMetadata": {},
     "inputWidgets": {},
     "nuid": "022aa112-62ef-48fc-8aba-530d827cf30e",
     "showTitle": false,
     "title": ""
    },
    "papermill": {
     "duration": 0.291703,
     "end_time": "2022-06-06T11:31:16.047856",
     "exception": false,
     "start_time": "2022-06-06T11:31:15.756153",
     "status": "completed"
    },
    "tags": []
   },
   "outputs": [],
   "source": [
    "NUM_FEATURES = 20\n",
    "plt.figure(figsize=(10, 5 * NUM_FEATURES // 10))\n",
    "plt.barh(np.arange(NUM_FEATURES, 0, -1), df.importance.values[:NUM_FEATURES])\n",
    "plt.yticks(np.arange(NUM_FEATURES, 0, -1), df.feature.values[:NUM_FEATURES])\n",
    "plt.title(f\"XGB Feature Importance - Top {NUM_FEATURES}\")\n",
    "plt.show()"
   ]
  },
  {
   "cell_type": "markdown",
   "metadata": {
    "application/vnd.databricks.v1+cell": {
     "cellMetadata": {},
     "inputWidgets": {},
     "nuid": "121cb248-cb99-4f4e-bc9c-3f75342b41d5",
     "showTitle": false,
     "title": ""
    },
    "papermill": {
     "duration": 0.014234,
     "end_time": "2022-06-06T11:31:16.076727",
     "exception": false,
     "start_time": "2022-06-06T11:31:16.062493",
     "status": "completed"
    },
    "tags": []
   },
   "source": [
    "# Process and Feature Engineer Test Data\n",
    "We will load @raddar Kaggle dataset from [here][1] with discussion [here][2]. Then we will engineer features suggested by @huseyincot in his notebooks [here][1] and [here][4]. We will use [RAPIDS][5] and the GPU to create new features quickly.\n",
    "\n",
    "[1]: https://www.kaggle.com/datasets/raddar/amex-data-integer-dtypes-parquet-format\n",
    "[2]: https://www.kaggle.com/competitions/amex-default-prediction/discussion/328514\n",
    "[3]: https://www.kaggle.com/code/huseyincot/amex-catboost-0-793\n",
    "[4]: https://www.kaggle.com/code/huseyincot/amex-agg-data-how-it-created\n",
    "[5]: https://rapids.ai/"
   ]
  },
  {
   "cell_type": "code",
   "execution_count": 0,
   "metadata": {
    "application/vnd.databricks.v1+cell": {
     "cellMetadata": {},
     "inputWidgets": {},
     "nuid": "915686b2-5e6f-434a-bee5-57874249a740",
     "showTitle": false,
     "title": ""
    },
    "papermill": {
     "duration": 2.833956,
     "end_time": "2022-06-06T11:31:18.925211",
     "exception": false,
     "start_time": "2022-06-06T11:31:16.091255",
     "status": "completed"
    },
    "tags": []
   },
   "outputs": [],
   "source": [
    "# CALCULATE SIZE OF EACH SEPARATE TEST PART\n",
    "def get_rows(customers, test, NUM_PARTS=4, verbose=\"\"):\n",
    "    chunk = len(customers) // NUM_PARTS\n",
    "    if verbose != \"\":\n",
    "        print(f\"We will process {verbose} data as {NUM_PARTS} separate parts.\")\n",
    "        print(f\"There will be {chunk} customers in each part (except the last part).\")\n",
    "        print(\"Below are number of rows in each part:\")\n",
    "    rows = []\n",
    "\n",
    "    for k in range(NUM_PARTS):\n",
    "        if k == NUM_PARTS - 1:\n",
    "            cc = customers[k * chunk :]\n",
    "        else:\n",
    "            cc = customers[k * chunk : (k + 1) * chunk]\n",
    "        s = test.loc[test.customer_ID.isin(cc)].shape[0]\n",
    "        rows.append(s)\n",
    "    if verbose != \"\":\n",
    "        print(rows)\n",
    "    return rows, chunk\n",
    "\n",
    "\n",
    "# COMPUTE SIZE OF 4 PARTS FOR TEST DATA\n",
    "NUM_PARTS = 4\n",
    "TEST_PATH = \"../input/amex-data-integer-dtypes-parquet-format/test.parquet\"\n",
    "\n",
    "print(f\"Reading test data...\")\n",
    "test = read_file(path=TEST_PATH, usecols=[\"customer_ID\", \"S_2\"])\n",
    "customers = test[[\"customer_ID\"]].drop_duplicates().sort_index().values.flatten()\n",
    "rows, num_cust = get_rows(\n",
    "    customers, test[[\"customer_ID\"]], NUM_PARTS=NUM_PARTS, verbose=\"test\"\n",
    ")"
   ]
  },
  {
   "cell_type": "markdown",
   "metadata": {
    "application/vnd.databricks.v1+cell": {
     "cellMetadata": {},
     "inputWidgets": {},
     "nuid": "c56e841f-3432-4d4d-b4a7-0378fe8a8678",
     "showTitle": false,
     "title": ""
    },
    "papermill": {
     "duration": 0.015647,
     "end_time": "2022-06-06T11:31:18.956281",
     "exception": false,
     "start_time": "2022-06-06T11:31:18.940634",
     "status": "completed"
    },
    "tags": []
   },
   "source": [
    "# Infer Test"
   ]
  },
  {
   "cell_type": "code",
   "execution_count": 0,
   "metadata": {
    "application/vnd.databricks.v1+cell": {
     "cellMetadata": {},
     "inputWidgets": {},
     "nuid": "bc595ffc-039e-42b8-a71c-4ea84a06edb4",
     "showTitle": false,
     "title": ""
    },
    "papermill": {
     "duration": 144.866539,
     "end_time": "2022-06-06T11:33:43.837648",
     "exception": false,
     "start_time": "2022-06-06T11:31:18.971109",
     "status": "completed"
    },
    "tags": []
   },
   "outputs": [],
   "source": [
    "# INFER TEST DATA IN PARTS\n",
    "skip_rows = 0\n",
    "skip_cust = 0\n",
    "test_preds = []\n",
    "\n",
    "for k in range(NUM_PARTS):\n",
    "    # READ PART OF TEST DATA\n",
    "    print(f\"\\nReading test data...\")\n",
    "    test = read_file(path=TEST_PATH)\n",
    "    test = test.iloc[skip_rows : skip_rows + rows[k]]\n",
    "    skip_rows += rows[k]\n",
    "    print(f\"=> Test part {k+1} has shape\", test.shape)\n",
    "\n",
    "    # PROCESS AND FEATURE ENGINEER PART OF TEST DATA\n",
    "    test = process_and_feature_engineer(test)\n",
    "    if k == NUM_PARTS - 1:\n",
    "        test = test.loc[customers[skip_cust:]]\n",
    "    else:\n",
    "        test = test.loc[customers[skip_cust : skip_cust + num_cust]]\n",
    "    skip_cust += num_cust\n",
    "\n",
    "    # TEST DATA FOR XGB\n",
    "    X_test = test[FEATURES]\n",
    "    dtest = xgb.DMatrix(data=X_test)\n",
    "    test = test[[\"P_2_mean\"]]  # reduce memory\n",
    "    del X_test\n",
    "    gc.collect()\n",
    "\n",
    "    # INFER XGB MODELS ON TEST DATA\n",
    "    model = xgb.Booster()\n",
    "    model.load_model(f\"XGB_v{VER}_fold0.xgb\")\n",
    "    preds = model.predict(dtest)\n",
    "    for f in range(1, FOLDS):\n",
    "        model.load_model(f\"XGB_v{VER}_fold{f}.xgb\")\n",
    "        preds += model.predict(dtest)\n",
    "    preds /= FOLDS\n",
    "    test_preds.append(preds)\n",
    "\n",
    "    # CLEAN MEMORY\n",
    "    del dtest, model\n",
    "    _ = gc.collect()"
   ]
  },
  {
   "cell_type": "markdown",
   "metadata": {
    "application/vnd.databricks.v1+cell": {
     "cellMetadata": {},
     "inputWidgets": {},
     "nuid": "1de829e5-8f71-4811-bb42-62f4e5bdf2d2",
     "showTitle": false,
     "title": ""
    },
    "papermill": {
     "duration": 0.014774,
     "end_time": "2022-06-06T11:33:43.867786",
     "exception": false,
     "start_time": "2022-06-06T11:33:43.853012",
     "status": "completed"
    },
    "tags": []
   },
   "source": [
    "# Create Submission CSV"
   ]
  },
  {
   "cell_type": "code",
   "execution_count": 0,
   "metadata": {
    "application/vnd.databricks.v1+cell": {
     "cellMetadata": {},
     "inputWidgets": {},
     "nuid": "593e5367-c747-4166-875d-6b1a253a4723",
     "showTitle": false,
     "title": ""
    },
    "papermill": {
     "duration": 1.179078,
     "end_time": "2022-06-06T11:33:45.061744",
     "exception": false,
     "start_time": "2022-06-06T11:33:43.882666",
     "status": "completed"
    },
    "tags": []
   },
   "outputs": [],
   "source": [
    "# WRITE SUBMISSION FILE\n",
    "test_preds = np.concatenate(test_preds)\n",
    "test = cudf.DataFrame(index=customers, data={\"prediction\": test_preds})\n",
    "sub = cudf.read_csv(\"../input/amex-default-prediction/sample_submission.csv\")[\n",
    "    [\"customer_ID\"]\n",
    "]\n",
    "sub[\"customer_ID_hash\"] = sub[\"customer_ID\"].str[-16:].str.hex_to_int().astype(\"int64\")\n",
    "sub = sub.set_index(\"customer_ID_hash\")\n",
    "sub = sub.merge(test[[\"prediction\"]], left_index=True, right_index=True, how=\"left\")\n",
    "sub = sub.reset_index(drop=True)\n",
    "\n",
    "# DISPLAY PREDICTIONS\n",
    "sub.to_csv(f\"submission_xgb_v{VER}.csv\", index=False)\n",
    "print(\"Submission file shape is\", sub.shape)\n",
    "sub.head()"
   ]
  },
  {
   "cell_type": "code",
   "execution_count": 0,
   "metadata": {
    "application/vnd.databricks.v1+cell": {
     "cellMetadata": {},
     "inputWidgets": {},
     "nuid": "bd0d5743-8f29-4b79-a1f5-954e58c172cc",
     "showTitle": false,
     "title": ""
    },
    "papermill": {
     "duration": 0.740652,
     "end_time": "2022-06-06T11:33:45.818157",
     "exception": false,
     "start_time": "2022-06-06T11:33:45.077505",
     "status": "completed"
    },
    "tags": []
   },
   "outputs": [],
   "source": [
    "# PLOT PREDICTIONS\n",
    "plt.hist(sub.to_pandas().prediction, bins=100)\n",
    "plt.title(\"Test Predictions\")\n",
    "plt.show()"
   ]
  }
 ],
 "metadata": {
  "application/vnd.databricks.v1+notebook": {
   "dashboards": [],
   "language": "python",
   "notebookMetadata": {
    "pythonIndentUnit": 2
   },
   "notebookName": "xgboost-test",
   "widgets": {}
  },
  "kernelspec": {
   "display_name": "Python 3 (ipykernel)",
   "language": "python",
   "name": "python3"
  },
  "language_info": {
   "codemirror_mode": {
    "name": "ipython",
    "version": 3
   },
   "file_extension": ".py",
   "mimetype": "text/x-python",
   "name": "python",
   "nbconvert_exporter": "python",
   "pygments_lexer": "ipython3",
   "version": "3.10.12"
  },
  "papermill": {
   "default_parameters": {},
   "duration": 749.487656,
   "end_time": "2022-06-06T11:33:47.264089",
   "environment_variables": {},
   "exception": null,
   "input_path": "__notebook__.ipynb",
   "output_path": "__notebook__.ipynb",
   "parameters": {},
   "start_time": "2022-06-06T11:21:17.776433",
   "version": "2.3.4"
  }
 },
 "nbformat": 4,
 "nbformat_minor": 0
}
