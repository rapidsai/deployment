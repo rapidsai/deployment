{
 "cells": [
  {
   "cell_type": "markdown",
   "metadata": {
    "application/vnd.databricks.v1+cell": {
     "cellMetadata": {
      "byteLimit": 2048000,
      "rowLimit": 10000
     },
     "inputWidgets": {},
     "nuid": "db9cf912-1f7b-431d-9628-1afdea311779",
     "showTitle": false,
     "title": ""
    }
   },
   "source": [
    "# Training XGBoost with Dask RAPIDS in Databricks\n",
    "\n",
    "This notebook shows how to deploy Dask RAPIDS workflow in Databricks. We will focus on the HIGGS dataset, a moderately sized classification problem from the [UCI Machine Learning repository.](https://archive.ics.uci.edu/dataset/280/higgs)\n",
    "\n",
    "In the following sections, we start from basic data loading from Delta Lake and preprocessing with Dask. Then, train an XGBoost model on returned data with different configurations. Lastly, we share some optimization techniques with inference.\n",
    "\n",
    "**Summary of what the problem is and what we are predicting**"
   ]
  },
  {
   "cell_type": "markdown",
   "metadata": {
    "application/vnd.databricks.v1+cell": {
     "cellMetadata": {},
     "inputWidgets": {},
     "nuid": "1518eb70-21f5-4768-b06a-b376ec379335",
     "showTitle": false,
     "title": ""
    }
   },
   "source": [
    "## Pre-requisites\n",
    "\n",
    "The following example need to be run on a machine with at least one NVIDIA GPU. One of the advantages of Dask is its flexibility that users can scale up the computation to clusters with a minimal code changes.\n",
    "\n",
    "Additionally, Dask has introduced [**dask-databricks**](https://github.com/dask-contrib/dask-databricks) CLI tool (available through [conda](https://github.com/conda-forge/dask-databricks-feedstock) and [pip](https://pypi.org/project/dask-databricks/)). With this new tool, `dask databricks run` command makes it easy for users to launch a RAPIDS Dask cluster on an MNMG Databricks cluster in just a few minutes.\n",
    "\n",
    "\n",
    "Follow these [instructions](https://github.com/rapidsai/deployment/blob/main/source/platforms/databricks.md) for more details on how to get started. **Note** that you may need to install additional packages using `pip` in the initialization script to configure the environment based on your specific workflow requirements."
   ]
  },
  {
   "cell_type": "code",
   "execution_count": 0,
   "metadata": {
    "application/vnd.databricks.v1+cell": {
     "cellMetadata": {
      "byteLimit": 2048000,
      "rowLimit": 10000
     },
     "inputWidgets": {},
     "nuid": "109cfcaa-f2e4-446a-a3fa-c4025e0b70a4",
     "showTitle": false,
     "title": ""
    }
   },
   "outputs": [
    {
     "output_type": "display_data",
     "data": {
      "application/vnd.databricks.v1+bamboolib_hint": "{\"pd.DataFrames\": [], \"version\": \"0.0.1\"}",
      "text/plain": []
     },
     "metadata": {}
    }
   ],
   "source": [
    "from typing import Tuple\n",
    "\n",
    "import pandas as pd\n",
    "import numpy as np\n",
    "import cupy\n",
    "import cudf\n",
    "import dask\n",
    "\n",
    "import dask_cudf\n",
    "import dask_databricks\n",
    "\n",
    "import xgboost as xgb\n",
    "from xgboost import dask as dxgb\n",
    "\n",
    "from dask_ml.model_selection import train_test_split\n",
    "from distributed import wait\n",
    "\n",
    "# from dask import dataframe as dd"
   ]
  },
  {
   "cell_type": "markdown",
   "metadata": {
    "application/vnd.databricks.v1+cell": {
     "cellMetadata": {},
     "inputWidgets": {},
     "nuid": "90de1e5e-d645-46db-85ac-874f0a191412",
     "showTitle": false,
     "title": ""
    }
   },
   "source": [
    "## Connect to Dask client\n"
   ]
  },
  {
   "cell_type": "code",
   "execution_count": 0,
   "metadata": {
    "application/vnd.databricks.v1+cell": {
     "cellMetadata": {
      "byteLimit": 2048000,
      "rowLimit": 10000
     },
     "inputWidgets": {},
     "nuid": "0b6e31e3-d4da-4c86-9b10-d9eac4e4a40f",
     "showTitle": false,
     "title": ""
    }
   },
   "outputs": [
    {
     "output_type": "display_data",
     "data": {
      "text/html": [
       "<div>\n",
       "    <div style=\"width: 24px; height: 24px; background-color: #e1e1e1; border: 3px solid #9D9D9D; border-radius: 5px; position: absolute;\"> </div>\n",
       "    <div style=\"margin-left: 48px;\">\n",
       "        <h3 style=\"margin-bottom: 0px;\">Client</h3>\n",
       "        <p style=\"color: #9D9D9D; margin-bottom: 0px;\">Client-99873750-8da1-11ee-84e7-16a7bb9a37fe</p>\n",
       "        <table style=\"width: 100%; text-align: left;\">\n",
       "\n",
       "        <tr>\n",
       "        \n",
       "            <td style=\"text-align: left;\"><strong>Connection method:</strong> Cluster object</td>\n",
       "            <td style=\"text-align: left;\"><strong>Cluster type:</strong> dask_databricks.DatabricksCluster</td>\n",
       "        \n",
       "        </tr>\n",
       "\n",
       "        \n",
       "            <tr>\n",
       "                <td style=\"text-align: left;\">\n",
       "                    <strong>Dashboard: </strong> <a href=\"https://dbc-dp-8721196619973675.cloud.databricks.com/driver-proxy/o/8721196619973675/1031-230718-l2ubf858/8087/status\" target=\"_blank\">https://dbc-dp-8721196619973675.cloud.databricks.com/driver-proxy/o/8721196619973675/1031-230718-l2ubf858/8087/status</a>\n",
       "                </td>\n",
       "                <td style=\"text-align: left;\"></td>\n",
       "            </tr>\n",
       "        \n",
       "\n",
       "        </table>\n",
       "\n",
       "        \n",
       "\n",
       "        \n",
       "            <details>\n",
       "            <summary style=\"margin-bottom: 20px;\"><h3 style=\"display: inline;\">Cluster Info</h3></summary>\n",
       "            <div class=\"jp-RenderedHTMLCommon jp-RenderedHTML jp-mod-trusted jp-OutputArea-output\">\n",
       "    <div style=\"width: 24px; height: 24px; background-color: #e1e1e1; border: 3px solid #9D9D9D; border-radius: 5px; position: absolute;\">\n",
       "    </div>\n",
       "    <div style=\"margin-left: 48px;\">\n",
       "        <h3 style=\"margin-bottom: 0px; margin-top: 0px;\">DatabricksCluster</h3>\n",
       "        <p style=\"color: #9D9D9D; margin-bottom: 0px;\">1031-230718-l2ubf858</p>\n",
       "        <table style=\"width: 100%; text-align: left;\">\n",
       "            <tr>\n",
       "                <td style=\"text-align: left;\">\n",
       "                    <strong>Dashboard:</strong> <a href=\"https://dbc-dp-8721196619973675.cloud.databricks.com/driver-proxy/o/8721196619973675/1031-230718-l2ubf858/8087/status\" target=\"_blank\">https://dbc-dp-8721196619973675.cloud.databricks.com/driver-proxy/o/8721196619973675/1031-230718-l2ubf858/8087/status</a>\n",
       "                </td>\n",
       "                <td style=\"text-align: left;\">\n",
       "                    <strong>Workers:</strong> 2\n",
       "                </td>\n",
       "            </tr>\n",
       "            <tr>\n",
       "                <td style=\"text-align: left;\">\n",
       "                    <strong>Total threads:</strong> 2\n",
       "                </td>\n",
       "                <td style=\"text-align: left;\">\n",
       "                    <strong>Total memory:</strong> 30.65 GiB\n",
       "                </td>\n",
       "            </tr>\n",
       "            \n",
       "        </table>\n",
       "\n",
       "        <details>\n",
       "            <summary style=\"margin-bottom: 20px;\">\n",
       "                <h3 style=\"display: inline;\">Scheduler Info</h3>\n",
       "            </summary>\n",
       "\n",
       "            <div style=\"\">\n",
       "    <div>\n",
       "        <div style=\"width: 24px; height: 24px; background-color: #FFF7E5; border: 3px solid #FF6132; border-radius: 5px; position: absolute;\"> </div>\n",
       "        <div style=\"margin-left: 48px;\">\n",
       "            <h3 style=\"margin-bottom: 0px;\">Scheduler</h3>\n",
       "            <p style=\"color: #9D9D9D; margin-bottom: 0px;\">Scheduler-ade6bed2-653b-4d35-a014-14c4c7eadd31</p>\n",
       "            <table style=\"width: 100%; text-align: left;\">\n",
       "                <tr>\n",
       "                    <td style=\"text-align: left;\">\n",
       "                        <strong>Comm:</strong> tcp://10.59.154.181:8786\n",
       "                    </td>\n",
       "                    <td style=\"text-align: left;\">\n",
       "                        <strong>Workers:</strong> 2\n",
       "                    </td>\n",
       "                </tr>\n",
       "                <tr>\n",
       "                    <td style=\"text-align: left;\">\n",
       "                        <strong>Dashboard:</strong> <a href=\"http://10.59.154.181:8087/status\" target=\"_blank\">http://10.59.154.181:8087/status</a>\n",
       "                    </td>\n",
       "                    <td style=\"text-align: left;\">\n",
       "                        <strong>Total threads:</strong> 2\n",
       "                    </td>\n",
       "                </tr>\n",
       "                <tr>\n",
       "                    <td style=\"text-align: left;\">\n",
       "                        <strong>Started:</strong> 6 minutes ago\n",
       "                    </td>\n",
       "                    <td style=\"text-align: left;\">\n",
       "                        <strong>Total memory:</strong> 30.65 GiB\n",
       "                    </td>\n",
       "                </tr>\n",
       "            </table>\n",
       "        </div>\n",
       "    </div>\n",
       "\n",
       "    <details style=\"margin-left: 48px;\">\n",
       "        <summary style=\"margin-bottom: 20px;\">\n",
       "            <h3 style=\"display: inline;\">Workers</h3>\n",
       "        </summary>\n",
       "\n",
       "        \n",
       "        <div style=\"margin-bottom: 20px;\">\n",
       "            <div style=\"width: 24px; height: 24px; background-color: #DBF5FF; border: 3px solid #4CC9FF; border-radius: 5px; position: absolute;\"> </div>\n",
       "            <div style=\"margin-left: 48px;\">\n",
       "            <details>\n",
       "                <summary>\n",
       "                    <h4 style=\"margin-bottom: 0px; display: inline;\">Worker: tcp://10.59.141.37:42093</h4>\n",
       "                </summary>\n",
       "                <table style=\"width: 100%; text-align: left;\">\n",
       "                    <tr>\n",
       "                        <td style=\"text-align: left;\">\n",
       "                            <strong>Comm: </strong> tcp://10.59.141.37:42093\n",
       "                        </td>\n",
       "                        <td style=\"text-align: left;\">\n",
       "                            <strong>Total threads: </strong> 1\n",
       "                        </td>\n",
       "                    </tr>\n",
       "                    <tr>\n",
       "                        <td style=\"text-align: left;\">\n",
       "                            <strong>Dashboard: </strong> <a href=\"http://10.59.141.37:42227/status\" target=\"_blank\">http://10.59.141.37:42227/status</a>\n",
       "                        </td>\n",
       "                        <td style=\"text-align: left;\">\n",
       "                            <strong>Memory: </strong> 15.33 GiB\n",
       "                        </td>\n",
       "                    </tr>\n",
       "                    <tr>\n",
       "                        <td style=\"text-align: left;\">\n",
       "                            <strong>Nanny: </strong> tcp://10.59.141.37:33061\n",
       "                        </td>\n",
       "                        <td style=\"text-align: left;\"></td>\n",
       "                    </tr>\n",
       "                    <tr>\n",
       "                        <td colspan=\"2\" style=\"text-align: left;\">\n",
       "                            <strong>Local directory: </strong> /tmp/dask-scratch-space/worker-riw08g3w\n",
       "                        </td>\n",
       "                    </tr>\n",
       "\n",
       "                    \n",
       "                    <tr>\n",
       "                        <td style=\"text-align: left;\">\n",
       "                            <strong>GPU: </strong>Tesla T4\n",
       "                        </td>\n",
       "                        <td style=\"text-align: left;\">\n",
       "                            <strong>GPU memory: </strong> 15.00 GiB\n",
       "                        </td>\n",
       "                    </tr>\n",
       "                    \n",
       "\n",
       "                    \n",
       "\n",
       "                </table>\n",
       "            </details>\n",
       "            </div>\n",
       "        </div>\n",
       "        \n",
       "        <div style=\"margin-bottom: 20px;\">\n",
       "            <div style=\"width: 24px; height: 24px; background-color: #DBF5FF; border: 3px solid #4CC9FF; border-radius: 5px; position: absolute;\"> </div>\n",
       "            <div style=\"margin-left: 48px;\">\n",
       "            <details>\n",
       "                <summary>\n",
       "                    <h4 style=\"margin-bottom: 0px; display: inline;\">Worker: tcp://10.59.159.39:41453</h4>\n",
       "                </summary>\n",
       "                <table style=\"width: 100%; text-align: left;\">\n",
       "                    <tr>\n",
       "                        <td style=\"text-align: left;\">\n",
       "                            <strong>Comm: </strong> tcp://10.59.159.39:41453\n",
       "                        </td>\n",
       "                        <td style=\"text-align: left;\">\n",
       "                            <strong>Total threads: </strong> 1\n",
       "                        </td>\n",
       "                    </tr>\n",
       "                    <tr>\n",
       "                        <td style=\"text-align: left;\">\n",
       "                            <strong>Dashboard: </strong> <a href=\"http://10.59.159.39:40211/status\" target=\"_blank\">http://10.59.159.39:40211/status</a>\n",
       "                        </td>\n",
       "                        <td style=\"text-align: left;\">\n",
       "                            <strong>Memory: </strong> 15.33 GiB\n",
       "                        </td>\n",
       "                    </tr>\n",
       "                    <tr>\n",
       "                        <td style=\"text-align: left;\">\n",
       "                            <strong>Nanny: </strong> tcp://10.59.159.39:42657\n",
       "                        </td>\n",
       "                        <td style=\"text-align: left;\"></td>\n",
       "                    </tr>\n",
       "                    <tr>\n",
       "                        <td colspan=\"2\" style=\"text-align: left;\">\n",
       "                            <strong>Local directory: </strong> /tmp/dask-scratch-space/worker-nn0fdlxo\n",
       "                        </td>\n",
       "                    </tr>\n",
       "\n",
       "                    \n",
       "                    <tr>\n",
       "                        <td style=\"text-align: left;\">\n",
       "                            <strong>GPU: </strong>Tesla T4\n",
       "                        </td>\n",
       "                        <td style=\"text-align: left;\">\n",
       "                            <strong>GPU memory: </strong> 15.00 GiB\n",
       "                        </td>\n",
       "                    </tr>\n",
       "                    \n",
       "\n",
       "                    \n",
       "\n",
       "                </table>\n",
       "            </details>\n",
       "            </div>\n",
       "        </div>\n",
       "        \n",
       "\n",
       "    </details>\n",
       "</div>\n",
       "\n",
       "        </details>\n",
       "    </div>\n",
       "</div>\n",
       "            </details>\n",
       "        \n",
       "\n",
       "    </div>\n",
       "</div>"
      ]
     },
     "metadata": {
      "application/vnd.databricks.v1+output": {
       "addedWidgets": {},
       "arguments": {},
       "data": "<div>\n    <div style=\"width: 24px; height: 24px; background-color: #e1e1e1; border: 3px solid #9D9D9D; border-radius: 5px; position: absolute;\"> </div>\n    <div style=\"margin-left: 48px;\">\n        <h3 style=\"margin-bottom: 0px;\">Client</h3>\n        <p style=\"color: #9D9D9D; margin-bottom: 0px;\">Client-99873750-8da1-11ee-84e7-16a7bb9a37fe</p>\n        <table style=\"width: 100%; text-align: left;\">\n\n        <tr>\n        \n            <td style=\"text-align: left;\"><strong>Connection method:</strong> Cluster object</td>\n            <td style=\"text-align: left;\"><strong>Cluster type:</strong> dask_databricks.DatabricksCluster</td>\n        \n        </tr>\n\n        \n            <tr>\n                <td style=\"text-align: left;\">\n                    <strong>Dashboard: </strong> <a href=\"https://dbc-dp-8721196619973675.cloud.databricks.com/driver-proxy/o/8721196619973675/1031-230718-l2ubf858/8087/status\" target=\"_blank\">https://dbc-dp-8721196619973675.cloud.databricks.com/driver-proxy/o/8721196619973675/1031-230718-l2ubf858/8087/status</a>\n                </td>\n                <td style=\"text-align: left;\"></td>\n            </tr>\n        \n\n        </table>\n\n        \n\n        \n            <details>\n            <summary style=\"margin-bottom: 20px;\"><h3 style=\"display: inline;\">Cluster Info</h3></summary>\n            <div class=\"jp-RenderedHTMLCommon jp-RenderedHTML jp-mod-trusted jp-OutputArea-output\">\n    <div style=\"width: 24px; height: 24px; background-color: #e1e1e1; border: 3px solid #9D9D9D; border-radius: 5px; position: absolute;\">\n    </div>\n    <div style=\"margin-left: 48px;\">\n        <h3 style=\"margin-bottom: 0px; margin-top: 0px;\">DatabricksCluster</h3>\n        <p style=\"color: #9D9D9D; margin-bottom: 0px;\">1031-230718-l2ubf858</p>\n        <table style=\"width: 100%; text-align: left;\">\n            <tr>\n                <td style=\"text-align: left;\">\n                    <strong>Dashboard:</strong> <a href=\"https://dbc-dp-8721196619973675.cloud.databricks.com/driver-proxy/o/8721196619973675/1031-230718-l2ubf858/8087/status\" target=\"_blank\">https://dbc-dp-8721196619973675.cloud.databricks.com/driver-proxy/o/8721196619973675/1031-230718-l2ubf858/8087/status</a>\n                </td>\n                <td style=\"text-align: left;\">\n                    <strong>Workers:</strong> 2\n                </td>\n            </tr>\n            <tr>\n                <td style=\"text-align: left;\">\n                    <strong>Total threads:</strong> 2\n                </td>\n                <td style=\"text-align: left;\">\n                    <strong>Total memory:</strong> 30.65 GiB\n                </td>\n            </tr>\n            \n        </table>\n\n        <details>\n            <summary style=\"margin-bottom: 20px;\">\n                <h3 style=\"display: inline;\">Scheduler Info</h3>\n            </summary>\n\n            <div style=\"\">\n    <div>\n        <div style=\"width: 24px; height: 24px; background-color: #FFF7E5; border: 3px solid #FF6132; border-radius: 5px; position: absolute;\"> </div>\n        <div style=\"margin-left: 48px;\">\n            <h3 style=\"margin-bottom: 0px;\">Scheduler</h3>\n            <p style=\"color: #9D9D9D; margin-bottom: 0px;\">Scheduler-ade6bed2-653b-4d35-a014-14c4c7eadd31</p>\n            <table style=\"width: 100%; text-align: left;\">\n                <tr>\n                    <td style=\"text-align: left;\">\n                        <strong>Comm:</strong> tcp://10.59.154.181:8786\n                    </td>\n                    <td style=\"text-align: left;\">\n                        <strong>Workers:</strong> 2\n                    </td>\n                </tr>\n                <tr>\n                    <td style=\"text-align: left;\">\n                        <strong>Dashboard:</strong> <a href=\"http://10.59.154.181:8087/status\" target=\"_blank\">http://10.59.154.181:8087/status</a>\n                    </td>\n                    <td style=\"text-align: left;\">\n                        <strong>Total threads:</strong> 2\n                    </td>\n                </tr>\n                <tr>\n                    <td style=\"text-align: left;\">\n                        <strong>Started:</strong> 6 minutes ago\n                    </td>\n                    <td style=\"text-align: left;\">\n                        <strong>Total memory:</strong> 30.65 GiB\n                    </td>\n                </tr>\n            </table>\n        </div>\n    </div>\n\n    <details style=\"margin-left: 48px;\">\n        <summary style=\"margin-bottom: 20px;\">\n            <h3 style=\"display: inline;\">Workers</h3>\n        </summary>\n\n        \n        <div style=\"margin-bottom: 20px;\">\n            <div style=\"width: 24px; height: 24px; background-color: #DBF5FF; border: 3px solid #4CC9FF; border-radius: 5px; position: absolute;\"> </div>\n            <div style=\"margin-left: 48px;\">\n            <details>\n                <summary>\n                    <h4 style=\"margin-bottom: 0px; display: inline;\">Worker: tcp://10.59.141.37:42093</h4>\n                </summary>\n                <table style=\"width: 100%; text-align: left;\">\n                    <tr>\n                        <td style=\"text-align: left;\">\n                            <strong>Comm: </strong> tcp://10.59.141.37:42093\n                        </td>\n                        <td style=\"text-align: left;\">\n                            <strong>Total threads: </strong> 1\n                        </td>\n                    </tr>\n                    <tr>\n                        <td style=\"text-align: left;\">\n                            <strong>Dashboard: </strong> <a href=\"http://10.59.141.37:42227/status\" target=\"_blank\">http://10.59.141.37:42227/status</a>\n                        </td>\n                        <td style=\"text-align: left;\">\n                            <strong>Memory: </strong> 15.33 GiB\n                        </td>\n                    </tr>\n                    <tr>\n                        <td style=\"text-align: left;\">\n                            <strong>Nanny: </strong> tcp://10.59.141.37:33061\n                        </td>\n                        <td style=\"text-align: left;\"></td>\n                    </tr>\n                    <tr>\n                        <td colspan=\"2\" style=\"text-align: left;\">\n                            <strong>Local directory: </strong> /tmp/dask-scratch-space/worker-riw08g3w\n                        </td>\n                    </tr>\n\n                    \n                    <tr>\n                        <td style=\"text-align: left;\">\n                            <strong>GPU: </strong>Tesla T4\n                        </td>\n                        <td style=\"text-align: left;\">\n                            <strong>GPU memory: </strong> 15.00 GiB\n                        </td>\n                    </tr>\n                    \n\n                    \n\n                </table>\n            </details>\n            </div>\n        </div>\n        \n        <div style=\"margin-bottom: 20px;\">\n            <div style=\"width: 24px; height: 24px; background-color: #DBF5FF; border: 3px solid #4CC9FF; border-radius: 5px; position: absolute;\"> </div>\n            <div style=\"margin-left: 48px;\">\n            <details>\n                <summary>\n                    <h4 style=\"margin-bottom: 0px; display: inline;\">Worker: tcp://10.59.159.39:41453</h4>\n                </summary>\n                <table style=\"width: 100%; text-align: left;\">\n                    <tr>\n                        <td style=\"text-align: left;\">\n                            <strong>Comm: </strong> tcp://10.59.159.39:41453\n                        </td>\n                        <td style=\"text-align: left;\">\n                            <strong>Total threads: </strong> 1\n                        </td>\n                    </tr>\n                    <tr>\n                        <td style=\"text-align: left;\">\n                            <strong>Dashboard: </strong> <a href=\"http://10.59.159.39:40211/status\" target=\"_blank\">http://10.59.159.39:40211/status</a>\n                        </td>\n                        <td style=\"text-align: left;\">\n                            <strong>Memory: </strong> 15.33 GiB\n                        </td>\n                    </tr>\n                    <tr>\n                        <td style=\"text-align: left;\">\n                            <strong>Nanny: </strong> tcp://10.59.159.39:42657\n                        </td>\n                        <td style=\"text-align: left;\"></td>\n                    </tr>\n                    <tr>\n                        <td colspan=\"2\" style=\"text-align: left;\">\n                            <strong>Local directory: </strong> /tmp/dask-scratch-space/worker-nn0fdlxo\n                        </td>\n                    </tr>\n\n                    \n                    <tr>\n                        <td style=\"text-align: left;\">\n                            <strong>GPU: </strong>Tesla T4\n                        </td>\n                        <td style=\"text-align: left;\">\n                            <strong>GPU memory: </strong> 15.00 GiB\n                        </td>\n                    </tr>\n                    \n\n                    \n\n                </table>\n            </details>\n            </div>\n        </div>\n        \n\n    </details>\n</div>\n\n        </details>\n    </div>\n</div>\n            </details>\n        \n\n    </div>\n</div>",
       "datasetInfos": [],
       "metadata": {},
       "removedWidgets": [],
       "textData": null,
       "type": "htmlSandbox"
      }
     }
    }
   ],
   "source": [
    "client = dask_databricks.get_client()\n",
    "client"
   ]
  },
  {
   "cell_type": "markdown",
   "metadata": {
    "application/vnd.databricks.v1+cell": {
     "cellMetadata": {},
     "inputWidgets": {},
     "nuid": "2a87ba1c-14be-4d99-9b79-15d62052a902",
     "showTitle": false,
     "title": ""
    }
   },
   "source": [
    "## Data Preparation \n",
    "\n",
    "Given a cluster, we start loading the data into GPUs.  Because the data is loaded multiple times during parameter tuning, we convert the CSV file into Parquet format for better performance.  This can be easily done using `dask_cudf`. \n",
    "\n",
    "From a high level, this section of the notebook can be divided into the following steps: \n",
    "\n",
    "1. Upload to storage (?) -- \n",
    "2. Load the dataset and write to a Delta Lake table\n",
    "3. Read from Delta Lake table using Dask and load into a `dask_cudf` dataframe\n",
    "4. Split the returned `dask_cudf dataframe` using `dask_ml` in preparation for training"
   ]
  },
  {
   "cell_type": "markdown",
   "metadata": {
    "application/vnd.databricks.v1+cell": {
     "cellMetadata": {},
     "inputWidgets": {},
     "nuid": "c658c7b9-d0ce-43d1-ac5c-78e271bef57f",
     "showTitle": false,
     "title": ""
    }
   },
   "source": [
    "\n",
    "### Upload dataset\n",
    "First we download the dataset into `/data` in the current working directory. Optionally, you can upload to DBFS or other supported storage (S3, Google Cloud Storage, Azure Data Lake). Refer to for [docs](https://docs.databricks.com/en/storage/index.html#:~:text=Databricks%20uses%20cloud%20object%20storage,storage%20locations%20in%20your%20account.) more information\n",
    "\n",
    "For demo purposes, we will choose the latter"
   ]
  },
  {
   "cell_type": "code",
   "execution_count": 0,
   "metadata": {
    "application/vnd.databricks.v1+cell": {
     "cellMetadata": {},
     "inputWidgets": {},
     "nuid": "e5206d61-9609-434b-92ab-87191a08d4c9",
     "showTitle": false,
     "title": ""
    }
   },
   "outputs": [],
   "source": []
  },
  {
   "cell_type": "markdown",
   "metadata": {
    "application/vnd.databricks.v1+cell": {
     "cellMetadata": {},
     "inputWidgets": {},
     "nuid": "ec1383f7-06a7-4c00-9b4d-a7457c16d78a",
     "showTitle": false,
     "title": ""
    }
   },
   "source": [
    "### Create Delta Table\n",
    "\n",
    "All tables created in Databricks use Delta Table by default"
   ]
  },
  {
   "cell_type": "code",
   "execution_count": 0,
   "metadata": {
    "application/vnd.databricks.v1+cell": {
     "cellMetadata": {},
     "inputWidgets": {},
     "nuid": "f731d570-ad47-427f-9a4e-f3fd134f60fa",
     "showTitle": false,
     "title": ""
    }
   },
   "outputs": [],
   "source": [
    "from pyspark.sql import DataFrame\n",
    "\n",
    "\n",
    "def create_and_describe_delta_table(file_path: str, table_name: str) -> DataFrame:\n",
    "    \"\"\"\n",
    "    Load data from a Parquet file into a Delta table and return detailed information about the table.\n",
    "\n",
    "    Parameters:\n",
    "    - file_path: The path to the Parquet file.\n",
    "    - table_name: The name to be given to the Delta table.\n",
    "\n",
    "    Returns:\n",
    "    - delta_table_schema: DataFrame representing the schema of the Delta table.\n",
    "    \"\"\"\n",
    "    # Load the data from its source.\n",
    "    data = spark.read.load(\n",
    "        \"dbfs:/dbfs/databricks/skirui/part_10.parquet\", format=\"parquet\"\n",
    "    )\n",
    "\n",
    "    # Load the data from its source.\n",
    "    data = spark.read.load(file_path, format=\"parquet\")\n",
    "\n",
    "    # Write to Delta table using the schema inferred from `data`\n",
    "    data.write.saveAsTable(table_name)\n",
    "\n",
    "    # Display detailed information about the Delta table.\n",
    "    delta_table_schema = spark.sql(\"DESCRIBE EXTENDED {}\".format(table_name))\n",
    "\n",
    "    return delta_table_schema"
   ]
  },
  {
   "cell_type": "markdown",
   "metadata": {
    "application/vnd.databricks.v1+cell": {
     "cellMetadata": {},
     "inputWidgets": {},
     "nuid": "48b26e2b-5563-4836-a67c-dae5c9607db8",
     "showTitle": false,
     "title": ""
    }
   },
   "source": [
    "### Load from Delta Lake using Dask"
   ]
  },
  {
   "cell_type": "code",
   "execution_count": 0,
   "metadata": {
    "application/vnd.databricks.v1+cell": {
     "cellMetadata": {},
     "inputWidgets": {},
     "nuid": "0ede3a1d-70db-4bc7-8782-3b606820b409",
     "showTitle": false,
     "title": ""
    }
   },
   "outputs": [],
   "source": [
    "import dask_cudf\n",
    "import dask_deltatable as ddt\n",
    "\n",
    "\n",
    "def read_deltatable_with_dask(file_path: str, table_name: str):\n",
    "    \"\"\"\n",
    "    Read data from a Delta table using Dask and convert it to a Dask cuDF DataFrame.\n",
    "\n",
    "    Returns:\n",
    "    - ddf: cuDF Dask DataFrame representing the data from the Delta table.\n",
    "    \"\"\"\n",
    "    # Read from Delta table using Dask, returns dask dataframe\n",
    "    dd = ddt.read_deltalake(file_path)\n",
    "\n",
    "    # Convert Dask DataFrame to Dask cuDF for GPU acceleration (optional)\n",
    "    # Uncomment the line below if you have a GPU and want to use cuDF\n",
    "    # dask.config.set({\"dataframe.backend\": \"cudf\"})\n",
    "    ddf = dask_cudf.from_dask_dataframe(dd)\n",
    "\n",
    "    return ddf"
   ]
  },
  {
   "cell_type": "markdown",
   "metadata": {
    "application/vnd.databricks.v1+cell": {
     "cellMetadata": {},
     "inputWidgets": {},
     "nuid": "79d52d53-c22b-485c-82f5-7c6e8e9f486a",
     "showTitle": false,
     "title": ""
    }
   },
   "source": [
    "### Splitting data\n",
    "\n",
    "In the preceding step, we used dask-cudf for loading data from the disk; now use train_test_split function from dask-ml for splitting up the dataset. \n",
    "\n",
    "Most of the time, the GPU backend of dask works seamlessly with utilities in dask-ml and we can accelerate the entire ML pipeline as such: \n"
   ]
  },
  {
   "cell_type": "code",
   "execution_count": 0,
   "metadata": {
    "application/vnd.databricks.v1+cell": {
     "cellMetadata": {
      "byteLimit": 2048000,
      "rowLimit": 10000
     },
     "inputWidgets": {},
     "nuid": "7f2f4238-a2a0-445a-a5f5-ee1e554a7548",
     "showTitle": false,
     "title": ""
    }
   },
   "outputs": [],
   "source": [
    "def load_higgs(\n",
    "    ddf,\n",
    ") -> Tuple[\n",
    "    dask_cudf.core.DataFrame,\n",
    "    dask_cudf.core.Series,\n",
    "    dask_cudf.core.DataFrame,\n",
    "    dask_cudf.core.Series,\n",
    "]:\n",
    "    y = ddf[\"label\"]\n",
    "    X = ddf[ddf.columns.difference([\"label\"])]\n",
    "\n",
    "    X_train, X_valid, y_train, y_valid = train_test_split(\n",
    "        X, y, test_size=0.33, random_state=42\n",
    "    )\n",
    "    X_train, X_valid, y_train, y_valid = client.persist(\n",
    "        [X_train, X_valid, y_train, y_valid]\n",
    "    )\n",
    "    wait([X_train, X_valid, y_train, y_valid])\n",
    "\n",
    "    return X_train, X_valid, y_train, y_valid"
   ]
  },
  {
   "cell_type": "code",
   "execution_count": 0,
   "metadata": {
    "application/vnd.databricks.v1+cell": {
     "cellMetadata": {
      "byteLimit": 2048000,
      "rowLimit": 10000
     },
     "inputWidgets": {},
     "nuid": "8539a1aa-fc35-4add-a067-81ca7ceaea5a",
     "showTitle": false,
     "title": ""
    }
   },
   "outputs": [
    {
     "output_type": "stream",
     "name": "stderr",
     "text": [
      "/databricks/python/lib/python3.10/site-packages/dask_ml/model_selection/_split.py:462: FutureWarning: The default value for 'shuffle' must be specified when splitting DataFrames. In the future DataFrames will automatically be shuffled within blocks prior to splitting. Specify 'shuffle=True' to adopt the future behavior now, or 'shuffle=False' to retain the previous behavior.\n  warnings.warn(\n"
     ]
    }
   ],
   "source": [
    "X_train, X_valid, y_train, y_valid = load_higgs(ddf)\n",
    "\n",
    "# print(f\"len(X_train): {len(X_train)}\")\n",
    "# print(f\"len(X_valid): {len(X_valid)}\")\n",
    "# print(f\"len(y_train): {len(y_train)}\")\n",
    "# print(f\"len(y_valid): {len(y_valid)}\")"
   ]
  },
  {
   "cell_type": "markdown",
   "metadata": {
    "application/vnd.databricks.v1+cell": {
     "cellMetadata": {},
     "inputWidgets": {},
     "nuid": "9190527c-ad0c-4f96-ac60-d38f6e0fd615",
     "showTitle": false,
     "title": ""
    }
   },
   "source": [
    "## Training model\n",
    "One of the most frequently requested features is early stopping support for the Dask interface.  In the XGBoost 1.4 release, not only can we specify the number of stopping rounds, but also develop customized early stopping strategies.  For the simplest case, providing stopping rounds to the train function enables early stopping:\n",
    "\n",
    "There are two things to notice here.  Firstly, we specify the number of rounds to trigger early stopping for training.  XGBoost will stop the training process once the validation metric fails to improve in consecutive X rounds, where X is the number of rounds specified for early stopping.  Secondly, we use a data type called DaskDeviceQuantileDMatrix for training but DaskDMatrix for validation.  DaskDeviceQuantileDMatrix is a drop-in replacement of DaskDMatrix for GPU-based training inputs that avoids extra data copies."
   ]
  },
  {
   "cell_type": "code",
   "execution_count": 0,
   "metadata": {
    "application/vnd.databricks.v1+cell": {
     "cellMetadata": {
      "byteLimit": 2048000,
      "rowLimit": 10000
     },
     "inputWidgets": {},
     "nuid": "4cb51330-5aae-4837-a91b-fac361837ed3",
     "showTitle": false,
     "title": ""
    }
   },
   "outputs": [
    {
     "output_type": "stream",
     "name": "stdout",
     "text": [
      "Package                      Version\r\n---------------------------- -------------\r\nabsl-py                      1.4.0\r\nasttokens                    2.2.1\r\nastunparse                   1.6.3\r\nbackcall                     0.2.0\r\nblinker                      1.4\r\nbokeh                        3.2.2\r\ncachetools                   5.3.1\r\ncertifi                      2023.7.22\r\ncharset-normalizer           3.2.0\r\nclick                        8.1.7\r\ncloudpickle                  3.0.0\r\ncomm                         0.1.3\r\ncontourpy                    1.1.0\r\ncryptography                 3.4.8\r\ncubinlinker-cu11             0.3.0.post1\r\ncuda-python                  11.8.3\r\ncudf-cu11                    23.10.2\r\ncuml-cu11                    23.10.0\r\ncupy-cuda11x                 12.2.0\r\ncycler                       0.11.0\r\ndask                         2023.9.2\r\ndask-cuda                    23.10.0\r\ndask-cudf-cu11               23.10.2\r\ndask-databricks              0.3.0\r\ndask-deltatable              0.3.1\r\ndask-glm                     0.3.1\r\ndask-ml                      2023.3.24\r\ndatabricks-sdk               0.1.6\r\ndbus-python                  1.2.18\r\ndebugpy                      1.6.7\r\ndecorator                    5.1.1\r\ndeltalake                    0.13.0\r\ndistlib                      0.3.7\r\ndistributed                  2023.9.2\r\ndistro                       1.7.0\r\ndistro-info                  1.1build1\r\nexecuting                    1.2.0\r\nfastrlock                    0.8.2\r\nfilelock                     3.12.2\r\nflatbuffers                  23.5.26\r\nfonttools                    4.41.1\r\nfsspec                       2023.10.0\r\ngast                         0.4.0\r\ngoogle-auth                  2.22.0\r\ngoogle-auth-oauthlib         1.0.0\r\ngoogle-pasta                 0.2.0\r\ngoogleapis-common-protos     1.60.0\r\ngrpcio                       1.48.2\r\ngrpcio-status                1.48.1\r\nh5py                         3.9.0\r\nhttplib2                     0.20.2\r\nidna                         3.4\r\nimportlib-metadata           6.8.0\r\nipykernel                    6.25.0\r\nipython                      8.14.0\r\nipython-genutils             0.2.0\r\njedi                         0.18.1\r\njeepney                      0.7.1\r\nJinja2                       3.1.2\r\njoblib                       1.3.2\r\njupyter_client               8.3.0\r\njupyter_core                 5.3.1\r\nkeras                        2.13.1\r\nkeyring                      23.5.0\r\nkiwisolver                   1.4.4\r\nlaunchpadlib                 1.10.16\r\nlazr.restfulclient           0.14.4\r\nlazr.uri                     1.0.6\r\nlibclang                     16.0.6\r\nllvmlite                     0.40.1\r\nlocket                       1.0.0\r\nlz4                          4.3.2\r\nMarkdown                     3.4.4\r\nmarkdown-it-py               3.0.0\r\nMarkupSafe                   2.1.3\r\nmatplotlib                   3.7.0\r\nmatplotlib-inline            0.1.6\r\nmdurl                        0.1.2\r\nmore-itertools               8.10.0\r\nmsgpack                      1.0.7\r\nmultipledispatch             1.0.0\r\nnest-asyncio                 1.5.7\r\nnumba                        0.57.1\r\nnumpy                        1.23.5\r\nnvtx                         0.2.8\r\noauthlib                     3.2.0\r\nopt-einsum                   3.3.0\r\npackaging                    23.1\r\npandas                       1.5.3\r\nparso                        0.8.3\r\npartd                        1.4.1\r\npexpect                      4.8.0\r\npickleshare                  0.7.5\r\nPillow                       10.0.0\r\npip                          22.3.1\r\nplatformdirs                 2.6.2\r\nprompt-toolkit               3.0.39\r\nprotobuf                     4.23.3\r\npsutil                       5.9.5\r\nptxcompiler-cu11             0.7.0.post1\r\nptyprocess                   0.7.0\r\npure-eval                    0.2.2\r\npyarrow                      12.0.1\r\npyasn1                       0.5.0\r\npyasn1-modules               0.3.0\r\nPygments                     2.15.1\r\nPyGObject                    3.42.1\r\nPyJWT                        2.3.0\r\npylibraft-cu11               23.10.0\r\npynvml                       11.4.1\r\npyparsing                    2.4.7\r\npython-apt                   2.4.0+ubuntu1\r\npython-dateutil              2.8.2\r\npytz                         2023.3\r\nPyYAML                       6.0.1\r\npyzmq                        25.1.0\r\nraft-dask-cu11               23.10.0\r\nrequests                     2.28.2\r\nrequests-oauthlib            1.3.1\r\nrich                         13.7.0\r\nrmm-cu11                     23.10.0\r\nrsa                          4.9\r\nscikit-learn                 1.3.2\r\nscipy                        1.11.4\r\nSecretStorage                3.3.1\r\nsetuptools                   65.5.1\r\nsix                          1.16.0\r\nsortedcontainers             2.4.0\r\nsparse                       0.14.0\r\nstack-data                   0.6.2\r\ntblib                        3.0.0\r\ntensorboard                  2.13.0\r\ntensorboard-data-server      0.7.1\r\ntensorflow                   2.13.0\r\ntensorflow-estimator         2.13.0\r\ntensorflow-io-gcs-filesystem 0.32.0\r\ntermcolor                    2.3.0\r\nthreadpoolctl                3.2.0\r\ntoolz                        0.12.0\r\ntornado                      6.3.2\r\ntraitlets                    5.9.0\r\ntreelite                     3.9.1\r\ntreelite-runtime             3.9.1\r\ntyping_extensions            4.5.0\r\nucx-py-cu11                  0.34.0\r\nunattended-upgrades          0.1\r\nurllib3                      1.26.16\r\nvirtualenv                   20.16.7\r\nwadllib                      1.3.6\r\nwcwidth                      0.2.6\r\nWerkzeug                     2.3.6\r\nwheel                        0.38.4\r\nwrapt                        1.15.0\r\nxgboost                      2.0.2\r\nxyzservices                  2023.10.1\r\nzict                         3.0.0\r\nzipp                         1.0.0\r\n\r\n\u001b[1m[\u001b[0m\u001b[34;49mnotice\u001b[0m\u001b[1;39;49m]\u001b[0m\u001b[39;49m A new release of pip available: \u001b[0m\u001b[31;49m22.3.1\u001b[0m\u001b[39;49m -> \u001b[0m\u001b[32;49m23.3.1\u001b[0m\r\n\u001b[1m[\u001b[0m\u001b[34;49mnotice\u001b[0m\u001b[1;39;49m]\u001b[0m\u001b[39;49m To update, run: \u001b[0m\u001b[32;49mpip install --upgrade pip\u001b[0m\r\n"
     ]
    }
   ],
   "source": [
    "!pip list"
   ]
  },
  {
   "cell_type": "code",
   "execution_count": 0,
   "metadata": {
    "application/vnd.databricks.v1+cell": {
     "cellMetadata": {
      "byteLimit": 2048000,
      "rowLimit": 10000
     },
     "inputWidgets": {},
     "nuid": "514a1d11-8257-4920-a25d-bb2401b9dd43",
     "showTitle": false,
     "title": ""
    }
   },
   "outputs": [],
   "source": [
    "def fit_model_es(client, X, y, X_valid, y_valid) -> dxgb.Booster:\n",
    "    early_stopping_rounds = 5\n",
    "    Xy = dxgb.DaskDeviceQuantileDMatrix(client, X, y)\n",
    "    Xy_valid = dxgb.DaskDMatrix(client, X_valid, y_valid)\n",
    "    # train the model\n",
    "    booster = dxgb.train(\n",
    "        client,\n",
    "        {\n",
    "            \"objective\": \"binary:logistic\",\n",
    "            \"eval_metric\": \"error\",\n",
    "            \"tree_method\": \"gpu_hist\",\n",
    "        },\n",
    "        Xy,\n",
    "        evals=[(Xy_valid, \"Valid\")],\n",
    "        num_boost_round=1000,\n",
    "        early_stopping_rounds=early_stopping_rounds,\n",
    "    )[\"booster\"]\n",
    "    return booster"
   ]
  },
  {
   "cell_type": "code",
   "execution_count": 0,
   "metadata": {
    "application/vnd.databricks.v1+cell": {
     "cellMetadata": {
      "byteLimit": 2048000,
      "rowLimit": 10000
     },
     "inputWidgets": {},
     "nuid": "3f3f8935-4f76-47c1-9280-386df3e6a49d",
     "showTitle": false,
     "title": ""
    }
   },
   "outputs": [
    {
     "output_type": "stream",
     "name": "stderr",
     "text": [
      "/databricks/python/lib/python3.10/site-packages/xgboost/dask.py:704: FutureWarning: Please use `DaskQuantileDMatrix` instead.\n  warnings.warn(\"Please use `DaskQuantileDMatrix` instead.\", FutureWarning)\n"
     ]
    },
    {
     "output_type": "stream",
     "name": "stdout",
     "text": [
      "Out[15]: <xgboost.core.Booster at 0x7f7b5ece38e0>"
     ]
    }
   ],
   "source": [
    "booster = fit_model_es(client, X=X_train, y=y_train, X_valid=X_valid, y_valid=y_valid)\n",
    "booster"
   ]
  },
  {
   "cell_type": "markdown",
   "metadata": {
    "application/vnd.databricks.v1+cell": {
     "cellMetadata": {},
     "inputWidgets": {},
     "nuid": "83932465-f261-4ad8-82da-f696e727edc4",
     "showTitle": false,
     "title": ""
    }
   },
   "source": [
    "## Customized objective and evaluation metric\n",
    "\n",
    "XGBoost is designed to be scalable through customized objective functions and metrics. In 1.4, this feature is brought to the dask interface. The requirement is exactly the same as for the single node interface:\n",
    "\n",
    "Optional: In the example below we use the custom objective function and metric to implement a logistic regression model along with early stopping. Note that the function returns both gradient and hessian, which XGBoost uses to optimize the model.  Also, the parameter named metric_name needs to be specified in our callback. It is used to inform XGBoost that the custom error function should be used for evaluating early stopping criteria."
   ]
  },
  {
   "cell_type": "code",
   "execution_count": 0,
   "metadata": {
    "application/vnd.databricks.v1+cell": {
     "cellMetadata": {
      "byteLimit": 2048000,
      "rowLimit": 10000
     },
     "inputWidgets": {},
     "nuid": "2b40ef80-c783-4216-9434-0a55c2eb3a63",
     "showTitle": false,
     "title": ""
    }
   },
   "outputs": [],
   "source": [
    "def fit_model_customized_objective(client, X, y, X_valid, y_valid) -> dxgb.Booster:\n",
    "    def logit(predt: np.ndarray, Xy: xgb.DMatrix) -> Tuple[np.ndarray, np.ndarray]:\n",
    "        predt = 1.0 / (1.0 + np.exp(-predt))\n",
    "        labels = Xy.get_label()\n",
    "        grad = predt - labels\n",
    "        hess = predt * (1.0 - predt)\n",
    "        return grad, hess\n",
    "\n",
    "    def error(predt: np.ndarray, Xy: xgb.DMatrix) -> Tuple[str, float]:\n",
    "        label = Xy.get_label()\n",
    "        r = np.zeros(predt.shape)\n",
    "        predt = 1.0 / (1.0 + np.exp(-predt))\n",
    "        gt = predt > 0.5\n",
    "        r[gt] = 1 - label[gt]\n",
    "        le = predt <= 0.5\n",
    "        r[le] = label[le]\n",
    "        return \"CustomErr\", float(np.average(r))\n",
    "\n",
    "    # Use early stopping with custom objective and metric.\n",
    "    early_stopping_rounds = 5\n",
    "    # Specify the metric we want to use for early stopping.\n",
    "    es = xgb.callback.EarlyStopping(\n",
    "        rounds=early_stopping_rounds, save_best=True, metric_name=\"CustomErr\"\n",
    "    )\n",
    "\n",
    "    Xy = dxgb.DaskDeviceQuantileDMatrix(client, X, y)\n",
    "    Xy_valid = dxgb.DaskDMatrix(client, X_valid, y_valid)\n",
    "    booster = dxgb.train(\n",
    "        client,\n",
    "        {\"eval_metric\": \"error\", \"tree_method\": \"gpu_hist\"},\n",
    "        Xy,\n",
    "        evals=[(Xy_valid, \"Valid\")],\n",
    "        num_boost_round=1000,\n",
    "        obj=logit,  # pass the custom objective\n",
    "        feval=error,  # pass the custom metric\n",
    "        callbacks=[es],\n",
    "    )[\"booster\"]\n",
    "    return booster"
   ]
  },
  {
   "cell_type": "code",
   "execution_count": 0,
   "metadata": {
    "application/vnd.databricks.v1+cell": {
     "cellMetadata": {
      "byteLimit": 2048000,
      "rowLimit": 10000
     },
     "inputWidgets": {},
     "nuid": "2fa0482c-319a-412a-a156-e03fc0186982",
     "showTitle": false,
     "title": ""
    }
   },
   "outputs": [
    {
     "output_type": "stream",
     "name": "stderr",
     "text": [
      "/databricks/python/lib/python3.10/site-packages/xgboost/dask.py:704: FutureWarning: Please use `DaskQuantileDMatrix` instead.\n  warnings.warn(\"Please use `DaskQuantileDMatrix` instead.\", FutureWarning)\n"
     ]
    },
    {
     "output_type": "stream",
     "name": "stdout",
     "text": [
      "Out[22]: <xgboost.core.Booster at 0x7f7becae4be0>"
     ]
    }
   ],
   "source": [
    "booster_custom = fit_model_customized_objective(\n",
    "    client, X=X_train, y=y_train, X_valid=X_valid, y_valid=y_valid\n",
    ")\n",
    "booster_custom"
   ]
  },
  {
   "cell_type": "markdown",
   "metadata": {
    "application/vnd.databricks.v1+cell": {
     "cellMetadata": {},
     "inputWidgets": {},
     "nuid": "9d8b1ee7-2bbe-43e7-9dbb-c908e6fa8259",
     "showTitle": false,
     "title": ""
    }
   },
   "source": [
    "## Explaining the model\n",
    "After obtaining our first model, we might want to explain predictions using SHAP.  SHAP(SHapley Additive exPlanations) is a game theoretic approach to explain the output of machine learning models based on Shapley Value.  For details about the algorithm, please refer to the papers.  As XGBoost now has support for GPU-accelerated Shapley values, we extend this feature to the Dask interface. Now, users can compute shap values on distributed GPU clusters. This is enabled by the significantly improved predict function and the GPUTreeShap library:"
   ]
  },
  {
   "cell_type": "code",
   "execution_count": 0,
   "metadata": {
    "application/vnd.databricks.v1+cell": {
     "cellMetadata": {
      "byteLimit": 2048000,
      "rowLimit": 10000
     },
     "inputWidgets": {},
     "nuid": "fe4013c9-bfb0-43a7-b4e6-5c8ea1314283",
     "showTitle": false,
     "title": ""
    }
   },
   "outputs": [],
   "source": [
    "# def explain(client, model, X):\n",
    "#     # Use array instead of dataframe in case of output dim is greater than 2.\n",
    "#     X_array = X.values\n",
    "#     contribs = dxgb.predict(client, model, X_array, \\\n",
    "#                     pred_contribs=True, validate_features=False\\\n",
    "#                     )\n",
    "#     # Use the result for further analysis\n",
    "#     return contribs"
   ]
  },
  {
   "cell_type": "code",
   "execution_count": 0,
   "metadata": {
    "application/vnd.databricks.v1+cell": {
     "cellMetadata": {
      "byteLimit": 2048000,
      "rowLimit": 10000
     },
     "inputWidgets": {},
     "nuid": "42ea3faf-fe8b-445f-bed8-a4b798b0dad7",
     "showTitle": false,
     "title": ""
    }
   },
   "outputs": [
    {
     "output_type": "display_data",
     "data": {
      "text/html": [
       "<table>\n",
       "    <tr>\n",
       "        <td>\n",
       "            <table style=\"border-collapse: collapse;\">\n",
       "                <thead>\n",
       "                    <tr>\n",
       "                        <td> </td>\n",
       "                        <th> Array </th>\n",
       "                        <th> Chunk </th>\n",
       "                    </tr>\n",
       "                </thead>\n",
       "                <tbody>\n",
       "                    \n",
       "                    <tr>\n",
       "                        <th> Bytes </th>\n",
       "                        <td> unknown </td>\n",
       "                        <td> unknown </td>\n",
       "                    </tr>\n",
       "                    \n",
       "                    <tr>\n",
       "                        <th> Shape </th>\n",
       "                        <td> (nan, 30) </td>\n",
       "                        <td> (nan, 30) </td>\n",
       "                    </tr>\n",
       "                    <tr>\n",
       "                        <th> Dask graph </th>\n",
       "                        <td colspan=\"2\"> 1 chunks in 3 graph layers </td>\n",
       "                    </tr>\n",
       "                    <tr>\n",
       "                        <th> Data type </th>\n",
       "                        <td colspan=\"2\"> float32 numpy.ndarray </td>\n",
       "                    </tr>\n",
       "                </tbody>\n",
       "            </table>\n",
       "        </td>\n",
       "        <td>\n",
       "        \n",
       "        </td>\n",
       "    </tr>\n",
       "</table>"
      ]
     },
     "metadata": {
      "application/vnd.databricks.v1+output": {
       "addedWidgets": {},
       "arguments": {},
       "data": "<table>\n    <tr>\n        <td>\n            <table style=\"border-collapse: collapse;\">\n                <thead>\n                    <tr>\n                        <td> </td>\n                        <th> Array </th>\n                        <th> Chunk </th>\n                    </tr>\n                </thead>\n                <tbody>\n                    \n                    <tr>\n                        <th> Bytes </th>\n                        <td> unknown </td>\n                        <td> unknown </td>\n                    </tr>\n                    \n                    <tr>\n                        <th> Shape </th>\n                        <td> (nan, 30) </td>\n                        <td> (nan, 30) </td>\n                    </tr>\n                    <tr>\n                        <th> Dask graph </th>\n                        <td colspan=\"2\"> 1 chunks in 3 graph layers </td>\n                    </tr>\n                    <tr>\n                        <th> Data type </th>\n                        <td colspan=\"2\"> float32 numpy.ndarray </td>\n                    </tr>\n                </tbody>\n            </table>\n        </td>\n        <td>\n        \n        </td>\n    </tr>\n</table>",
       "datasetInfos": [],
       "metadata": {},
       "removedWidgets": [],
       "textData": null,
       "type": "htmlSandbox"
      }
     }
    }
   ],
   "source": [
    "# contribs = explain(client, model=booster, X=X_train)\n",
    "# contribs"
   ]
  },
  {
   "cell_type": "code",
   "execution_count": 0,
   "metadata": {
    "application/vnd.databricks.v1+cell": {
     "cellMetadata": {
      "byteLimit": 2048000,
      "rowLimit": 10000
     },
     "inputWidgets": {},
     "nuid": "4ad9abd0-10b2-46e5-8d57-3b163b421888",
     "showTitle": false,
     "title": ""
    }
   },
   "outputs": [
    {
     "output_type": "stream",
     "name": "stdout",
     "text": [
      "Out[35]: Dask Series Structure:\nnpartitions=1\n    float32\n        ...\nName: 0, dtype: float32\nDask Name: getitem, 3 graph layers"
     ]
    }
   ],
   "source": [
    "preds = dxgb.predict(client, booster, X_train)\n",
    "preds"
   ]
  },
  {
   "cell_type": "code",
   "execution_count": 0,
   "metadata": {
    "application/vnd.databricks.v1+cell": {
     "cellMetadata": {
      "byteLimit": 2048000,
      "rowLimit": 10000
     },
     "inputWidgets": {},
     "nuid": "cb57b00d-a2c7-4a9b-baa7-9dfebdec5e49",
     "showTitle": false,
     "title": ""
    }
   },
   "outputs": [
    {
     "output_type": "stream",
     "name": "stdout",
     "text": [
      "Out[37]: 0     0.891946\n1     0.769179\n3     0.882120\n10    0.798238\n11    0.663871\nName: 0, dtype: float32"
     ]
    }
   ],
   "source": [
    "preds.head()"
   ]
  }
 ],
 "metadata": {
  "application/vnd.databricks.v1+notebook": {
   "dashboards": [],
   "language": "python",
   "notebookMetadata": {
    "pythonIndentUnit": 2
   },
   "notebookName": "xgboost-dask",
   "widgets": {}
  }
 },
 "nbformat": 4,
 "nbformat_minor": 0
}
