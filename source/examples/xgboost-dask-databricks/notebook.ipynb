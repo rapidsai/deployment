{
 "cells": [
  {
   "cell_type": "markdown",
   "metadata": {
    "application/vnd.databricks.v1+cell": {
     "cellMetadata": {},
     "inputWidgets": {},
     "nuid": "db9cf912-1f7b-431d-9628-1afdea311779",
     "showTitle": false,
     "title": ""
    }
   },
   "source": [
    "# Accelerating XGBoost on GPU Clusters with Dask\n",
    "\n",
    "Our examples focus on the HIGGS dataset, a moderately sized classification problem from the UCI Machine Learning repository.  In the following sections, we start from basic data loading and preprocessing with GPU-accelerated Dask and Dask-ml. Then, train an XGBoost model on returned data with different configurations. Also, share some new features along the way. After that, we showcase how to compute SHAP value on a GPU cluster and the speedup we can obtain. Lastly, we share some optimization techniques with inference.\n",
    "\n",
    "The following examples need to be run on a machine with at least one NVIDIA GPU, which can be a laptop or a cloud instance. One of the advantages of Dask is its flexibility that users can test their code on a laptop. They can also scale up the computation to clusters with a minimum amount of code changes.  Also, to set up the environment we need xgboost==1.4, dask, dask-ml, dask-cuda, and dask-cudf python packages, available from RAPIDS conda channels:"
   ]
  },
  {
   "cell_type": "code",
   "execution_count": 0,
   "metadata": {
    "application/vnd.databricks.v1+cell": {
     "cellMetadata": {
      "byteLimit": 2048000,
      "rowLimit": 10000
     },
     "inputWidgets": {},
     "nuid": "109cfcaa-f2e4-446a-a3fa-c4025e0b70a4",
     "showTitle": false,
     "title": ""
    }
   },
   "outputs": [
    {
     "output_type": "display_data",
     "data": {
      "application/vnd.databricks.v1+bamboolib_hint": "{\"pd.DataFrames\": [], \"version\": \"0.0.1\"}",
      "text/plain": []
     },
     "metadata": {}
    }
   ],
   "source": [
    "import os\n",
    "from time import time\n",
    "from typing import Tuple\n",
    "\n",
    "import pandas as pd\n",
    "import numpy as np\n",
    "import cupy\n",
    "import cudf\n",
    "import dask\n",
    "import dask_cudf\n",
    "import dask_databricks\n",
    "import dask_deltatable as ddt\n",
    "import xgboost as xgb\n",
    "from xgboost import dask as dxgb\n",
    "from dask_ml.model_selection import train_test_split\n",
    "from dask import dataframe as dd  #"
   ]
  },
  {
   "cell_type": "code",
   "execution_count": 0,
   "metadata": {
    "application/vnd.databricks.v1+cell": {
     "cellMetadata": {
      "byteLimit": 2048000,
      "rowLimit": 10000
     },
     "inputWidgets": {},
     "nuid": "0b6e31e3-d4da-4c86-9b10-d9eac4e4a40f",
     "showTitle": false,
     "title": ""
    }
   },
   "outputs": [
    {
     "output_type": "display_data",
     "data": {
      "text/html": [
       "<div>\n",
       "    <div style=\"width: 24px; height: 24px; background-color: #e1e1e1; border: 3px solid #9D9D9D; border-radius: 5px; position: absolute;\"> </div>\n",
       "    <div style=\"margin-left: 48px;\">\n",
       "        <h3 style=\"margin-bottom: 0px;\">Client</h3>\n",
       "        <p style=\"color: #9D9D9D; margin-bottom: 0px;\">Client-eb001585-89a4-11ee-9783-ce42c69d1213</p>\n",
       "        <table style=\"width: 100%; text-align: left;\">\n",
       "\n",
       "        <tr>\n",
       "        \n",
       "            <td style=\"text-align: left;\"><strong>Connection method:</strong> Cluster object</td>\n",
       "            <td style=\"text-align: left;\"><strong>Cluster type:</strong> dask_databricks.DatabricksCluster</td>\n",
       "        \n",
       "        </tr>\n",
       "\n",
       "        \n",
       "            <tr>\n",
       "                <td style=\"text-align: left;\">\n",
       "                    <strong>Dashboard: </strong> <a href=\"https://dbc-dp-8721196619973675.cloud.databricks.com/driver-proxy/o/8721196619973675/1031-230718-l2ubf858/8087/status\" target=\"_blank\">https://dbc-dp-8721196619973675.cloud.databricks.com/driver-proxy/o/8721196619973675/1031-230718-l2ubf858/8087/status</a>\n",
       "                </td>\n",
       "                <td style=\"text-align: left;\"></td>\n",
       "            </tr>\n",
       "        \n",
       "\n",
       "        </table>\n",
       "\n",
       "        \n",
       "\n",
       "        \n",
       "            <details>\n",
       "            <summary style=\"margin-bottom: 20px;\"><h3 style=\"display: inline;\">Cluster Info</h3></summary>\n",
       "            <div class=\"jp-RenderedHTMLCommon jp-RenderedHTML jp-mod-trusted jp-OutputArea-output\">\n",
       "    <div style=\"width: 24px; height: 24px; background-color: #e1e1e1; border: 3px solid #9D9D9D; border-radius: 5px; position: absolute;\">\n",
       "    </div>\n",
       "    <div style=\"margin-left: 48px;\">\n",
       "        <h3 style=\"margin-bottom: 0px; margin-top: 0px;\">DatabricksCluster</h3>\n",
       "        <p style=\"color: #9D9D9D; margin-bottom: 0px;\">1031-230718-l2ubf858</p>\n",
       "        <table style=\"width: 100%; text-align: left;\">\n",
       "            <tr>\n",
       "                <td style=\"text-align: left;\">\n",
       "                    <strong>Dashboard:</strong> <a href=\"https://dbc-dp-8721196619973675.cloud.databricks.com/driver-proxy/o/8721196619973675/1031-230718-l2ubf858/8087/status\" target=\"_blank\">https://dbc-dp-8721196619973675.cloud.databricks.com/driver-proxy/o/8721196619973675/1031-230718-l2ubf858/8087/status</a>\n",
       "                </td>\n",
       "                <td style=\"text-align: left;\">\n",
       "                    <strong>Workers:</strong> 2\n",
       "                </td>\n",
       "            </tr>\n",
       "            <tr>\n",
       "                <td style=\"text-align: left;\">\n",
       "                    <strong>Total threads:</strong> 2\n",
       "                </td>\n",
       "                <td style=\"text-align: left;\">\n",
       "                    <strong>Total memory:</strong> 30.65 GiB\n",
       "                </td>\n",
       "            </tr>\n",
       "            \n",
       "        </table>\n",
       "\n",
       "        <details>\n",
       "            <summary style=\"margin-bottom: 20px;\">\n",
       "                <h3 style=\"display: inline;\">Scheduler Info</h3>\n",
       "            </summary>\n",
       "\n",
       "            <div style=\"\">\n",
       "    <div>\n",
       "        <div style=\"width: 24px; height: 24px; background-color: #FFF7E5; border: 3px solid #FF6132; border-radius: 5px; position: absolute;\"> </div>\n",
       "        <div style=\"margin-left: 48px;\">\n",
       "            <h3 style=\"margin-bottom: 0px;\">Scheduler</h3>\n",
       "            <p style=\"color: #9D9D9D; margin-bottom: 0px;\">Scheduler-97faf66f-82df-4952-a352-349b7b4f9bbf</p>\n",
       "            <table style=\"width: 100%; text-align: left;\">\n",
       "                <tr>\n",
       "                    <td style=\"text-align: left;\">\n",
       "                        <strong>Comm:</strong> tcp://10.59.135.130:8786\n",
       "                    </td>\n",
       "                    <td style=\"text-align: left;\">\n",
       "                        <strong>Workers:</strong> 2\n",
       "                    </td>\n",
       "                </tr>\n",
       "                <tr>\n",
       "                    <td style=\"text-align: left;\">\n",
       "                        <strong>Dashboard:</strong> <a href=\"http://10.59.135.130:8087/status\" target=\"_blank\">http://10.59.135.130:8087/status</a>\n",
       "                    </td>\n",
       "                    <td style=\"text-align: left;\">\n",
       "                        <strong>Total threads:</strong> 2\n",
       "                    </td>\n",
       "                </tr>\n",
       "                <tr>\n",
       "                    <td style=\"text-align: left;\">\n",
       "                        <strong>Started:</strong> 2 hours ago\n",
       "                    </td>\n",
       "                    <td style=\"text-align: left;\">\n",
       "                        <strong>Total memory:</strong> 30.65 GiB\n",
       "                    </td>\n",
       "                </tr>\n",
       "            </table>\n",
       "        </div>\n",
       "    </div>\n",
       "\n",
       "    <details style=\"margin-left: 48px;\">\n",
       "        <summary style=\"margin-bottom: 20px;\">\n",
       "            <h3 style=\"display: inline;\">Workers</h3>\n",
       "        </summary>\n",
       "\n",
       "        \n",
       "        <div style=\"margin-bottom: 20px;\">\n",
       "            <div style=\"width: 24px; height: 24px; background-color: #DBF5FF; border: 3px solid #4CC9FF; border-radius: 5px; position: absolute;\"> </div>\n",
       "            <div style=\"margin-left: 48px;\">\n",
       "            <details>\n",
       "                <summary>\n",
       "                    <h4 style=\"margin-bottom: 0px; display: inline;\">Worker: tcp://10.59.145.57:36327</h4>\n",
       "                </summary>\n",
       "                <table style=\"width: 100%; text-align: left;\">\n",
       "                    <tr>\n",
       "                        <td style=\"text-align: left;\">\n",
       "                            <strong>Comm: </strong> tcp://10.59.145.57:36327\n",
       "                        </td>\n",
       "                        <td style=\"text-align: left;\">\n",
       "                            <strong>Total threads: </strong> 1\n",
       "                        </td>\n",
       "                    </tr>\n",
       "                    <tr>\n",
       "                        <td style=\"text-align: left;\">\n",
       "                            <strong>Dashboard: </strong> <a href=\"http://10.59.145.57:42937/status\" target=\"_blank\">http://10.59.145.57:42937/status</a>\n",
       "                        </td>\n",
       "                        <td style=\"text-align: left;\">\n",
       "                            <strong>Memory: </strong> 15.33 GiB\n",
       "                        </td>\n",
       "                    </tr>\n",
       "                    <tr>\n",
       "                        <td style=\"text-align: left;\">\n",
       "                            <strong>Nanny: </strong> tcp://10.59.145.57:33155\n",
       "                        </td>\n",
       "                        <td style=\"text-align: left;\"></td>\n",
       "                    </tr>\n",
       "                    <tr>\n",
       "                        <td colspan=\"2\" style=\"text-align: left;\">\n",
       "                            <strong>Local directory: </strong> /tmp/dask-scratch-space/worker-9b10jylt\n",
       "                        </td>\n",
       "                    </tr>\n",
       "\n",
       "                    \n",
       "                    <tr>\n",
       "                        <td style=\"text-align: left;\">\n",
       "                            <strong>GPU: </strong>Tesla T4\n",
       "                        </td>\n",
       "                        <td style=\"text-align: left;\">\n",
       "                            <strong>GPU memory: </strong> 15.00 GiB\n",
       "                        </td>\n",
       "                    </tr>\n",
       "                    \n",
       "\n",
       "                    \n",
       "\n",
       "                </table>\n",
       "            </details>\n",
       "            </div>\n",
       "        </div>\n",
       "        \n",
       "        <div style=\"margin-bottom: 20px;\">\n",
       "            <div style=\"width: 24px; height: 24px; background-color: #DBF5FF; border: 3px solid #4CC9FF; border-radius: 5px; position: absolute;\"> </div>\n",
       "            <div style=\"margin-left: 48px;\">\n",
       "            <details>\n",
       "                <summary>\n",
       "                    <h4 style=\"margin-bottom: 0px; display: inline;\">Worker: tcp://10.59.158.38:45163</h4>\n",
       "                </summary>\n",
       "                <table style=\"width: 100%; text-align: left;\">\n",
       "                    <tr>\n",
       "                        <td style=\"text-align: left;\">\n",
       "                            <strong>Comm: </strong> tcp://10.59.158.38:45163\n",
       "                        </td>\n",
       "                        <td style=\"text-align: left;\">\n",
       "                            <strong>Total threads: </strong> 1\n",
       "                        </td>\n",
       "                    </tr>\n",
       "                    <tr>\n",
       "                        <td style=\"text-align: left;\">\n",
       "                            <strong>Dashboard: </strong> <a href=\"http://10.59.158.38:44757/status\" target=\"_blank\">http://10.59.158.38:44757/status</a>\n",
       "                        </td>\n",
       "                        <td style=\"text-align: left;\">\n",
       "                            <strong>Memory: </strong> 15.33 GiB\n",
       "                        </td>\n",
       "                    </tr>\n",
       "                    <tr>\n",
       "                        <td style=\"text-align: left;\">\n",
       "                            <strong>Nanny: </strong> tcp://10.59.158.38:33655\n",
       "                        </td>\n",
       "                        <td style=\"text-align: left;\"></td>\n",
       "                    </tr>\n",
       "                    <tr>\n",
       "                        <td colspan=\"2\" style=\"text-align: left;\">\n",
       "                            <strong>Local directory: </strong> /tmp/dask-scratch-space/worker-c0jj65qr\n",
       "                        </td>\n",
       "                    </tr>\n",
       "\n",
       "                    \n",
       "                    <tr>\n",
       "                        <td style=\"text-align: left;\">\n",
       "                            <strong>GPU: </strong>Tesla T4\n",
       "                        </td>\n",
       "                        <td style=\"text-align: left;\">\n",
       "                            <strong>GPU memory: </strong> 15.00 GiB\n",
       "                        </td>\n",
       "                    </tr>\n",
       "                    \n",
       "\n",
       "                    \n",
       "\n",
       "                </table>\n",
       "            </details>\n",
       "            </div>\n",
       "        </div>\n",
       "        \n",
       "\n",
       "    </details>\n",
       "</div>\n",
       "\n",
       "        </details>\n",
       "    </div>\n",
       "</div>\n",
       "            </details>\n",
       "        \n",
       "\n",
       "    </div>\n",
       "</div>"
      ]
     },
     "metadata": {
      "application/vnd.databricks.v1+output": {
       "addedWidgets": {},
       "arguments": {},
       "data": "<div>\n    <div style=\"width: 24px; height: 24px; background-color: #e1e1e1; border: 3px solid #9D9D9D; border-radius: 5px; position: absolute;\"> </div>\n    <div style=\"margin-left: 48px;\">\n        <h3 style=\"margin-bottom: 0px;\">Client</h3>\n        <p style=\"color: #9D9D9D; margin-bottom: 0px;\">Client-eb001585-89a4-11ee-9783-ce42c69d1213</p>\n        <table style=\"width: 100%; text-align: left;\">\n\n        <tr>\n        \n            <td style=\"text-align: left;\"><strong>Connection method:</strong> Cluster object</td>\n            <td style=\"text-align: left;\"><strong>Cluster type:</strong> dask_databricks.DatabricksCluster</td>\n        \n        </tr>\n\n        \n            <tr>\n                <td style=\"text-align: left;\">\n                    <strong>Dashboard: </strong> <a href=\"https://dbc-dp-8721196619973675.cloud.databricks.com/driver-proxy/o/8721196619973675/1031-230718-l2ubf858/8087/status\" target=\"_blank\">https://dbc-dp-8721196619973675.cloud.databricks.com/driver-proxy/o/8721196619973675/1031-230718-l2ubf858/8087/status</a>\n                </td>\n                <td style=\"text-align: left;\"></td>\n            </tr>\n        \n\n        </table>\n\n        \n\n        \n            <details>\n            <summary style=\"margin-bottom: 20px;\"><h3 style=\"display: inline;\">Cluster Info</h3></summary>\n            <div class=\"jp-RenderedHTMLCommon jp-RenderedHTML jp-mod-trusted jp-OutputArea-output\">\n    <div style=\"width: 24px; height: 24px; background-color: #e1e1e1; border: 3px solid #9D9D9D; border-radius: 5px; position: absolute;\">\n    </div>\n    <div style=\"margin-left: 48px;\">\n        <h3 style=\"margin-bottom: 0px; margin-top: 0px;\">DatabricksCluster</h3>\n        <p style=\"color: #9D9D9D; margin-bottom: 0px;\">1031-230718-l2ubf858</p>\n        <table style=\"width: 100%; text-align: left;\">\n            <tr>\n                <td style=\"text-align: left;\">\n                    <strong>Dashboard:</strong> <a href=\"https://dbc-dp-8721196619973675.cloud.databricks.com/driver-proxy/o/8721196619973675/1031-230718-l2ubf858/8087/status\" target=\"_blank\">https://dbc-dp-8721196619973675.cloud.databricks.com/driver-proxy/o/8721196619973675/1031-230718-l2ubf858/8087/status</a>\n                </td>\n                <td style=\"text-align: left;\">\n                    <strong>Workers:</strong> 2\n                </td>\n            </tr>\n            <tr>\n                <td style=\"text-align: left;\">\n                    <strong>Total threads:</strong> 2\n                </td>\n                <td style=\"text-align: left;\">\n                    <strong>Total memory:</strong> 30.65 GiB\n                </td>\n            </tr>\n            \n        </table>\n\n        <details>\n            <summary style=\"margin-bottom: 20px;\">\n                <h3 style=\"display: inline;\">Scheduler Info</h3>\n            </summary>\n\n            <div style=\"\">\n    <div>\n        <div style=\"width: 24px; height: 24px; background-color: #FFF7E5; border: 3px solid #FF6132; border-radius: 5px; position: absolute;\"> </div>\n        <div style=\"margin-left: 48px;\">\n            <h3 style=\"margin-bottom: 0px;\">Scheduler</h3>\n            <p style=\"color: #9D9D9D; margin-bottom: 0px;\">Scheduler-97faf66f-82df-4952-a352-349b7b4f9bbf</p>\n            <table style=\"width: 100%; text-align: left;\">\n                <tr>\n                    <td style=\"text-align: left;\">\n                        <strong>Comm:</strong> tcp://10.59.135.130:8786\n                    </td>\n                    <td style=\"text-align: left;\">\n                        <strong>Workers:</strong> 2\n                    </td>\n                </tr>\n                <tr>\n                    <td style=\"text-align: left;\">\n                        <strong>Dashboard:</strong> <a href=\"http://10.59.135.130:8087/status\" target=\"_blank\">http://10.59.135.130:8087/status</a>\n                    </td>\n                    <td style=\"text-align: left;\">\n                        <strong>Total threads:</strong> 2\n                    </td>\n                </tr>\n                <tr>\n                    <td style=\"text-align: left;\">\n                        <strong>Started:</strong> 2 hours ago\n                    </td>\n                    <td style=\"text-align: left;\">\n                        <strong>Total memory:</strong> 30.65 GiB\n                    </td>\n                </tr>\n            </table>\n        </div>\n    </div>\n\n    <details style=\"margin-left: 48px;\">\n        <summary style=\"margin-bottom: 20px;\">\n            <h3 style=\"display: inline;\">Workers</h3>\n        </summary>\n\n        \n        <div style=\"margin-bottom: 20px;\">\n            <div style=\"width: 24px; height: 24px; background-color: #DBF5FF; border: 3px solid #4CC9FF; border-radius: 5px; position: absolute;\"> </div>\n            <div style=\"margin-left: 48px;\">\n            <details>\n                <summary>\n                    <h4 style=\"margin-bottom: 0px; display: inline;\">Worker: tcp://10.59.145.57:36327</h4>\n                </summary>\n                <table style=\"width: 100%; text-align: left;\">\n                    <tr>\n                        <td style=\"text-align: left;\">\n                            <strong>Comm: </strong> tcp://10.59.145.57:36327\n                        </td>\n                        <td style=\"text-align: left;\">\n                            <strong>Total threads: </strong> 1\n                        </td>\n                    </tr>\n                    <tr>\n                        <td style=\"text-align: left;\">\n                            <strong>Dashboard: </strong> <a href=\"http://10.59.145.57:42937/status\" target=\"_blank\">http://10.59.145.57:42937/status</a>\n                        </td>\n                        <td style=\"text-align: left;\">\n                            <strong>Memory: </strong> 15.33 GiB\n                        </td>\n                    </tr>\n                    <tr>\n                        <td style=\"text-align: left;\">\n                            <strong>Nanny: </strong> tcp://10.59.145.57:33155\n                        </td>\n                        <td style=\"text-align: left;\"></td>\n                    </tr>\n                    <tr>\n                        <td colspan=\"2\" style=\"text-align: left;\">\n                            <strong>Local directory: </strong> /tmp/dask-scratch-space/worker-9b10jylt\n                        </td>\n                    </tr>\n\n                    \n                    <tr>\n                        <td style=\"text-align: left;\">\n                            <strong>GPU: </strong>Tesla T4\n                        </td>\n                        <td style=\"text-align: left;\">\n                            <strong>GPU memory: </strong> 15.00 GiB\n                        </td>\n                    </tr>\n                    \n\n                    \n\n                </table>\n            </details>\n            </div>\n        </div>\n        \n        <div style=\"margin-bottom: 20px;\">\n            <div style=\"width: 24px; height: 24px; background-color: #DBF5FF; border: 3px solid #4CC9FF; border-radius: 5px; position: absolute;\"> </div>\n            <div style=\"margin-left: 48px;\">\n            <details>\n                <summary>\n                    <h4 style=\"margin-bottom: 0px; display: inline;\">Worker: tcp://10.59.158.38:45163</h4>\n                </summary>\n                <table style=\"width: 100%; text-align: left;\">\n                    <tr>\n                        <td style=\"text-align: left;\">\n                            <strong>Comm: </strong> tcp://10.59.158.38:45163\n                        </td>\n                        <td style=\"text-align: left;\">\n                            <strong>Total threads: </strong> 1\n                        </td>\n                    </tr>\n                    <tr>\n                        <td style=\"text-align: left;\">\n                            <strong>Dashboard: </strong> <a href=\"http://10.59.158.38:44757/status\" target=\"_blank\">http://10.59.158.38:44757/status</a>\n                        </td>\n                        <td style=\"text-align: left;\">\n                            <strong>Memory: </strong> 15.33 GiB\n                        </td>\n                    </tr>\n                    <tr>\n                        <td style=\"text-align: left;\">\n                            <strong>Nanny: </strong> tcp://10.59.158.38:33655\n                        </td>\n                        <td style=\"text-align: left;\"></td>\n                    </tr>\n                    <tr>\n                        <td colspan=\"2\" style=\"text-align: left;\">\n                            <strong>Local directory: </strong> /tmp/dask-scratch-space/worker-c0jj65qr\n                        </td>\n                    </tr>\n\n                    \n                    <tr>\n                        <td style=\"text-align: left;\">\n                            <strong>GPU: </strong>Tesla T4\n                        </td>\n                        <td style=\"text-align: left;\">\n                            <strong>GPU memory: </strong> 15.00 GiB\n                        </td>\n                    </tr>\n                    \n\n                    \n\n                </table>\n            </details>\n            </div>\n        </div>\n        \n\n    </details>\n</div>\n\n        </details>\n    </div>\n</div>\n            </details>\n        \n\n    </div>\n</div>",
       "datasetInfos": [],
       "metadata": {},
       "removedWidgets": [],
       "textData": null,
       "type": "htmlSandbox"
      }
     }
    }
   ],
   "source": [
    "client = dask_databricks.get_client()\n",
    "client"
   ]
  },
  {
   "cell_type": "markdown",
   "metadata": {
    "application/vnd.databricks.v1+cell": {
     "cellMetadata": {},
     "inputWidgets": {},
     "nuid": "08deff81-0cf9-497d-a60c-a598e6a777ec",
     "showTitle": false,
     "title": ""
    }
   },
   "source": [
    "## Load dataset\n",
    "Given a cluster, we start loading the data into GPUs.  Because the data is loaded multiple times during parameter tuning, we convert the CSV file into Parquet format for better performance.  This can be easily done using dask_cudf:\n"
   ]
  },
  {
   "cell_type": "code",
   "execution_count": 0,
   "metadata": {
    "application/vnd.databricks.v1+cell": {
     "cellMetadata": {},
     "inputWidgets": {},
     "nuid": "ba475700-06ef-4bbb-9eeb-ea4358cbaed1",
     "showTitle": false,
     "title": ""
    }
   },
   "outputs": [],
   "source": [
    "# CONVERT TO DELTA parquet.`s3://my-bucket/parquet-data`;"
   ]
  },
  {
   "cell_type": "code",
   "execution_count": 0,
   "metadata": {
    "application/vnd.databricks.v1+cell": {
     "cellMetadata": {
      "byteLimit": 2048000,
      "rowLimit": 10000
     },
     "inputWidgets": {},
     "nuid": "7790dc85-73d9-4e35-97f2-df462e90a364",
     "showTitle": false,
     "title": ""
    }
   },
   "outputs": [
    {
     "output_type": "stream",
     "name": "stdout",
     "text": [
      "Out[4]: DataFrame[__null_dask_index__: bigint, label: float, feature-01: float, feature-02: float, feature-03: float, feature-04: float, feature-05: float, feature-06: float, feature-07: float, feature-08: float, feature-09: float, feature-10: float, feature-11: float, feature-12: float, feature-13: float, feature-14: float, feature-15: float, feature-16: float, feature-17: float, feature-18: float, feature-19: float, feature-20: float, feature-21: float, feature-22: float, feature-23: float, feature-24: float, feature-25: float, feature-26: float, feature-27: float, feature-28: float]"
     ]
    }
   ],
   "source": [
    "# The next three lines should be run only ONCE!\n",
    "data = spark.read.load(\"dbfs:/dbfs/databricks/skirui/part_10.parquet\", format=\"parquet\")\n",
    "data"
   ]
  },
  {
   "cell_type": "code",
   "execution_count": 0,
   "metadata": {
    "application/vnd.databricks.v1+cell": {
     "cellMetadata": {
      "byteLimit": 2048000,
      "rowLimit": 10000
     },
     "inputWidgets": {},
     "nuid": "ff455cf5-0ba7-4374-b3a8-b1b23010719c",
     "showTitle": false,
     "title": ""
    }
   },
   "outputs": [],
   "source": [
    "# Write to Delta table using the schema inferred from `data`\n",
    "table_name = \"part10_higgs\"\n",
    "data.write.saveAsTable(table_name)"
   ]
  },
  {
   "cell_type": "code",
   "execution_count": 0,
   "metadata": {
    "application/vnd.databricks.v1+cell": {
     "cellMetadata": {
      "byteLimit": 2048000,
      "rowLimit": 10000
     },
     "inputWidgets": {},
     "nuid": "bc3ba1a5-e466-4904-a498-0b7fb9929319",
     "showTitle": false,
     "title": ""
    }
   },
   "outputs": [
    {
     "output_type": "display_data",
     "data": {
      "text/html": [
       "<style scoped>\n",
       "  .table-result-container {\n",
       "    max-height: 300px;\n",
       "    overflow: auto;\n",
       "  }\n",
       "  table, th, td {\n",
       "    border: 1px solid black;\n",
       "    border-collapse: collapse;\n",
       "  }\n",
       "  th, td {\n",
       "    padding: 5px;\n",
       "  }\n",
       "  th {\n",
       "    text-align: left;\n",
       "  }\n",
       "</style><div class='table-result-container'><table class='table-result'><thead style='background-color: white'><tr><th>format</th><th>id</th><th>name</th><th>description</th><th>location</th><th>createdAt</th><th>lastModified</th><th>partitionColumns</th><th>numFiles</th><th>sizeInBytes</th><th>properties</th><th>minReaderVersion</th><th>minWriterVersion</th><th>tableFeatures</th><th>statistics</th></tr></thead><tbody><tr><td>delta</td><td>0046d036-9050-400a-b666-1e5c0e52ef1d</td><td>spark_catalog.default.part10_higgs</td><td>null</td><td>dbfs:/user/hive/warehouse/part10_higgs</td><td>2023-11-23T02:06:55.082+0000</td><td>2023-11-23T02:07:03.000+0000</td><td>List()</td><td>1</td><td>25733030</td><td>Map()</td><td>1</td><td>2</td><td>List(appendOnly, invariants)</td><td>Map()</td></tr></tbody></table></div>"
      ]
     },
     "metadata": {
      "application/vnd.databricks.v1+output": {
       "addedWidgets": {},
       "aggData": [],
       "aggError": "",
       "aggOverflow": false,
       "aggSchema": [],
       "aggSeriesLimitReached": false,
       "aggType": "",
       "arguments": {},
       "columnCustomDisplayInfos": {},
       "data": [
        [
         "delta",
         "0046d036-9050-400a-b666-1e5c0e52ef1d",
         "spark_catalog.default.part10_higgs",
         null,
         "dbfs:/user/hive/warehouse/part10_higgs",
         "2023-11-23T02:06:55.082+0000",
         "2023-11-23T02:07:03.000+0000",
         [],
         1,
         25733030,
         {},
         1,
         2,
         [
          "appendOnly",
          "invariants"
         ],
         {}
        ]
       ],
       "datasetInfos": [],
       "dbfsResultPath": null,
       "isJsonSchema": true,
       "metadata": {},
       "overflow": false,
       "plotOptions": {
        "customPlotOptions": {},
        "displayType": "table",
        "pivotAggregation": null,
        "pivotColumns": null,
        "xColumns": null,
        "yColumns": null
       },
       "removedWidgets": [],
       "schema": [
        {
         "metadata": "{}",
         "name": "format",
         "type": "\"string\""
        },
        {
         "metadata": "{}",
         "name": "id",
         "type": "\"string\""
        },
        {
         "metadata": "{}",
         "name": "name",
         "type": "\"string\""
        },
        {
         "metadata": "{}",
         "name": "description",
         "type": "\"string\""
        },
        {
         "metadata": "{}",
         "name": "location",
         "type": "\"string\""
        },
        {
         "metadata": "{}",
         "name": "createdAt",
         "type": "\"timestamp\""
        },
        {
         "metadata": "{}",
         "name": "lastModified",
         "type": "\"timestamp\""
        },
        {
         "metadata": "{}",
         "name": "partitionColumns",
         "type": "{\"type\":\"array\",\"elementType\":\"string\",\"containsNull\":true}"
        },
        {
         "metadata": "{}",
         "name": "numFiles",
         "type": "\"long\""
        },
        {
         "metadata": "{}",
         "name": "sizeInBytes",
         "type": "\"long\""
        },
        {
         "metadata": "{}",
         "name": "properties",
         "type": "{\"type\":\"map\",\"keyType\":\"string\",\"valueType\":\"string\",\"valueContainsNull\":true}"
        },
        {
         "metadata": "{}",
         "name": "minReaderVersion",
         "type": "\"integer\""
        },
        {
         "metadata": "{}",
         "name": "minWriterVersion",
         "type": "\"integer\""
        },
        {
         "metadata": "{}",
         "name": "tableFeatures",
         "type": "{\"type\":\"array\",\"elementType\":\"string\",\"containsNull\":true}"
        },
        {
         "metadata": "{}",
         "name": "statistics",
         "type": "{\"type\":\"map\",\"keyType\":\"string\",\"valueType\":\"long\",\"valueContainsNull\":true}"
        }
       ],
       "type": "table"
      }
     }
    }
   ],
   "source": [
    "display(spark.sql(\"DESCRIBE DETAIL part10_higgs\"))"
   ]
  },
  {
   "cell_type": "code",
   "execution_count": 0,
   "metadata": {
    "application/vnd.databricks.v1+cell": {
     "cellMetadata": {
      "byteLimit": 2048000,
      "rowLimit": 10000
     },
     "inputWidgets": {},
     "nuid": "12e04b3e-6797-4f4e-8d60-a24920eae93f",
     "showTitle": false,
     "title": ""
    }
   },
   "outputs": [
    {
     "output_type": "display_data",
     "data": {
      "text/html": [
       "<div>\n",
       "<style scoped>\n",
       "    .dataframe tbody tr th:only-of-type {\n",
       "        vertical-align: middle;\n",
       "    }\n",
       "\n",
       "    .dataframe tbody tr th {\n",
       "        vertical-align: top;\n",
       "    }\n",
       "\n",
       "    .dataframe thead th {\n",
       "        text-align: right;\n",
       "    }\n",
       "</style>\n",
       "<table border=\"1\" class=\"dataframe\">\n",
       "  <thead>\n",
       "    <tr style=\"text-align: right;\">\n",
       "      <th></th>\n",
       "      <th>__null_dask_index__</th>\n",
       "      <th>label</th>\n",
       "      <th>feature-01</th>\n",
       "      <th>feature-02</th>\n",
       "      <th>feature-03</th>\n",
       "      <th>feature-04</th>\n",
       "      <th>feature-05</th>\n",
       "      <th>feature-06</th>\n",
       "      <th>feature-07</th>\n",
       "      <th>feature-08</th>\n",
       "      <th>...</th>\n",
       "      <th>feature-19</th>\n",
       "      <th>feature-20</th>\n",
       "      <th>feature-21</th>\n",
       "      <th>feature-22</th>\n",
       "      <th>feature-23</th>\n",
       "      <th>feature-24</th>\n",
       "      <th>feature-25</th>\n",
       "      <th>feature-26</th>\n",
       "      <th>feature-27</th>\n",
       "      <th>feature-28</th>\n",
       "    </tr>\n",
       "  </thead>\n",
       "  <tbody>\n",
       "    <tr>\n",
       "      <th>0</th>\n",
       "      <td>0</td>\n",
       "      <td>1.0</td>\n",
       "      <td>1.485302</td>\n",
       "      <td>0.400247</td>\n",
       "      <td>-0.812006</td>\n",
       "      <td>0.597350</td>\n",
       "      <td>1.529408</td>\n",
       "      <td>1.183657</td>\n",
       "      <td>-0.509004</td>\n",
       "      <td>1.387762</td>\n",
       "      <td>...</td>\n",
       "      <td>-0.341085</td>\n",
       "      <td>0.160763</td>\n",
       "      <td>0.000000</td>\n",
       "      <td>0.855138</td>\n",
       "      <td>1.011769</td>\n",
       "      <td>1.119636</td>\n",
       "      <td>0.960537</td>\n",
       "      <td>0.985170</td>\n",
       "      <td>0.939820</td>\n",
       "      <td>0.802873</td>\n",
       "    </tr>\n",
       "    <tr>\n",
       "      <th>1</th>\n",
       "      <td>1</td>\n",
       "      <td>0.0</td>\n",
       "      <td>0.736795</td>\n",
       "      <td>-1.607103</td>\n",
       "      <td>0.777777</td>\n",
       "      <td>1.905104</td>\n",
       "      <td>0.246345</td>\n",
       "      <td>2.179335</td>\n",
       "      <td>-0.665460</td>\n",
       "      <td>-1.511726</td>\n",
       "      <td>...</td>\n",
       "      <td>-1.029830</td>\n",
       "      <td>0.283399</td>\n",
       "      <td>3.101961</td>\n",
       "      <td>0.925825</td>\n",
       "      <td>1.065189</td>\n",
       "      <td>0.983639</td>\n",
       "      <td>0.887213</td>\n",
       "      <td>0.668263</td>\n",
       "      <td>0.866008</td>\n",
       "      <td>0.854103</td>\n",
       "    </tr>\n",
       "    <tr>\n",
       "      <th>2</th>\n",
       "      <td>2</td>\n",
       "      <td>1.0</td>\n",
       "      <td>0.731304</td>\n",
       "      <td>0.661271</td>\n",
       "      <td>0.273963</td>\n",
       "      <td>2.320010</td>\n",
       "      <td>-1.260483</td>\n",
       "      <td>0.779028</td>\n",
       "      <td>-0.560495</td>\n",
       "      <td>-1.423580</td>\n",
       "      <td>...</td>\n",
       "      <td>-0.351912</td>\n",
       "      <td>-0.036888</td>\n",
       "      <td>0.000000</td>\n",
       "      <td>0.898584</td>\n",
       "      <td>1.090466</td>\n",
       "      <td>1.772436</td>\n",
       "      <td>1.279596</td>\n",
       "      <td>0.747488</td>\n",
       "      <td>0.986794</td>\n",
       "      <td>0.958956</td>\n",
       "    </tr>\n",
       "    <tr>\n",
       "      <th>3</th>\n",
       "      <td>3</td>\n",
       "      <td>1.0</td>\n",
       "      <td>0.556531</td>\n",
       "      <td>0.424596</td>\n",
       "      <td>0.289499</td>\n",
       "      <td>0.984535</td>\n",
       "      <td>1.475206</td>\n",
       "      <td>1.219933</td>\n",
       "      <td>0.342594</td>\n",
       "      <td>0.779613</td>\n",
       "      <td>...</td>\n",
       "      <td>-0.681710</td>\n",
       "      <td>1.034749</td>\n",
       "      <td>3.101961</td>\n",
       "      <td>0.937095</td>\n",
       "      <td>1.056379</td>\n",
       "      <td>0.989476</td>\n",
       "      <td>0.613769</td>\n",
       "      <td>0.870377</td>\n",
       "      <td>0.767229</td>\n",
       "      <td>0.673387</td>\n",
       "    </tr>\n",
       "    <tr>\n",
       "      <th>4</th>\n",
       "      <td>4</td>\n",
       "      <td>1.0</td>\n",
       "      <td>0.486987</td>\n",
       "      <td>0.859960</td>\n",
       "      <td>-1.650956</td>\n",
       "      <td>0.724159</td>\n",
       "      <td>0.275873</td>\n",
       "      <td>0.919278</td>\n",
       "      <td>1.167456</td>\n",
       "      <td>-0.910783</td>\n",
       "      <td>...</td>\n",
       "      <td>1.630207</td>\n",
       "      <td>-0.658947</td>\n",
       "      <td>0.000000</td>\n",
       "      <td>2.282790</td>\n",
       "      <td>1.454625</td>\n",
       "      <td>0.988534</td>\n",
       "      <td>0.982069</td>\n",
       "      <td>1.391338</td>\n",
       "      <td>1.130450</td>\n",
       "      <td>0.947944</td>\n",
       "    </tr>\n",
       "  </tbody>\n",
       "</table>\n",
       "<p>5 rows × 30 columns</p>\n",
       "</div>"
      ]
     },
     "metadata": {
      "application/vnd.databricks.v1+output": {
       "addedWidgets": {},
       "arguments": {},
       "data": "<div>\n<style scoped>\n    .dataframe tbody tr th:only-of-type {\n        vertical-align: middle;\n    }\n\n    .dataframe tbody tr th {\n        vertical-align: top;\n    }\n\n    .dataframe thead th {\n        text-align: right;\n    }\n</style>\n<table border=\"1\" class=\"dataframe\">\n  <thead>\n    <tr style=\"text-align: right;\">\n      <th></th>\n      <th>__null_dask_index__</th>\n      <th>label</th>\n      <th>feature-01</th>\n      <th>feature-02</th>\n      <th>feature-03</th>\n      <th>feature-04</th>\n      <th>feature-05</th>\n      <th>feature-06</th>\n      <th>feature-07</th>\n      <th>feature-08</th>\n      <th>...</th>\n      <th>feature-19</th>\n      <th>feature-20</th>\n      <th>feature-21</th>\n      <th>feature-22</th>\n      <th>feature-23</th>\n      <th>feature-24</th>\n      <th>feature-25</th>\n      <th>feature-26</th>\n      <th>feature-27</th>\n      <th>feature-28</th>\n    </tr>\n  </thead>\n  <tbody>\n    <tr>\n      <th>0</th>\n      <td>0</td>\n      <td>1.0</td>\n      <td>1.485302</td>\n      <td>0.400247</td>\n      <td>-0.812006</td>\n      <td>0.597350</td>\n      <td>1.529408</td>\n      <td>1.183657</td>\n      <td>-0.509004</td>\n      <td>1.387762</td>\n      <td>...</td>\n      <td>-0.341085</td>\n      <td>0.160763</td>\n      <td>0.000000</td>\n      <td>0.855138</td>\n      <td>1.011769</td>\n      <td>1.119636</td>\n      <td>0.960537</td>\n      <td>0.985170</td>\n      <td>0.939820</td>\n      <td>0.802873</td>\n    </tr>\n    <tr>\n      <th>1</th>\n      <td>1</td>\n      <td>0.0</td>\n      <td>0.736795</td>\n      <td>-1.607103</td>\n      <td>0.777777</td>\n      <td>1.905104</td>\n      <td>0.246345</td>\n      <td>2.179335</td>\n      <td>-0.665460</td>\n      <td>-1.511726</td>\n      <td>...</td>\n      <td>-1.029830</td>\n      <td>0.283399</td>\n      <td>3.101961</td>\n      <td>0.925825</td>\n      <td>1.065189</td>\n      <td>0.983639</td>\n      <td>0.887213</td>\n      <td>0.668263</td>\n      <td>0.866008</td>\n      <td>0.854103</td>\n    </tr>\n    <tr>\n      <th>2</th>\n      <td>2</td>\n      <td>1.0</td>\n      <td>0.731304</td>\n      <td>0.661271</td>\n      <td>0.273963</td>\n      <td>2.320010</td>\n      <td>-1.260483</td>\n      <td>0.779028</td>\n      <td>-0.560495</td>\n      <td>-1.423580</td>\n      <td>...</td>\n      <td>-0.351912</td>\n      <td>-0.036888</td>\n      <td>0.000000</td>\n      <td>0.898584</td>\n      <td>1.090466</td>\n      <td>1.772436</td>\n      <td>1.279596</td>\n      <td>0.747488</td>\n      <td>0.986794</td>\n      <td>0.958956</td>\n    </tr>\n    <tr>\n      <th>3</th>\n      <td>3</td>\n      <td>1.0</td>\n      <td>0.556531</td>\n      <td>0.424596</td>\n      <td>0.289499</td>\n      <td>0.984535</td>\n      <td>1.475206</td>\n      <td>1.219933</td>\n      <td>0.342594</td>\n      <td>0.779613</td>\n      <td>...</td>\n      <td>-0.681710</td>\n      <td>1.034749</td>\n      <td>3.101961</td>\n      <td>0.937095</td>\n      <td>1.056379</td>\n      <td>0.989476</td>\n      <td>0.613769</td>\n      <td>0.870377</td>\n      <td>0.767229</td>\n      <td>0.673387</td>\n    </tr>\n    <tr>\n      <th>4</th>\n      <td>4</td>\n      <td>1.0</td>\n      <td>0.486987</td>\n      <td>0.859960</td>\n      <td>-1.650956</td>\n      <td>0.724159</td>\n      <td>0.275873</td>\n      <td>0.919278</td>\n      <td>1.167456</td>\n      <td>-0.910783</td>\n      <td>...</td>\n      <td>1.630207</td>\n      <td>-0.658947</td>\n      <td>0.000000</td>\n      <td>2.282790</td>\n      <td>1.454625</td>\n      <td>0.988534</td>\n      <td>0.982069</td>\n      <td>1.391338</td>\n      <td>1.130450</td>\n      <td>0.947944</td>\n    </tr>\n  </tbody>\n</table>\n<p>5 rows × 30 columns</p>\n</div>",
       "datasetInfos": [],
       "metadata": {},
       "removedWidgets": [],
       "textData": null,
       "type": "htmlSandbox"
      }
     }
    }
   ],
   "source": [
    "dd = ddt.read_deltalake(\"/dbfs/user/hive/warehouse/part10_higgs/\")\n",
    "dd.head()"
   ]
  },
  {
   "cell_type": "code",
   "execution_count": 0,
   "metadata": {
    "application/vnd.databricks.v1+cell": {
     "cellMetadata": {
      "byteLimit": 2048000,
      "rowLimit": 10000
     },
     "inputWidgets": {},
     "nuid": "48193ccf-c36e-4c96-9a05-e038192b4418",
     "showTitle": false,
     "title": ""
    }
   },
   "outputs": [
    {
     "output_type": "display_data",
     "data": {
      "text/html": [
       "<div><strong>Dask DataFrame Structure:</strong></div>\n",
       "<div>\n",
       "<style scoped>\n",
       "    .dataframe tbody tr th:only-of-type {\n",
       "        vertical-align: middle;\n",
       "    }\n",
       "\n",
       "    .dataframe tbody tr th {\n",
       "        vertical-align: top;\n",
       "    }\n",
       "\n",
       "    .dataframe thead th {\n",
       "        text-align: right;\n",
       "    }\n",
       "</style>\n",
       "<table border=\"1\" class=\"dataframe\">\n",
       "  <thead>\n",
       "    <tr style=\"text-align: right;\">\n",
       "      <th></th>\n",
       "      <th>__null_dask_index__</th>\n",
       "      <th>label</th>\n",
       "      <th>feature-01</th>\n",
       "      <th>feature-02</th>\n",
       "      <th>feature-03</th>\n",
       "      <th>feature-04</th>\n",
       "      <th>feature-05</th>\n",
       "      <th>feature-06</th>\n",
       "      <th>feature-07</th>\n",
       "      <th>feature-08</th>\n",
       "      <th>feature-09</th>\n",
       "      <th>feature-10</th>\n",
       "      <th>feature-11</th>\n",
       "      <th>feature-12</th>\n",
       "      <th>feature-13</th>\n",
       "      <th>feature-14</th>\n",
       "      <th>feature-15</th>\n",
       "      <th>feature-16</th>\n",
       "      <th>feature-17</th>\n",
       "      <th>feature-18</th>\n",
       "      <th>feature-19</th>\n",
       "      <th>feature-20</th>\n",
       "      <th>feature-21</th>\n",
       "      <th>feature-22</th>\n",
       "      <th>feature-23</th>\n",
       "      <th>feature-24</th>\n",
       "      <th>feature-25</th>\n",
       "      <th>feature-26</th>\n",
       "      <th>feature-27</th>\n",
       "      <th>feature-28</th>\n",
       "    </tr>\n",
       "    <tr>\n",
       "      <th>npartitions=1</th>\n",
       "      <th></th>\n",
       "      <th></th>\n",
       "      <th></th>\n",
       "      <th></th>\n",
       "      <th></th>\n",
       "      <th></th>\n",
       "      <th></th>\n",
       "      <th></th>\n",
       "      <th></th>\n",
       "      <th></th>\n",
       "      <th></th>\n",
       "      <th></th>\n",
       "      <th></th>\n",
       "      <th></th>\n",
       "      <th></th>\n",
       "      <th></th>\n",
       "      <th></th>\n",
       "      <th></th>\n",
       "      <th></th>\n",
       "      <th></th>\n",
       "      <th></th>\n",
       "      <th></th>\n",
       "      <th></th>\n",
       "      <th></th>\n",
       "      <th></th>\n",
       "      <th></th>\n",
       "      <th></th>\n",
       "      <th></th>\n",
       "      <th></th>\n",
       "      <th></th>\n",
       "    </tr>\n",
       "  </thead>\n",
       "  <tbody>\n",
       "    <tr>\n",
       "      <th></th>\n",
       "      <td>int64</td>\n",
       "      <td>float32</td>\n",
       "      <td>float32</td>\n",
       "      <td>float32</td>\n",
       "      <td>float32</td>\n",
       "      <td>float32</td>\n",
       "      <td>float32</td>\n",
       "      <td>float32</td>\n",
       "      <td>float32</td>\n",
       "      <td>float32</td>\n",
       "      <td>float32</td>\n",
       "      <td>float32</td>\n",
       "      <td>float32</td>\n",
       "      <td>float32</td>\n",
       "      <td>float32</td>\n",
       "      <td>float32</td>\n",
       "      <td>float32</td>\n",
       "      <td>float32</td>\n",
       "      <td>float32</td>\n",
       "      <td>float32</td>\n",
       "      <td>float32</td>\n",
       "      <td>float32</td>\n",
       "      <td>float32</td>\n",
       "      <td>float32</td>\n",
       "      <td>float32</td>\n",
       "      <td>float32</td>\n",
       "      <td>float32</td>\n",
       "      <td>float32</td>\n",
       "      <td>float32</td>\n",
       "      <td>float32</td>\n",
       "    </tr>\n",
       "    <tr>\n",
       "      <th></th>\n",
       "      <td>...</td>\n",
       "      <td>...</td>\n",
       "      <td>...</td>\n",
       "      <td>...</td>\n",
       "      <td>...</td>\n",
       "      <td>...</td>\n",
       "      <td>...</td>\n",
       "      <td>...</td>\n",
       "      <td>...</td>\n",
       "      <td>...</td>\n",
       "      <td>...</td>\n",
       "      <td>...</td>\n",
       "      <td>...</td>\n",
       "      <td>...</td>\n",
       "      <td>...</td>\n",
       "      <td>...</td>\n",
       "      <td>...</td>\n",
       "      <td>...</td>\n",
       "      <td>...</td>\n",
       "      <td>...</td>\n",
       "      <td>...</td>\n",
       "      <td>...</td>\n",
       "      <td>...</td>\n",
       "      <td>...</td>\n",
       "      <td>...</td>\n",
       "      <td>...</td>\n",
       "      <td>...</td>\n",
       "      <td>...</td>\n",
       "      <td>...</td>\n",
       "      <td>...</td>\n",
       "    </tr>\n",
       "  </tbody>\n",
       "</table>\n",
       "</div>\n",
       "<div>Dask Name: from_pandas, 2 graph layers</div>"
      ]
     },
     "metadata": {
      "application/vnd.databricks.v1+output": {
       "addedWidgets": {},
       "arguments": {},
       "data": "<div><strong>Dask DataFrame Structure:</strong></div>\n<div>\n<style scoped>\n    .dataframe tbody tr th:only-of-type {\n        vertical-align: middle;\n    }\n\n    .dataframe tbody tr th {\n        vertical-align: top;\n    }\n\n    .dataframe thead th {\n        text-align: right;\n    }\n</style>\n<table border=\"1\" class=\"dataframe\">\n  <thead>\n    <tr style=\"text-align: right;\">\n      <th></th>\n      <th>__null_dask_index__</th>\n      <th>label</th>\n      <th>feature-01</th>\n      <th>feature-02</th>\n      <th>feature-03</th>\n      <th>feature-04</th>\n      <th>feature-05</th>\n      <th>feature-06</th>\n      <th>feature-07</th>\n      <th>feature-08</th>\n      <th>feature-09</th>\n      <th>feature-10</th>\n      <th>feature-11</th>\n      <th>feature-12</th>\n      <th>feature-13</th>\n      <th>feature-14</th>\n      <th>feature-15</th>\n      <th>feature-16</th>\n      <th>feature-17</th>\n      <th>feature-18</th>\n      <th>feature-19</th>\n      <th>feature-20</th>\n      <th>feature-21</th>\n      <th>feature-22</th>\n      <th>feature-23</th>\n      <th>feature-24</th>\n      <th>feature-25</th>\n      <th>feature-26</th>\n      <th>feature-27</th>\n      <th>feature-28</th>\n    </tr>\n    <tr>\n      <th>npartitions=1</th>\n      <th></th>\n      <th></th>\n      <th></th>\n      <th></th>\n      <th></th>\n      <th></th>\n      <th></th>\n      <th></th>\n      <th></th>\n      <th></th>\n      <th></th>\n      <th></th>\n      <th></th>\n      <th></th>\n      <th></th>\n      <th></th>\n      <th></th>\n      <th></th>\n      <th></th>\n      <th></th>\n      <th></th>\n      <th></th>\n      <th></th>\n      <th></th>\n      <th></th>\n      <th></th>\n      <th></th>\n      <th></th>\n      <th></th>\n      <th></th>\n    </tr>\n  </thead>\n  <tbody>\n    <tr>\n      <th></th>\n      <td>int64</td>\n      <td>float32</td>\n      <td>float32</td>\n      <td>float32</td>\n      <td>float32</td>\n      <td>float32</td>\n      <td>float32</td>\n      <td>float32</td>\n      <td>float32</td>\n      <td>float32</td>\n      <td>float32</td>\n      <td>float32</td>\n      <td>float32</td>\n      <td>float32</td>\n      <td>float32</td>\n      <td>float32</td>\n      <td>float32</td>\n      <td>float32</td>\n      <td>float32</td>\n      <td>float32</td>\n      <td>float32</td>\n      <td>float32</td>\n      <td>float32</td>\n      <td>float32</td>\n      <td>float32</td>\n      <td>float32</td>\n      <td>float32</td>\n      <td>float32</td>\n      <td>float32</td>\n      <td>float32</td>\n    </tr>\n    <tr>\n      <th></th>\n      <td>...</td>\n      <td>...</td>\n      <td>...</td>\n      <td>...</td>\n      <td>...</td>\n      <td>...</td>\n      <td>...</td>\n      <td>...</td>\n      <td>...</td>\n      <td>...</td>\n      <td>...</td>\n      <td>...</td>\n      <td>...</td>\n      <td>...</td>\n      <td>...</td>\n      <td>...</td>\n      <td>...</td>\n      <td>...</td>\n      <td>...</td>\n      <td>...</td>\n      <td>...</td>\n      <td>...</td>\n      <td>...</td>\n      <td>...</td>\n      <td>...</td>\n      <td>...</td>\n      <td>...</td>\n      <td>...</td>\n      <td>...</td>\n      <td>...</td>\n    </tr>\n  </tbody>\n</table>\n</div>\n<div>Dask Name: from_pandas, 2 graph layers</div>",
       "datasetInfos": [],
       "metadata": {},
       "removedWidgets": [],
       "textData": null,
       "type": "htmlSandbox"
      }
     }
    }
   ],
   "source": [
    "ddf = dask_cudf.from_dask_dataframe(dd)\n",
    "ddf"
   ]
  },
  {
   "cell_type": "code",
   "execution_count": 0,
   "metadata": {
    "application/vnd.databricks.v1+cell": {
     "cellMetadata": {
      "byteLimit": 2048000,
      "rowLimit": 10000
     },
     "inputWidgets": {},
     "nuid": "0923f0ba-a286-4353-b201-447bba6c9aec",
     "showTitle": false,
     "title": ""
    }
   },
   "outputs": [
    {
     "output_type": "stream",
     "name": "stdout",
     "text": [
      "Out[9]: dask_cudf.core.DataFrame"
     ]
    }
   ],
   "source": [
    "type(ddf)"
   ]
  },
  {
   "cell_type": "code",
   "execution_count": 0,
   "metadata": {
    "application/vnd.databricks.v1+cell": {
     "cellMetadata": {
      "byteLimit": 2048000,
      "rowLimit": 10000
     },
     "inputWidgets": {},
     "nuid": "e7a58d95-f1b1-4f01-9f44-629166d6fc28",
     "showTitle": false,
     "title": ""
    }
   },
   "outputs": [],
   "source": [
    "# def read_deltatable():\n",
    "#   # The next three lines should be run only ONCE!\n",
    "#   data = spark.read.load(\"dbfs:/dbfs/databricks/skirui/part_10.parquet\",\n",
    "#                           format=\"parquet\")\n",
    "\n",
    "#   # Write to Delta table using the schema inferred from `data`\n",
    "#   table_name = 'part10_higgs'\n",
    "#   data.write.saveAsTable(table_name)\n",
    "#   display(spark.sql('DESCRIBE DETAIL part10_higgs'))\n",
    "\n",
    "#   # read from delta table using dask\n",
    "#   dd = ddt.read_deltalake(\"/dbfs/user/hive/warehouse/part10_higgs/\")\n",
    "\n",
    "#   # dask.config.set({\"dataframe.backend\": \"cudf\"})\n",
    "#   ddf = dask_cudf.from_dask_dataframe(dd)\n",
    "#   return ddf"
   ]
  },
  {
   "cell_type": "markdown",
   "metadata": {
    "application/vnd.databricks.v1+cell": {
     "cellMetadata": {},
     "inputWidgets": {},
     "nuid": "79d52d53-c22b-485c-82f5-7c6e8e9f486a",
     "showTitle": false,
     "title": ""
    }
   },
   "source": [
    "After data loading, we prepare the training/validation splits:"
   ]
  },
  {
   "cell_type": "code",
   "execution_count": 0,
   "metadata": {
    "application/vnd.databricks.v1+cell": {
     "cellMetadata": {
      "byteLimit": 2048000,
      "rowLimit": 10000
     },
     "inputWidgets": {},
     "nuid": "7f2f4238-a2a0-445a-a5f5-ee1e554a7548",
     "showTitle": false,
     "title": ""
    }
   },
   "outputs": [],
   "source": [
    "from distributed import wait\n",
    "\n",
    "\n",
    "def load_higgs(\n",
    "    ddf,\n",
    ") -> Tuple[\n",
    "    dask_cudf.core.DataFrame,\n",
    "    dask_cudf.core.Series,\n",
    "    dask_cudf.core.DataFrame,\n",
    "    dask_cudf.core.Series,\n",
    "]:\n",
    "    df = ddf.copy()\n",
    "    y = df[\"label\"]\n",
    "    X = df[df.columns.difference([\"label\"])]\n",
    "\n",
    "    X_train, X_valid, y_train, y_valid = train_test_split(\n",
    "        X, y, test_size=0.33, random_state=42\n",
    "    )\n",
    "    X_train, X_valid, y_train, y_valid = client.persist(\n",
    "        [X_train, X_valid, y_train, y_valid]\n",
    "    )\n",
    "    wait([X_train, X_valid, y_train, y_valid])\n",
    "\n",
    "    return X_train, X_valid, y_train, y_valid"
   ]
  },
  {
   "cell_type": "code",
   "execution_count": 0,
   "metadata": {
    "application/vnd.databricks.v1+cell": {
     "cellMetadata": {
      "byteLimit": 2048000,
      "rowLimit": 10000
     },
     "inputWidgets": {},
     "nuid": "8539a1aa-fc35-4add-a067-81ca7ceaea5a",
     "showTitle": false,
     "title": ""
    }
   },
   "outputs": [
    {
     "output_type": "stream",
     "name": "stderr",
     "text": [
      "/databricks/python/lib/python3.10/site-packages/dask_ml/model_selection/_split.py:462: FutureWarning: The default value for 'shuffle' must be specified when splitting DataFrames. In the future DataFrames will automatically be shuffled within blocks prior to splitting. Specify 'shuffle=True' to adopt the future behavior now, or 'shuffle=False' to retain the previous behavior.\n  warnings.warn(\n"
     ]
    }
   ],
   "source": [
    "X_train, X_valid, y_train, y_valid = load_higgs(ddf)"
   ]
  },
  {
   "cell_type": "code",
   "execution_count": 0,
   "metadata": {
    "application/vnd.databricks.v1+cell": {
     "cellMetadata": {
      "byteLimit": 2048000,
      "rowLimit": 10000
     },
     "inputWidgets": {},
     "nuid": "0073b011-2a1b-4689-bce8-a2ad9609c157",
     "showTitle": false,
     "title": ""
    }
   },
   "outputs": [
    {
     "output_type": "stream",
     "name": "stdout",
     "text": [
      "len(X_train): 245918\nlen(X_valid): 121549\nlen(y_train): 245918\nlen(y_valid): 121549\n"
     ]
    }
   ],
   "source": [
    "print(f\"len(X_train): {len(X_train)}\")\n",
    "print(f\"len(X_valid): {len(X_valid)}\")\n",
    "print(f\"len(y_train): {len(y_train)}\")\n",
    "print(f\"len(y_valid): {len(y_valid)}\")"
   ]
  },
  {
   "cell_type": "markdown",
   "metadata": {
    "application/vnd.databricks.v1+cell": {
     "cellMetadata": {},
     "inputWidgets": {},
     "nuid": "0795499a-7f49-448d-8099-2bfedb7d6afa",
     "showTitle": false,
     "title": ""
    }
   },
   "source": [
    "In the preceding example, we use dask-cudf for loading data from the disk, and the train_test_split function from dask-ml for splitting up the dataset.  Most of the time, the GPU backend of dask works seamlessly with utilities in dask-ml and we can accelerate the entire ML pipeline."
   ]
  },
  {
   "cell_type": "markdown",
   "metadata": {
    "application/vnd.databricks.v1+cell": {
     "cellMetadata": {},
     "inputWidgets": {},
     "nuid": "9190527c-ad0c-4f96-ac60-d38f6e0fd615",
     "showTitle": false,
     "title": ""
    }
   },
   "source": [
    "## Training with early stopping\n",
    "One of the most frequently requested features is early stopping support for the Dask interface.  In the XGBoost 1.4 release, not only can we specify the number of stopping rounds, but also develop customized early stopping strategies.  For the simplest case, providing stopping rounds to the train function enables early stopping:\n",
    "\n",
    "There are two things to notice here.  Firstly, we specify the number of rounds to trigger early stopping for training.  XGBoost will stop the training process once the validation metric fails to improve in consecutive X rounds, where X is the number of rounds specified for early stopping.  Secondly, we use a data type called DaskDeviceQuantileDMatrix for training but DaskDMatrix for validation.  DaskDeviceQuantileDMatrix is a drop-in replacement of DaskDMatrix for GPU-based training inputs that avoids extra data copies."
   ]
  },
  {
   "cell_type": "code",
   "execution_count": 0,
   "metadata": {
    "application/vnd.databricks.v1+cell": {
     "cellMetadata": {
      "byteLimit": 2048000,
      "rowLimit": 10000
     },
     "inputWidgets": {},
     "nuid": "4cb51330-5aae-4837-a91b-fac361837ed3",
     "showTitle": false,
     "title": ""
    }
   },
   "outputs": [
    {
     "output_type": "stream",
     "name": "stdout",
     "text": [
      "Package                      Version\r\n---------------------------- -------------\r\nabsl-py                      1.4.0\r\nasttokens                    2.2.1\r\nastunparse                   1.6.3\r\nbackcall                     0.2.0\r\nblinker                      1.4\r\nbokeh                        3.2.2\r\ncachetools                   5.3.1\r\ncertifi                      2023.7.22\r\ncharset-normalizer           3.2.0\r\nclick                        8.1.7\r\ncloudpickle                  3.0.0\r\ncomm                         0.1.3\r\ncontourpy                    1.1.0\r\ncryptography                 3.4.8\r\ncubinlinker-cu11             0.3.0.post1\r\ncuda-python                  11.8.3\r\ncudf-cu11                    23.10.2\r\ncuml-cu11                    23.10.0\r\ncupy-cuda11x                 12.2.0\r\ncycler                       0.11.0\r\ndask                         2023.9.2\r\ndask-cuda                    23.10.0\r\ndask-cudf-cu11               23.10.2\r\ndask-databricks              0.3.0\r\ndask-deltatable              0.3.1\r\ndask-glm                     0.3.1\r\ndask-ml                      2023.3.24\r\ndatabricks-sdk               0.1.6\r\ndbus-python                  1.2.18\r\ndebugpy                      1.6.7\r\ndecorator                    5.1.1\r\ndeltalake                    0.13.0\r\ndistlib                      0.3.7\r\ndistributed                  2023.9.2\r\ndistro                       1.7.0\r\ndistro-info                  1.1build1\r\nexecuting                    1.2.0\r\nfastrlock                    0.8.2\r\nfilelock                     3.12.2\r\nflatbuffers                  23.5.26\r\nfonttools                    4.41.1\r\nfsspec                       2023.10.0\r\ngast                         0.4.0\r\ngoogle-auth                  2.22.0\r\ngoogle-auth-oauthlib         1.0.0\r\ngoogle-pasta                 0.2.0\r\ngoogleapis-common-protos     1.60.0\r\ngrpcio                       1.48.2\r\ngrpcio-status                1.48.1\r\nh5py                         3.9.0\r\nhttplib2                     0.20.2\r\nidna                         3.4\r\nimportlib-metadata           6.8.0\r\nipykernel                    6.25.0\r\nipython                      8.14.0\r\nipython-genutils             0.2.0\r\njedi                         0.18.1\r\njeepney                      0.7.1\r\nJinja2                       3.1.2\r\njoblib                       1.3.2\r\njupyter_client               8.3.0\r\njupyter_core                 5.3.1\r\nkeras                        2.13.1\r\nkeyring                      23.5.0\r\nkiwisolver                   1.4.4\r\nlaunchpadlib                 1.10.16\r\nlazr.restfulclient           0.14.4\r\nlazr.uri                     1.0.6\r\nlibclang                     16.0.6\r\nllvmlite                     0.40.1\r\nlocket                       1.0.0\r\nlz4                          4.3.2\r\nMarkdown                     3.4.4\r\nmarkdown-it-py               3.0.0\r\nMarkupSafe                   2.1.3\r\nmatplotlib                   3.7.0\r\nmatplotlib-inline            0.1.6\r\nmdurl                        0.1.2\r\nmore-itertools               8.10.0\r\nmsgpack                      1.0.7\r\nmultipledispatch             1.0.0\r\nnest-asyncio                 1.5.7\r\nnumba                        0.57.1\r\nnumpy                        1.23.5\r\nnvtx                         0.2.8\r\noauthlib                     3.2.0\r\nopt-einsum                   3.3.0\r\npackaging                    23.1\r\npandas                       1.5.3\r\nparso                        0.8.3\r\npartd                        1.4.1\r\npexpect                      4.8.0\r\npickleshare                  0.7.5\r\nPillow                       10.0.0\r\npip                          22.3.1\r\nplatformdirs                 2.6.2\r\nprompt-toolkit               3.0.39\r\nprotobuf                     4.23.3\r\npsutil                       5.9.5\r\nptxcompiler-cu11             0.7.0.post1\r\nptyprocess                   0.7.0\r\npure-eval                    0.2.2\r\npyarrow                      12.0.1\r\npyasn1                       0.5.0\r\npyasn1-modules               0.3.0\r\nPygments                     2.15.1\r\nPyGObject                    3.42.1\r\nPyJWT                        2.3.0\r\npylibraft-cu11               23.10.0\r\npynvml                       11.4.1\r\npyparsing                    2.4.7\r\npython-apt                   2.4.0+ubuntu1\r\npython-dateutil              2.8.2\r\npytz                         2023.3\r\nPyYAML                       6.0.1\r\npyzmq                        25.1.0\r\nraft-dask-cu11               23.10.0\r\nrequests                     2.28.2\r\nrequests-oauthlib            1.3.1\r\nrich                         13.7.0\r\nrmm-cu11                     23.10.0\r\nrsa                          4.9\r\nscikit-learn                 1.3.2\r\nscipy                        1.11.4\r\nSecretStorage                3.3.1\r\nsetuptools                   65.5.1\r\nsix                          1.16.0\r\nsortedcontainers             2.4.0\r\nsparse                       0.14.0\r\nstack-data                   0.6.2\r\ntblib                        3.0.0\r\ntensorboard                  2.13.0\r\ntensorboard-data-server      0.7.1\r\ntensorflow                   2.13.0\r\ntensorflow-estimator         2.13.0\r\ntensorflow-io-gcs-filesystem 0.32.0\r\ntermcolor                    2.3.0\r\nthreadpoolctl                3.2.0\r\ntoolz                        0.12.0\r\ntornado                      6.3.2\r\ntraitlets                    5.9.0\r\ntreelite                     3.9.1\r\ntreelite-runtime             3.9.1\r\ntyping_extensions            4.5.0\r\nucx-py-cu11                  0.34.0\r\nunattended-upgrades          0.1\r\nurllib3                      1.26.16\r\nvirtualenv                   20.16.7\r\nwadllib                      1.3.6\r\nwcwidth                      0.2.6\r\nWerkzeug                     2.3.6\r\nwheel                        0.38.4\r\nwrapt                        1.15.0\r\nxgboost                      2.0.2\r\nxyzservices                  2023.10.1\r\nzict                         3.0.0\r\nzipp                         1.0.0\r\n\r\n\u001b[1m[\u001b[0m\u001b[34;49mnotice\u001b[0m\u001b[1;39;49m]\u001b[0m\u001b[39;49m A new release of pip available: \u001b[0m\u001b[31;49m22.3.1\u001b[0m\u001b[39;49m -> \u001b[0m\u001b[32;49m23.3.1\u001b[0m\r\n\u001b[1m[\u001b[0m\u001b[34;49mnotice\u001b[0m\u001b[1;39;49m]\u001b[0m\u001b[39;49m To update, run: \u001b[0m\u001b[32;49mpip install --upgrade pip\u001b[0m\r\n"
     ]
    }
   ],
   "source": [
    "!pip list"
   ]
  },
  {
   "cell_type": "code",
   "execution_count": 0,
   "metadata": {
    "application/vnd.databricks.v1+cell": {
     "cellMetadata": {
      "byteLimit": 2048000,
      "rowLimit": 10000
     },
     "inputWidgets": {},
     "nuid": "514a1d11-8257-4920-a25d-bb2401b9dd43",
     "showTitle": false,
     "title": ""
    }
   },
   "outputs": [],
   "source": [
    "def fit_model_es(client, X, y, X_valid, y_valid) -> dxgb.Booster:\n",
    "    early_stopping_rounds = 5\n",
    "    Xy = dxgb.DaskDeviceQuantileDMatrix(client, X, y)\n",
    "    Xy_valid = dxgb.DaskDMatrix(client, X_valid, y_valid)\n",
    "    # train the model\n",
    "    booster = dxgb.train(\n",
    "        client,\n",
    "        {\n",
    "            \"objective\": \"binary:logistic\",\n",
    "            \"eval_metric\": \"error\",\n",
    "            \"tree_method\": \"gpu_hist\",\n",
    "        },\n",
    "        Xy,\n",
    "        evals=[(Xy_valid, \"Valid\")],\n",
    "        num_boost_round=1000,\n",
    "        early_stopping_rounds=early_stopping_rounds,\n",
    "    )[\"booster\"]\n",
    "    return booster"
   ]
  },
  {
   "cell_type": "code",
   "execution_count": 0,
   "metadata": {
    "application/vnd.databricks.v1+cell": {
     "cellMetadata": {
      "byteLimit": 2048000,
      "rowLimit": 10000
     },
     "inputWidgets": {},
     "nuid": "3f3f8935-4f76-47c1-9280-386df3e6a49d",
     "showTitle": false,
     "title": ""
    }
   },
   "outputs": [
    {
     "output_type": "stream",
     "name": "stderr",
     "text": [
      "/databricks/python/lib/python3.10/site-packages/xgboost/dask.py:704: FutureWarning: Please use `DaskQuantileDMatrix` instead.\n  warnings.warn(\"Please use `DaskQuantileDMatrix` instead.\", FutureWarning)\n"
     ]
    },
    {
     "output_type": "display_data",
     "data": {
      "text/plain": [
       "\u001b[0;31m---------------------------------------------------------------------------\u001b[0m\n",
       "\u001b[0;31mXGBoostError\u001b[0m                              Traceback (most recent call last)\n",
       "File \u001b[0;32m<command-241619327411160>:1\u001b[0m\n",
       "\u001b[0;32m----> 1\u001b[0m booster \u001b[38;5;241m=\u001b[39m fit_model_es(client, X\u001b[38;5;241m=\u001b[39mX_train, y\u001b[38;5;241m=\u001b[39my_train, X_valid\u001b[38;5;241m=\u001b[39mX_valid, y_valid\u001b[38;5;241m=\u001b[39my_valid) \n",
       "\u001b[1;32m      2\u001b[0m booster\n",
       "\n",
       "File \u001b[0;32m<command-241619327411108>:6\u001b[0m, in \u001b[0;36mfit_model_es\u001b[0;34m(client, X, y, X_valid, y_valid)\u001b[0m\n",
       "\u001b[1;32m      4\u001b[0m Xy_valid \u001b[38;5;241m=\u001b[39m dxgb\u001b[38;5;241m.\u001b[39mDaskDMatrix(client, X_valid, y_valid)\n",
       "\u001b[1;32m      5\u001b[0m \u001b[38;5;66;03m# train the model\u001b[39;00m\n",
       "\u001b[0;32m----> 6\u001b[0m booster \u001b[38;5;241m=\u001b[39m \u001b[43mdxgb\u001b[49m\u001b[38;5;241;43m.\u001b[39;49m\u001b[43mtrain\u001b[49m\u001b[43m(\u001b[49m\n",
       "\u001b[1;32m      7\u001b[0m \u001b[43m    \u001b[49m\u001b[43mclient\u001b[49m\u001b[43m,\u001b[49m\n",
       "\u001b[1;32m      8\u001b[0m \u001b[43m    \u001b[49m\u001b[43m{\u001b[49m\n",
       "\u001b[1;32m      9\u001b[0m \u001b[43m        \u001b[49m\u001b[38;5;124;43m\"\u001b[39;49m\u001b[38;5;124;43mobjective\u001b[39;49m\u001b[38;5;124;43m\"\u001b[39;49m\u001b[43m:\u001b[49m\u001b[43m \u001b[49m\u001b[38;5;124;43m\"\u001b[39;49m\u001b[38;5;124;43mbinary:logistic\u001b[39;49m\u001b[38;5;124;43m\"\u001b[39;49m\u001b[43m,\u001b[49m\n",
       "\u001b[1;32m     10\u001b[0m \u001b[43m        \u001b[49m\u001b[38;5;124;43m\"\u001b[39;49m\u001b[38;5;124;43meval_metric\u001b[39;49m\u001b[38;5;124;43m\"\u001b[39;49m\u001b[43m:\u001b[49m\u001b[43m \u001b[49m\u001b[38;5;124;43m\"\u001b[39;49m\u001b[38;5;124;43merror\u001b[39;49m\u001b[38;5;124;43m\"\u001b[39;49m\u001b[43m,\u001b[49m\n",
       "\u001b[1;32m     11\u001b[0m \u001b[43m        \u001b[49m\u001b[38;5;124;43m\"\u001b[39;49m\u001b[38;5;124;43mtree_method\u001b[39;49m\u001b[38;5;124;43m\"\u001b[39;49m\u001b[43m:\u001b[49m\u001b[43m \u001b[49m\u001b[38;5;124;43m\"\u001b[39;49m\u001b[38;5;124;43mgpu_hist\u001b[39;49m\u001b[38;5;124;43m\"\u001b[39;49m\u001b[43m,\u001b[49m\n",
       "\u001b[1;32m     12\u001b[0m \u001b[43m    \u001b[49m\u001b[43m}\u001b[49m\u001b[43m,\u001b[49m\n",
       "\u001b[1;32m     13\u001b[0m \u001b[43m    \u001b[49m\u001b[43mXy\u001b[49m\u001b[43m,\u001b[49m\n",
       "\u001b[1;32m     14\u001b[0m \u001b[43m    \u001b[49m\u001b[43mevals\u001b[49m\u001b[38;5;241;43m=\u001b[39;49m\u001b[43m[\u001b[49m\u001b[43m(\u001b[49m\u001b[43mXy_valid\u001b[49m\u001b[43m,\u001b[49m\u001b[43m \u001b[49m\u001b[38;5;124;43m\"\u001b[39;49m\u001b[38;5;124;43mValid\u001b[39;49m\u001b[38;5;124;43m\"\u001b[39;49m\u001b[43m)\u001b[49m\u001b[43m]\u001b[49m\u001b[43m,\u001b[49m\n",
       "\u001b[1;32m     15\u001b[0m \u001b[43m    \u001b[49m\u001b[43mnum_boost_round\u001b[49m\u001b[38;5;241;43m=\u001b[39;49m\u001b[38;5;241;43m1000\u001b[39;49m\u001b[43m,\u001b[49m\n",
       "\u001b[1;32m     16\u001b[0m \u001b[43m    \u001b[49m\u001b[43mearly_stopping_rounds\u001b[49m\u001b[38;5;241;43m=\u001b[39;49m\u001b[43mearly_stopping_rounds\u001b[49m\u001b[43m,\u001b[49m\n",
       "\u001b[1;32m     17\u001b[0m \u001b[43m\u001b[49m\u001b[43m)\u001b[49m[\u001b[38;5;124m\"\u001b[39m\u001b[38;5;124mbooster\u001b[39m\u001b[38;5;124m\"\u001b[39m]\n",
       "\u001b[1;32m     18\u001b[0m \u001b[38;5;28;01mreturn\u001b[39;00m booster\n",
       "\n",
       "File \u001b[0;32m/databricks/python/lib/python3.10/site-packages/xgboost/core.py:729\u001b[0m, in \u001b[0;36mrequire_keyword_args.<locals>.throw_if.<locals>.inner_f\u001b[0;34m(*args, **kwargs)\u001b[0m\n",
       "\u001b[1;32m    727\u001b[0m \u001b[38;5;28;01mfor\u001b[39;00m k, arg \u001b[38;5;129;01min\u001b[39;00m \u001b[38;5;28mzip\u001b[39m(sig\u001b[38;5;241m.\u001b[39mparameters, args):\n",
       "\u001b[1;32m    728\u001b[0m     kwargs[k] \u001b[38;5;241m=\u001b[39m arg\n",
       "\u001b[0;32m--> 729\u001b[0m \u001b[38;5;28;01mreturn\u001b[39;00m \u001b[43mfunc\u001b[49m\u001b[43m(\u001b[49m\u001b[38;5;241;43m*\u001b[39;49m\u001b[38;5;241;43m*\u001b[39;49m\u001b[43mkwargs\u001b[49m\u001b[43m)\u001b[49m\n",
       "\n",
       "File \u001b[0;32m/databricks/python/lib/python3.10/site-packages/xgboost/dask.py:1079\u001b[0m, in \u001b[0;36mtrain\u001b[0;34m(client, params, dtrain, num_boost_round, evals, obj, feval, early_stopping_rounds, xgb_model, verbose_eval, callbacks, custom_metric)\u001b[0m\n",
       "\u001b[1;32m   1077\u001b[0m client \u001b[38;5;241m=\u001b[39m _xgb_get_client(client)\n",
       "\u001b[1;32m   1078\u001b[0m args \u001b[38;5;241m=\u001b[39m \u001b[38;5;28mlocals\u001b[39m()\n",
       "\u001b[0;32m-> 1079\u001b[0m \u001b[38;5;28;01mreturn\u001b[39;00m \u001b[43mclient\u001b[49m\u001b[38;5;241;43m.\u001b[39;49m\u001b[43msync\u001b[49m\u001b[43m(\u001b[49m\n",
       "\u001b[1;32m   1080\u001b[0m \u001b[43m    \u001b[49m\u001b[43m_train_async\u001b[49m\u001b[43m,\u001b[49m\n",
       "\u001b[1;32m   1081\u001b[0m \u001b[43m    \u001b[49m\u001b[43mglobal_config\u001b[49m\u001b[38;5;241;43m=\u001b[39;49m\u001b[43mconfig\u001b[49m\u001b[38;5;241;43m.\u001b[39;49m\u001b[43mget_config\u001b[49m\u001b[43m(\u001b[49m\u001b[43m)\u001b[49m\u001b[43m,\u001b[49m\n",
       "\u001b[1;32m   1082\u001b[0m \u001b[43m    \u001b[49m\u001b[43mdconfig\u001b[49m\u001b[38;5;241;43m=\u001b[39;49m\u001b[43m_get_dask_config\u001b[49m\u001b[43m(\u001b[49m\u001b[43m)\u001b[49m\u001b[43m,\u001b[49m\n",
       "\u001b[1;32m   1083\u001b[0m \u001b[43m    \u001b[49m\u001b[38;5;241;43m*\u001b[39;49m\u001b[38;5;241;43m*\u001b[39;49m\u001b[43margs\u001b[49m\u001b[43m,\u001b[49m\n",
       "\u001b[1;32m   1084\u001b[0m \u001b[43m\u001b[49m\u001b[43m)\u001b[49m\n",
       "\n",
       "File \u001b[0;32m/databricks/python/lib/python3.10/site-packages/distributed/utils.py:359\u001b[0m, in \u001b[0;36mSyncMethodMixin.sync\u001b[0;34m(self, func, asynchronous, callback_timeout, *args, **kwargs)\u001b[0m\n",
       "\u001b[1;32m    357\u001b[0m     \u001b[38;5;28;01mreturn\u001b[39;00m future\n",
       "\u001b[1;32m    358\u001b[0m \u001b[38;5;28;01melse\u001b[39;00m:\n",
       "\u001b[0;32m--> 359\u001b[0m     \u001b[38;5;28;01mreturn\u001b[39;00m \u001b[43msync\u001b[49m\u001b[43m(\u001b[49m\n",
       "\u001b[1;32m    360\u001b[0m \u001b[43m        \u001b[49m\u001b[38;5;28;43mself\u001b[39;49m\u001b[38;5;241;43m.\u001b[39;49m\u001b[43mloop\u001b[49m\u001b[43m,\u001b[49m\u001b[43m \u001b[49m\u001b[43mfunc\u001b[49m\u001b[43m,\u001b[49m\u001b[43m \u001b[49m\u001b[38;5;241;43m*\u001b[39;49m\u001b[43margs\u001b[49m\u001b[43m,\u001b[49m\u001b[43m \u001b[49m\u001b[43mcallback_timeout\u001b[49m\u001b[38;5;241;43m=\u001b[39;49m\u001b[43mcallback_timeout\u001b[49m\u001b[43m,\u001b[49m\u001b[43m \u001b[49m\u001b[38;5;241;43m*\u001b[39;49m\u001b[38;5;241;43m*\u001b[39;49m\u001b[43mkwargs\u001b[49m\n",
       "\u001b[1;32m    361\u001b[0m \u001b[43m    \u001b[49m\u001b[43m)\u001b[49m\n",
       "\n",
       "File \u001b[0;32m/databricks/python/lib/python3.10/site-packages/distributed/utils.py:426\u001b[0m, in \u001b[0;36msync\u001b[0;34m(loop, func, callback_timeout, *args, **kwargs)\u001b[0m\n",
       "\u001b[1;32m    424\u001b[0m \u001b[38;5;28;01mif\u001b[39;00m error:\n",
       "\u001b[1;32m    425\u001b[0m     typ, exc, tb \u001b[38;5;241m=\u001b[39m error\n",
       "\u001b[0;32m--> 426\u001b[0m     \u001b[38;5;28;01mraise\u001b[39;00m exc\u001b[38;5;241m.\u001b[39mwith_traceback(tb)\n",
       "\u001b[1;32m    427\u001b[0m \u001b[38;5;28;01melse\u001b[39;00m:\n",
       "\u001b[1;32m    428\u001b[0m     \u001b[38;5;28;01mreturn\u001b[39;00m result\n",
       "\n",
       "File \u001b[0;32m/databricks/python/lib/python3.10/site-packages/distributed/utils.py:399\u001b[0m, in \u001b[0;36msync.<locals>.f\u001b[0;34m()\u001b[0m\n",
       "\u001b[1;32m    397\u001b[0m         future \u001b[38;5;241m=\u001b[39m wait_for(future, callback_timeout)\n",
       "\u001b[1;32m    398\u001b[0m     future \u001b[38;5;241m=\u001b[39m asyncio\u001b[38;5;241m.\u001b[39mensure_future(future)\n",
       "\u001b[0;32m--> 399\u001b[0m     result \u001b[38;5;241m=\u001b[39m \u001b[38;5;28;01myield\u001b[39;00m future\n",
       "\u001b[1;32m    400\u001b[0m \u001b[38;5;28;01mexcept\u001b[39;00m \u001b[38;5;167;01mException\u001b[39;00m:\n",
       "\u001b[1;32m    401\u001b[0m     error \u001b[38;5;241m=\u001b[39m sys\u001b[38;5;241m.\u001b[39mexc_info()\n",
       "\n",
       "File \u001b[0;32m/databricks/python/lib/python3.10/site-packages/tornado/gen.py:767\u001b[0m, in \u001b[0;36mRunner.run\u001b[0;34m(self)\u001b[0m\n",
       "\u001b[1;32m    765\u001b[0m \u001b[38;5;28;01mtry\u001b[39;00m:\n",
       "\u001b[1;32m    766\u001b[0m     \u001b[38;5;28;01mtry\u001b[39;00m:\n",
       "\u001b[0;32m--> 767\u001b[0m         value \u001b[38;5;241m=\u001b[39m \u001b[43mfuture\u001b[49m\u001b[38;5;241;43m.\u001b[39;49m\u001b[43mresult\u001b[49m\u001b[43m(\u001b[49m\u001b[43m)\u001b[49m\n",
       "\u001b[1;32m    768\u001b[0m     \u001b[38;5;28;01mexcept\u001b[39;00m \u001b[38;5;167;01mException\u001b[39;00m \u001b[38;5;28;01mas\u001b[39;00m e:\n",
       "\u001b[1;32m    769\u001b[0m         \u001b[38;5;66;03m# Save the exception for later. It's important that\u001b[39;00m\n",
       "\u001b[1;32m    770\u001b[0m         \u001b[38;5;66;03m# gen.throw() not be called inside this try/except block\u001b[39;00m\n",
       "\u001b[1;32m    771\u001b[0m         \u001b[38;5;66;03m# because that makes sys.exc_info behave unexpectedly.\u001b[39;00m\n",
       "\u001b[1;32m    772\u001b[0m         exc: Optional[\u001b[38;5;167;01mException\u001b[39;00m] \u001b[38;5;241m=\u001b[39m e\n",
       "\n",
       "File \u001b[0;32m/databricks/python/lib/python3.10/site-packages/xgboost/dask.py:1015\u001b[0m, in \u001b[0;36m_train_async\u001b[0;34m(client, global_config, dconfig, params, dtrain, num_boost_round, evals, obj, feval, early_stopping_rounds, verbose_eval, xgb_model, callbacks, custom_metric)\u001b[0m\n",
       "\u001b[1;32m   1012\u001b[0m     evals_name \u001b[38;5;241m=\u001b[39m []\n",
       "\u001b[1;32m   1013\u001b[0m     evals_id \u001b[38;5;241m=\u001b[39m []\n",
       "\u001b[0;32m-> 1015\u001b[0m results \u001b[38;5;241m=\u001b[39m \u001b[38;5;28;01mawait\u001b[39;00m map_worker_partitions(\n",
       "\u001b[1;32m   1016\u001b[0m     client,\n",
       "\u001b[1;32m   1017\u001b[0m     dispatched_train,\n",
       "\u001b[1;32m   1018\u001b[0m     \u001b[38;5;66;03m# extra function parameters\u001b[39;00m\n",
       "\u001b[1;32m   1019\u001b[0m     params,\n",
       "\u001b[1;32m   1020\u001b[0m     _rabit_args,\n",
       "\u001b[1;32m   1021\u001b[0m     \u001b[38;5;28mid\u001b[39m(dtrain),\n",
       "\u001b[1;32m   1022\u001b[0m     evals_name,\n",
       "\u001b[1;32m   1023\u001b[0m     evals_id,\n",
       "\u001b[1;32m   1024\u001b[0m     \u001b[38;5;241m*\u001b[39m([dtrain] \u001b[38;5;241m+\u001b[39m evals_data),\n",
       "\u001b[1;32m   1025\u001b[0m     \u001b[38;5;66;03m# workers to be used for training\u001b[39;00m\n",
       "\u001b[1;32m   1026\u001b[0m     workers\u001b[38;5;241m=\u001b[39mworkers,\n",
       "\u001b[1;32m   1027\u001b[0m )\n",
       "\u001b[1;32m   1028\u001b[0m \u001b[38;5;28;01mreturn\u001b[39;00m \u001b[38;5;28mlist\u001b[39m(\u001b[38;5;28mfilter\u001b[39m(\u001b[38;5;28;01mlambda\u001b[39;00m ret: ret \u001b[38;5;129;01mis\u001b[39;00m \u001b[38;5;129;01mnot\u001b[39;00m \u001b[38;5;28;01mNone\u001b[39;00m, results))[\u001b[38;5;241m0\u001b[39m]\n",
       "\n",
       "File \u001b[0;32m/databricks/python/lib/python3.10/site-packages/xgboost/dask.py:532\u001b[0m, in \u001b[0;36mmap_worker_partitions\u001b[0;34m(client, func, workers, *refs)\u001b[0m\n",
       "\u001b[1;32m    528\u001b[0m     fut \u001b[38;5;241m=\u001b[39m client\u001b[38;5;241m.\u001b[39msubmit(\n",
       "\u001b[1;32m    529\u001b[0m         func, \u001b[38;5;241m*\u001b[39margs, pure\u001b[38;5;241m=\u001b[39m\u001b[38;5;28;01mFalse\u001b[39;00m, workers\u001b[38;5;241m=\u001b[39m[addr], allow_other_workers\u001b[38;5;241m=\u001b[39m\u001b[38;5;28;01mFalse\u001b[39;00m\n",
       "\u001b[1;32m    530\u001b[0m     )\n",
       "\u001b[1;32m    531\u001b[0m     futures\u001b[38;5;241m.\u001b[39mappend(fut)\n",
       "\u001b[0;32m--> 532\u001b[0m results \u001b[38;5;241m=\u001b[39m \u001b[38;5;28;01mawait\u001b[39;00m client\u001b[38;5;241m.\u001b[39mgather(futures)\n",
       "\u001b[1;32m    533\u001b[0m \u001b[38;5;28;01mreturn\u001b[39;00m results\n",
       "\n",
       "File \u001b[0;32m/databricks/python/lib/python3.10/site-packages/distributed/client.py:2253\u001b[0m, in \u001b[0;36mClient._gather\u001b[0;34m(self, futures, errors, direct, local_worker)\u001b[0m\n",
       "\u001b[1;32m   2251\u001b[0m         exc \u001b[38;5;241m=\u001b[39m CancelledError(key)\n",
       "\u001b[1;32m   2252\u001b[0m     \u001b[38;5;28;01melse\u001b[39;00m:\n",
       "\u001b[0;32m-> 2253\u001b[0m         \u001b[38;5;28;01mraise\u001b[39;00m exception\u001b[38;5;241m.\u001b[39mwith_traceback(traceback)\n",
       "\u001b[1;32m   2254\u001b[0m     \u001b[38;5;28;01mraise\u001b[39;00m exc\n",
       "\u001b[1;32m   2255\u001b[0m \u001b[38;5;28;01mif\u001b[39;00m errors \u001b[38;5;241m==\u001b[39m \u001b[38;5;124m\"\u001b[39m\u001b[38;5;124mskip\u001b[39m\u001b[38;5;124m\"\u001b[39m:\n",
       "\n",
       "File \u001b[0;32m/databricks/python/lib/python3.10/site-packages/xgboost/dask.py:966\u001b[0m, in \u001b[0;36mdispatched_train\u001b[0;34m()\u001b[0m\n",
       "\u001b[1;32m    964\u001b[0m local_history: TrainingCallback\u001b[38;5;241m.\u001b[39mEvalsLog \u001b[38;5;241m=\u001b[39m {}\n",
       "\u001b[1;32m    965\u001b[0m \u001b[38;5;28;01mwith\u001b[39;00m CommunicatorContext(\u001b[38;5;241m*\u001b[39m\u001b[38;5;241m*\u001b[39mrabit_args), config\u001b[38;5;241m.\u001b[39mconfig_context(\u001b[38;5;241m*\u001b[39m\u001b[38;5;241m*\u001b[39mglobal_config):\n",
       "\u001b[0;32m--> 966\u001b[0m     Xy \u001b[38;5;241m=\u001b[39m _dmatrix_from_list_of_parts(\u001b[38;5;241m*\u001b[39m\u001b[38;5;241m*\u001b[39mtrain_ref, nthread\u001b[38;5;241m=\u001b[39mn_threads)\n",
       "\u001b[1;32m    967\u001b[0m     evals: List[Tuple[DMatrix, \u001b[38;5;28mstr\u001b[39m]] \u001b[38;5;241m=\u001b[39m []\n",
       "\u001b[1;32m    968\u001b[0m     \u001b[38;5;28;01mfor\u001b[39;00m i, ref \u001b[38;5;129;01min\u001b[39;00m \u001b[38;5;28menumerate\u001b[39m(refs):\n",
       "\n",
       "File \u001b[0;32m/databricks/python/lib/python3.10/site-packages/xgboost/dask.py:809\u001b[0m, in \u001b[0;36m_dmatrix_from_list_of_parts\u001b[0;34m()\u001b[0m\n",
       "\u001b[1;32m    807\u001b[0m \u001b[38;5;28;01mdef\u001b[39;00m \u001b[38;5;21m_dmatrix_from_list_of_parts\u001b[39m(is_quantile: \u001b[38;5;28mbool\u001b[39m, \u001b[38;5;241m*\u001b[39m\u001b[38;5;241m*\u001b[39mkwargs: Any) \u001b[38;5;241m-\u001b[39m\u001b[38;5;241m>\u001b[39m DMatrix:\n",
       "\u001b[1;32m    808\u001b[0m     \u001b[38;5;28;01mif\u001b[39;00m is_quantile:\n",
       "\u001b[0;32m--> 809\u001b[0m         \u001b[38;5;28;01mreturn\u001b[39;00m _create_quantile_dmatrix(\u001b[38;5;241m*\u001b[39m\u001b[38;5;241m*\u001b[39mkwargs)\n",
       "\u001b[1;32m    810\u001b[0m     \u001b[38;5;28;01mreturn\u001b[39;00m _create_dmatrix(\u001b[38;5;241m*\u001b[39m\u001b[38;5;241m*\u001b[39mkwargs)\n",
       "\n",
       "File \u001b[0;32m/databricks/python/lib/python3.10/site-packages/xgboost/dask.py:742\u001b[0m, in \u001b[0;36m_create_quantile_dmatrix\u001b[0;34m()\u001b[0m\n",
       "\u001b[1;32m    734\u001b[0m unzipped_dict \u001b[38;5;241m=\u001b[39m _get_worker_parts(parts)\n",
       "\u001b[1;32m    735\u001b[0m it \u001b[38;5;241m=\u001b[39m DaskPartitionIter(\n",
       "\u001b[1;32m    736\u001b[0m     \u001b[38;5;241m*\u001b[39m\u001b[38;5;241m*\u001b[39munzipped_dict,\n",
       "\u001b[1;32m    737\u001b[0m     feature_types\u001b[38;5;241m=\u001b[39mfeature_types,\n",
       "\u001b[1;32m    738\u001b[0m     feature_names\u001b[38;5;241m=\u001b[39mfeature_names,\n",
       "\u001b[1;32m    739\u001b[0m     feature_weights\u001b[38;5;241m=\u001b[39mfeature_weights,\n",
       "\u001b[1;32m    740\u001b[0m )\n",
       "\u001b[0;32m--> 742\u001b[0m dmatrix \u001b[38;5;241m=\u001b[39m QuantileDMatrix(\n",
       "\u001b[1;32m    743\u001b[0m     it,\n",
       "\u001b[1;32m    744\u001b[0m     missing\u001b[38;5;241m=\u001b[39mmissing,\n",
       "\u001b[1;32m    745\u001b[0m     nthread\u001b[38;5;241m=\u001b[39mnthread,\n",
       "\u001b[1;32m    746\u001b[0m     max_bin\u001b[38;5;241m=\u001b[39mmax_bin,\n",
       "\u001b[1;32m    747\u001b[0m     ref\u001b[38;5;241m=\u001b[39mref,\n",
       "\u001b[1;32m    748\u001b[0m     enable_categorical\u001b[38;5;241m=\u001b[39menable_categorical,\n",
       "\u001b[1;32m    749\u001b[0m )\n",
       "\u001b[1;32m    750\u001b[0m \u001b[38;5;28;01mreturn\u001b[39;00m dmatrix\n",
       "\n",
       "File \u001b[0;32m/databricks/python/lib/python3.10/site-packages/xgboost/core.py:729\u001b[0m, in \u001b[0;36minner_f\u001b[0;34m()\u001b[0m\n",
       "\u001b[1;32m    727\u001b[0m \u001b[38;5;28;01mfor\u001b[39;00m k, arg \u001b[38;5;129;01min\u001b[39;00m \u001b[38;5;28mzip\u001b[39m(sig\u001b[38;5;241m.\u001b[39mparameters, args):\n",
       "\u001b[1;32m    728\u001b[0m     kwargs[k] \u001b[38;5;241m=\u001b[39m arg\n",
       "\u001b[0;32m--> 729\u001b[0m \u001b[38;5;28;01mreturn\u001b[39;00m func(\u001b[38;5;241m*\u001b[39m\u001b[38;5;241m*\u001b[39mkwargs)\n",
       "\n",
       "File \u001b[0;32m/databricks/python/lib/python3.10/site-packages/xgboost/core.py:1528\u001b[0m, in \u001b[0;36m__init__\u001b[0;34m()\u001b[0m\n",
       "\u001b[1;32m   1508\u001b[0m     \u001b[38;5;28;01mif\u001b[39;00m \u001b[38;5;28many\u001b[39m(\n",
       "\u001b[1;32m   1509\u001b[0m         info \u001b[38;5;129;01mis\u001b[39;00m \u001b[38;5;129;01mnot\u001b[39;00m \u001b[38;5;28;01mNone\u001b[39;00m\n",
       "\u001b[1;32m   1510\u001b[0m         \u001b[38;5;28;01mfor\u001b[39;00m info \u001b[38;5;129;01min\u001b[39;00m (\n",
       "\u001b[0;32m   (...)\u001b[0m\n",
       "\u001b[1;32m   1521\u001b[0m         )\n",
       "\u001b[1;32m   1522\u001b[0m     ):\n",
       "\u001b[1;32m   1523\u001b[0m         \u001b[38;5;28;01mraise\u001b[39;00m \u001b[38;5;167;01mValueError\u001b[39;00m(\n",
       "\u001b[1;32m   1524\u001b[0m             \u001b[38;5;124m\"\u001b[39m\u001b[38;5;124mIf data iterator is used as input, data like label should be \u001b[39m\u001b[38;5;124m\"\u001b[39m\n",
       "\u001b[1;32m   1525\u001b[0m             \u001b[38;5;124m\"\u001b[39m\u001b[38;5;124mspecified as batch argument.\u001b[39m\u001b[38;5;124m\"\u001b[39m\n",
       "\u001b[1;32m   1526\u001b[0m         )\n",
       "\u001b[0;32m-> 1528\u001b[0m \u001b[38;5;28mself\u001b[39m\u001b[38;5;241m.\u001b[39m_init(\n",
       "\u001b[1;32m   1529\u001b[0m     data,\n",
       "\u001b[1;32m   1530\u001b[0m     ref\u001b[38;5;241m=\u001b[39mref,\n",
       "\u001b[1;32m   1531\u001b[0m     label\u001b[38;5;241m=\u001b[39mlabel,\n",
       "\u001b[1;32m   1532\u001b[0m     weight\u001b[38;5;241m=\u001b[39mweight,\n",
       "\u001b[1;32m   1533\u001b[0m     base_margin\u001b[38;5;241m=\u001b[39mbase_margin,\n",
       "\u001b[1;32m   1534\u001b[0m     group\u001b[38;5;241m=\u001b[39mgroup,\n",
       "\u001b[1;32m   1535\u001b[0m     qid\u001b[38;5;241m=\u001b[39mqid,\n",
       "\u001b[1;32m   1536\u001b[0m     label_lower_bound\u001b[38;5;241m=\u001b[39mlabel_lower_bound,\n",
       "\u001b[1;32m   1537\u001b[0m     label_upper_bound\u001b[38;5;241m=\u001b[39mlabel_upper_bound,\n",
       "\u001b[1;32m   1538\u001b[0m     feature_weights\u001b[38;5;241m=\u001b[39mfeature_weights,\n",
       "\u001b[1;32m   1539\u001b[0m     feature_names\u001b[38;5;241m=\u001b[39mfeature_names,\n",
       "\u001b[1;32m   1540\u001b[0m     feature_types\u001b[38;5;241m=\u001b[39mfeature_types,\n",
       "\u001b[1;32m   1541\u001b[0m     enable_categorical\u001b[38;5;241m=\u001b[39menable_categorical,\n",
       "\u001b[1;32m   1542\u001b[0m )\n",
       "\n",
       "File \u001b[0;32m/databricks/python/lib/python3.10/site-packages/xgboost/core.py:1589\u001b[0m, in \u001b[0;36m_init\u001b[0;34m()\u001b[0m\n",
       "\u001b[1;32m   1587\u001b[0m it\u001b[38;5;241m.\u001b[39mreraise()\n",
       "\u001b[1;32m   1588\u001b[0m \u001b[38;5;66;03m# delay check_call to throw intermediate exception first\u001b[39;00m\n",
       "\u001b[0;32m-> 1589\u001b[0m _check_call(ret)\n",
       "\u001b[1;32m   1590\u001b[0m \u001b[38;5;28mself\u001b[39m\u001b[38;5;241m.\u001b[39mhandle \u001b[38;5;241m=\u001b[39m handle\n",
       "\n",
       "File \u001b[0;32m/databricks/python/lib/python3.10/site-packages/xgboost/core.py:281\u001b[0m, in \u001b[0;36m_check_call\u001b[0;34m()\u001b[0m\n",
       "\u001b[1;32m    270\u001b[0m \u001b[38;5;250m\u001b[39m\u001b[38;5;124;03m\"\"\"Check the return value of C API call\u001b[39;00m\n",
       "\u001b[1;32m    271\u001b[0m \n",
       "\u001b[1;32m    272\u001b[0m \u001b[38;5;124;03mThis function will raise exception when error occurs.\u001b[39;00m\n",
       "\u001b[0;32m   (...)\u001b[0m\n",
       "\u001b[1;32m    278\u001b[0m \u001b[38;5;124;03m    return value from API calls\u001b[39;00m\n",
       "\u001b[1;32m    279\u001b[0m \u001b[38;5;124;03m\"\"\"\u001b[39;00m\n",
       "\u001b[1;32m    280\u001b[0m \u001b[38;5;28;01mif\u001b[39;00m ret \u001b[38;5;241m!=\u001b[39m \u001b[38;5;241m0\u001b[39m:\n",
       "\u001b[0;32m--> 281\u001b[0m     \u001b[38;5;28;01mraise\u001b[39;00m XGBoostError(py_str(_LIB\u001b[38;5;241m.\u001b[39mXGBGetLastError()))\n",
       "\n",
       "\u001b[0;31mXGBoostError\u001b[0m: [03:04:27] /workspace/rabit/include/rabit/internal/socket.h:170: Poll timeout\n",
       "Stack trace:\n",
       "  [bt] (0) /databricks/python/lib/python3.10/site-packages/xgboost/lib/libxgboost.so(+0x1ba24e) [0x7fd5ff5dc24e]\n",
       "  [bt] (1) /databricks/python/lib/python3.10/site-packages/xgboost/lib/libxgboost.so(+0x77b37c) [0x7fd5ffb9d37c]\n",
       "  [bt] (2) /databricks/python/lib/python3.10/site-packages/xgboost/lib/libxgboost.so(+0x774c02) [0x7fd5ffb96c02]\n",
       "  [bt] (3) /databricks/python/lib/python3.10/site-packages/xgboost/lib/libxgboost.so(+0x77c9cc) [0x7fd5ffb9e9cc]\n",
       "  [bt] (4) /databricks/python/lib/python3.10/site-packages/xgboost/lib/libxgboost.so(+0x1b47de) [0x7fd5ff5d67de]\n",
       "  [bt] (5) /databricks/python/lib/python3.10/site-packages/xgboost/lib/libxgboost.so(+0x86f370) [0x7fd5ffc91370]\n",
       "  [bt] (6) /databricks/python/lib/python3.10/site-packages/xgboost/lib/libxgboost.so(+0x3f8f0a) [0x7fd5ff81af0a]\n",
       "  [bt] (7) /databricks/python/lib/python3.10/site-packages/xgboost/lib/libxgboost.so(+0x3a2a07) [0x7fd5ff7c4a07]\n",
       "  [bt] (8) /databricks/python/lib/python3.10/site-packages/xgboost/lib/libxgboost.so(XGQuantileDMatrixCreateFromCallback+0x2b0) [0x7fd5ff587c40]\n",
       "\n"
      ]
     },
     "metadata": {
      "application/vnd.databricks.v1+output": {
       "arguments": {},
       "data": "\u001b[0;31m---------------------------------------------------------------------------\u001b[0m\n\u001b[0;31mXGBoostError\u001b[0m                              Traceback (most recent call last)\nFile \u001b[0;32m<command-241619327411160>:1\u001b[0m\n\u001b[0;32m----> 1\u001b[0m booster \u001b[38;5;241m=\u001b[39m fit_model_es(client, X\u001b[38;5;241m=\u001b[39mX_train, y\u001b[38;5;241m=\u001b[39my_train, X_valid\u001b[38;5;241m=\u001b[39mX_valid, y_valid\u001b[38;5;241m=\u001b[39my_valid) \n\u001b[1;32m      2\u001b[0m booster\n\nFile \u001b[0;32m<command-241619327411108>:6\u001b[0m, in \u001b[0;36mfit_model_es\u001b[0;34m(client, X, y, X_valid, y_valid)\u001b[0m\n\u001b[1;32m      4\u001b[0m Xy_valid \u001b[38;5;241m=\u001b[39m dxgb\u001b[38;5;241m.\u001b[39mDaskDMatrix(client, X_valid, y_valid)\n\u001b[1;32m      5\u001b[0m \u001b[38;5;66;03m# train the model\u001b[39;00m\n\u001b[0;32m----> 6\u001b[0m booster \u001b[38;5;241m=\u001b[39m \u001b[43mdxgb\u001b[49m\u001b[38;5;241;43m.\u001b[39;49m\u001b[43mtrain\u001b[49m\u001b[43m(\u001b[49m\n\u001b[1;32m      7\u001b[0m \u001b[43m    \u001b[49m\u001b[43mclient\u001b[49m\u001b[43m,\u001b[49m\n\u001b[1;32m      8\u001b[0m \u001b[43m    \u001b[49m\u001b[43m{\u001b[49m\n\u001b[1;32m      9\u001b[0m \u001b[43m        \u001b[49m\u001b[38;5;124;43m\"\u001b[39;49m\u001b[38;5;124;43mobjective\u001b[39;49m\u001b[38;5;124;43m\"\u001b[39;49m\u001b[43m:\u001b[49m\u001b[43m \u001b[49m\u001b[38;5;124;43m\"\u001b[39;49m\u001b[38;5;124;43mbinary:logistic\u001b[39;49m\u001b[38;5;124;43m\"\u001b[39;49m\u001b[43m,\u001b[49m\n\u001b[1;32m     10\u001b[0m \u001b[43m        \u001b[49m\u001b[38;5;124;43m\"\u001b[39;49m\u001b[38;5;124;43meval_metric\u001b[39;49m\u001b[38;5;124;43m\"\u001b[39;49m\u001b[43m:\u001b[49m\u001b[43m \u001b[49m\u001b[38;5;124;43m\"\u001b[39;49m\u001b[38;5;124;43merror\u001b[39;49m\u001b[38;5;124;43m\"\u001b[39;49m\u001b[43m,\u001b[49m\n\u001b[1;32m     11\u001b[0m \u001b[43m        \u001b[49m\u001b[38;5;124;43m\"\u001b[39;49m\u001b[38;5;124;43mtree_method\u001b[39;49m\u001b[38;5;124;43m\"\u001b[39;49m\u001b[43m:\u001b[49m\u001b[43m \u001b[49m\u001b[38;5;124;43m\"\u001b[39;49m\u001b[38;5;124;43mgpu_hist\u001b[39;49m\u001b[38;5;124;43m\"\u001b[39;49m\u001b[43m,\u001b[49m\n\u001b[1;32m     12\u001b[0m \u001b[43m    \u001b[49m\u001b[43m}\u001b[49m\u001b[43m,\u001b[49m\n\u001b[1;32m     13\u001b[0m \u001b[43m    \u001b[49m\u001b[43mXy\u001b[49m\u001b[43m,\u001b[49m\n\u001b[1;32m     14\u001b[0m \u001b[43m    \u001b[49m\u001b[43mevals\u001b[49m\u001b[38;5;241;43m=\u001b[39;49m\u001b[43m[\u001b[49m\u001b[43m(\u001b[49m\u001b[43mXy_valid\u001b[49m\u001b[43m,\u001b[49m\u001b[43m \u001b[49m\u001b[38;5;124;43m\"\u001b[39;49m\u001b[38;5;124;43mValid\u001b[39;49m\u001b[38;5;124;43m\"\u001b[39;49m\u001b[43m)\u001b[49m\u001b[43m]\u001b[49m\u001b[43m,\u001b[49m\n\u001b[1;32m     15\u001b[0m \u001b[43m    \u001b[49m\u001b[43mnum_boost_round\u001b[49m\u001b[38;5;241;43m=\u001b[39;49m\u001b[38;5;241;43m1000\u001b[39;49m\u001b[43m,\u001b[49m\n\u001b[1;32m     16\u001b[0m \u001b[43m    \u001b[49m\u001b[43mearly_stopping_rounds\u001b[49m\u001b[38;5;241;43m=\u001b[39;49m\u001b[43mearly_stopping_rounds\u001b[49m\u001b[43m,\u001b[49m\n\u001b[1;32m     17\u001b[0m \u001b[43m\u001b[49m\u001b[43m)\u001b[49m[\u001b[38;5;124m\"\u001b[39m\u001b[38;5;124mbooster\u001b[39m\u001b[38;5;124m\"\u001b[39m]\n\u001b[1;32m     18\u001b[0m \u001b[38;5;28;01mreturn\u001b[39;00m booster\n\nFile \u001b[0;32m/databricks/python/lib/python3.10/site-packages/xgboost/core.py:729\u001b[0m, in \u001b[0;36mrequire_keyword_args.<locals>.throw_if.<locals>.inner_f\u001b[0;34m(*args, **kwargs)\u001b[0m\n\u001b[1;32m    727\u001b[0m \u001b[38;5;28;01mfor\u001b[39;00m k, arg \u001b[38;5;129;01min\u001b[39;00m \u001b[38;5;28mzip\u001b[39m(sig\u001b[38;5;241m.\u001b[39mparameters, args):\n\u001b[1;32m    728\u001b[0m     kwargs[k] \u001b[38;5;241m=\u001b[39m arg\n\u001b[0;32m--> 729\u001b[0m \u001b[38;5;28;01mreturn\u001b[39;00m \u001b[43mfunc\u001b[49m\u001b[43m(\u001b[49m\u001b[38;5;241;43m*\u001b[39;49m\u001b[38;5;241;43m*\u001b[39;49m\u001b[43mkwargs\u001b[49m\u001b[43m)\u001b[49m\n\nFile \u001b[0;32m/databricks/python/lib/python3.10/site-packages/xgboost/dask.py:1079\u001b[0m, in \u001b[0;36mtrain\u001b[0;34m(client, params, dtrain, num_boost_round, evals, obj, feval, early_stopping_rounds, xgb_model, verbose_eval, callbacks, custom_metric)\u001b[0m\n\u001b[1;32m   1077\u001b[0m client \u001b[38;5;241m=\u001b[39m _xgb_get_client(client)\n\u001b[1;32m   1078\u001b[0m args \u001b[38;5;241m=\u001b[39m \u001b[38;5;28mlocals\u001b[39m()\n\u001b[0;32m-> 1079\u001b[0m \u001b[38;5;28;01mreturn\u001b[39;00m \u001b[43mclient\u001b[49m\u001b[38;5;241;43m.\u001b[39;49m\u001b[43msync\u001b[49m\u001b[43m(\u001b[49m\n\u001b[1;32m   1080\u001b[0m \u001b[43m    \u001b[49m\u001b[43m_train_async\u001b[49m\u001b[43m,\u001b[49m\n\u001b[1;32m   1081\u001b[0m \u001b[43m    \u001b[49m\u001b[43mglobal_config\u001b[49m\u001b[38;5;241;43m=\u001b[39;49m\u001b[43mconfig\u001b[49m\u001b[38;5;241;43m.\u001b[39;49m\u001b[43mget_config\u001b[49m\u001b[43m(\u001b[49m\u001b[43m)\u001b[49m\u001b[43m,\u001b[49m\n\u001b[1;32m   1082\u001b[0m \u001b[43m    \u001b[49m\u001b[43mdconfig\u001b[49m\u001b[38;5;241;43m=\u001b[39;49m\u001b[43m_get_dask_config\u001b[49m\u001b[43m(\u001b[49m\u001b[43m)\u001b[49m\u001b[43m,\u001b[49m\n\u001b[1;32m   1083\u001b[0m \u001b[43m    \u001b[49m\u001b[38;5;241;43m*\u001b[39;49m\u001b[38;5;241;43m*\u001b[39;49m\u001b[43margs\u001b[49m\u001b[43m,\u001b[49m\n\u001b[1;32m   1084\u001b[0m \u001b[43m\u001b[49m\u001b[43m)\u001b[49m\n\nFile \u001b[0;32m/databricks/python/lib/python3.10/site-packages/distributed/utils.py:359\u001b[0m, in \u001b[0;36mSyncMethodMixin.sync\u001b[0;34m(self, func, asynchronous, callback_timeout, *args, **kwargs)\u001b[0m\n\u001b[1;32m    357\u001b[0m     \u001b[38;5;28;01mreturn\u001b[39;00m future\n\u001b[1;32m    358\u001b[0m \u001b[38;5;28;01melse\u001b[39;00m:\n\u001b[0;32m--> 359\u001b[0m     \u001b[38;5;28;01mreturn\u001b[39;00m \u001b[43msync\u001b[49m\u001b[43m(\u001b[49m\n\u001b[1;32m    360\u001b[0m \u001b[43m        \u001b[49m\u001b[38;5;28;43mself\u001b[39;49m\u001b[38;5;241;43m.\u001b[39;49m\u001b[43mloop\u001b[49m\u001b[43m,\u001b[49m\u001b[43m \u001b[49m\u001b[43mfunc\u001b[49m\u001b[43m,\u001b[49m\u001b[43m \u001b[49m\u001b[38;5;241;43m*\u001b[39;49m\u001b[43margs\u001b[49m\u001b[43m,\u001b[49m\u001b[43m \u001b[49m\u001b[43mcallback_timeout\u001b[49m\u001b[38;5;241;43m=\u001b[39;49m\u001b[43mcallback_timeout\u001b[49m\u001b[43m,\u001b[49m\u001b[43m \u001b[49m\u001b[38;5;241;43m*\u001b[39;49m\u001b[38;5;241;43m*\u001b[39;49m\u001b[43mkwargs\u001b[49m\n\u001b[1;32m    361\u001b[0m \u001b[43m    \u001b[49m\u001b[43m)\u001b[49m\n\nFile \u001b[0;32m/databricks/python/lib/python3.10/site-packages/distributed/utils.py:426\u001b[0m, in \u001b[0;36msync\u001b[0;34m(loop, func, callback_timeout, *args, **kwargs)\u001b[0m\n\u001b[1;32m    424\u001b[0m \u001b[38;5;28;01mif\u001b[39;00m error:\n\u001b[1;32m    425\u001b[0m     typ, exc, tb \u001b[38;5;241m=\u001b[39m error\n\u001b[0;32m--> 426\u001b[0m     \u001b[38;5;28;01mraise\u001b[39;00m exc\u001b[38;5;241m.\u001b[39mwith_traceback(tb)\n\u001b[1;32m    427\u001b[0m \u001b[38;5;28;01melse\u001b[39;00m:\n\u001b[1;32m    428\u001b[0m     \u001b[38;5;28;01mreturn\u001b[39;00m result\n\nFile \u001b[0;32m/databricks/python/lib/python3.10/site-packages/distributed/utils.py:399\u001b[0m, in \u001b[0;36msync.<locals>.f\u001b[0;34m()\u001b[0m\n\u001b[1;32m    397\u001b[0m         future \u001b[38;5;241m=\u001b[39m wait_for(future, callback_timeout)\n\u001b[1;32m    398\u001b[0m     future \u001b[38;5;241m=\u001b[39m asyncio\u001b[38;5;241m.\u001b[39mensure_future(future)\n\u001b[0;32m--> 399\u001b[0m     result \u001b[38;5;241m=\u001b[39m \u001b[38;5;28;01myield\u001b[39;00m future\n\u001b[1;32m    400\u001b[0m \u001b[38;5;28;01mexcept\u001b[39;00m \u001b[38;5;167;01mException\u001b[39;00m:\n\u001b[1;32m    401\u001b[0m     error \u001b[38;5;241m=\u001b[39m sys\u001b[38;5;241m.\u001b[39mexc_info()\n\nFile \u001b[0;32m/databricks/python/lib/python3.10/site-packages/tornado/gen.py:767\u001b[0m, in \u001b[0;36mRunner.run\u001b[0;34m(self)\u001b[0m\n\u001b[1;32m    765\u001b[0m \u001b[38;5;28;01mtry\u001b[39;00m:\n\u001b[1;32m    766\u001b[0m     \u001b[38;5;28;01mtry\u001b[39;00m:\n\u001b[0;32m--> 767\u001b[0m         value \u001b[38;5;241m=\u001b[39m \u001b[43mfuture\u001b[49m\u001b[38;5;241;43m.\u001b[39;49m\u001b[43mresult\u001b[49m\u001b[43m(\u001b[49m\u001b[43m)\u001b[49m\n\u001b[1;32m    768\u001b[0m     \u001b[38;5;28;01mexcept\u001b[39;00m \u001b[38;5;167;01mException\u001b[39;00m \u001b[38;5;28;01mas\u001b[39;00m e:\n\u001b[1;32m    769\u001b[0m         \u001b[38;5;66;03m# Save the exception for later. It's important that\u001b[39;00m\n\u001b[1;32m    770\u001b[0m         \u001b[38;5;66;03m# gen.throw() not be called inside this try/except block\u001b[39;00m\n\u001b[1;32m    771\u001b[0m         \u001b[38;5;66;03m# because that makes sys.exc_info behave unexpectedly.\u001b[39;00m\n\u001b[1;32m    772\u001b[0m         exc: Optional[\u001b[38;5;167;01mException\u001b[39;00m] \u001b[38;5;241m=\u001b[39m e\n\nFile \u001b[0;32m/databricks/python/lib/python3.10/site-packages/xgboost/dask.py:1015\u001b[0m, in \u001b[0;36m_train_async\u001b[0;34m(client, global_config, dconfig, params, dtrain, num_boost_round, evals, obj, feval, early_stopping_rounds, verbose_eval, xgb_model, callbacks, custom_metric)\u001b[0m\n\u001b[1;32m   1012\u001b[0m     evals_name \u001b[38;5;241m=\u001b[39m []\n\u001b[1;32m   1013\u001b[0m     evals_id \u001b[38;5;241m=\u001b[39m []\n\u001b[0;32m-> 1015\u001b[0m results \u001b[38;5;241m=\u001b[39m \u001b[38;5;28;01mawait\u001b[39;00m map_worker_partitions(\n\u001b[1;32m   1016\u001b[0m     client,\n\u001b[1;32m   1017\u001b[0m     dispatched_train,\n\u001b[1;32m   1018\u001b[0m     \u001b[38;5;66;03m# extra function parameters\u001b[39;00m\n\u001b[1;32m   1019\u001b[0m     params,\n\u001b[1;32m   1020\u001b[0m     _rabit_args,\n\u001b[1;32m   1021\u001b[0m     \u001b[38;5;28mid\u001b[39m(dtrain),\n\u001b[1;32m   1022\u001b[0m     evals_name,\n\u001b[1;32m   1023\u001b[0m     evals_id,\n\u001b[1;32m   1024\u001b[0m     \u001b[38;5;241m*\u001b[39m([dtrain] \u001b[38;5;241m+\u001b[39m evals_data),\n\u001b[1;32m   1025\u001b[0m     \u001b[38;5;66;03m# workers to be used for training\u001b[39;00m\n\u001b[1;32m   1026\u001b[0m     workers\u001b[38;5;241m=\u001b[39mworkers,\n\u001b[1;32m   1027\u001b[0m )\n\u001b[1;32m   1028\u001b[0m \u001b[38;5;28;01mreturn\u001b[39;00m \u001b[38;5;28mlist\u001b[39m(\u001b[38;5;28mfilter\u001b[39m(\u001b[38;5;28;01mlambda\u001b[39;00m ret: ret \u001b[38;5;129;01mis\u001b[39;00m \u001b[38;5;129;01mnot\u001b[39;00m \u001b[38;5;28;01mNone\u001b[39;00m, results))[\u001b[38;5;241m0\u001b[39m]\n\nFile \u001b[0;32m/databricks/python/lib/python3.10/site-packages/xgboost/dask.py:532\u001b[0m, in \u001b[0;36mmap_worker_partitions\u001b[0;34m(client, func, workers, *refs)\u001b[0m\n\u001b[1;32m    528\u001b[0m     fut \u001b[38;5;241m=\u001b[39m client\u001b[38;5;241m.\u001b[39msubmit(\n\u001b[1;32m    529\u001b[0m         func, \u001b[38;5;241m*\u001b[39margs, pure\u001b[38;5;241m=\u001b[39m\u001b[38;5;28;01mFalse\u001b[39;00m, workers\u001b[38;5;241m=\u001b[39m[addr], allow_other_workers\u001b[38;5;241m=\u001b[39m\u001b[38;5;28;01mFalse\u001b[39;00m\n\u001b[1;32m    530\u001b[0m     )\n\u001b[1;32m    531\u001b[0m     futures\u001b[38;5;241m.\u001b[39mappend(fut)\n\u001b[0;32m--> 532\u001b[0m results \u001b[38;5;241m=\u001b[39m \u001b[38;5;28;01mawait\u001b[39;00m client\u001b[38;5;241m.\u001b[39mgather(futures)\n\u001b[1;32m    533\u001b[0m \u001b[38;5;28;01mreturn\u001b[39;00m results\n\nFile \u001b[0;32m/databricks/python/lib/python3.10/site-packages/distributed/client.py:2253\u001b[0m, in \u001b[0;36mClient._gather\u001b[0;34m(self, futures, errors, direct, local_worker)\u001b[0m\n\u001b[1;32m   2251\u001b[0m         exc \u001b[38;5;241m=\u001b[39m CancelledError(key)\n\u001b[1;32m   2252\u001b[0m     \u001b[38;5;28;01melse\u001b[39;00m:\n\u001b[0;32m-> 2253\u001b[0m         \u001b[38;5;28;01mraise\u001b[39;00m exception\u001b[38;5;241m.\u001b[39mwith_traceback(traceback)\n\u001b[1;32m   2254\u001b[0m     \u001b[38;5;28;01mraise\u001b[39;00m exc\n\u001b[1;32m   2255\u001b[0m \u001b[38;5;28;01mif\u001b[39;00m errors \u001b[38;5;241m==\u001b[39m \u001b[38;5;124m\"\u001b[39m\u001b[38;5;124mskip\u001b[39m\u001b[38;5;124m\"\u001b[39m:\n\nFile \u001b[0;32m/databricks/python/lib/python3.10/site-packages/xgboost/dask.py:966\u001b[0m, in \u001b[0;36mdispatched_train\u001b[0;34m()\u001b[0m\n\u001b[1;32m    964\u001b[0m local_history: TrainingCallback\u001b[38;5;241m.\u001b[39mEvalsLog \u001b[38;5;241m=\u001b[39m {}\n\u001b[1;32m    965\u001b[0m \u001b[38;5;28;01mwith\u001b[39;00m CommunicatorContext(\u001b[38;5;241m*\u001b[39m\u001b[38;5;241m*\u001b[39mrabit_args), config\u001b[38;5;241m.\u001b[39mconfig_context(\u001b[38;5;241m*\u001b[39m\u001b[38;5;241m*\u001b[39mglobal_config):\n\u001b[0;32m--> 966\u001b[0m     Xy \u001b[38;5;241m=\u001b[39m _dmatrix_from_list_of_parts(\u001b[38;5;241m*\u001b[39m\u001b[38;5;241m*\u001b[39mtrain_ref, nthread\u001b[38;5;241m=\u001b[39mn_threads)\n\u001b[1;32m    967\u001b[0m     evals: List[Tuple[DMatrix, \u001b[38;5;28mstr\u001b[39m]] \u001b[38;5;241m=\u001b[39m []\n\u001b[1;32m    968\u001b[0m     \u001b[38;5;28;01mfor\u001b[39;00m i, ref \u001b[38;5;129;01min\u001b[39;00m \u001b[38;5;28menumerate\u001b[39m(refs):\n\nFile \u001b[0;32m/databricks/python/lib/python3.10/site-packages/xgboost/dask.py:809\u001b[0m, in \u001b[0;36m_dmatrix_from_list_of_parts\u001b[0;34m()\u001b[0m\n\u001b[1;32m    807\u001b[0m \u001b[38;5;28;01mdef\u001b[39;00m \u001b[38;5;21m_dmatrix_from_list_of_parts\u001b[39m(is_quantile: \u001b[38;5;28mbool\u001b[39m, \u001b[38;5;241m*\u001b[39m\u001b[38;5;241m*\u001b[39mkwargs: Any) \u001b[38;5;241m-\u001b[39m\u001b[38;5;241m>\u001b[39m DMatrix:\n\u001b[1;32m    808\u001b[0m     \u001b[38;5;28;01mif\u001b[39;00m is_quantile:\n\u001b[0;32m--> 809\u001b[0m         \u001b[38;5;28;01mreturn\u001b[39;00m _create_quantile_dmatrix(\u001b[38;5;241m*\u001b[39m\u001b[38;5;241m*\u001b[39mkwargs)\n\u001b[1;32m    810\u001b[0m     \u001b[38;5;28;01mreturn\u001b[39;00m _create_dmatrix(\u001b[38;5;241m*\u001b[39m\u001b[38;5;241m*\u001b[39mkwargs)\n\nFile \u001b[0;32m/databricks/python/lib/python3.10/site-packages/xgboost/dask.py:742\u001b[0m, in \u001b[0;36m_create_quantile_dmatrix\u001b[0;34m()\u001b[0m\n\u001b[1;32m    734\u001b[0m unzipped_dict \u001b[38;5;241m=\u001b[39m _get_worker_parts(parts)\n\u001b[1;32m    735\u001b[0m it \u001b[38;5;241m=\u001b[39m DaskPartitionIter(\n\u001b[1;32m    736\u001b[0m     \u001b[38;5;241m*\u001b[39m\u001b[38;5;241m*\u001b[39munzipped_dict,\n\u001b[1;32m    737\u001b[0m     feature_types\u001b[38;5;241m=\u001b[39mfeature_types,\n\u001b[1;32m    738\u001b[0m     feature_names\u001b[38;5;241m=\u001b[39mfeature_names,\n\u001b[1;32m    739\u001b[0m     feature_weights\u001b[38;5;241m=\u001b[39mfeature_weights,\n\u001b[1;32m    740\u001b[0m )\n\u001b[0;32m--> 742\u001b[0m dmatrix \u001b[38;5;241m=\u001b[39m QuantileDMatrix(\n\u001b[1;32m    743\u001b[0m     it,\n\u001b[1;32m    744\u001b[0m     missing\u001b[38;5;241m=\u001b[39mmissing,\n\u001b[1;32m    745\u001b[0m     nthread\u001b[38;5;241m=\u001b[39mnthread,\n\u001b[1;32m    746\u001b[0m     max_bin\u001b[38;5;241m=\u001b[39mmax_bin,\n\u001b[1;32m    747\u001b[0m     ref\u001b[38;5;241m=\u001b[39mref,\n\u001b[1;32m    748\u001b[0m     enable_categorical\u001b[38;5;241m=\u001b[39menable_categorical,\n\u001b[1;32m    749\u001b[0m )\n\u001b[1;32m    750\u001b[0m \u001b[38;5;28;01mreturn\u001b[39;00m dmatrix\n\nFile \u001b[0;32m/databricks/python/lib/python3.10/site-packages/xgboost/core.py:729\u001b[0m, in \u001b[0;36minner_f\u001b[0;34m()\u001b[0m\n\u001b[1;32m    727\u001b[0m \u001b[38;5;28;01mfor\u001b[39;00m k, arg \u001b[38;5;129;01min\u001b[39;00m \u001b[38;5;28mzip\u001b[39m(sig\u001b[38;5;241m.\u001b[39mparameters, args):\n\u001b[1;32m    728\u001b[0m     kwargs[k] \u001b[38;5;241m=\u001b[39m arg\n\u001b[0;32m--> 729\u001b[0m \u001b[38;5;28;01mreturn\u001b[39;00m func(\u001b[38;5;241m*\u001b[39m\u001b[38;5;241m*\u001b[39mkwargs)\n\nFile \u001b[0;32m/databricks/python/lib/python3.10/site-packages/xgboost/core.py:1528\u001b[0m, in \u001b[0;36m__init__\u001b[0;34m()\u001b[0m\n\u001b[1;32m   1508\u001b[0m     \u001b[38;5;28;01mif\u001b[39;00m \u001b[38;5;28many\u001b[39m(\n\u001b[1;32m   1509\u001b[0m         info \u001b[38;5;129;01mis\u001b[39;00m \u001b[38;5;129;01mnot\u001b[39;00m \u001b[38;5;28;01mNone\u001b[39;00m\n\u001b[1;32m   1510\u001b[0m         \u001b[38;5;28;01mfor\u001b[39;00m info \u001b[38;5;129;01min\u001b[39;00m (\n\u001b[0;32m   (...)\u001b[0m\n\u001b[1;32m   1521\u001b[0m         )\n\u001b[1;32m   1522\u001b[0m     ):\n\u001b[1;32m   1523\u001b[0m         \u001b[38;5;28;01mraise\u001b[39;00m \u001b[38;5;167;01mValueError\u001b[39;00m(\n\u001b[1;32m   1524\u001b[0m             \u001b[38;5;124m\"\u001b[39m\u001b[38;5;124mIf data iterator is used as input, data like label should be \u001b[39m\u001b[38;5;124m\"\u001b[39m\n\u001b[1;32m   1525\u001b[0m             \u001b[38;5;124m\"\u001b[39m\u001b[38;5;124mspecified as batch argument.\u001b[39m\u001b[38;5;124m\"\u001b[39m\n\u001b[1;32m   1526\u001b[0m         )\n\u001b[0;32m-> 1528\u001b[0m \u001b[38;5;28mself\u001b[39m\u001b[38;5;241m.\u001b[39m_init(\n\u001b[1;32m   1529\u001b[0m     data,\n\u001b[1;32m   1530\u001b[0m     ref\u001b[38;5;241m=\u001b[39mref,\n\u001b[1;32m   1531\u001b[0m     label\u001b[38;5;241m=\u001b[39mlabel,\n\u001b[1;32m   1532\u001b[0m     weight\u001b[38;5;241m=\u001b[39mweight,\n\u001b[1;32m   1533\u001b[0m     base_margin\u001b[38;5;241m=\u001b[39mbase_margin,\n\u001b[1;32m   1534\u001b[0m     group\u001b[38;5;241m=\u001b[39mgroup,\n\u001b[1;32m   1535\u001b[0m     qid\u001b[38;5;241m=\u001b[39mqid,\n\u001b[1;32m   1536\u001b[0m     label_lower_bound\u001b[38;5;241m=\u001b[39mlabel_lower_bound,\n\u001b[1;32m   1537\u001b[0m     label_upper_bound\u001b[38;5;241m=\u001b[39mlabel_upper_bound,\n\u001b[1;32m   1538\u001b[0m     feature_weights\u001b[38;5;241m=\u001b[39mfeature_weights,\n\u001b[1;32m   1539\u001b[0m     feature_names\u001b[38;5;241m=\u001b[39mfeature_names,\n\u001b[1;32m   1540\u001b[0m     feature_types\u001b[38;5;241m=\u001b[39mfeature_types,\n\u001b[1;32m   1541\u001b[0m     enable_categorical\u001b[38;5;241m=\u001b[39menable_categorical,\n\u001b[1;32m   1542\u001b[0m )\n\nFile \u001b[0;32m/databricks/python/lib/python3.10/site-packages/xgboost/core.py:1589\u001b[0m, in \u001b[0;36m_init\u001b[0;34m()\u001b[0m\n\u001b[1;32m   1587\u001b[0m it\u001b[38;5;241m.\u001b[39mreraise()\n\u001b[1;32m   1588\u001b[0m \u001b[38;5;66;03m# delay check_call to throw intermediate exception first\u001b[39;00m\n\u001b[0;32m-> 1589\u001b[0m _check_call(ret)\n\u001b[1;32m   1590\u001b[0m \u001b[38;5;28mself\u001b[39m\u001b[38;5;241m.\u001b[39mhandle \u001b[38;5;241m=\u001b[39m handle\n\nFile \u001b[0;32m/databricks/python/lib/python3.10/site-packages/xgboost/core.py:281\u001b[0m, in \u001b[0;36m_check_call\u001b[0;34m()\u001b[0m\n\u001b[1;32m    270\u001b[0m \u001b[38;5;250m\u001b[39m\u001b[38;5;124;03m\"\"\"Check the return value of C API call\u001b[39;00m\n\u001b[1;32m    271\u001b[0m \n\u001b[1;32m    272\u001b[0m \u001b[38;5;124;03mThis function will raise exception when error occurs.\u001b[39;00m\n\u001b[0;32m   (...)\u001b[0m\n\u001b[1;32m    278\u001b[0m \u001b[38;5;124;03m    return value from API calls\u001b[39;00m\n\u001b[1;32m    279\u001b[0m \u001b[38;5;124;03m\"\"\"\u001b[39;00m\n\u001b[1;32m    280\u001b[0m \u001b[38;5;28;01mif\u001b[39;00m ret \u001b[38;5;241m!=\u001b[39m \u001b[38;5;241m0\u001b[39m:\n\u001b[0;32m--> 281\u001b[0m     \u001b[38;5;28;01mraise\u001b[39;00m XGBoostError(py_str(_LIB\u001b[38;5;241m.\u001b[39mXGBGetLastError()))\n\n\u001b[0;31mXGBoostError\u001b[0m: [03:04:27] /workspace/rabit/include/rabit/internal/socket.h:170: Poll timeout\nStack trace:\n  [bt] (0) /databricks/python/lib/python3.10/site-packages/xgboost/lib/libxgboost.so(+0x1ba24e) [0x7fd5ff5dc24e]\n  [bt] (1) /databricks/python/lib/python3.10/site-packages/xgboost/lib/libxgboost.so(+0x77b37c) [0x7fd5ffb9d37c]\n  [bt] (2) /databricks/python/lib/python3.10/site-packages/xgboost/lib/libxgboost.so(+0x774c02) [0x7fd5ffb96c02]\n  [bt] (3) /databricks/python/lib/python3.10/site-packages/xgboost/lib/libxgboost.so(+0x77c9cc) [0x7fd5ffb9e9cc]\n  [bt] (4) /databricks/python/lib/python3.10/site-packages/xgboost/lib/libxgboost.so(+0x1b47de) [0x7fd5ff5d67de]\n  [bt] (5) /databricks/python/lib/python3.10/site-packages/xgboost/lib/libxgboost.so(+0x86f370) [0x7fd5ffc91370]\n  [bt] (6) /databricks/python/lib/python3.10/site-packages/xgboost/lib/libxgboost.so(+0x3f8f0a) [0x7fd5ff81af0a]\n  [bt] (7) /databricks/python/lib/python3.10/site-packages/xgboost/lib/libxgboost.so(+0x3a2a07) [0x7fd5ff7c4a07]\n  [bt] (8) /databricks/python/lib/python3.10/site-packages/xgboost/lib/libxgboost.so(XGQuantileDMatrixCreateFromCallback+0x2b0) [0x7fd5ff587c40]\n\n",
       "errorSummary": "<span class='ansi-red-fg'>XGBoostError</span>: [03:04:27] /workspace/rabit/include/rabit/internal/socket.h:170: Poll timeout\nStack trace:\n  [bt] (0) /databricks/python/lib/python3.10/site-packages/xgboost/lib/libxgboost.so(+0x1ba24e) [0x7fd5ff5dc24e]\n  [bt] (1) /databricks/python/lib/python3.10/site-packages/xgboost/lib/libxgboost.so(+0x77b37c) [0x7fd5ffb9d37c]\n  [bt] (2) /databricks/python/lib/python3.10/site-packages/xgboost/lib/libxgboost.so(+0x774c02) [0x7fd5ffb96c02]\n  [bt] (3) /databricks/python/lib/python3.10/site-packages/xgboost/lib/libxgboost.so(+0x77c9cc) [0x7fd5ffb9e9cc]\n  [bt] (4) /databricks/python/lib/python3.10/site-packages/xgboost/lib/libxgboost.so(+0x1b47de) [0x7fd5ff5d67de]\n  [bt] (5) /databricks/python/lib/python3.10/site-packages/xgboost/lib/libxgboost.so(+0x86f370) [0x7fd5ffc91370]\n  [bt] (6) /databricks/python/lib/python3.10/site-packages/xgboost/lib/libxgboost.so(+0x3f8f0a) [0x7fd5ff81af0a]\n  [bt] (7) /databricks/python/lib/python3.10/site-packages/xgboost/lib/libxgboost.so(+0x3a2a07) [0x7fd5ff7c4a07]\n  [bt] (8) /databricks/python/lib/python3.10/site-packages/xgboost/lib/libxgboost.so(XGQuantileDMatrixCreateFromCallback+0x2b0) [0x7fd5ff587c40]\n\n",
       "errorTraceType": "ansi",
       "metadata": {},
       "type": "ipynbError"
      }
     }
    }
   ],
   "source": [
    "booster = fit_model_es(client, X=X_train, y=y_train, X_valid=X_valid, y_valid=y_valid)\n",
    "booster"
   ]
  },
  {
   "cell_type": "markdown",
   "metadata": {
    "application/vnd.databricks.v1+cell": {
     "cellMetadata": {},
     "inputWidgets": {},
     "nuid": "83932465-f261-4ad8-82da-f696e727edc4",
     "showTitle": false,
     "title": ""
    }
   },
   "source": [
    "## Customized objective and evaluation metric\n",
    "\n",
    "XGBoost is designed to be scalable through customized objective functions and metrics. In 1.4, this feature is brought to the dask interface. The requirement is exactly the same as for the single node interface:\n",
    "\n",
    "Optional: In the example below we use the custom objective function and metric to implement a logistic regression model along with early stopping. Note that the function returns both gradient and hessian, which XGBoost uses to optimize the model.  Also, the parameter named metric_name needs to be specified in our callback. It is used to inform XGBoost that the custom error function should be used for evaluating early stopping criteri"
   ]
  },
  {
   "cell_type": "code",
   "execution_count": 0,
   "metadata": {
    "application/vnd.databricks.v1+cell": {
     "cellMetadata": {},
     "inputWidgets": {},
     "nuid": "2b40ef80-c783-4216-9434-0a55c2eb3a63",
     "showTitle": false,
     "title": ""
    }
   },
   "outputs": [],
   "source": [
    "# def fit_model_customized_objective(client, X, y, X_valid, y_valid) -> dxgb.Booster:\n",
    "#     def logit(predt: np.ndarray, Xy: xgb.DMatrix) -> Tuple[np.ndarray, np.ndarray]:\n",
    "#         predt = 1.0 / (1.0 + np.exp(-predt))\n",
    "#         labels = Xy.get_label()\n",
    "#         grad = predt - labels\n",
    "#         hess = predt * (1.0 - predt)\n",
    "#         return grad, hess\n",
    "\n",
    "#     def error(predt: np.ndarray, Xy: xgb.DMatrix) -> Tuple[str, float]:\n",
    "#         label = Xy.get_label()\n",
    "#         r = np.zeros(predt.shape)\n",
    "#         predt = 1.0 / (1.0 + np.exp(-predt))\n",
    "#         gt = predt > 0.5\n",
    "#         r[gt] = 1 - label[gt]\n",
    "#         le = predt <= 0.5\n",
    "#         r[le] = label[le]\n",
    "#         return \"CustomErr\", float(np.average(r))\n",
    "\n",
    "#     # Use early stopping with custom objective and metric.\n",
    "#     early_stopping_rounds = 5\n",
    "#     # Specify the metric we want to use for early stopping.\n",
    "#     es = xgb.callback.EarlyStopping(\n",
    "#     rounds=early_stopping_rounds, save_best=True, metric_name=\"CustomErr\"\n",
    "#     )\n",
    "\n",
    "#     Xy = dxgb.DaskDeviceQuantileDMatrix(client, X, y)\n",
    "#     Xy_valid = dxgb.DaskDMatrix(client, X_valid, y_valid)\n",
    "#     booster = dxgb.train(\n",
    "#         client,\n",
    "#         {\"eval_metric\": \"error\", \"tree_method\": \"gpu_hist\"},\n",
    "#         Xy,\n",
    "#         evals=[(Xy_valid, \"Valid\")],\n",
    "#         num_boost_round=1000,\n",
    "#         obj=logit,  # pass the custom objective\n",
    "#         feval=error,  # pass the custom metric\n",
    "#         callbacks=[es],\n",
    "#     )[\"booster\"]\n",
    "#    return booster"
   ]
  },
  {
   "cell_type": "markdown",
   "metadata": {
    "application/vnd.databricks.v1+cell": {
     "cellMetadata": {},
     "inputWidgets": {},
     "nuid": "9d8b1ee7-2bbe-43e7-9dbb-c908e6fa8259",
     "showTitle": false,
     "title": ""
    }
   },
   "source": [
    "## Explaining the model\n",
    "After obtaining our first model, we might want to explain predictions using SHAP.  SHAP(SHapley Additive exPlanations) is a game theoretic approach to explain the output of machine learning models based on Shapley Value.  For details about the algorithm, please refer to the papers.  As XGBoost now has support for GPU-accelerated Shapley values, we extend this feature to the Dask interface. Now, users can compute shap values on distributed GPU clusters. This is enabled by the significantly improved predict function and the GPUTreeShap library:"
   ]
  },
  {
   "cell_type": "code",
   "execution_count": 0,
   "metadata": {
    "application/vnd.databricks.v1+cell": {
     "cellMetadata": {},
     "inputWidgets": {},
     "nuid": "fe4013c9-bfb0-43a7-b4e6-5c8ea1314283",
     "showTitle": false,
     "title": ""
    }
   },
   "outputs": [],
   "source": [
    "def explain(client, model, X):\n",
    "    # Use array instead of dataframe in case of output dim is greater than 2.\n",
    "    X_array = X.values\n",
    "    contribs = dxgb.inplace_predict(\n",
    "        client, model, X_array, pred_contribs=True, validate_features=False\n",
    "    )\n",
    "    # Use the result for further analysis\n",
    "    return contribs"
   ]
  },
  {
   "cell_type": "code",
   "execution_count": 0,
   "metadata": {
    "application/vnd.databricks.v1+cell": {
     "cellMetadata": {},
     "inputWidgets": {},
     "nuid": "42ea3faf-fe8b-445f-bed8-a4b798b0dad7",
     "showTitle": false,
     "title": ""
    }
   },
   "outputs": [],
   "source": [
    "contribs = explain(client, model=booster, X=X_train)"
   ]
  }
 ],
 "metadata": {
  "application/vnd.databricks.v1+notebook": {
   "dashboards": [],
   "language": "python",
   "notebookMetadata": {
    "pythonIndentUnit": 2
   },
   "notebookName": "xgboost-dask",
   "widgets": {}
  }
 },
 "nbformat": 4,
 "nbformat_minor": 0
}
