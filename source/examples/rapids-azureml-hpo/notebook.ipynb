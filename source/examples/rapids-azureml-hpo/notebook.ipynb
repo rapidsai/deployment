{
 "cells": [
  {
   "cell_type": "markdown",
   "metadata": {
    "editable": true,
    "slideshow": {
     "slide_type": ""
    },
    "tags": [
     "cloud/azure/ml",
     "library/cudf",
     "library/cuml",
     "library/randomforest",
     "workflow/hpo"
    ]
   },
   "source": [
    "# Train and Hyperparameter-Tune with RAPIDS on AzureML"
   ]
  },
  {
   "cell_type": "markdown",
   "metadata": {},
   "source": [
    "Choosing an optimal set of hyperparameters is a daunting task, especially for algorithms like XGBoost that have many hyperparameters to tune. \n",
    "\n",
    "In this notebook, we will show how to speed up hyperparameter optimization by running multiple training jobs in parallel on [Azure Machine Learning (AzureML)](https://azure.microsoft.com/en-us/products/machine-learning) service.\n",
    "# Prerequisites\n",
    "\n",
    "````{docref} /cloud/azure/azureml\n",
    "Create an Azure ML [Workspace](https://docs.microsoft.com/azure/machine-learning/service/concept-azure-machine-learning-architecture#workspace) then follow instructions in [Microsoft Azure Machine Learning](../../cloud/azure/azureml) to launch an Azure ML Compute instance with RAPIDS.\n",
    "\n",
    "Once your instance is running and you have access to Jupyter save this notebook and run through the cells.\n",
    "\n",
    "````"
   ]
  },
  {
   "cell_type": "markdown",
   "metadata": {
    "tags": []
   },
   "source": [
    "# Initialize Workspace"
   ]
  },
  {
   "cell_type": "markdown",
   "metadata": {},
   "source": [
    "Initialize `MLClient` [class](https://learn.microsoft.com/en-us/python/api/azure-ai-ml/azure.ai.ml.mlclient?view=azure-python) to handle the workspace you created in the prerequisites step. \n",
    "\n",
    "You can manually provide the workspace details or call `MLClient.from_config(credential, path)`\n",
    "to create a workspace object from the details stored in `config.json`"
   ]
  },
  {
   "cell_type": "code",
   "execution_count": null,
   "metadata": {
    "tags": []
   },
   "outputs": [],
   "source": [
    "from azure.ai.ml import MLClient\n",
    "from azure.identity import DefaultAzureCredential\n",
    "\n",
    "# Get a handle to the workspace.\n",
    "#\n",
    "# Azure ML places the workspace config at the default working\n",
    "# directory for notebooks by default.\n",
    "#\n",
    "# If it isn't found, open a shell and look in the\n",
    "# directory indicated by 'echo ${JUPYTER_SERVER_ROOT}'.\n",
    "ml_client = MLClient.from_config(\n",
    "    credential=DefaultAzureCredential(),\n",
    "    path=\"./config.json\",\n",
    ")"
   ]
  },
  {
   "cell_type": "markdown",
   "metadata": {
    "tags": []
   },
   "source": [
    "# Access Data from Datastore URI"
   ]
  },
  {
   "cell_type": "markdown",
   "metadata": {},
   "source": [
    "In this example, we will use 20 million rows of the airline dataset. The [datastore uri](https://learn.microsoft.com/en-us/azure/machine-learning/how-to-access-data-interactive?tabs=adls#access-data-from-a-datastore-uri-like-a-filesystem-preview) below references a data storage location (path) containing the parquet files"
   ]
  },
  {
   "cell_type": "code",
   "execution_count": null,
   "metadata": {
    "tags": []
   },
   "outputs": [],
   "source": [
    "datastore_name = \"workspaceartifactstore\"\n",
    "dataset = \"airline_20000000.parquet\"\n",
    "\n",
    "# Datastore uri format:\n",
    "data_uri = f\"azureml://subscriptions/{ml_client.subscription_id}/resourcegroups/{ml_client.resource_group_name}/workspaces/{ml_client.workspace_name}/datastores/{datastore_name}/paths/{dataset}\"\n",
    "\n",
    "print(\"data uri:\", \"\\n\", data_uri)"
   ]
  },
  {
   "cell_type": "markdown",
   "metadata": {},
   "source": [
    "# Create AML Compute"
   ]
  },
  {
   "cell_type": "markdown",
   "metadata": {},
   "source": [
    "You will need to create an Azure ML managed compute target ([AmlCompute](https://learn.microsoft.com/en-us/azure/machine-learning/how-to-create-attach-compute-cluster?view=azureml-api-2&tabs=python)) to serve as the environment for training your model.\n",
    "\n",
    "This notebook will use 10 nodes for hyperparameter optimization, you can modify `max_instances` based on available quota in the desired region. Similar to other Azure ML services, there are limits on AmlCompute, this [article](https://docs.microsoft.com/en-us/azure/machine-learning/service/how-to-manage-quotas) includes details on the default limits and how to request more quota."
   ]
  },
  {
   "cell_type": "markdown",
   "metadata": {},
   "source": [
    "`size` describes the virtual machine type and size that will be used in the cluster. See \"System Requirements\" in the RAPIDS docs ([link](https://docs.rapids.ai/install#system-req)) and \"GPU optimized virtual machine sizes\" in the Azure docs ([link](https://learn.microsoft.com/en-us/azure/virtual-machines/sizes-gpu)) to identify an instance type.\n",
    "\n",
    "Let's create an `AmlCompute` cluster of `Standard_NC12s_v3` (Tesla V100) GPU VMs:"
   ]
  },
  {
   "cell_type": "code",
   "execution_count": null,
   "metadata": {
    "tags": []
   },
   "outputs": [],
   "source": [
    "from azure.ai.ml.entities import AmlCompute\n",
    "from azure.ai.ml.exceptions import MlException\n",
    "\n",
    "# specify aml compute name.\n",
    "target_name = \"rapids-cluster\"\n",
    "\n",
    "try:\n",
    "    # let's see if the compute target already exists\n",
    "    gpu_target = ml_client.compute.get(target_name)\n",
    "    print(f\"found compute target. Will use {gpu_target.name}\")\n",
    "except MlException:\n",
    "    print(\"Creating a new gpu compute target...\")\n",
    "\n",
    "    gpu_target = AmlCompute(\n",
    "        name=target_name,\n",
    "        type=\"amlcompute\",\n",
    "        size=\"STANDARD_NC12S_V3\",\n",
    "        max_instances=5,\n",
    "        idle_time_before_scale_down=300,\n",
    "    )\n",
    "    ml_client.compute.begin_create_or_update(gpu_target).result()\n",
    "\n",
    "    print(\n",
    "        f\"AMLCompute with name {gpu_target.name} is created, the compute size is {gpu_target.size}\"\n",
    "    )"
   ]
  },
  {
   "cell_type": "markdown",
   "metadata": {},
   "source": [
    "\n",
    "# Prepare training script"
   ]
  },
  {
   "cell_type": "markdown",
   "metadata": {
    "tags": [
     "library/cuml"
    ]
   },
   "source": [
    "Make sure current directory contains your code to run on the remote resource. This includes the training script and all its dependencies files. In this example, the training script is provided:\n",
    "\n",
    "`train_rapids.py`- entry script for RAPIDS Environment, includes loading dataset into cuDF dataframe, training with Random Forest and inference using cuML."
   ]
  },
  {
   "cell_type": "markdown",
   "metadata": {},
   "source": [
    "We will log some parameters and metrics including highest accuracy, using mlflow within the training script:\n",
    "\n",
    "```console\n",
    "import mlflow\n",
    "\n",
    "mlflow.log_metric('Accuracy', np.float(global_best_test_accuracy))\n",
    "```\n",
    "\n",
    "These run metrics will become particularly important when we begin hyperparameter tuning our model in the 'Tune model hyperparameters' section."
   ]
  },
  {
   "cell_type": "markdown",
   "metadata": {
    "tags": []
   },
   "source": [
    "# Train Model on Remote Compute"
   ]
  },
  {
   "cell_type": "markdown",
   "metadata": {},
   "source": [
    "## Setup Environment"
   ]
  },
  {
   "cell_type": "markdown",
   "metadata": {},
   "source": [
    "We'll be using a custom RAPIDS docker image to [setup the environment](https://learn.microsoft.com/en-us/azure/machine-learning/how-to-manage-environments-v2?tabs=python#create-an-environment-from-a-docker-image). This is available in `rapidsai/base` repo on [DockerHub](https://hub.docker.com/r/rapidsai/base/)."
   ]
  },
  {
   "cell_type": "code",
   "execution_count": null,
   "metadata": {
    "tags": []
   },
   "outputs": [],
   "source": [
    "%%bash\n",
    "# create a Dockerfile defining the image the code will run in\n",
    "cat > ./Dockerfile <<EOF\n",
    "FROM {{ rapids_container }}\n",
    "\n",
    "RUN conda install --yes -c conda-forge 'dask-ml>=2024.4.4' \\\n",
    " && pip install azureml-mlflow\n",
    "EOF"
   ]
  },
  {
   "cell_type": "markdown",
   "metadata": {
    "tags": []
   },
   "source": [
    "Make sure you have the correct path to the docker build context as `os.getcwd()`."
   ]
  },
  {
   "cell_type": "code",
   "execution_count": null,
   "metadata": {
    "tags": []
   },
   "outputs": [],
   "source": [
    "import os\n",
    "\n",
    "from azure.ai.ml.entities import BuildContext, Environment\n",
    "\n",
    "env_docker_image = Environment(\n",
    "    build=BuildContext(path=os.getcwd()),\n",
    "    name=\"rapids-hpo\",\n",
    "    description=\"RAPIDS environment with azureml-mlflow\",\n",
    ")\n",
    "\n",
    "ml_client.environments.create_or_update(env_docker_image)"
   ]
  },
  {
   "cell_type": "markdown",
   "metadata": {},
   "source": [
    "## Submit the Training Job "
   ]
  },
  {
   "cell_type": "markdown",
   "metadata": {},
   "source": [
    "We will configure and run a training job using the`command`class. The [command](https://learn.microsoft.com/en-us/python/api/azure-ai-ml/azure.ai.ml?view=azure-python#azure-ai-ml-command) can be used to run standalone jobs or as a function inside pipelines.\n",
    "`inputs` is a dictionary of command-line arguments to pass to the training script.\n"
   ]
  },
  {
   "cell_type": "code",
   "execution_count": null,
   "metadata": {
    "tags": [
     "library/randomforest",
     "library/cudf"
    ]
   },
   "outputs": [],
   "source": [
    "from azure.ai.ml import Input, command\n",
    "\n",
    "command_job = command(\n",
    "    environment=f\"{env_docker_image.name}:{env_docker_image.version}\",\n",
    "    experiment_name=\"test_rapids_aml_hpo_cluster\",\n",
    "    code=os.getcwd(),\n",
    "    inputs={\n",
    "        \"data_dir\": Input(type=\"uri_file\", path=data_uri),\n",
    "        \"n_bins\": 32,\n",
    "        \"compute\": \"single-GPU\",  # multi-GPU for algorithms via Dask\n",
    "        \"cv_folds\": 5,\n",
    "        \"n_estimators\": 100,\n",
    "        \"max_depth\": 6,\n",
    "        \"max_features\": 0.3,\n",
    "    },\n",
    "    command=\"python train_rapids.py \\\n",
    "                    --data_dir ${{inputs.data_dir}} \\\n",
    "                    --n_bins ${{inputs.n_bins}} \\\n",
    "                    --compute ${{inputs.compute}} \\\n",
    "                    --cv_folds ${{inputs.cv_folds}} \\\n",
    "                    --n_estimators ${{inputs.n_estimators}} \\\n",
    "                    --max_depth ${{inputs.max_depth}} \\\n",
    "                    --max_features ${{inputs.max_features}}\",\n",
    "    compute=gpu_target.name,\n",
    ")\n",
    "\n",
    "\n",
    "# submit the command\n",
    "returned_job = ml_client.jobs.create_or_update(command_job)\n",
    "\n",
    "# get a URL for the status of the job\n",
    "returned_job.studio_url"
   ]
  },
  {
   "cell_type": "markdown",
   "metadata": {},
   "source": [
    "# Tune Model Hyperparameters"
   ]
  },
  {
   "cell_type": "markdown",
   "metadata": {},
   "source": [
    "We can optimize our model's hyperparameters and improve the accuracy using Azure Machine Learning's hyperparameter tuning capabilities."
   ]
  },
  {
   "cell_type": "markdown",
   "metadata": {},
   "source": [
    "## Start a Hyperparameter Sweep"
   ]
  },
  {
   "cell_type": "markdown",
   "metadata": {},
   "source": [
    "Let's define the hyperparameter space to sweep over. We will tune `n_estimators`, `max_depth` and `max_features` parameters. In this example we will use random sampling to try different configuration sets of hyperparameters and maximize `Accuracy`."
   ]
  },
  {
   "cell_type": "code",
   "execution_count": null,
   "metadata": {
    "tags": []
   },
   "outputs": [],
   "source": [
    "from azure.ai.ml.sweep import Choice, Uniform\n",
    "\n",
    "command_job_for_sweep = command_job(\n",
    "    n_estimators=Choice(values=range(50, 500)),\n",
    "    max_depth=Choice(values=range(5, 19)),\n",
    "    max_features=Uniform(min_value=0.2, max_value=1.0),\n",
    ")\n",
    "\n",
    "# apply sweep parameter to obtain the sweep_job\n",
    "sweep_job = command_job_for_sweep.sweep(\n",
    "    compute=gpu_target.name,\n",
    "    sampling_algorithm=\"random\",\n",
    "    primary_metric=\"Accuracy\",\n",
    "    goal=\"Maximize\",\n",
    ")\n",
    "\n",
    "\n",
    "# Relax these limits to run more trials\n",
    "sweep_job.set_limits(\n",
    "    max_total_trials=5, max_concurrent_trials=5, timeout=18000, trial_timeout=3600\n",
    ")\n",
    "\n",
    "# Specify your experiment details\n",
    "sweep_job.display_name = \"RF-rapids-sweep-job\"\n",
    "sweep_job.description = \"Run RAPIDS hyperparameter sweep job\""
   ]
  },
  {
   "cell_type": "markdown",
   "metadata": {},
   "source": [
    "This will launch the RAPIDS training script with parameters that were specified in the cell above."
   ]
  },
  {
   "cell_type": "code",
   "execution_count": null,
   "metadata": {
    "tags": []
   },
   "outputs": [],
   "source": [
    "# submit the hpo job\n",
    "returned_sweep_job = ml_client.create_or_update(sweep_job)"
   ]
  },
  {
   "cell_type": "markdown",
   "metadata": {},
   "source": [
    "## Monitor runs"
   ]
  },
  {
   "cell_type": "code",
   "execution_count": null,
   "metadata": {
    "tags": []
   },
   "outputs": [],
   "source": [
    "print(f\"Monitor your job at {returned_sweep_job.studio_url}\")"
   ]
  },
  {
   "cell_type": "markdown",
   "metadata": {},
   "source": [
    "## Find and Register Best Model"
   ]
  },
  {
   "cell_type": "markdown",
   "metadata": {},
   "source": [
    "Download the best trial model output"
   ]
  },
  {
   "cell_type": "code",
   "execution_count": null,
   "metadata": {
    "tags": []
   },
   "outputs": [],
   "source": [
    "ml_client.jobs.download(returned_sweep_job.name, output_name=\"model\")"
   ]
  },
  {
   "cell_type": "markdown",
   "metadata": {},
   "source": [
    "# Delete Cluster"
   ]
  },
  {
   "cell_type": "code",
   "execution_count": null,
   "metadata": {
    "tags": []
   },
   "outputs": [],
   "source": [
    "ml_client.compute.begin_delete(gpu_target.name).wait()"
   ]
  }
 ],
 "metadata": {
  "kernel_info": {
   "name": "rapids"
  },
  "kernelspec": {
   "display_name": "Python 3 (ipykernel)",
   "language": "python",
   "name": "python3"
  },
  "language_info": {
   "codemirror_mode": {
    "name": "ipython",
    "version": 3
   },
   "file_extension": ".py",
   "mimetype": "text/x-python",
   "name": "python",
   "nbconvert_exporter": "python",
   "pygments_lexer": "ipython3",
   "version": "3.12.8"
  },
  "microsoft": {
   "ms_spell_check": {
    "ms_spell_check_language": "en"
   }
  },
  "nteract": {
   "version": "nteract-front-end@1.0.0"
  }
 },
 "nbformat": 4,
 "nbformat_minor": 4
}
