{
 "cells": [
  {
   "cell_type": "markdown",
   "id": "40fdfd11-2d77-4a7d-82ca-0d157c30f74c",
   "metadata": {},
   "source": [
    "## Setup"
   ]
  },
  {
   "cell_type": "code",
   "execution_count": 1,
   "id": "b04b4ea7-cba4-439d-ba9c-b7c6e222c051",
   "metadata": {
    "collapsed": true,
    "jupyter": {
     "outputs_hidden": true
    },
    "tags": []
   },
   "outputs": [
    {
     "name": "stdout",
     "output_type": "stream",
     "text": [
      "\n",
      "Looking for: ['polars']\n",
      "\n",
      "\u001b[?25l\u001b[2K\u001b[0G[+] 0.0s\n",
      "\u001b[2K\u001b[1A\u001b[2K\u001b[0G[+] 0.1s\n",
      "rapidsai/linux-64 (check zst) \u001b[33m━━━━━━━━━━━━━╸\u001b[0m\u001b[90m━\u001b[0m   0.0 B @  ??.?MB/s Checking  0.1s\u001b[2K\u001b[1A\u001b[2K\u001b[0G[+] 0.2s\n",
      "rapidsai/linux-64 (check zst) \u001b[33m━━━━━━━━━━━━━━━\u001b[0m   0.0 B @  ??.?MB/s Checking  0.2s\u001b[2K\u001b[1A\u001b[2K\u001b[0G[+] 0.3s\n",
      "rapidsai/linux-64 (check zst) \u001b[33m━━━━━━━━━━━━━━━\u001b[0m   0.0 B @  ??.?MB/s Checking  0.3s\u001b[2K\u001b[1A\u001b[2K\u001b[0Grapidsai/linux-64 (check zst)                       Checked  0.4s\n",
      "\u001b[?25h\u001b[?25l\u001b[2K\u001b[0G[+] 0.0s\n",
      "\u001b[2K\u001b[1A\u001b[2K\u001b[0G[+] 0.1s\n",
      "rapidsai/noarch (check zst) \u001b[33m━━━━━━━╸\u001b[0m\u001b[90m━━━━━━━━━\u001b[0m   0.0 B @  ??.?MB/s Checking  0.1s\u001b[2K\u001b[1A\u001b[2K\u001b[0Grapidsai/noarch (check zst)                         Checked  0.1s\n",
      "\u001b[?25h\u001b[?25l\u001b[2K\u001b[0G[+] 0.0s\n",
      "\u001b[2K\u001b[1A\u001b[2K\u001b[0Gpytorch/linux-64 (check zst)                       Checked  0.1s\n",
      "\u001b[?25h\u001b[?25l\u001b[2K\u001b[0G[+] 0.0s\n",
      "\u001b[2K\u001b[1A\u001b[2K\u001b[0G[+] 0.1s\n",
      "pytorch/noarch (check zst) \u001b[33m━━━━━━━━╸\u001b[0m\u001b[90m━━━━━━━━━\u001b[0m   0.0 B @  ??.?MB/s Checking  0.1s\u001b[2K\u001b[1A\u001b[2K\u001b[0Gpytorch/noarch (check zst)                          Checked  0.1s\n",
      "\u001b[?25h\u001b[?25l\u001b[2K\u001b[0G\u001b[?25h\u001b[?25l\u001b[2K\u001b[0G\u001b[?25h\u001b[?25l\u001b[2K\u001b[0G[+] 0.0s\n",
      "nvidia/linux-64 (check zst) \u001b[33m━━━━━━━━━━╸\u001b[0m\u001b[90m━━━━━━\u001b[0m   0.0 B @  ??.?MB/s Checking  0.0s\u001b[2K\u001b[1A\u001b[2K\u001b[0G[+] 0.1s\n",
      "nvidia/linux-64 (check zst) \u001b[33m━━━━━━━━━━╸\u001b[0m\u001b[90m━━━━━━\u001b[0m   0.0 B @  ??.?MB/s Checking  0.1s\u001b[2K\u001b[1A\u001b[2K\u001b[0G[+] 0.2s\n",
      "nvidia/linux-64 (check zst) \u001b[33m━━━━━━━━━━╸\u001b[0m\u001b[90m━━━━━━\u001b[0m   0.0 B @  ??.?MB/s Checking  0.2s\u001b[2K\u001b[1A\u001b[2K\u001b[0Gnvidia/linux-64 (check zst)                         Checked  0.2s\n",
      "\u001b[?25h\u001b[?25l\u001b[2K\u001b[0G[+] 0.0s\n",
      "\u001b[2K\u001b[1A\u001b[2K\u001b[0Gnvidia/noarch (check zst)                          Checked  0.1s\n",
      "\u001b[?25h\u001b[?25l\u001b[2K\u001b[0G[+] 0.0s\n",
      "\u001b[2K\u001b[1A\u001b[2K\u001b[0G[+] 0.1s\n",
      "conda-forge/linux-64 \u001b[90m━━━━━━━━━━━╸\u001b[0m\u001b[33m━━━━━━━━━━━\u001b[0m   0.0 B /  ??.?MB @  ??.?MB/s  0.1s\n",
      "rapidsai/linux-64    \u001b[33m━━━━━━━━━━━━╸\u001b[0m\u001b[90m━━━━━━━━━━\u001b[0m   0.0 B /  ??.?MB @  ??.?MB/s  0.1s\n",
      "rapidsai/noarch      \u001b[90m━━━━━━╸\u001b[0m\u001b[33m━━━━━━━━━━━━━━━━\u001b[0m   0.0 B /  ??.?MB @  ??.?MB/s  0.1s\n",
      "pytorch/linux-64     \u001b[33m━━━━━━━━╸\u001b[0m\u001b[90m━━━━━━━━━━━━━━\u001b[0m   0.0 B /  ??.?MB @  ??.?MB/s  0.1s\n",
      "pytorch/noarch       \u001b[33m━━━━━━━╸\u001b[0m\u001b[90m━━━━━━━━━━━━━━━\u001b[0m   0.0 B /  ??.?MB @  ??.?MB/s  0.1s\u001b[2K\u001b[1A\u001b[2K\u001b[1A\u001b[2K\u001b[1A\u001b[2K\u001b[1A\u001b[2K\u001b[1A\u001b[2K\u001b[0Gpytorch/linux-64                                   181.2kB @ 918.8kB/s  0.2s\n",
      "[+] 0.2s\n",
      "conda-forge/linux-64 \u001b[90m━━━━━━━━━━━━━━━━━━━━━━━\u001b[0m  58.2kB /  31.8MB @ 369.2kB/s  0.2s\n",
      "rapidsai/linux-64    \u001b[33m━━━━━━━━━━━━━━╸\u001b[0m\u001b[90m━━━━━━━━\u001b[0m   0.0 B /  ??.?MB @  ??.?MB/s  0.2s\n",
      "rapidsai/noarch      \u001b[90m━━━━━━━━╸\u001b[0m\u001b[33m━━━━━━━━━━━━━━\u001b[0m   0.0 B /  ??.?MB @  ??.?MB/s  0.2s\n",
      "pytorch/noarch       \u001b[33m━━━━━━━━━━╸\u001b[0m\u001b[90m━━━━━━━━━━━━\u001b[0m   0.0 B /  ??.?MB @  ??.?MB/s  0.2s\n",
      "nvidia/linux-64      \u001b[90m━━━━━━━╸\u001b[0m\u001b[33m━━━━━━━━━━━━━━━\u001b[0m   0.0 B /  ??.?MB @  ??.?MB/s  0.0s\u001b[2K\u001b[1A\u001b[2K\u001b[1A\u001b[2K\u001b[1A\u001b[2K\u001b[1A\u001b[2K\u001b[1A\u001b[2K\u001b[0Grapidsai/noarch                                      6.3kB @  26.7kB/s  0.2s\n",
      "pytorch/noarch                                      10.8kB @  44.5kB/s  0.3s\n",
      "[+] 0.3s\n",
      "conda-forge/linux-64 ━╸\u001b[90m━━━━━━━━━━━━━━━━━━━━━\u001b[0m   3.8MB /  31.8MB @  13.2MB/s  0.3s\n",
      "conda-forge/noarch   \u001b[33m━━━━━━━━━━━━━━━╸\u001b[0m\u001b[90m━━━━━━━\u001b[0m   0.0 B /  ??.?MB @  ??.?MB/s  0.0s\n",
      "rapidsai/linux-64    ━╸\u001b[90m━━━━━━━━━━━━━━━━━━━━━\u001b[0m  32.1kB / 261.9kB @ 110.6kB/s  0.3s\n",
      "nvidia/linux-64      \u001b[90m━━━━━━━━╸\u001b[0m\u001b[33m━━━━━━━━━━━━━━\u001b[0m   0.0 B /  ??.?MB @  ??.?MB/s  0.1s\n",
      "nvidia/noarch        \u001b[90m━━━━━━━━━━━╸\u001b[0m\u001b[33m━━━━━━━━━━━\u001b[0m   0.0 B /  ??.?MB @  ??.?MB/s  0.1s\u001b[2K\u001b[1A\u001b[2K\u001b[1A\u001b[2K\u001b[1A\u001b[2K\u001b[1A\u001b[2K\u001b[1A\u001b[2K\u001b[0Gnvidia/noarch                                        5.2kB @  14.8kB/s  0.1s\n",
      "[+] 0.4s\n",
      "conda-forge/linux-64 ━━━━━━╸\u001b[90m━━━━━━━━━━━━━━━━\u001b[0m  10.5MB /  31.8MB @  26.3MB/s  0.4s\n",
      "conda-forge/noarch   \u001b[90m━╸\u001b[0m\u001b[33m━━━━━━━━━━━━━━━╸\u001b[0m\u001b[90m━━━━━\u001b[0m   0.0 B /  ??.?MB @  ??.?MB/s  0.1s\n",
      "rapidsai/linux-64    ━╸\u001b[90m━━━━━━━━━━━━━━━━━━━━━\u001b[0m  32.1kB / 261.9kB @  92.0kB/s  0.4s\n",
      "nvidia/linux-64      \u001b[90m━━━━━━━━━━╸\u001b[0m\u001b[33m━━━━━━━━━━━━\u001b[0m  83.4kB /  ??.?MB @ 228.1kB/s  0.2s\u001b[2K\u001b[1A\u001b[2K\u001b[1A\u001b[2K\u001b[1A\u001b[2K\u001b[1A\u001b[2K\u001b[0Gnvidia/linux-64                                    159.0kB @ 394.0kB/s  0.2s\n",
      "[+] 0.5s\n",
      "conda-forge/linux-64 ━━━━━━━━╸\u001b[90m━━━━━━━━━━━━━━\u001b[0m  14.0MB /  31.8MB @  30.9MB/s  0.5s\n",
      "conda-forge/noarch   \u001b[90m━━━━━━━━━━━━━━━━━━━━━━━\u001b[0m 265.5kB /  13.2MB @ 596.4kB/s  0.2s\n",
      "rapidsai/linux-64    ━━━━━━━━━━━━╸\u001b[90m━━━━━━━━━━\u001b[0m 150.5kB / 261.9kB @ 331.7kB/s  0.5s\u001b[2K\u001b[1A\u001b[2K\u001b[1A\u001b[2K\u001b[1A\u001b[2K\u001b[0Grapidsai/linux-64                                  261.9kB @ 473.2kB/s  0.6s\n",
      "[+] 0.6s\n",
      "conda-forge/linux-64 ━━━━━━━━━━━━╸\u001b[90m━━━━━━━━━━\u001b[0m  19.3MB /  31.8MB @  34.7MB/s  0.6s\n",
      "conda-forge/noarch   ━━╸\u001b[90m━━━━━━━━━━━━━━━━━━━━\u001b[0m   1.9MB /  13.2MB @   3.4MB/s  0.3s\u001b[2K\u001b[1A\u001b[2K\u001b[1A\u001b[2K\u001b[0G[+] 0.7s\n",
      "conda-forge/linux-64 ━━━━━━━━━━━━━━━━━╸\u001b[90m━━━━━\u001b[0m  26.3MB /  31.8MB @  37.8MB/s  0.7s\n",
      "conda-forge/noarch   ━━━━━╸\u001b[90m━━━━━━━━━━━━━━━━━\u001b[0m   3.9MB /  13.2MB @   5.9MB/s  0.4s\u001b[2K\u001b[1A\u001b[2K\u001b[1A\u001b[2K\u001b[0G[+] 0.8s\n",
      "conda-forge/linux-64 ━━━━━━━━━━━━━━━━━━━╸\u001b[90m━━━\u001b[0m  29.0MB /  31.8MB @  38.5MB/s  0.8s\n",
      "conda-forge/noarch   ━━━━━━━━╸\u001b[90m━━━━━━━━━━━━━━\u001b[0m   5.4MB /  13.2MB @   7.3MB/s  0.5s\u001b[2K\u001b[1A\u001b[2K\u001b[1A\u001b[2K\u001b[0Gconda-forge/linux-64                                31.8MB @  39.4MB/s  0.9s\n",
      "[+] 0.9s\n",
      "conda-forge/noarch ━━━━━━━━━━━━━━━━╸\u001b[90m━━━━━━━━\u001b[0m   9.4MB /  13.2MB @  10.7MB/s  0.6s\u001b[2K\u001b[1A\u001b[2K\u001b[0Gconda-forge/noarch                                  13.2MB @  13.9MB/s  0.7s\n",
      "\u001b[?25h\n",
      "Pinned packages:\n",
      "  - python 3.10.*\n",
      "\n",
      "\n",
      "Transaction\n",
      "\n",
      "  Prefix: /opt/conda\n",
      "\n",
      "  Updating specs:\n",
      "\n",
      "   - polars\n",
      "   - ca-certificates\n",
      "   - certifi\n",
      "   - openssl\n",
      "\n",
      "\n",
      "  Package   Version  Build            Channel         Size\n",
      "────────────────────────────────────────────────────────────\n",
      "  Install:\n",
      "────────────────────────────────────────────────────────────\n",
      "\n",
      "  \u001b[32m+ polars\u001b[0m   0.20.4  py310h0dd625b_0  conda-forge     20MB\n",
      "\n",
      "  Summary:\n",
      "\n",
      "  Install: 1 packages\n",
      "\n",
      "  Total download: 20MB\n",
      "\n",
      "────────────────────────────────────────────────────────────\n",
      "\n",
      "\n",
      "\u001b[?25l\u001b[2K\u001b[0G[+] 0.0s\n",
      "Downloading      \u001b[90m━━━━━━━━━━━━━━━━━━━━━━━\u001b[0m   0.0 B                            0.0s\n",
      "Extracting       \u001b[90m━━━━━━━━━━━━━━━━━━━━━━━\u001b[0m       0                            0.0s\u001b[2K\u001b[1A\u001b[2K\u001b[1A\u001b[2K\u001b[0G[+] 0.1s\n",
      "Downloading  (1) \u001b[33m━━━━━━━━━━━━━━━━━━━━━━━\u001b[0m   0.0 B polars                     0.0s\n",
      "Extracting       \u001b[90m━━━━━━━━━━━━━━━━━━━━━━━\u001b[0m       0                            0.0s\u001b[2K\u001b[1A\u001b[2K\u001b[1A\u001b[2K\u001b[0G[+] 0.2s\n",
      "Downloading  (1) \u001b[33m━━━━━━━━━━━━━━━━━━━━━━━\u001b[0m  10.1kB polars                     0.1s\n",
      "Extracting       \u001b[90m━━━━━━━━━━━━━━━━━━━━━━━\u001b[0m       0                            0.0s\u001b[2K\u001b[1A\u001b[2K\u001b[1A\u001b[2K\u001b[0G[+] 0.3s\n",
      "Downloading  (1) ━╸\u001b[33m━━━━━━━━━━━━━━━━━━━━━\u001b[0m   2.3MB polars                     0.2s\n",
      "Extracting       \u001b[90m━━━━━━━━━━━━━━━━━━━━━━━\u001b[0m       0                            0.0s\u001b[2K\u001b[1A\u001b[2K\u001b[1A\u001b[2K\u001b[0G[+] 0.4s\n",
      "Downloading  (1) ━━━━━━━╸\u001b[33m━━━━━━━━━━━━━━━\u001b[0m   7.2MB polars                     0.3s\n",
      "Extracting       \u001b[90m━━━━━━━━━━━━━━━━━━━━━━━\u001b[0m       0                            0.0s\u001b[2K\u001b[1A\u001b[2K\u001b[1A\u001b[2K\u001b[0G[+] 0.5s\n",
      "Downloading  (1) ━━━━━━━━━━━━━━╸\u001b[33m━━━━━━━━\u001b[0m  13.5MB polars                     0.4s\n",
      "Extracting       \u001b[90m━━━━━━━━━━━━━━━━━━━━━━━\u001b[0m       0                            0.0s\u001b[2K\u001b[1A\u001b[2K\u001b[1A\u001b[2K\u001b[0G[+] 0.6s\n",
      "Downloading  (1) ━━━━━━━━━━━━━━━━╸\u001b[33m━━━━━━\u001b[0m  15.5MB polars                     0.5s\n",
      "Extracting       \u001b[90m━━━━━━━━━━━━━━━━━━━━━━━\u001b[0m       0                            0.0s\u001b[2K\u001b[1A\u001b[2K\u001b[1A\u001b[2K\u001b[0Gpolars                                              20.2MB @  31.4MB/s  0.6s\n",
      "[+] 0.7s\n",
      "Downloading      ━━━━━━━━━━━━━━━━━━━━━━━  20.2MB                            0.6s\n",
      "Extracting   (1) \u001b[90m━╸\u001b[0m\u001b[33m━━━━━━━━━━━━━━━╸\u001b[0m\u001b[90m━━━━━\u001b[0m       0 polars                     0.0s\u001b[2K\u001b[1A\u001b[2K\u001b[1A\u001b[2K\u001b[0G[+] 0.8s\n",
      "Downloading      ━━━━━━━━━━━━━━━━━━━━━━━  20.2MB                            0.6s\n",
      "Extracting   (1) \u001b[90m━━╸\u001b[0m\u001b[33m━━━━━━━━━━━━━━━╸\u001b[0m\u001b[90m━━━━\u001b[0m       0 polars                     0.1s\u001b[2K\u001b[1A\u001b[2K\u001b[1A\u001b[2K\u001b[0G[+] 0.9s\n",
      "Downloading      ━━━━━━━━━━━━━━━━━━━━━━━  20.2MB                            0.6s\n",
      "Extracting   (1) \u001b[90m━━━━╸\u001b[0m\u001b[33m━━━━━━━━━━━━━━━╸\u001b[0m\u001b[90m━━\u001b[0m       0 polars                     0.2s\u001b[2K\u001b[1A\u001b[2K\u001b[1A\u001b[2K\u001b[0G[+] 1.0s\n",
      "Downloading      ━━━━━━━━━━━━━━━━━━━━━━━  20.2MB                            0.6s\n",
      "Extracting       ━━━━━━━━━━━━━━━━━━━━━━━       1                            0.3s\u001b[2K\u001b[1A\u001b[2K\u001b[1A\u001b[2K\u001b[0G\u001b[?25h\n",
      "Downloading and Extracting Packages\n",
      "\n",
      "Preparing transaction: done\n",
      "Verifying transaction: done\n",
      "Executing transaction: done\n"
     ]
    }
   ],
   "source": [
    "! mamba install polars -y"
   ]
  },
  {
   "cell_type": "markdown",
   "id": "61be275c-8f08-457a-8bb5-fb1c5933747c",
   "metadata": {},
   "source": [
    "## Config"
   ]
  },
  {
   "cell_type": "code",
   "execution_count": 8,
   "id": "e881d6fe-3d4f-4666-abdb-67b41ec1288f",
   "metadata": {
    "tags": []
   },
   "outputs": [
    {
     "name": "stdout",
     "output_type": "stream",
     "text": [
      "-rw-r--r-- 1 rapids conda 13G Jan 18 16:08 data_1b.txt\n"
     ]
    }
   ],
   "source": [
    "data = \"data_1b.txt\"\n",
    "!ls -lh {data}"
   ]
  },
  {
   "cell_type": "markdown",
   "id": "ddbf5b70-e9ab-43a4-bc0d-0b9cfde32ec5",
   "metadata": {},
   "source": [
    "### Pandas"
   ]
  },
  {
   "cell_type": "code",
   "execution_count": 1,
   "id": "b58d87a7-b2fd-4b53-a258-0727a9903636",
   "metadata": {
    "tags": []
   },
   "outputs": [
    {
     "name": "stdout",
     "output_type": "stream",
     "text": [
      "CPU times: user 6min 6s, sys: 47.4 s, total: 6min 53s\n",
      "Wall time: 4min 19s\n"
     ]
    },
    {
     "data": {
      "text/html": [
       "<div>\n",
       "<style scoped>\n",
       "    .dataframe tbody tr th:only-of-type {\n",
       "        vertical-align: middle;\n",
       "    }\n",
       "\n",
       "    .dataframe tbody tr th {\n",
       "        vertical-align: top;\n",
       "    }\n",
       "\n",
       "    .dataframe thead th {\n",
       "        text-align: right;\n",
       "    }\n",
       "</style>\n",
       "<table border=\"1\" class=\"dataframe\">\n",
       "  <thead>\n",
       "    <tr style=\"text-align: right;\">\n",
       "      <th></th>\n",
       "      <th>min</th>\n",
       "      <th>max</th>\n",
       "      <th>mean</th>\n",
       "    </tr>\n",
       "    <tr>\n",
       "      <th>station</th>\n",
       "      <th></th>\n",
       "      <th></th>\n",
       "      <th></th>\n",
       "    </tr>\n",
       "  </thead>\n",
       "  <tbody>\n",
       "    <tr>\n",
       "      <th>Abha</th>\n",
       "      <td>-31.2</td>\n",
       "      <td>65.2</td>\n",
       "      <td>18.004827</td>\n",
       "    </tr>\n",
       "    <tr>\n",
       "      <th>Abidjan</th>\n",
       "      <td>-23.1</td>\n",
       "      <td>73.1</td>\n",
       "      <td>26.010195</td>\n",
       "    </tr>\n",
       "    <tr>\n",
       "      <th>Abéché</th>\n",
       "      <td>-20.7</td>\n",
       "      <td>77.3</td>\n",
       "      <td>29.405662</td>\n",
       "    </tr>\n",
       "    <tr>\n",
       "      <th>Accra</th>\n",
       "      <td>-21.8</td>\n",
       "      <td>77.3</td>\n",
       "      <td>26.399376</td>\n",
       "    </tr>\n",
       "    <tr>\n",
       "      <th>Addis Ababa</th>\n",
       "      <td>-37.6</td>\n",
       "      <td>64.7</td>\n",
       "      <td>15.991643</td>\n",
       "    </tr>\n",
       "  </tbody>\n",
       "</table>\n",
       "</div>"
      ],
      "text/plain": [
       "              min   max       mean\n",
       "station                           \n",
       "Abha        -31.2  65.2  18.004827\n",
       "Abidjan     -23.1  73.1  26.010195\n",
       "Abéché      -20.7  77.3  29.405662\n",
       "Accra       -21.8  77.3  26.399376\n",
       "Addis Ababa -37.6  64.7  15.991643"
      ]
     },
     "execution_count": 1,
     "metadata": {},
     "output_type": "execute_result"
    }
   ],
   "source": [
    "%%time\n",
    "import pandas as pd\n",
    "\n",
    "df = pd.read_csv(\n",
    "    data, sep=\";\", header=None, names=[\"station\", \"measure\"], engine=\"pyarrow\"\n",
    ")\n",
    "df = df.groupby(\"station\").agg([\"min\", \"max\", \"mean\"])\n",
    "df.columns = df.columns.droplevel()\n",
    "df = df.sort_values(\"station\")\n",
    "df.head()"
   ]
  },
  {
   "cell_type": "markdown",
   "id": "66383a1b-1f58-4984-809e-dcd88a8dde4f",
   "metadata": {},
   "source": [
    "### Polars"
   ]
  },
  {
   "cell_type": "code",
   "execution_count": 4,
   "id": "2c03b96e-bd87-470c-92de-1ab95226e514",
   "metadata": {
    "tags": []
   },
   "outputs": [
    {
     "name": "stdout",
     "output_type": "stream",
     "text": [
      "CPU times: user 3min 23s, sys: 12.1 s, total: 3min 35s\n",
      "Wall time: 36 s\n"
     ]
    }
   ],
   "source": [
    "%%time\n",
    "import polars as pl\n",
    "\n",
    "df = pl.scan_csv(\n",
    "    data,\n",
    "    separator=\";\",\n",
    "    has_header=False,\n",
    "    with_column_names=lambda cols: [\"city\", \"value\"],\n",
    ")\n",
    "\n",
    "grouped = (\n",
    "    df.group_by(\"city\")\n",
    "    .agg(\n",
    "        pl.min(\"value\").alias(\"min\"),\n",
    "        pl.mean(\"value\").alias(\"mean\"),\n",
    "        pl.max(\"value\").alias(\"max\"),\n",
    "    )\n",
    "    .sort(\"city\")\n",
    "    .collect(streaming=True)\n",
    ")"
   ]
  },
  {
   "cell_type": "markdown",
   "id": "e5cdf7f0-51c8-4c2b-a10b-59b75e0c091b",
   "metadata": {},
   "source": [
    "### dask"
   ]
  },
  {
   "cell_type": "code",
   "execution_count": 5,
   "id": "f077202b-c87d-4e0f-afc1-6baf42dc868f",
   "metadata": {
    "tags": []
   },
   "outputs": [
    {
     "name": "stdout",
     "output_type": "stream",
     "text": [
      "CPU times: user 7.69 s, sys: 1.37 s, total: 9.06 s\n",
      "Wall time: 1min 9s\n"
     ]
    },
    {
     "data": {
      "text/html": [
       "<div>\n",
       "<style scoped>\n",
       "    .dataframe tbody tr th:only-of-type {\n",
       "        vertical-align: middle;\n",
       "    }\n",
       "\n",
       "    .dataframe tbody tr th {\n",
       "        vertical-align: top;\n",
       "    }\n",
       "\n",
       "    .dataframe thead th {\n",
       "        text-align: right;\n",
       "    }\n",
       "</style>\n",
       "<table border=\"1\" class=\"dataframe\">\n",
       "  <thead>\n",
       "    <tr style=\"text-align: right;\">\n",
       "      <th></th>\n",
       "      <th>min</th>\n",
       "      <th>max</th>\n",
       "      <th>mean</th>\n",
       "    </tr>\n",
       "    <tr>\n",
       "      <th>station</th>\n",
       "      <th></th>\n",
       "      <th></th>\n",
       "      <th></th>\n",
       "    </tr>\n",
       "  </thead>\n",
       "  <tbody>\n",
       "    <tr>\n",
       "      <th>Abha</th>\n",
       "      <td>-30.5</td>\n",
       "      <td>72.4</td>\n",
       "      <td>17.990448</td>\n",
       "    </tr>\n",
       "    <tr>\n",
       "      <th>Abidjan</th>\n",
       "      <td>-22.9</td>\n",
       "      <td>76.3</td>\n",
       "      <td>26.006110</td>\n",
       "    </tr>\n",
       "    <tr>\n",
       "      <th>Abéché</th>\n",
       "      <td>-18.1</td>\n",
       "      <td>77.4</td>\n",
       "      <td>29.416588</td>\n",
       "    </tr>\n",
       "    <tr>\n",
       "      <th>Accra</th>\n",
       "      <td>-21.9</td>\n",
       "      <td>75.1</td>\n",
       "      <td>26.400786</td>\n",
       "    </tr>\n",
       "    <tr>\n",
       "      <th>Addis Ababa</th>\n",
       "      <td>-34.8</td>\n",
       "      <td>63.9</td>\n",
       "      <td>16.003163</td>\n",
       "    </tr>\n",
       "  </tbody>\n",
       "</table>\n",
       "</div>"
      ],
      "text/plain": [
       "              min   max       mean\n",
       "station                           \n",
       "Abha        -30.5  72.4  17.990448\n",
       "Abidjan     -22.9  76.3  26.006110\n",
       "Abéché      -18.1  77.4  29.416588\n",
       "Accra       -21.9  75.1  26.400786\n",
       "Addis Ababa -34.8  63.9  16.003163"
      ]
     },
     "execution_count": 5,
     "metadata": {},
     "output_type": "execute_result"
    }
   ],
   "source": [
    "%%time\n",
    "import dask\n",
    "import dask.dataframe as dd\n",
    "from dask.distributed import Client\n",
    "\n",
    "client = Client()\n",
    "df = dd.read_csv(\n",
    "    data,\n",
    "    sep=\";\",\n",
    "    header=None,\n",
    "    names=[\"station\", \"measure\"],\n",
    "    engine=\"pyarrow\",\n",
    ")\n",
    "df = df.groupby(\"station\").agg([\"min\", \"max\", \"mean\"])\n",
    "df.columns = df.columns.droplevel()\n",
    "df = df.sort_values(\"station\").compute()\n",
    "df.head()"
   ]
  },
  {
   "cell_type": "markdown",
   "id": "e49669b8-bf23-4899-be6b-4f1462a10991",
   "metadata": {},
   "source": [
    "### dask-cudf"
   ]
  },
  {
   "cell_type": "code",
   "execution_count": 1,
   "id": "e6869352-cbb8-4903-88c5-0457a70209ce",
   "metadata": {
    "tags": []
   },
   "outputs": [],
   "source": [
    "from dask.distributed import Client\n",
    "from dask_cuda import LocalCUDACluster\n",
    "\n",
    "client = Client(LocalCUDACluster())"
   ]
  },
  {
   "cell_type": "code",
   "execution_count": 6,
   "id": "05ad14e4-93d0-409d-a6fb-9046f1ac8364",
   "metadata": {
    "tags": []
   },
   "outputs": [
    {
     "name": "stdout",
     "output_type": "stream",
     "text": [
      "CPU times: user 880 ms, sys: 90.2 ms, total: 970 ms\n",
      "Wall time: 4.46 s\n"
     ]
    }
   ],
   "source": [
    "%%time\n",
    "import dask\n",
    "import dask.dataframe as dd\n",
    "\n",
    "with dask.config.set({\"dataframe.backend\": \"cudf\"}):\n",
    "    df = dd.read_csv(\n",
    "        data,\n",
    "        sep=\";\",\n",
    "        header=None,\n",
    "        names=[\"station\", \"measure\"],\n",
    "    )\n",
    "    df = df.groupby(\"station\").agg([\"min\", \"max\", \"mean\"])\n",
    "    df.columns = df.columns.droplevel()\n",
    "    df = df.compute().to_pandas().sort_values(\"station\")\n",
    "    df.head()"
   ]
  },
  {
   "cell_type": "markdown",
   "id": "ee521658-7b66-46c3-87aa-11f687a25246",
   "metadata": {},
   "source": [
    "### cudf"
   ]
  },
  {
   "cell_type": "code",
   "execution_count": 3,
   "id": "086f1619-4643-48d8-b8cf-fe2c8c3f22ac",
   "metadata": {
    "tags": []
   },
   "outputs": [
    {
     "ename": "MemoryError",
     "evalue": "std::bad_alloc: out_of_memory: CUDA error at: /opt/conda/include/rmm/mr/device/cuda_memory_resource.hpp",
     "output_type": "error",
     "traceback": [
      "\u001b[0;31m---------------------------------------------------------------------------\u001b[0m",
      "\u001b[0;31mMemoryError\u001b[0m                               Traceback (most recent call last)",
      "File \u001b[0;32m<timed exec>:3\u001b[0m\n",
      "File \u001b[0;32m/opt/conda/lib/python3.10/site-packages/nvtx/nvtx.py:115\u001b[0m, in \u001b[0;36mannotate.__call__.<locals>.inner\u001b[0;34m(*args, **kwargs)\u001b[0m\n\u001b[1;32m    112\u001b[0m \u001b[38;5;129m@wraps\u001b[39m(func)\n\u001b[1;32m    113\u001b[0m \u001b[38;5;28;01mdef\u001b[39;00m \u001b[38;5;21minner\u001b[39m(\u001b[38;5;241m*\u001b[39margs, \u001b[38;5;241m*\u001b[39m\u001b[38;5;241m*\u001b[39mkwargs):\n\u001b[1;32m    114\u001b[0m     libnvtx_push_range(\u001b[38;5;28mself\u001b[39m\u001b[38;5;241m.\u001b[39mattributes, \u001b[38;5;28mself\u001b[39m\u001b[38;5;241m.\u001b[39mdomain\u001b[38;5;241m.\u001b[39mhandle)\n\u001b[0;32m--> 115\u001b[0m     result \u001b[38;5;241m=\u001b[39m \u001b[43mfunc\u001b[49m\u001b[43m(\u001b[49m\u001b[38;5;241;43m*\u001b[39;49m\u001b[43margs\u001b[49m\u001b[43m,\u001b[49m\u001b[43m \u001b[49m\u001b[38;5;241;43m*\u001b[39;49m\u001b[38;5;241;43m*\u001b[39;49m\u001b[43mkwargs\u001b[49m\u001b[43m)\u001b[49m\n\u001b[1;32m    116\u001b[0m     libnvtx_pop_range(\u001b[38;5;28mself\u001b[39m\u001b[38;5;241m.\u001b[39mdomain\u001b[38;5;241m.\u001b[39mhandle)\n\u001b[1;32m    117\u001b[0m     \u001b[38;5;28;01mreturn\u001b[39;00m result\n",
      "File \u001b[0;32m/opt/conda/lib/python3.10/site-packages/cudf/io/csv.py:88\u001b[0m, in \u001b[0;36mread_csv\u001b[0;34m(filepath_or_buffer, sep, delimiter, header, names, index_col, usecols, prefix, mangle_dupe_cols, dtype, true_values, false_values, skipinitialspace, skiprows, skipfooter, nrows, na_values, keep_default_na, na_filter, skip_blank_lines, parse_dates, dayfirst, compression, thousands, decimal, lineterminator, quotechar, quoting, doublequote, comment, delim_whitespace, byte_range, use_python_file_object, storage_options, bytes_per_thread)\u001b[0m\n\u001b[1;32m     85\u001b[0m \u001b[38;5;28;01mif\u001b[39;00m na_values \u001b[38;5;129;01mis\u001b[39;00m \u001b[38;5;129;01mnot\u001b[39;00m \u001b[38;5;28;01mNone\u001b[39;00m \u001b[38;5;129;01mand\u001b[39;00m is_scalar(na_values):\n\u001b[1;32m     86\u001b[0m     na_values \u001b[38;5;241m=\u001b[39m [na_values]\n\u001b[0;32m---> 88\u001b[0m df \u001b[38;5;241m=\u001b[39m \u001b[43mlibcudf\u001b[49m\u001b[38;5;241;43m.\u001b[39;49m\u001b[43mcsv\u001b[49m\u001b[38;5;241;43m.\u001b[39;49m\u001b[43mread_csv\u001b[49m\u001b[43m(\u001b[49m\n\u001b[1;32m     89\u001b[0m \u001b[43m    \u001b[49m\u001b[43mfilepath_or_buffer\u001b[49m\u001b[43m,\u001b[49m\n\u001b[1;32m     90\u001b[0m \u001b[43m    \u001b[49m\u001b[43mlineterminator\u001b[49m\u001b[38;5;241;43m=\u001b[39;49m\u001b[43mlineterminator\u001b[49m\u001b[43m,\u001b[49m\n\u001b[1;32m     91\u001b[0m \u001b[43m    \u001b[49m\u001b[43mquotechar\u001b[49m\u001b[38;5;241;43m=\u001b[39;49m\u001b[43mquotechar\u001b[49m\u001b[43m,\u001b[49m\n\u001b[1;32m     92\u001b[0m \u001b[43m    \u001b[49m\u001b[43mquoting\u001b[49m\u001b[38;5;241;43m=\u001b[39;49m\u001b[43mquoting\u001b[49m\u001b[43m,\u001b[49m\n\u001b[1;32m     93\u001b[0m \u001b[43m    \u001b[49m\u001b[43mdoublequote\u001b[49m\u001b[38;5;241;43m=\u001b[39;49m\u001b[43mdoublequote\u001b[49m\u001b[43m,\u001b[49m\n\u001b[1;32m     94\u001b[0m \u001b[43m    \u001b[49m\u001b[43mheader\u001b[49m\u001b[38;5;241;43m=\u001b[39;49m\u001b[43mheader\u001b[49m\u001b[43m,\u001b[49m\n\u001b[1;32m     95\u001b[0m \u001b[43m    \u001b[49m\u001b[43mmangle_dupe_cols\u001b[49m\u001b[38;5;241;43m=\u001b[39;49m\u001b[43mmangle_dupe_cols\u001b[49m\u001b[43m,\u001b[49m\n\u001b[1;32m     96\u001b[0m \u001b[43m    \u001b[49m\u001b[43musecols\u001b[49m\u001b[38;5;241;43m=\u001b[39;49m\u001b[43musecols\u001b[49m\u001b[43m,\u001b[49m\n\u001b[1;32m     97\u001b[0m \u001b[43m    \u001b[49m\u001b[43msep\u001b[49m\u001b[38;5;241;43m=\u001b[39;49m\u001b[43msep\u001b[49m\u001b[43m,\u001b[49m\n\u001b[1;32m     98\u001b[0m \u001b[43m    \u001b[49m\u001b[43mdelimiter\u001b[49m\u001b[38;5;241;43m=\u001b[39;49m\u001b[43mdelimiter\u001b[49m\u001b[43m,\u001b[49m\n\u001b[1;32m     99\u001b[0m \u001b[43m    \u001b[49m\u001b[43mdelim_whitespace\u001b[49m\u001b[38;5;241;43m=\u001b[39;49m\u001b[43mdelim_whitespace\u001b[49m\u001b[43m,\u001b[49m\n\u001b[1;32m    100\u001b[0m \u001b[43m    \u001b[49m\u001b[43mskipinitialspace\u001b[49m\u001b[38;5;241;43m=\u001b[39;49m\u001b[43mskipinitialspace\u001b[49m\u001b[43m,\u001b[49m\n\u001b[1;32m    101\u001b[0m \u001b[43m    \u001b[49m\u001b[43mnames\u001b[49m\u001b[38;5;241;43m=\u001b[39;49m\u001b[43mnames\u001b[49m\u001b[43m,\u001b[49m\n\u001b[1;32m    102\u001b[0m \u001b[43m    \u001b[49m\u001b[43mdtype\u001b[49m\u001b[38;5;241;43m=\u001b[39;49m\u001b[43mdtype\u001b[49m\u001b[43m,\u001b[49m\n\u001b[1;32m    103\u001b[0m \u001b[43m    \u001b[49m\u001b[43mskipfooter\u001b[49m\u001b[38;5;241;43m=\u001b[39;49m\u001b[43mskipfooter\u001b[49m\u001b[43m,\u001b[49m\n\u001b[1;32m    104\u001b[0m \u001b[43m    \u001b[49m\u001b[43mskiprows\u001b[49m\u001b[38;5;241;43m=\u001b[39;49m\u001b[43mskiprows\u001b[49m\u001b[43m,\u001b[49m\n\u001b[1;32m    105\u001b[0m \u001b[43m    \u001b[49m\u001b[43mdayfirst\u001b[49m\u001b[38;5;241;43m=\u001b[39;49m\u001b[43mdayfirst\u001b[49m\u001b[43m,\u001b[49m\n\u001b[1;32m    106\u001b[0m \u001b[43m    \u001b[49m\u001b[43mcompression\u001b[49m\u001b[38;5;241;43m=\u001b[39;49m\u001b[43mcompression\u001b[49m\u001b[43m,\u001b[49m\n\u001b[1;32m    107\u001b[0m \u001b[43m    \u001b[49m\u001b[43mthousands\u001b[49m\u001b[38;5;241;43m=\u001b[39;49m\u001b[43mthousands\u001b[49m\u001b[43m,\u001b[49m\n\u001b[1;32m    108\u001b[0m \u001b[43m    \u001b[49m\u001b[43mdecimal\u001b[49m\u001b[38;5;241;43m=\u001b[39;49m\u001b[43mdecimal\u001b[49m\u001b[43m,\u001b[49m\n\u001b[1;32m    109\u001b[0m \u001b[43m    \u001b[49m\u001b[43mtrue_values\u001b[49m\u001b[38;5;241;43m=\u001b[39;49m\u001b[43mtrue_values\u001b[49m\u001b[43m,\u001b[49m\n\u001b[1;32m    110\u001b[0m \u001b[43m    \u001b[49m\u001b[43mfalse_values\u001b[49m\u001b[38;5;241;43m=\u001b[39;49m\u001b[43mfalse_values\u001b[49m\u001b[43m,\u001b[49m\n\u001b[1;32m    111\u001b[0m \u001b[43m    \u001b[49m\u001b[43mnrows\u001b[49m\u001b[38;5;241;43m=\u001b[39;49m\u001b[43mnrows\u001b[49m\u001b[43m,\u001b[49m\n\u001b[1;32m    112\u001b[0m \u001b[43m    \u001b[49m\u001b[43mbyte_range\u001b[49m\u001b[38;5;241;43m=\u001b[39;49m\u001b[43mbyte_range\u001b[49m\u001b[43m,\u001b[49m\n\u001b[1;32m    113\u001b[0m \u001b[43m    \u001b[49m\u001b[43mskip_blank_lines\u001b[49m\u001b[38;5;241;43m=\u001b[39;49m\u001b[43mskip_blank_lines\u001b[49m\u001b[43m,\u001b[49m\n\u001b[1;32m    114\u001b[0m \u001b[43m    \u001b[49m\u001b[43mparse_dates\u001b[49m\u001b[38;5;241;43m=\u001b[39;49m\u001b[43mparse_dates\u001b[49m\u001b[43m,\u001b[49m\n\u001b[1;32m    115\u001b[0m \u001b[43m    \u001b[49m\u001b[43mcomment\u001b[49m\u001b[38;5;241;43m=\u001b[39;49m\u001b[43mcomment\u001b[49m\u001b[43m,\u001b[49m\n\u001b[1;32m    116\u001b[0m \u001b[43m    \u001b[49m\u001b[43mna_values\u001b[49m\u001b[38;5;241;43m=\u001b[39;49m\u001b[43mna_values\u001b[49m\u001b[43m,\u001b[49m\n\u001b[1;32m    117\u001b[0m \u001b[43m    \u001b[49m\u001b[43mkeep_default_na\u001b[49m\u001b[38;5;241;43m=\u001b[39;49m\u001b[43mkeep_default_na\u001b[49m\u001b[43m,\u001b[49m\n\u001b[1;32m    118\u001b[0m \u001b[43m    \u001b[49m\u001b[43mna_filter\u001b[49m\u001b[38;5;241;43m=\u001b[39;49m\u001b[43mna_filter\u001b[49m\u001b[43m,\u001b[49m\n\u001b[1;32m    119\u001b[0m \u001b[43m    \u001b[49m\u001b[43mprefix\u001b[49m\u001b[38;5;241;43m=\u001b[39;49m\u001b[43mprefix\u001b[49m\u001b[43m,\u001b[49m\n\u001b[1;32m    120\u001b[0m \u001b[43m    \u001b[49m\u001b[43mindex_col\u001b[49m\u001b[38;5;241;43m=\u001b[39;49m\u001b[43mindex_col\u001b[49m\u001b[43m,\u001b[49m\n\u001b[1;32m    121\u001b[0m \u001b[43m\u001b[49m\u001b[43m)\u001b[49m\n\u001b[1;32m    123\u001b[0m \u001b[38;5;28;01mif\u001b[39;00m dtype \u001b[38;5;129;01mis\u001b[39;00m \u001b[38;5;28;01mNone\u001b[39;00m \u001b[38;5;129;01mor\u001b[39;00m \u001b[38;5;28misinstance\u001b[39m(dtype, abc\u001b[38;5;241m.\u001b[39mMapping):\n\u001b[1;32m    124\u001b[0m     \u001b[38;5;66;03m# There exists some dtypes in the result columns that is inferred.\u001b[39;00m\n\u001b[1;32m    125\u001b[0m     \u001b[38;5;66;03m# Find them and map them to the default dtypes.\u001b[39;00m\n\u001b[1;32m    126\u001b[0m     specified_dtypes \u001b[38;5;241m=\u001b[39m {} \u001b[38;5;28;01mif\u001b[39;00m dtype \u001b[38;5;129;01mis\u001b[39;00m \u001b[38;5;28;01mNone\u001b[39;00m \u001b[38;5;28;01melse\u001b[39;00m dtype\n",
      "File \u001b[0;32mcsv.pyx:426\u001b[0m, in \u001b[0;36mcudf._lib.csv.read_csv\u001b[0;34m()\u001b[0m\n",
      "\u001b[0;31mMemoryError\u001b[0m: std::bad_alloc: out_of_memory: CUDA error at: /opt/conda/include/rmm/mr/device/cuda_memory_resource.hpp"
     ]
    }
   ],
   "source": [
    "%%time\n",
    "import cudf\n",
    "\n",
    "df = cudf.read_csv(\n",
    "    \"1brc/measurements.txt\", sep=\";\", header=None, names=[\"station\", \"measure\"]\n",
    ")\n",
    "df = df.groupby(\"station\").agg([\"min\", \"max\", \"mean\"])\n",
    "df.columns = df.columns.droplevel()\n",
    "df = df.sort_values(\"station\")"
   ]
  },
  {
   "cell_type": "markdown",
   "id": "1fee0cb2-c7d3-49c8-9573-7120e1946f2e",
   "metadata": {},
   "source": [
    "### cudf.pandas"
   ]
  },
  {
   "cell_type": "code",
   "execution_count": 1,
   "id": "1cb13b20-95a8-4c5f-a054-579f32c1cbf6",
   "metadata": {
    "tags": []
   },
   "outputs": [],
   "source": [
    "%load_ext cudf.pandas"
   ]
  },
  {
   "cell_type": "code",
   "execution_count": 2,
   "id": "5ed5a831-2e4d-43cb-a3eb-62dac8cd22d2",
   "metadata": {
    "tags": []
   },
   "outputs": [
    {
     "data": {
      "text/html": [
       "<div>\n",
       "<style scoped>\n",
       "    .dataframe tbody tr th:only-of-type {\n",
       "        vertical-align: middle;\n",
       "    }\n",
       "\n",
       "    .dataframe tbody tr th {\n",
       "        vertical-align: top;\n",
       "    }\n",
       "\n",
       "    .dataframe thead th {\n",
       "        text-align: right;\n",
       "    }\n",
       "</style>\n",
       "<table border=\"1\" class=\"dataframe\">\n",
       "  <thead>\n",
       "    <tr style=\"text-align: right;\">\n",
       "      <th></th>\n",
       "      <th>measure</th>\n",
       "      <th>measure</th>\n",
       "      <th>measure</th>\n",
       "    </tr>\n",
       "    <tr>\n",
       "      <th>station</th>\n",
       "      <th></th>\n",
       "      <th></th>\n",
       "      <th></th>\n",
       "    </tr>\n",
       "  </thead>\n",
       "  <tbody>\n",
       "    <tr>\n",
       "      <th>Abha</th>\n",
       "      <td>-31.2</td>\n",
       "      <td>65.2</td>\n",
       "      <td>18.004827</td>\n",
       "    </tr>\n",
       "    <tr>\n",
       "      <th>Abidjan</th>\n",
       "      <td>-23.1</td>\n",
       "      <td>73.1</td>\n",
       "      <td>26.010195</td>\n",
       "    </tr>\n",
       "    <tr>\n",
       "      <th>Abéché</th>\n",
       "      <td>-20.7</td>\n",
       "      <td>77.3</td>\n",
       "      <td>29.405662</td>\n",
       "    </tr>\n",
       "    <tr>\n",
       "      <th>Accra</th>\n",
       "      <td>-21.8</td>\n",
       "      <td>77.3</td>\n",
       "      <td>26.399376</td>\n",
       "    </tr>\n",
       "    <tr>\n",
       "      <th>Addis Ababa</th>\n",
       "      <td>-37.6</td>\n",
       "      <td>64.7</td>\n",
       "      <td>15.991643</td>\n",
       "    </tr>\n",
       "  </tbody>\n",
       "</table>\n",
       "</div>"
      ],
      "text/plain": [
       "             measure  measure    measure\n",
       "station                                 \n",
       "Abha           -31.2     65.2  18.004827\n",
       "Abidjan        -23.1     73.1  26.010195\n",
       "Abéché         -20.7     77.3  29.405662\n",
       "Accra          -21.8     77.3  26.399376\n",
       "Addis Ababa    -37.6     64.7  15.991643"
      ]
     },
     "execution_count": 2,
     "metadata": {},
     "output_type": "execute_result"
    },
    {
     "data": {
      "text/html": [
       "<pre style=\"white-space:pre;overflow-x:auto;line-height:normal;font-family:Menlo,'DejaVu Sans Mono',consolas,'Courier New',monospace\"><span style=\"font-style: italic\">                                                                                                                </span>\n",
       "<span style=\"font-style: italic\">                                          Total time elapsed: 561.227 seconds                                   </span>\n",
       "<span style=\"font-style: italic\">                                         2 GPU function calls in 0.175 seconds                                  </span>\n",
       "<span style=\"font-style: italic\">                                        7 CPU function calls in 398.586 seconds                                 </span>\n",
       "<span style=\"font-style: italic\">                                                                                                                </span>\n",
       "<span style=\"font-style: italic\">                                                         Stats                                                  </span>\n",
       "<span style=\"font-style: italic\">                                                                                                                </span>\n",
       "┏━━━━━━━━━━━━━━━━━━━━━━━━━━━━┳━━━━━━━━━━━━┳━━━━━━━━━━━━━┳━━━━━━━━━━━━━┳━━━━━━━━━━━━┳━━━━━━━━━━━━━┳━━━━━━━━━━━━━┓\n",
       "┃<span style=\"font-weight: bold\"> Function                   </span>┃<span style=\"font-weight: bold\"> GPU ncalls </span>┃<span style=\"font-weight: bold\"> GPU cumtime </span>┃<span style=\"font-weight: bold\"> GPU percall </span>┃<span style=\"font-weight: bold\"> CPU ncalls </span>┃<span style=\"font-weight: bold\"> CPU cumtime </span>┃<span style=\"font-weight: bold\"> CPU percall </span>┃\n",
       "┡━━━━━━━━━━━━━━━━━━━━━━━━━━━━╇━━━━━━━━━━━━╇━━━━━━━━━━━━━╇━━━━━━━━━━━━━╇━━━━━━━━━━━━╇━━━━━━━━━━━━━╇━━━━━━━━━━━━━┩\n",
       "│ read_csv                   │ 0          │ 0.000       │ 0.000       │ 1          │ 50.251      │ 50.251      │\n",
       "│ DataFrame.groupby          │ 0          │ 0.000       │ 0.000       │ 1          │ 77.734      │ 77.734      │\n",
       "│ DataFrameGroupBy.aggregate │ 0          │ 0.000       │ 0.000       │ 1          │ 270.515     │ 270.515     │\n",
       "│ MultiIndex.droplevel       │ 1          │ 0.175       │ 0.175       │ 0          │ 0.000       │ 0.000       │\n",
       "│ DataFrame.__setattr__      │ 0          │ 0.000       │ 0.000       │ 1          │ 0.055       │ 0.055       │\n",
       "│ DataFrame.sort_values      │ 0          │ 0.000       │ 0.000       │ 1          │ 0.003       │ 0.003       │\n",
       "│ DataFrame.head             │ 0          │ 0.000       │ 0.000       │ 1          │ 0.001       │ 0.001       │\n",
       "│ DataFrame                  │ 1          │ 0.000       │ 0.000       │ 0          │ 0.000       │ 0.000       │\n",
       "│ DataFrame.__repr__         │ 0          │ 0.000       │ 0.000       │ 1          │ 0.026       │ 0.026       │\n",
       "└────────────────────────────┴────────────┴─────────────┴─────────────┴────────────┴─────────────┴─────────────┘\n",
       "</pre>\n"
      ],
      "text/plain": [
       "\u001b[3m                                                                                                                \u001b[0m\n",
       "\u001b[3m                                          Total time elapsed: 561.227 seconds                                   \u001b[0m\n",
       "\u001b[3m                                         2 GPU function calls in 0.175 seconds                                  \u001b[0m\n",
       "\u001b[3m                                        7 CPU function calls in 398.586 seconds                                 \u001b[0m\n",
       "\u001b[3m                                                                                                                \u001b[0m\n",
       "\u001b[3m                                                         Stats                                                  \u001b[0m\n",
       "\u001b[3m                                                                                                                \u001b[0m\n",
       "┏━━━━━━━━━━━━━━━━━━━━━━━━━━━━┳━━━━━━━━━━━━┳━━━━━━━━━━━━━┳━━━━━━━━━━━━━┳━━━━━━━━━━━━┳━━━━━━━━━━━━━┳━━━━━━━━━━━━━┓\n",
       "┃\u001b[1m \u001b[0m\u001b[1mFunction                  \u001b[0m\u001b[1m \u001b[0m┃\u001b[1m \u001b[0m\u001b[1mGPU ncalls\u001b[0m\u001b[1m \u001b[0m┃\u001b[1m \u001b[0m\u001b[1mGPU cumtime\u001b[0m\u001b[1m \u001b[0m┃\u001b[1m \u001b[0m\u001b[1mGPU percall\u001b[0m\u001b[1m \u001b[0m┃\u001b[1m \u001b[0m\u001b[1mCPU ncalls\u001b[0m\u001b[1m \u001b[0m┃\u001b[1m \u001b[0m\u001b[1mCPU cumtime\u001b[0m\u001b[1m \u001b[0m┃\u001b[1m \u001b[0m\u001b[1mCPU percall\u001b[0m\u001b[1m \u001b[0m┃\n",
       "┡━━━━━━━━━━━━━━━━━━━━━━━━━━━━╇━━━━━━━━━━━━╇━━━━━━━━━━━━━╇━━━━━━━━━━━━━╇━━━━━━━━━━━━╇━━━━━━━━━━━━━╇━━━━━━━━━━━━━┩\n",
       "│ read_csv                   │ 0          │ 0.000       │ 0.000       │ 1          │ 50.251      │ 50.251      │\n",
       "│ DataFrame.groupby          │ 0          │ 0.000       │ 0.000       │ 1          │ 77.734      │ 77.734      │\n",
       "│ DataFrameGroupBy.aggregate │ 0          │ 0.000       │ 0.000       │ 1          │ 270.515     │ 270.515     │\n",
       "│ MultiIndex.droplevel       │ 1          │ 0.175       │ 0.175       │ 0          │ 0.000       │ 0.000       │\n",
       "│ DataFrame.__setattr__      │ 0          │ 0.000       │ 0.000       │ 1          │ 0.055       │ 0.055       │\n",
       "│ DataFrame.sort_values      │ 0          │ 0.000       │ 0.000       │ 1          │ 0.003       │ 0.003       │\n",
       "│ DataFrame.head             │ 0          │ 0.000       │ 0.000       │ 1          │ 0.001       │ 0.001       │\n",
       "│ DataFrame                  │ 1          │ 0.000       │ 0.000       │ 0          │ 0.000       │ 0.000       │\n",
       "│ DataFrame.__repr__         │ 0          │ 0.000       │ 0.000       │ 1          │ 0.026       │ 0.026       │\n",
       "└────────────────────────────┴────────────┴─────────────┴─────────────┴────────────┴─────────────┴─────────────┘\n"
      ]
     },
     "metadata": {},
     "output_type": "display_data"
    },
    {
     "data": {
      "text/html": [
       "<pre style=\"white-space:pre;overflow-x:auto;line-height:normal;font-family:Menlo,'DejaVu Sans Mono',consolas,'Courier New',monospace\">Not all pandas operations ran on the GPU. The following functions required CPU fallback:\n",
       "\n",
       "- read_csv\n",
       "- DataFrame.groupby\n",
       "- DataFrameGroupBy.aggregate\n",
       "- DataFrame.__setattr__\n",
       "- DataFrame.sort_values\n",
       "- DataFrame.head\n",
       "- DataFrame.__repr__\n",
       "\n",
       "</pre>\n"
      ],
      "text/plain": [
       "Not all pandas operations ran on the GPU. The following functions required CPU fallback:\n",
       "\n",
       "- read_csv\n",
       "- DataFrame.groupby\n",
       "- DataFrameGroupBy.aggregate\n",
       "- DataFrame.__setattr__\n",
       "- DataFrame.sort_values\n",
       "- DataFrame.head\n",
       "- DataFrame.__repr__\n",
       "\n"
      ]
     },
     "metadata": {},
     "output_type": "display_data"
    },
    {
     "data": {
      "text/html": [
       "<pre style=\"white-space:pre;overflow-x:auto;line-height:normal;font-family:Menlo,'DejaVu Sans Mono',consolas,'Courier New',monospace\">To request GPU support for any of these functions, please file a Github issue here: \n",
       "<a href=\"https://github.com/rapidsai/cudf/issues/new?assignees=&labels=%3F+-+Needs+Triage%2C+feature+request&projects=&template=pandas_function_request.md&title=%5BFEA%5D\" target=\"_blank\"><span style=\"color: #0000ff; text-decoration-color: #0000ff; text-decoration: underline\">https://github.com/rapidsai/cudf/issues/new/choose</span></a><span style=\"color: #0000ff; text-decoration-color: #0000ff; text-decoration: underline\">.</span>\n",
       "</pre>\n"
      ],
      "text/plain": [
       "To request GPU support for any of these functions, please file a Github issue here: \n",
       "\u001b]8;id=390246;https://github.com/rapidsai/cudf/issues/new?assignees=&labels=%3F+-+Needs+Triage%2C+feature+request&projects=&template=pandas_function_request.md&title=%5BFEA%5D\u001b\\\u001b[4;94mhttps://github.com/rapidsai/cudf/issues/new/choose\u001b[0m\u001b]8;;\u001b\\\u001b[4;94m.\u001b[0m\n"
      ]
     },
     "metadata": {},
     "output_type": "display_data"
    },
    {
     "name": "stdout",
     "output_type": "stream",
     "text": [
      "CPU times: user 10min 46s, sys: 1min 11s, total: 11min 57s\n",
      "Wall time: 9min 21s\n"
     ]
    }
   ],
   "source": [
    "%%time\n",
    "%%cudf.pandas.profile\n",
    "import pandas as pd\n",
    "\n",
    "df = pd.read_csv(\n",
    "    \"1brc/measurements.txt\",\n",
    "    sep=\";\",\n",
    "    header=None,\n",
    "    names=[\"station\", \"measure\"],\n",
    "    engine=\"pyarrow\",\n",
    ")\n",
    "df = df.groupby(\"station\").agg([\"min\", \"max\", \"mean\"])\n",
    "df.columns = df.columns.droplevel()\n",
    "df = df.sort_values(\"station\")\n",
    "df.head()"
   ]
  },
  {
   "cell_type": "markdown",
   "id": "70c29131-bccd-4435-9808-ec06827541ee",
   "metadata": {},
   "source": [
    "## Timings"
   ]
  },
  {
   "cell_type": "code",
   "execution_count": 8,
   "id": "53b00af9-d684-40d6-9d0c-5c47a553e5b3",
   "metadata": {
    "tags": []
   },
   "outputs": [
    {
     "data": {
      "text/plain": [
       "<Axes: title={'center': 'One Billion Row Challenge'}, ylabel='Time (seconds)'>"
      ]
     },
     "execution_count": 8,
     "metadata": {},
     "output_type": "execute_result"
    },
    {
     "data": {
      "image/png": "[encoded data removed]",
      "text/plain": [
       "<Figure size 640x480 with 1 Axes>"
      ]
     },
     "metadata": {},
     "output_type": "display_data"
    }
   ],
   "source": [
    "import pandas as pd\n",
    "\n",
    "s = pd.Series({\"pandas\": 259, \"dask\": 69, \"polars\": 29.6, \"dask-cudf\": 15.8})\n",
    "s.plot.bar(\n",
    "    title=\"One Billion Row Challenge\",\n",
    "    stacked=True,\n",
    "    color=[\"blue\", \"orange\", \"brown\", \"purple\"],\n",
    "    ylabel=\"Time (seconds)\",\n",
    ")"
   ]
  },
  {
   "cell_type": "code",
   "execution_count": null,
   "id": "a36dcd3e-35a0-48bf-8491-eb2a80c4245d",
   "metadata": {},
   "outputs": [],
   "source": []
  }
 ],
 "metadata": {
  "kernelspec": {
   "display_name": "Python 3 (ipykernel)",
   "language": "python",
   "name": "python3"
  },
  "language_info": {
   "codemirror_mode": {
    "name": "ipython",
    "version": 3
   },
   "file_extension": ".py",
   "mimetype": "text/x-python",
   "name": "python",
   "nbconvert_exporter": "python",
   "pygments_lexer": "ipython3",
   "version": "3.10.13"
  }
 },
 "nbformat": 4,
 "nbformat_minor": 5
}
