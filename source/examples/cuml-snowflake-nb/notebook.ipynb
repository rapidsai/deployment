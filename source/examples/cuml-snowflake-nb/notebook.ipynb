{
 "cells": [
  {
   "cell_type": "markdown",
   "metadata": {
    "editable": true,
    "id": "ZhTWAPo7X5-I",
    "slideshow": {
     "slide_type": ""
    },
    "tags": [
     "library/cuml",
     "platforms/snowflake"
    ]
   },
   "source": [
    "# Getting Started with cuML's accelerator mode (cuml.accel) in Snowflake Notebooks\n"
   ]
  },
  {
   "cell_type": "markdown",
   "metadata": {
    "editable": true,
    "slideshow": {
     "slide_type": ""
    },
    "tags": []
   },
   "source": [
    "_July, 2025_\n",
    "\n",
    "```{docref} /platforms/snowflake\n",
    "For the purpose of this example, follow the `cuDF` and `cuML` in Snowflake Notebooks ML Runtime section on Snowflake guide, before getting started.\n",
    "```"
   ]
  },
  {
   "cell_type": "markdown",
   "metadata": {
    "id": "BinKvOgMYOCp"
   },
   "source": [
    "cuML is a Python GPU library for accelerating machine learning models using a scikit-learn-like API.\n",
    "\n",
    "cuML now has an accelerator mode (cuml.accel) which allows you to bring accelerated computing to existing workflows with zero code changes required. In addition to scikit-learn, cuml.accel also provides acceleration to algorithms found in umap-learn (UMAP) and hdbscan (HDBSCAN).\n",
    "\n",
    "This notebook is a brief introduction to cuml.accel."
   ]
  },
  {
   "cell_type": "markdown",
   "metadata": {
    "id": "ylUzZjM-mRMH"
   },
   "source": [
    "# ⚠️ Verify your setup"
   ]
  },
  {
   "cell_type": "markdown",
   "metadata": {
    "id": "e_AtDRMEZQd-"
   },
   "source": [
    "First, we'll verify that we are running on an NVIDIA GPU:"
   ]
  },
  {
   "cell_type": "code",
   "execution_count": null,
   "metadata": {
    "colab": {
     "base_uri": "https://localhost:8080/"
    },
    "id": "OKWtiMvJAS60",
    "outputId": "3ad02328-d81d-4296-f2f9-9c97baf40114"
   },
   "outputs": [],
   "source": [
    "!nvidia-smi  # this should display information about available GPUs"
   ]
  },
  {
   "cell_type": "markdown",
   "metadata": {
    "id": "qC3fevZecnns"
   },
   "source": [
    "With classical machine learning, there is a wide range of interesting problems we can explore. In this tutorial we'll examine 3 of the more popular use cases: classification, clustering, and dimensionality reduction."
   ]
  },
  {
   "cell_type": "markdown",
   "metadata": {
    "id": "M37-8qsDa2Pe"
   },
   "source": [
    "# Classification"
   ]
  },
  {
   "cell_type": "markdown",
   "metadata": {
    "id": "vT5RNLwdce-O"
   },
   "source": [
    "Let's load a dataset and see how we can use scikit-learn to classify that data.  For this example we'll use the Coverage Type dataset, which contains a number of features that can be used to predict forest cover type, such as elevation, aspect, slope, and soil-type.\n",
    "\n",
    "More information on this dataset can be found at https://archive.ics.uci.edu/dataset/31/covertype."
   ]
  },
  {
   "cell_type": "code",
   "execution_count": null,
   "metadata": {
    "id": "PKt2Lje5lYQw"
   },
   "outputs": [],
   "source": [
    "import pandas as pd\n",
    "from sklearn.ensemble import RandomForestClassifier\n",
    "from sklearn.metrics import accuracy_score, classification_report\n",
    "from sklearn.model_selection import train_test_split"
   ]
  },
  {
   "cell_type": "code",
   "execution_count": null,
   "metadata": {
    "id": "rLHSPlLnv-1y"
   },
   "outputs": [],
   "source": [
    "url = (\n",
    "    \"https://archive.ics.uci.edu/ml/machine-learning-databases/covtype/covtype.data.gz\"\n",
    ")\n",
    "\n",
    "# Column names for the dataset (from UCI Covertype description)\n",
    "columns = [\n",
    "    \"Elevation\",\n",
    "    \"Aspect\",\n",
    "    \"Slope\",\n",
    "    \"Horizontal_Distance_To_Hydrology\",\n",
    "    \"Vertical_Distance_To_Hydrology\",\n",
    "    \"Horizontal_Distance_To_Roadways\",\n",
    "    \"Hillshade_9am\",\n",
    "    \"Hillshade_Noon\",\n",
    "    \"Hillshade_3pm\",\n",
    "    \"Horizontal_Distance_To_Fire_Points\",\n",
    "    \"Wilderness_Area1\",\n",
    "    \"Wilderness_Area2\",\n",
    "    \"Wilderness_Area3\",\n",
    "    \"Wilderness_Area4\",\n",
    "    \"Soil_Type1\",\n",
    "    \"Soil_Type2\",\n",
    "    \"Soil_Type3\",\n",
    "    \"Soil_Type4\",\n",
    "    \"Soil_Type5\",\n",
    "    \"Soil_Type6\",\n",
    "    \"Soil_Type7\",\n",
    "    \"Soil_Type8\",\n",
    "    \"Soil_Type9\",\n",
    "    \"Soil_Type10\",\n",
    "    \"Soil_Type11\",\n",
    "    \"Soil_Type12\",\n",
    "    \"Soil_Type13\",\n",
    "    \"Soil_Type14\",\n",
    "    \"Soil_Type15\",\n",
    "    \"Soil_Type16\",\n",
    "    \"Soil_Type17\",\n",
    "    \"Soil_Type18\",\n",
    "    \"Soil_Type19\",\n",
    "    \"Soil_Type20\",\n",
    "    \"Soil_Type21\",\n",
    "    \"Soil_Type22\",\n",
    "    \"Soil_Type23\",\n",
    "    \"Soil_Type24\",\n",
    "    \"Soil_Type25\",\n",
    "    \"Soil_Type26\",\n",
    "    \"Soil_Type27\",\n",
    "    \"Soil_Type28\",\n",
    "    \"Soil_Type29\",\n",
    "    \"Soil_Type30\",\n",
    "    \"Soil_Type31\",\n",
    "    \"Soil_Type32\",\n",
    "    \"Soil_Type33\",\n",
    "    \"Soil_Type34\",\n",
    "    \"Soil_Type35\",\n",
    "    \"Soil_Type36\",\n",
    "    \"Soil_Type37\",\n",
    "    \"Soil_Type38\",\n",
    "    \"Soil_Type39\",\n",
    "    \"Soil_Type40\",\n",
    "    \"Cover_Type\",\n",
    "]\n",
    "\n",
    "data = pd.read_csv(url, header=None)\n",
    "data.columns = columns"
   ]
  },
  {
   "cell_type": "code",
   "execution_count": null,
   "metadata": {
    "colab": {
     "base_uri": "https://localhost:8080/"
    },
    "id": "53P_F5oHmh9F",
    "outputId": "da81ae3e-9725-4a99-d11e-e65f57a99d73"
   },
   "outputs": [],
   "source": [
    "data.shape"
   ]
  },
  {
   "cell_type": "markdown",
   "metadata": {
    "id": "7Mz-yThWmlqg"
   },
   "source": [
    "Next, we'll separate out the classification variable (Cover_Type) from the rest of the data. This is what we will aim to predict with our classification model. We can also split our dataset into training and test data using the scikit-learn train_test_split function."
   ]
  },
  {
   "cell_type": "code",
   "execution_count": null,
   "metadata": {
    "id": "heVSKrDLxdN3"
   },
   "outputs": [],
   "source": [
    "X, y = data.drop(\"Cover_Type\", axis=1), data[\"Cover_Type\"]\n",
    "X_train, X_test, y_train, y_test = train_test_split(X, y, test_size=0.2)"
   ]
  },
  {
   "cell_type": "markdown",
   "metadata": {
    "id": "OVl1oBxxm44k"
   },
   "source": [
    "Now that we have our dataset split, we're ready to run a model. To start, we will just run the model using the sklearn library with a starting max depth of 5 and all of the features. Note that we can set n_jobs=-1 to utilize all available CPU cores for fitting the trees -- this will ensure we get the best performance possible on our system's CPU.  "
   ]
  },
  {
   "cell_type": "code",
   "execution_count": null,
   "metadata": {},
   "outputs": [],
   "source": [
    "import time"
   ]
  },
  {
   "cell_type": "code",
   "execution_count": null,
   "metadata": {
    "colab": {
     "base_uri": "https://localhost:8080/",
     "height": 115
    },
    "id": "T0Y2HUgykyLY",
    "outputId": "5977bcbc-9c5e-45bd-9714-3d4814c22e72"
   },
   "outputs": [],
   "source": [
    "# Start timing cpu\n",
    "start_time_cpu = time.time()\n",
    "\n",
    "clf = RandomForestClassifier(n_estimators=100, max_depth=5, max_features=1.0, n_jobs=-1)\n",
    "clf.fit(X_train, y_train)\n",
    "\n",
    "# End timing\n",
    "end_time_cpu = time.time()"
   ]
  },
  {
   "cell_type": "code",
   "execution_count": null,
   "metadata": {},
   "outputs": [],
   "source": [
    "# Report CPU duration\n",
    "print(f\"CPU Training completed in {end_time_cpu - start_time_cpu:.2f} seconds\")"
   ]
  },
  {
   "cell_type": "markdown",
   "metadata": {
    "id": "_B7glDK8nWMQ"
   },
   "source": [
    "In about 38 seconds, we were able to fit our tree model using scikit-learn. This is not bad! Let's use the model we just trained to predict coverage types in our test dataset and take a look at the accuracy of our model."
   ]
  },
  {
   "cell_type": "code",
   "execution_count": null,
   "metadata": {
    "colab": {
     "base_uri": "https://localhost:8080/"
    },
    "id": "SLP-K7qynwWg",
    "outputId": "d9239568-ca10-48e8-e6bb-4436d5e028a4"
   },
   "outputs": [],
   "source": [
    "y_pred = clf.predict(X_test)\n",
    "accuracy_score(y_test, y_pred)"
   ]
  },
  {
   "cell_type": "markdown",
   "metadata": {
    "id": "UAFu5rDwn6VK"
   },
   "source": [
    "We can also print out a full classification report to better understand how we predicted different Coverage_Type categories."
   ]
  },
  {
   "cell_type": "code",
   "execution_count": null,
   "metadata": {
    "colab": {
     "base_uri": "https://localhost:8080/"
    },
    "id": "AO3owg5PnwYW",
    "outputId": "3dea9a3b-b08d-4206-952d-dcd30b7fa20d"
   },
   "outputs": [],
   "source": [
    "print(classification_report(y_test, y_pred))"
   ]
  },
  {
   "cell_type": "markdown",
   "metadata": {
    "id": "FRdxW-MpoJAt"
   },
   "source": [
    "With scikit-learn, we built a model that was able to be trained in just less than a minute. From the accuracy report, we can see that we predicted the correct class around 70% of the time, which is not bad but could certainly be improved.\n"
   ]
  },
  {
   "cell_type": "markdown",
   "metadata": {
    "id": "5-BtB1RdqKp0"
   },
   "source": [
    "Now let's load cuml.accel and try running the same code again to see what kind of acceleration we can get."
   ]
  },
  {
   "cell_type": "code",
   "execution_count": null,
   "metadata": {
    "colab": {
     "base_uri": "https://localhost:8080/"
    },
    "id": "U31QyneR6BXJ",
    "outputId": "feebde4b-66bf-45e6-feaa-fd3f1bd9bc57"
   },
   "outputs": [],
   "source": [
    "import cuml.accel\n",
    "\n",
    "cuml.accel.install()"
   ]
  },
  {
   "cell_type": "markdown",
   "metadata": {
    "id": "TNLZVjtxqTmc"
   },
   "source": [
    "**IMPORTANT:** After installing cuml.accel, we need to import the scikit-learn estimators we wish to use again."
   ]
  },
  {
   "cell_type": "code",
   "execution_count": null,
   "metadata": {
    "id": "MVWHm7H9qS2T"
   },
   "outputs": [],
   "source": [
    "from sklearn.ensemble import RandomForestClassifier"
   ]
  },
  {
   "cell_type": "code",
   "execution_count": null,
   "metadata": {
    "colab": {
     "base_uri": "https://localhost:8080/",
     "height": 115
    },
    "id": "8v0QxJXrViiR",
    "outputId": "5510c2ad-5ea7-4cb7-c3b0-0527d836fc6b"
   },
   "outputs": [],
   "source": [
    "# Start timing gpu\n",
    "start_time_gpu = time.time()\n",
    "\n",
    "clf = RandomForestClassifier(n_estimators=100, max_depth=5, max_features=1.0, n_jobs=-1)\n",
    "clf.fit(X_train, y_train)\n",
    "\n",
    "# End timing\n",
    "end_time_gpu = time.time()"
   ]
  },
  {
   "cell_type": "code",
   "execution_count": null,
   "metadata": {},
   "outputs": [],
   "source": [
    "# Report GPU duration\n",
    "print(f\"GPU Training completed in {end_time_gpu - start_time_gpu:.2f} seconds\")"
   ]
  },
  {
   "cell_type": "markdown",
   "metadata": {
    "id": "fqJC2jtmqpva"
   },
   "source": [
    "That was much faster! Using cuML we're able to train this random forest model in just 3.5 seconds, that's more than 10X speedup. One thing to note is that cuML's implementation of `RandomForestClassifier` doesn't utilize the `n_jobs` parameter like scikit-learn, but we still accept it which makes it easier to use this accelerator with zero code changes.\n",
    "\n",
    "Let's take a look at the same accuracy score and classification report to compare the model's performance."
   ]
  },
  {
   "cell_type": "code",
   "execution_count": null,
   "metadata": {
    "colab": {
     "base_uri": "https://localhost:8080/"
    },
    "id": "eVre6kav6iaS",
    "outputId": "2c240c5f-b7c2-4eac-98b5-aee48bd4dcc7"
   },
   "outputs": [],
   "source": [
    "y_pred = clf.predict(X_test)\n",
    "cr = classification_report(y_test, y_pred)\n",
    "print(cr)"
   ]
  },
  {
   "cell_type": "markdown",
   "metadata": {
    "id": "8xkoz247VsIX"
   },
   "source": [
    "Out of the box, the model performed about the same as the scikit-learn implementation. Because this model ran so much faster, we can quickly iterate on the hyperparameter configuration and find a model that performs better with excellent speedups."
   ]
  },
  {
   "cell_type": "code",
   "execution_count": null,
   "metadata": {
    "colab": {
     "base_uri": "https://localhost:8080/",
     "height": 115
    },
    "id": "mfZamg7FVoPe",
    "outputId": "19d44cd9-9863-495b-ac8d-067118fd9c22"
   },
   "outputs": [],
   "source": [
    "# Start timing gpu max_depth 30\n",
    "start_time_gpu_md30 = time.time()\n",
    "\n",
    "clf = RandomForestClassifier(\n",
    "    n_estimators=100, max_depth=30, max_features=1.0, n_jobs=-1\n",
    ")\n",
    "clf.fit(X_train, y_train)\n",
    "\n",
    "# End timing\n",
    "end_time_gpu_md30 = time.time()\n",
    "\n",
    "# Report GPU duration\n",
    "print(\n",
    "    f\"GPU Training with max_depth=30 completed in {end_time_gpu_md30 - start_time_gpu_md30:.2f} seconds\"\n",
    ")"
   ]
  },
  {
   "cell_type": "code",
   "execution_count": null,
   "metadata": {
    "colab": {
     "base_uri": "https://localhost:8080/"
    },
    "id": "E97LObEYVocu",
    "outputId": "e560b1a6-1b12-4cb5-bc66-09b3530af692"
   },
   "outputs": [],
   "source": [
    "y_pred = clf.predict(X_test)\n",
    "print(classification_report(y_test, y_pred))"
   ]
  },
  {
   "cell_type": "markdown",
   "metadata": {
    "id": "DmcwmqN4q4cv"
   },
   "source": [
    "We just run a model in a few seconds, and got a better accuracy. With a model that runs in just seconds, we can perform hyperparameter optimization using a method like the grid search shown above, and have results in just minutes instead of hours."
   ]
  },
  {
   "cell_type": "markdown",
   "metadata": {
    "id": "JEAEGvqHztTI"
   },
   "source": [
    "## Resources\n",
    "\n",
    "For more information on getting started with `cuml.accel`, check out [RAPIDS.ai](https://rapids.ai/cuml-accel/) or the [cuML Docs](https://docs.rapids.ai/api/cuml/stable/).\n",
    "\n",
    "Find more examples of usage in this [cuml_sklearn_demo](https://colab.research.google.com/github/rapidsai-community/showcase/blob/main/getting_started_tutorials/cuml_sklearn_colab_demo.ipynb)\n"
   ]
  }
 ],
 "metadata": {
  "accelerator": "GPU",
  "colab": {
   "gpuType": "T4",
   "provenance": []
  },
  "kernelspec": {
   "display_name": "Python 3 (ipykernel)",
   "language": "python",
   "name": "python3"
  },
  "language_info": {
   "codemirror_mode": {
    "name": "ipython",
    "version": 3
   },
   "file_extension": ".py",
   "mimetype": "text/x-python",
   "name": "python",
   "nbconvert_exporter": "python",
   "pygments_lexer": "ipython3",
   "version": "3.12.8"
  }
 },
 "nbformat": 4,
 "nbformat_minor": 4
}
