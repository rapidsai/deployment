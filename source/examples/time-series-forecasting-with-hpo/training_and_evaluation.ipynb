{
 "cells": [
  {
   "cell_type": "markdown",
   "id": "328140a4-b668-4a5b-8de1-24c4392d22f1",
   "metadata": {},
   "source": [
    "# Train an XGBoost model with retail sales forecasting with hyperparameter search"
   ]
  },
  {
   "cell_type": "markdown",
   "id": "770519b0-25d2-4786-933f-f0e16b5c4b18",
   "metadata": {},
   "source": [
    "Now that we finished processing the data, we are now ready to train a model to forecast future sales. We will leverage the worker pods to run multiple training jobs in parallel, speeding up the hyperparameter search."
   ]
  },
  {
   "cell_type": "markdown",
   "id": "da47c5a5-3777-4bf7-8312-1da91a0d81a3",
   "metadata": {},
   "source": [
    "## Import modules and define constants"
   ]
  },
  {
   "cell_type": "code",
   "execution_count": 1,
   "id": "c391837b-6102-4d45-820e-b83091285a71",
   "metadata": {
    "tags": []
   },
   "outputs": [],
   "source": [
    "import cudf\n",
    "import gcsfs\n",
    "import xgboost as xgb\n",
    "import pandas as pd\n",
    "import numpy as np\n",
    "import optuna\n",
    "import gc\n",
    "import time\n",
    "import pickle \n",
    "import copy\n",
    "import json\n",
    "\n",
    "import matplotlib.pyplot as plt\n",
    "from matplotlib.patches import Patch\n",
    "import matplotlib\n",
    "\n",
    "from dask.distributed import wait\n",
    "from dask_kubernetes.operator import KubeCluster\n",
    "from dask.distributed import Client"
   ]
  },
  {
   "cell_type": "code",
   "execution_count": 2,
   "id": "1954ff43-dcd5-4628-80f2-64f85f253342",
   "metadata": {
    "tags": []
   },
   "outputs": [],
   "source": [
    "# Choose the same RAPIDS image you used for launching the notebook session\n",
    "rapids_image = \"rapidsai/rapidsai-core-nightly:23.08-cuda11.8-runtime-ubuntu22.04-py3.10\"\n",
    "# Use the number of worker nodes in your Kubernetes cluster.\n",
    "n_workers = 3\n",
    "# Bucket that contains the processed data pickles, refer to start_here.ipynb\n",
    "bucket_name = \"<Put the name of the bucket here>\"\n",
    "\n",
    "# List of stores and product departments\n",
    "STORES = [\"CA_1\", \"CA_2\", \"CA_3\", \"CA_4\", \"TX_1\", \"TX_2\", \"TX_3\", \"WI_1\", \"WI_2\", \"WI_3\"]\n",
    "DEPTS = [\"HOBBIES_1\", \"HOBBIES_2\", \"HOUSEHOLD_1\", \"HOUSEHOLD_2\", \"FOODS_1\", \"FOODS_2\", \"FOODS_3\"]"
   ]
  },
  {
   "cell_type": "markdown",
   "id": "084ac137-1fb0-43e3-9a61-7aa259d05ca8",
   "metadata": {},
   "source": [
    "## Define cross-validation folds"
   ]
  },
  {
   "cell_type": "markdown",
   "id": "cee3f346-afbd-41ea-a91e-12294594b6a6",
   "metadata": {},
   "source": [
    "[**Cross-validation**](https://en.wikipedia.org/wiki/Cross-validation_(statistics)) is a statistical method for estimating how well a machine learning model generalizes to an independent data set. The method is also useful for evaluating the choice of a given combination of model hyperparameters.\n",
    "\n",
    "To estimate the capacity to generalize, we define multiple cross-validation **folds** consisting of mulitple pairs of `(training set, validation set)`. For each fold, we fit a model using the training set and evaluate its accuracy on the validation set. The  \"goodness\" score for a given hyperparameter combination is the accuracy of the model on each validation set, averaged over all cross-validation folds.\n",
    "\n",
    "Great care must be taken when defining cross-validation folds for time-series data. We are not allowed to use the future to predict the past, so the training set must precede (in time) the validation set. Consequently, we partition the data set in the time dimension and assign the training and validation sets using time ranges:"
   ]
  },
  {
   "cell_type": "code",
   "execution_count": 4,
   "id": "423780b7-8431-4546-85c7-84e4f269d5e1",
   "metadata": {
    "tags": []
   },
   "outputs": [],
   "source": [
    "# Cross-validation folds and held-out test set (in time dimension)\n",
    "# The held-out test set is used for final evaluation\n",
    "cv_folds = [  # (train_set, validation_set)\n",
    "    ([0, 1114], [1114, 1314]),\n",
    "    ([0, 1314], [1314, 1514]),\n",
    "    ([0, 1514], [1514, 1714]),\n",
    "    ([0, 1714], [1714, 1914])\n",
    "]\n",
    "n_folds = len(cv_folds)\n",
    "holdout = [1914, 1942]\n",
    "time_horizon = 1942"
   ]
  },
  {
   "cell_type": "markdown",
   "id": "d5ed120a-ae41-4211-a517-7791e22df037",
   "metadata": {},
   "source": [
    "It is helpful to visualize the cross-validation folds using Matplotlib."
   ]
  },
  {
   "cell_type": "code",
   "execution_count": 5,
   "id": "f7945265-f683-4722-8e22-df003b749eae",
   "metadata": {
    "tags": []
   },
   "outputs": [
    {
     "data": {
      "image/png": "[encoded data removed]",
      "text/plain": [
       "<Figure size 800x300 with 1 Axes>"
      ]
     },
     "metadata": {},
     "output_type": "display_data"
    }
   ],
   "source": [
    "cv_cmap = matplotlib.colormaps[\"cividis\"]\n",
    "plt.figure(figsize=(8, 3))\n",
    "\n",
    "for i, (train_mask, valid_mask) in enumerate(cv_folds):\n",
    "    idx = np.array([np.nan] * time_horizon)\n",
    "    idx[np.arange(*train_mask)] = 1\n",
    "    idx[np.arange(*valid_mask)] = 0\n",
    "    plt.scatter(\n",
    "        range(time_horizon),\n",
    "        [i + 0.5] * time_horizon,\n",
    "        c=idx,\n",
    "        marker=\"_\",\n",
    "        capstyle=\"butt\",\n",
    "        s=1,\n",
    "        lw=20,\n",
    "        cmap=cv_cmap,\n",
    "        vmin=-1.5,\n",
    "        vmax=1.5\n",
    "    )\n",
    "\n",
    "idx = np.array([np.nan] * time_horizon)\n",
    "idx[np.arange(*holdout)] = -1\n",
    "plt.scatter(\n",
    "    range(time_horizon),\n",
    "    [n_folds + 0.5] * time_horizon,\n",
    "    c=idx,\n",
    "    marker=\"_\",\n",
    "    capstyle=\"butt\",\n",
    "    s=1,\n",
    "    lw=20,\n",
    "    cmap=cv_cmap,\n",
    "    vmin=-1.5,\n",
    "    vmax=1.5\n",
    ")\n",
    "\n",
    "plt.xlabel(\"Time\")\n",
    "plt.yticks(\n",
    "    ticks=np.arange(n_folds + 1) + 0.5,\n",
    "    labels=[f\"Fold {i}\" for i in range(n_folds)] + [\"Holdout\"]\n",
    ")\n",
    "plt.ylim([len(cv_folds) + 1.2, -0.2])\n",
    "\n",
    "norm = matplotlib.colors.Normalize(vmin=-1.5, vmax=1.5)\n",
    "plt.legend(\n",
    "    [Patch(color=cv_cmap(norm(1))),\n",
    "     Patch(color=cv_cmap(norm(0))),\n",
    "     Patch(color=cv_cmap(norm(-1)))],\n",
    "    [\"Training set\", \"Validation set\", \"Held-out test set\"],\n",
    "    ncol=3,\n",
    "    loc=\"best\"\n",
    ")\n",
    "plt.tight_layout()"
   ]
  },
  {
   "cell_type": "markdown",
   "id": "17b4c300-971d-419e-b167-19ff533860dd",
   "metadata": {},
   "source": [
    "## Launch a Dask client on Kubernetes"
   ]
  },
  {
   "cell_type": "markdown",
   "id": "bd94ac3f-2843-4596-9f27-14864ef5ec8e",
   "metadata": {},
   "source": [
    "Let us set up a Dask cluster using the `KubeCluster` class."
   ]
  },
  {
   "cell_type": "code",
   "execution_count": 8,
   "id": "deac0215-66fb-4c2b-a606-bbb6b6ec2260",
   "metadata": {
    "tags": []
   },
   "outputs": [
    {
     "data": {
      "application/vnd.jupyter.widget-view+json": {
       "model_id": "8c26e7b9e0a54dc8863e6733a70ebdbf",
       "version_major": 2,
       "version_minor": 0
      },
      "text/plain": [
       "Output()"
      ]
     },
     "metadata": {},
     "output_type": "display_data"
    },
    {
     "data": {
      "text/html": [
       "<pre style=\"white-space:pre;overflow-x:auto;line-height:normal;font-family:Menlo,'DejaVu Sans Mono',consolas,'Courier New',monospace\"></pre>\n"
      ],
      "text/plain": []
     },
     "metadata": {},
     "output_type": "display_data"
    }
   ],
   "source": [
    "cluster = KubeCluster(name=\"rapids-dask\",\n",
    "                      image=rapids_image,\n",
    "                      worker_command=\"dask-cuda-worker\",\n",
    "                      n_workers=n_workers,\n",
    "                      resources={\"limits\": {\"nvidia.com/gpu\": \"1\"}},\n",
    "                      env={\"DISABLE_JUPYTER\": \"true\", \"EXTRA_PIP_PACKAGES\": \"optuna gcsfs\"})"
   ]
  },
  {
   "cell_type": "code",
   "execution_count": 9,
   "id": "b2d5c010-4cd3-4d58-9c88-84d4aa404234",
   "metadata": {
    "tags": []
   },
   "outputs": [
    {
     "data": {
      "application/vnd.jupyter.widget-view+json": {
       "model_id": "76e37407208149dcb0b97123d8a2a135",
       "version_major": 2,
       "version_minor": 0
      },
      "text/html": [
       "<div class=\"jp-RenderedHTMLCommon jp-RenderedHTML jp-mod-trusted jp-OutputArea-output\">\n",
       "    <div style=\"width: 24px; height: 24px; background-color: #e1e1e1; border: 3px solid #9D9D9D; border-radius: 5px; position: absolute;\">\n",
       "    </div>\n",
       "    <div style=\"margin-left: 48px;\">\n",
       "        <h3 style=\"margin-bottom: 0px; margin-top: 0px;\">KubeCluster</h3>\n",
       "        <p style=\"color: #9D9D9D; margin-bottom: 0px;\">rapids-dask</p>\n",
       "        <table style=\"width: 100%; text-align: left;\">\n",
       "            <tr>\n",
       "                <td style=\"text-align: left;\">\n",
       "                    <strong>Dashboard:</strong> <a href=\"http://rapids-dask-scheduler.kubeflow-user-example-com:8787/status\" target=\"_blank\">http://rapids-dask-scheduler.kubeflow-user-example-com:8787/status</a>\n",
       "                </td>\n",
       "                <td style=\"text-align: left;\">\n",
       "                    <strong>Workers:</strong> 1\n",
       "                </td>\n",
       "            </tr>\n",
       "            <tr>\n",
       "                <td style=\"text-align: left;\">\n",
       "                    <strong>Total threads:</strong> 1\n",
       "                </td>\n",
       "                <td style=\"text-align: left;\">\n",
       "                    <strong>Total memory:</strong> 117.93 GiB\n",
       "                </td>\n",
       "            </tr>\n",
       "            \n",
       "        </table>\n",
       "\n",
       "        <details>\n",
       "            <summary style=\"margin-bottom: 20px;\">\n",
       "                <h3 style=\"display: inline;\">Scheduler Info</h3>\n",
       "            </summary>\n",
       "\n",
       "            <div style=\"\">\n",
       "    <div>\n",
       "        <div style=\"width: 24px; height: 24px; background-color: #FFF7E5; border: 3px solid #FF6132; border-radius: 5px; position: absolute;\"> </div>\n",
       "        <div style=\"margin-left: 48px;\">\n",
       "            <h3 style=\"margin-bottom: 0px;\">Scheduler</h3>\n",
       "            <p style=\"color: #9D9D9D; margin-bottom: 0px;\">Scheduler-8df8661b-8c41-4c39-ba31-07f76461af5e</p>\n",
       "            <table style=\"width: 100%; text-align: left;\">\n",
       "                <tr>\n",
       "                    <td style=\"text-align: left;\">\n",
       "                        <strong>Comm:</strong> tcp://10.36.3.19:8786\n",
       "                    </td>\n",
       "                    <td style=\"text-align: left;\">\n",
       "                        <strong>Workers:</strong> 1\n",
       "                    </td>\n",
       "                </tr>\n",
       "                <tr>\n",
       "                    <td style=\"text-align: left;\">\n",
       "                        <strong>Dashboard:</strong> <a href=\"http://10.36.3.19:8787/status\" target=\"_blank\">http://10.36.3.19:8787/status</a>\n",
       "                    </td>\n",
       "                    <td style=\"text-align: left;\">\n",
       "                        <strong>Total threads:</strong> 1\n",
       "                    </td>\n",
       "                </tr>\n",
       "                <tr>\n",
       "                    <td style=\"text-align: left;\">\n",
       "                        <strong>Started:</strong> Just now\n",
       "                    </td>\n",
       "                    <td style=\"text-align: left;\">\n",
       "                        <strong>Total memory:</strong> 117.93 GiB\n",
       "                    </td>\n",
       "                </tr>\n",
       "            </table>\n",
       "        </div>\n",
       "    </div>\n",
       "\n",
       "    <details style=\"margin-left: 48px;\">\n",
       "        <summary style=\"margin-bottom: 20px;\">\n",
       "            <h3 style=\"display: inline;\">Workers</h3>\n",
       "        </summary>\n",
       "\n",
       "        \n",
       "        <div style=\"margin-bottom: 20px;\">\n",
       "            <div style=\"width: 24px; height: 24px; background-color: #DBF5FF; border: 3px solid #4CC9FF; border-radius: 5px; position: absolute;\"> </div>\n",
       "            <div style=\"margin-left: 48px;\">\n",
       "            <details>\n",
       "                <summary>\n",
       "                    <h4 style=\"margin-bottom: 0px; display: inline;\">Worker: rapids-dask-default-worker-9fc2234a8d</h4>\n",
       "                </summary>\n",
       "                <table style=\"width: 100%; text-align: left;\">\n",
       "                    <tr>\n",
       "                        <td style=\"text-align: left;\">\n",
       "                            <strong>Comm: </strong> tcp://10.36.4.20:35995\n",
       "                        </td>\n",
       "                        <td style=\"text-align: left;\">\n",
       "                            <strong>Total threads: </strong> 1\n",
       "                        </td>\n",
       "                    </tr>\n",
       "                    <tr>\n",
       "                        <td style=\"text-align: left;\">\n",
       "                            <strong>Dashboard: </strong> <a href=\"http://10.36.4.20:8788/status\" target=\"_blank\">http://10.36.4.20:8788/status</a>\n",
       "                        </td>\n",
       "                        <td style=\"text-align: left;\">\n",
       "                            <strong>Memory: </strong> 117.93 GiB\n",
       "                        </td>\n",
       "                    </tr>\n",
       "                    <tr>\n",
       "                        <td style=\"text-align: left;\">\n",
       "                            <strong>Nanny: </strong> tcp://10.36.4.20:40817\n",
       "                        </td>\n",
       "                        <td style=\"text-align: left;\"></td>\n",
       "                    </tr>\n",
       "                    <tr>\n",
       "                        <td colspan=\"2\" style=\"text-align: left;\">\n",
       "                            <strong>Local directory: </strong> /tmp/dask-scratch-space/worker-mwjhcmjv\n",
       "                        </td>\n",
       "                    </tr>\n",
       "\n",
       "                    \n",
       "                    <tr>\n",
       "                        <td style=\"text-align: left;\">\n",
       "                            <strong>GPU: </strong>Tesla T4\n",
       "                        </td>\n",
       "                        <td style=\"text-align: left;\">\n",
       "                            <strong>GPU memory: </strong> 15.00 GiB\n",
       "                        </td>\n",
       "                    </tr>\n",
       "                    \n",
       "\n",
       "                    \n",
       "\n",
       "                </table>\n",
       "            </details>\n",
       "            </div>\n",
       "        </div>\n",
       "        \n",
       "\n",
       "    </details>\n",
       "</div>\n",
       "\n",
       "        </details>\n",
       "    </div>\n",
       "</div>"
      ],
      "text/plain": [
       "KubeCluster(rapids-dask, 'tcp://rapids-dask-scheduler.kubeflow-user-example-com:8786', workers=1, threads=1, memory=117.93 GiB)"
      ]
     },
     "metadata": {},
     "output_type": "display_data"
    }
   ],
   "source": [
    "cluster"
   ]
  },
  {
   "cell_type": "code",
   "execution_count": 10,
   "id": "727c1182-4c74-4d2d-a059-c359193d76ff",
   "metadata": {
    "tags": []
   },
   "outputs": [],
   "source": [
    "client = Client(cluster)"
   ]
  },
  {
   "cell_type": "code",
   "execution_count": 11,
   "id": "633a2f56-9ad2-4e38-8e6e-be3bf52ba795",
   "metadata": {
    "tags": []
   },
   "outputs": [
    {
     "data": {
      "text/html": [
       "<div>\n",
       "    <div style=\"width: 24px; height: 24px; background-color: #e1e1e1; border: 3px solid #9D9D9D; border-radius: 5px; position: absolute;\"> </div>\n",
       "    <div style=\"margin-left: 48px;\">\n",
       "        <h3 style=\"margin-bottom: 0px;\">Client</h3>\n",
       "        <p style=\"color: #9D9D9D; margin-bottom: 0px;\">Client-54cb8819-2c1e-11ee-8c1e-9a09a5b5e674</p>\n",
       "        <table style=\"width: 100%; text-align: left;\">\n",
       "\n",
       "        <tr>\n",
       "        \n",
       "            <td style=\"text-align: left;\"><strong>Connection method:</strong> Cluster object</td>\n",
       "            <td style=\"text-align: left;\"><strong>Cluster type:</strong> dask_kubernetes.KubeCluster</td>\n",
       "        \n",
       "        </tr>\n",
       "\n",
       "        \n",
       "            <tr>\n",
       "                <td style=\"text-align: left;\">\n",
       "                    <strong>Dashboard: </strong> <a href=\"http://rapids-dask-scheduler.kubeflow-user-example-com:8787/status\" target=\"_blank\">http://rapids-dask-scheduler.kubeflow-user-example-com:8787/status</a>\n",
       "                </td>\n",
       "                <td style=\"text-align: left;\"></td>\n",
       "            </tr>\n",
       "        \n",
       "\n",
       "        </table>\n",
       "\n",
       "        \n",
       "            <button style=\"margin-bottom: 12px;\" data-commandlinker-command=\"dask:populate-and-launch-layout\" data-commandlinker-args='{\"url\": \"http://rapids-dask-scheduler.kubeflow-user-example-com:8787/status\" }'>\n",
       "                Launch dashboard in JupyterLab\n",
       "            </button>\n",
       "        \n",
       "\n",
       "        \n",
       "            <details>\n",
       "            <summary style=\"margin-bottom: 20px;\"><h3 style=\"display: inline;\">Cluster Info</h3></summary>\n",
       "            <div class=\"jp-RenderedHTMLCommon jp-RenderedHTML jp-mod-trusted jp-OutputArea-output\">\n",
       "    <div style=\"width: 24px; height: 24px; background-color: #e1e1e1; border: 3px solid #9D9D9D; border-radius: 5px; position: absolute;\">\n",
       "    </div>\n",
       "    <div style=\"margin-left: 48px;\">\n",
       "        <h3 style=\"margin-bottom: 0px; margin-top: 0px;\">KubeCluster</h3>\n",
       "        <p style=\"color: #9D9D9D; margin-bottom: 0px;\">rapids-dask</p>\n",
       "        <table style=\"width: 100%; text-align: left;\">\n",
       "            <tr>\n",
       "                <td style=\"text-align: left;\">\n",
       "                    <strong>Dashboard:</strong> <a href=\"http://rapids-dask-scheduler.kubeflow-user-example-com:8787/status\" target=\"_blank\">http://rapids-dask-scheduler.kubeflow-user-example-com:8787/status</a>\n",
       "                </td>\n",
       "                <td style=\"text-align: left;\">\n",
       "                    <strong>Workers:</strong> 3\n",
       "                </td>\n",
       "            </tr>\n",
       "            <tr>\n",
       "                <td style=\"text-align: left;\">\n",
       "                    <strong>Total threads:</strong> 3\n",
       "                </td>\n",
       "                <td style=\"text-align: left;\">\n",
       "                    <strong>Total memory:</strong> 353.79 GiB\n",
       "                </td>\n",
       "            </tr>\n",
       "            \n",
       "        </table>\n",
       "\n",
       "        <details>\n",
       "            <summary style=\"margin-bottom: 20px;\">\n",
       "                <h3 style=\"display: inline;\">Scheduler Info</h3>\n",
       "            </summary>\n",
       "\n",
       "            <div style=\"\">\n",
       "    <div>\n",
       "        <div style=\"width: 24px; height: 24px; background-color: #FFF7E5; border: 3px solid #FF6132; border-radius: 5px; position: absolute;\"> </div>\n",
       "        <div style=\"margin-left: 48px;\">\n",
       "            <h3 style=\"margin-bottom: 0px;\">Scheduler</h3>\n",
       "            <p style=\"color: #9D9D9D; margin-bottom: 0px;\">Scheduler-8df8661b-8c41-4c39-ba31-07f76461af5e</p>\n",
       "            <table style=\"width: 100%; text-align: left;\">\n",
       "                <tr>\n",
       "                    <td style=\"text-align: left;\">\n",
       "                        <strong>Comm:</strong> tcp://10.36.3.19:8786\n",
       "                    </td>\n",
       "                    <td style=\"text-align: left;\">\n",
       "                        <strong>Workers:</strong> 3\n",
       "                    </td>\n",
       "                </tr>\n",
       "                <tr>\n",
       "                    <td style=\"text-align: left;\">\n",
       "                        <strong>Dashboard:</strong> <a href=\"http://10.36.3.19:8787/status\" target=\"_blank\">http://10.36.3.19:8787/status</a>\n",
       "                    </td>\n",
       "                    <td style=\"text-align: left;\">\n",
       "                        <strong>Total threads:</strong> 3\n",
       "                    </td>\n",
       "                </tr>\n",
       "                <tr>\n",
       "                    <td style=\"text-align: left;\">\n",
       "                        <strong>Started:</strong> Just now\n",
       "                    </td>\n",
       "                    <td style=\"text-align: left;\">\n",
       "                        <strong>Total memory:</strong> 353.79 GiB\n",
       "                    </td>\n",
       "                </tr>\n",
       "            </table>\n",
       "        </div>\n",
       "    </div>\n",
       "\n",
       "    <details style=\"margin-left: 48px;\">\n",
       "        <summary style=\"margin-bottom: 20px;\">\n",
       "            <h3 style=\"display: inline;\">Workers</h3>\n",
       "        </summary>\n",
       "\n",
       "        \n",
       "        <div style=\"margin-bottom: 20px;\">\n",
       "            <div style=\"width: 24px; height: 24px; background-color: #DBF5FF; border: 3px solid #4CC9FF; border-radius: 5px; position: absolute;\"> </div>\n",
       "            <div style=\"margin-left: 48px;\">\n",
       "            <details>\n",
       "                <summary>\n",
       "                    <h4 style=\"margin-bottom: 0px; display: inline;\">Worker: rapids-dask-default-worker-3588dacd46</h4>\n",
       "                </summary>\n",
       "                <table style=\"width: 100%; text-align: left;\">\n",
       "                    <tr>\n",
       "                        <td style=\"text-align: left;\">\n",
       "                            <strong>Comm: </strong> tcp://10.36.1.16:41549\n",
       "                        </td>\n",
       "                        <td style=\"text-align: left;\">\n",
       "                            <strong>Total threads: </strong> 1\n",
       "                        </td>\n",
       "                    </tr>\n",
       "                    <tr>\n",
       "                        <td style=\"text-align: left;\">\n",
       "                            <strong>Dashboard: </strong> <a href=\"http://10.36.1.16:8788/status\" target=\"_blank\">http://10.36.1.16:8788/status</a>\n",
       "                        </td>\n",
       "                        <td style=\"text-align: left;\">\n",
       "                            <strong>Memory: </strong> 117.93 GiB\n",
       "                        </td>\n",
       "                    </tr>\n",
       "                    <tr>\n",
       "                        <td style=\"text-align: left;\">\n",
       "                            <strong>Nanny: </strong> tcp://10.36.1.16:43755\n",
       "                        </td>\n",
       "                        <td style=\"text-align: left;\"></td>\n",
       "                    </tr>\n",
       "                    <tr>\n",
       "                        <td colspan=\"2\" style=\"text-align: left;\">\n",
       "                            <strong>Local directory: </strong> /tmp/dask-scratch-space/worker-j2wa7czf\n",
       "                        </td>\n",
       "                    </tr>\n",
       "\n",
       "                    \n",
       "                    <tr>\n",
       "                        <td style=\"text-align: left;\">\n",
       "                            <strong>GPU: </strong>Tesla T4\n",
       "                        </td>\n",
       "                        <td style=\"text-align: left;\">\n",
       "                            <strong>GPU memory: </strong> 15.00 GiB\n",
       "                        </td>\n",
       "                    </tr>\n",
       "                    \n",
       "\n",
       "                    \n",
       "\n",
       "                </table>\n",
       "            </details>\n",
       "            </div>\n",
       "        </div>\n",
       "        \n",
       "        <div style=\"margin-bottom: 20px;\">\n",
       "            <div style=\"width: 24px; height: 24px; background-color: #DBF5FF; border: 3px solid #4CC9FF; border-radius: 5px; position: absolute;\"> </div>\n",
       "            <div style=\"margin-left: 48px;\">\n",
       "            <details>\n",
       "                <summary>\n",
       "                    <h4 style=\"margin-bottom: 0px; display: inline;\">Worker: rapids-dask-default-worker-5d46c38fcf</h4>\n",
       "                </summary>\n",
       "                <table style=\"width: 100%; text-align: left;\">\n",
       "                    <tr>\n",
       "                        <td style=\"text-align: left;\">\n",
       "                            <strong>Comm: </strong> tcp://10.36.2.23:39471\n",
       "                        </td>\n",
       "                        <td style=\"text-align: left;\">\n",
       "                            <strong>Total threads: </strong> 1\n",
       "                        </td>\n",
       "                    </tr>\n",
       "                    <tr>\n",
       "                        <td style=\"text-align: left;\">\n",
       "                            <strong>Dashboard: </strong> <a href=\"http://10.36.2.23:8788/status\" target=\"_blank\">http://10.36.2.23:8788/status</a>\n",
       "                        </td>\n",
       "                        <td style=\"text-align: left;\">\n",
       "                            <strong>Memory: </strong> 117.93 GiB\n",
       "                        </td>\n",
       "                    </tr>\n",
       "                    <tr>\n",
       "                        <td style=\"text-align: left;\">\n",
       "                            <strong>Nanny: </strong> tcp://10.36.2.23:44423\n",
       "                        </td>\n",
       "                        <td style=\"text-align: left;\"></td>\n",
       "                    </tr>\n",
       "                    <tr>\n",
       "                        <td colspan=\"2\" style=\"text-align: left;\">\n",
       "                            <strong>Local directory: </strong> /tmp/dask-scratch-space/worker-dsfuecsa\n",
       "                        </td>\n",
       "                    </tr>\n",
       "\n",
       "                    \n",
       "                    <tr>\n",
       "                        <td style=\"text-align: left;\">\n",
       "                            <strong>GPU: </strong>Tesla T4\n",
       "                        </td>\n",
       "                        <td style=\"text-align: left;\">\n",
       "                            <strong>GPU memory: </strong> 15.00 GiB\n",
       "                        </td>\n",
       "                    </tr>\n",
       "                    \n",
       "\n",
       "                    \n",
       "\n",
       "                </table>\n",
       "            </details>\n",
       "            </div>\n",
       "        </div>\n",
       "        \n",
       "        <div style=\"margin-bottom: 20px;\">\n",
       "            <div style=\"width: 24px; height: 24px; background-color: #DBF5FF; border: 3px solid #4CC9FF; border-radius: 5px; position: absolute;\"> </div>\n",
       "            <div style=\"margin-left: 48px;\">\n",
       "            <details>\n",
       "                <summary>\n",
       "                    <h4 style=\"margin-bottom: 0px; display: inline;\">Worker: rapids-dask-default-worker-9fc2234a8d</h4>\n",
       "                </summary>\n",
       "                <table style=\"width: 100%; text-align: left;\">\n",
       "                    <tr>\n",
       "                        <td style=\"text-align: left;\">\n",
       "                            <strong>Comm: </strong> tcp://10.36.4.20:35995\n",
       "                        </td>\n",
       "                        <td style=\"text-align: left;\">\n",
       "                            <strong>Total threads: </strong> 1\n",
       "                        </td>\n",
       "                    </tr>\n",
       "                    <tr>\n",
       "                        <td style=\"text-align: left;\">\n",
       "                            <strong>Dashboard: </strong> <a href=\"http://10.36.4.20:8788/status\" target=\"_blank\">http://10.36.4.20:8788/status</a>\n",
       "                        </td>\n",
       "                        <td style=\"text-align: left;\">\n",
       "                            <strong>Memory: </strong> 117.93 GiB\n",
       "                        </td>\n",
       "                    </tr>\n",
       "                    <tr>\n",
       "                        <td style=\"text-align: left;\">\n",
       "                            <strong>Nanny: </strong> tcp://10.36.4.20:40817\n",
       "                        </td>\n",
       "                        <td style=\"text-align: left;\"></td>\n",
       "                    </tr>\n",
       "                    <tr>\n",
       "                        <td colspan=\"2\" style=\"text-align: left;\">\n",
       "                            <strong>Local directory: </strong> /tmp/dask-scratch-space/worker-mwjhcmjv\n",
       "                        </td>\n",
       "                    </tr>\n",
       "\n",
       "                    \n",
       "                    <tr>\n",
       "                        <td style=\"text-align: left;\">\n",
       "                            <strong>GPU: </strong>Tesla T4\n",
       "                        </td>\n",
       "                        <td style=\"text-align: left;\">\n",
       "                            <strong>GPU memory: </strong> 15.00 GiB\n",
       "                        </td>\n",
       "                    </tr>\n",
       "                    \n",
       "\n",
       "                    \n",
       "\n",
       "                </table>\n",
       "            </details>\n",
       "            </div>\n",
       "        </div>\n",
       "        \n",
       "\n",
       "    </details>\n",
       "</div>\n",
       "\n",
       "        </details>\n",
       "    </div>\n",
       "</div>\n",
       "            </details>\n",
       "        \n",
       "\n",
       "    </div>\n",
       "</div>"
      ],
      "text/plain": [
       "<Client: 'tcp://10.36.3.19:8786' processes=3 threads=3, memory=353.79 GiB>"
      ]
     },
     "execution_count": 11,
     "metadata": {},
     "output_type": "execute_result"
    }
   ],
   "source": [
    "client"
   ]
  },
  {
   "cell_type": "markdown",
   "id": "5e0aa64d-1c5a-4a9b-886b-07e846111b55",
   "metadata": {},
   "source": [
    "## Define the custom evaluation metric"
   ]
  },
  {
   "cell_type": "markdown",
   "id": "32d8c67d-3187-4483-bdc9-27b5b7b0cda0",
   "metadata": {},
   "source": [
    "The M5 forecasting competition defines a custom metric called WRMSSE as follows:\n",
    "$$\n",
    "WRMSSE = \\sum w_i \\cdot RMSSE_i\n",
    "$$\n",
    "i.e. WRMSEE is a weighted sum of RMSSE for all product items $i$. RMSSE is in turn defined to be\n",
    "$$\n",
    "RMSSE = \\sqrt{\\frac{1/h \\cdot \\sum_t{\\left(Y_t - \\hat{Y}_t\\right)}^2}{1/(n-1)\\sum_t{(Y_t - Y_{t-1})}^2}}\n",
    "$$\n",
    "where the squared error of the prediction (forecast) is normalized by the speed at which the sales amount changes per unit in the training data.\n",
    "\n",
    "Here is the implementation of the WRMSSE using cuDF. We use the product weights $w_i$ as computed in the first preprocessing notebook."
   ]
  },
  {
   "cell_type": "code",
   "execution_count": 12,
   "id": "43f0e74d-734b-4135-8313-b9ed277a3341",
   "metadata": {
    "tags": []
   },
   "outputs": [],
   "source": [
    "def wrmsse(product_weights, df, pred_sales, train_mask, valid_mask):\n",
    "    \"\"\"Compute WRMSSE metric\"\"\"\n",
    "    df_train = df[(df[\"day_id\"] >= train_mask[0]) & (df[\"day_id\"] < train_mask[1])]\n",
    "    df_valid = df[(df[\"day_id\"] >= valid_mask[0]) & (df[\"day_id\"] < valid_mask[1])]\n",
    "\n",
    "    # Compute denominator: 1/(n-1) * sum( (y(t) - y(t-1))**2 )\n",
    "    diff = df_train.sort_values([\"item_id\", \"day_id\"]).groupby([\"item_id\"])[[\"sales\"]].diff(1)\n",
    "    x = df_train[[\"item_id\", \"day_id\"]].join(diff, how=\"left\").rename(columns={\"sales\": \"diff\"}).sort_values([\"item_id\", \"day_id\"])\n",
    "    x[\"diff\"] = x[\"diff\"] ** 2\n",
    "    xx = x.groupby([\"item_id\"])[[\"diff\"]].agg([\"sum\", \"count\"]).sort_index()\n",
    "    xx.columns = xx.columns.map(\"_\".join)\n",
    "    xx[\"denominator\"] = xx[\"diff_sum\"] / xx[\"diff_count\"]\n",
    "    t = xx.reset_index()\n",
    "    \n",
    "    # Compute numerator: 1/h * sum( (y(t) - y_pred(t))**2 )\n",
    "    X_valid = df_valid.drop(columns=[\"item_id\", \"cat_id\", \"day_id\", \"sales\"])\n",
    "    if \"dept_id\" in X_valid.columns:\n",
    "        X_valid = X_valid.drop(columns=[\"dept_id\"])\n",
    "    df_pred = cudf.DataFrame({\n",
    "        \"item_id\": df_valid[\"item_id\"].copy(),\n",
    "        \"pred_sales\": pred_sales,\n",
    "        \"sales\": df_valid[\"sales\"].copy()\n",
    "    })\n",
    "    df_pred[\"diff\"] = (df_pred[\"sales\"] - df_pred[\"pred_sales\"])**2\n",
    "    yy = df_pred.groupby([\"item_id\"])[[\"diff\"]].agg([\"sum\", \"count\"]).sort_index()\n",
    "    yy.columns = yy.columns.map(\"_\".join)\n",
    "    yy[\"numerator\"] = yy[\"diff_sum\"] / yy[\"diff_count\"]\n",
    "    \n",
    "    zz = yy[[\"numerator\"]].join(xx[[\"denominator\"]], how=\"left\")\n",
    "    zz = zz.join(product_weights, how=\"left\").sort_index()\n",
    "    # Filter out zero denominator.\n",
    "    # This can occur if the product was never on sale during the period in the training set\n",
    "    zz = zz[zz[\"denominator\"] != 0]\n",
    "    zz[\"rmsse\"] = np.sqrt(zz[\"numerator\"] / zz[\"denominator\"])\n",
    "    t = zz[\"rmsse\"].multiply(zz[\"weights\"])\n",
    "    return zz[\"rmsse\"].multiply(zz[\"weights\"]).sum()"
   ]
  },
  {
   "cell_type": "markdown",
   "id": "b5e83747-b181-49f3-b302-bdffd1e2d847",
   "metadata": {},
   "source": [
    "## Define the training and hyperparameter search pipeline using Optuna"
   ]
  },
  {
   "cell_type": "markdown",
   "id": "6145f299-9c1d-4391-af2a-63bf9afc8fb8",
   "metadata": {},
   "source": [
    "Optuna lets us define the training procedure iteratively, i.e. as if we were to write an ordinary function to train a single model. Instead of a fixed hyperparameter combination, the function now takes in a `trial` object which yields different hyperparameter combinations.\n",
    "\n",
    "In this example, we partition the training data according to the store and then fit a separate XGBoost model per data segment."
   ]
  },
  {
   "cell_type": "code",
   "execution_count": 13,
   "id": "38c7c1ae-1888-4ef9-8a57-0eabd845fcb4",
   "metadata": {
    "tags": []
   },
   "outputs": [],
   "source": [
    "def objective(trial):\n",
    "    fs = gcsfs.GCSFileSystem()\n",
    "    with fs.open(f\"{bucket_name}/product_weights.pkl\", \"rb\") as f:\n",
    "        product_weights = cudf.DataFrame(pd.read_pickle(f))\n",
    "    params = {\n",
    "        \"n_estimators\": 100,\n",
    "        \"verbosity\": 0,\n",
    "        \"learning_rate\": 0.01,\n",
    "        \"objective\": \"reg:tweedie\",\n",
    "        \"tree_method\": \"gpu_hist\",\n",
    "        \"grow_policy\": \"depthwise\",\n",
    "        \"predictor\": \"gpu_predictor\",\n",
    "        \"enable_categorical\": True,\n",
    "        \"lambda\": trial.suggest_float(\"lambda\", 1e-8, 100.0, log=True),\n",
    "        \"alpha\": trial.suggest_float(\"alpha\", 1e-8, 100.0, log=True),\n",
    "        \"colsample_bytree\": trial.suggest_float(\"colsample_bytree\", 0.2, 1.0),\n",
    "        \"max_depth\": trial.suggest_int(\"max_depth\", 2, 6, step=1),\n",
    "        \"min_child_weight\": trial.suggest_float(\"min_child_weight\", 1e-8, 100, log=True),\n",
    "        \"gamma\": trial.suggest_float(\"gamma\", 1e-8, 1.0, log=True),\n",
    "        \"tweedie_variance_power\": trial.suggest_float(\"tweedie_variance_power\", 1, 2),\n",
    "    }\n",
    "    scores = [[] for store in STORES]\n",
    "    \n",
    "    for store_id, store in enumerate(STORES):\n",
    "        print(f\"Processing store {store}...\")\n",
    "        with fs.open(f\"{bucket_name}/combined_df_store_{store}.pkl\", \"rb\") as f:\n",
    "            df = cudf.DataFrame(pd.read_pickle(f))\n",
    "        for train_mask, valid_mask in cv_folds:\n",
    "            df_train = df[(df[\"day_id\"] >= train_mask[0]) & (df[\"day_id\"] < train_mask[1])]\n",
    "            df_valid = df[(df[\"day_id\"] >= valid_mask[0]) & (df[\"day_id\"] < valid_mask[1])]\n",
    "\n",
    "            X_train, y_train = df_train.drop(columns=[\"item_id\", \"dept_id\", \"cat_id\", \"day_id\", \"sales\"]), df_train[\"sales\"]\n",
    "            X_valid = df_valid.drop(columns=[\"item_id\", \"dept_id\", \"cat_id\", \"day_id\", \"sales\"])\n",
    "\n",
    "            clf = xgb.XGBRegressor(**params)\n",
    "            clf.fit(X_train, y_train)\n",
    "            pred_sales = clf.predict(X_valid)\n",
    "            scores[store_id].append(wrmsse(product_weights, df, pred_sales, train_mask, valid_mask))\n",
    "            del df_train, df_valid, X_train, y_train, clf\n",
    "            gc.collect()\n",
    "        del df\n",
    "        gc.collect()\n",
    "    \n",
    "    # We can sum WRMSSE scores over data segments because data segments contain disjoint sets of time series\n",
    "    return np.array(scores).sum(axis=0).mean()"
   ]
  },
  {
   "cell_type": "markdown",
   "id": "78b96b48-f94b-47c1-ac27-cfab20b8561c",
   "metadata": {},
   "source": [
    "Using the Dask cluster client, we execute multiple training jobs in parallel. Optuna keeps track of the progress in the hyperparameter search using in-memory Dask storage."
   ]
  },
  {
   "cell_type": "code",
   "execution_count": 14,
   "id": "09af0be0-4a72-4dc2-bd60-ff1d8152385b",
   "metadata": {
    "tags": []
   },
   "outputs": [
    {
     "name": "stderr",
     "output_type": "stream",
     "text": [
      "/tmp/ipykernel_3102/456600745.py:7: ExperimentalWarning: DaskStorage is experimental (supported from v3.1.0). The interface can change in the future.\n",
      "  dask_storage = optuna.integration.DaskStorage(storage=backend_storage, client=client)\n"
     ]
    },
    {
     "name": "stdout",
     "output_type": "stream",
     "text": [
      "Testing hyperparameter combinations 0..3\n",
      "Best cross-validation metric: 9.689218658589553, Time elapsed = 491.4758385729983\n",
      "Testing hyperparameter combinations 3..6\n",
      "Best cross-validation metric: 9.689218658589553, Time elapsed = 1047.8801612580028\n",
      "Testing hyperparameter combinations 6..9\n",
      "Best cross-validation metric: 9.689218658589553, Time elapsed = 1650.7563961980013\n",
      "Total time elapsed = 1650.7610972189977\n"
     ]
    }
   ],
   "source": [
    "##### Number of hyperparameter combinations to try in parallel\n",
    "n_trials = 9  # Using a small n_trials so that the demo can finish quickly\n",
    "#n_trials = 100\n",
    "\n",
    "# Optimize in parallel on your Dask cluster\n",
    "backend_storage = optuna.storages.InMemoryStorage()\n",
    "dask_storage = optuna.integration.DaskStorage(storage=backend_storage, client=client)\n",
    "study = optuna.create_study(direction=\"minimize\",\n",
    "                            sampler=optuna.samplers.RandomSampler(seed=0),\n",
    "                            storage=dask_storage)\n",
    "futures = []\n",
    "for i in range(0, n_trials, n_workers):\n",
    "    iter_range = (i, min([i + n_workers, n_trials]))\n",
    "    futures.append(\n",
    "        {\n",
    "            \"range\": iter_range,\n",
    "            \"futures\": [\n",
    "                client.submit(study.optimize, objective, n_trials=1, pure=False)\n",
    "                for _ in range(*iter_range)\n",
    "            ]\n",
    "        }\n",
    "    )\n",
    "\n",
    "tstart = time.perf_counter()\n",
    "for partition in futures:\n",
    "    iter_range = partition[\"range\"]\n",
    "    print(f\"Testing hyperparameter combinations {iter_range[0]}..{iter_range[1]}\")\n",
    "    _ = wait(partition[\"futures\"])\n",
    "    for fut in partition[\"futures\"]:\n",
    "        _ = fut.result()  # Ensure that the training job was successful\n",
    "    tnow = time.perf_counter()\n",
    "    print(f\"Best cross-validation metric: {study.best_value}, Time elapsed = {tnow - tstart}\")\n",
    "tend = time.perf_counter()\n",
    "print(f\"Total time elapsed = {tend - tstart}\")"
   ]
  },
  {
   "cell_type": "markdown",
   "id": "01e6da28-42e6-4e7e-9fa9-340539254e5e",
   "metadata": {},
   "source": [
    "Once the hyperparameter search is complete, we fetch the optimal hyperparameter combination using the attributes of the `study` object."
   ]
  },
  {
   "cell_type": "code",
   "execution_count": 15,
   "id": "3d11f3ac-76f5-48d2-bbb9-109d38b1f261",
   "metadata": {
    "tags": []
   },
   "outputs": [
    {
     "data": {
      "text/plain": [
       "{'lambda': 0.003077053443211648,\n",
       " 'alpha': 0.14187101103672142,\n",
       " 'colsample_bytree': 0.682210700857315,\n",
       " 'max_depth': 4,\n",
       " 'min_child_weight': 0.00017240426024865184,\n",
       " 'gamma': 0.0014694435419424668,\n",
       " 'tweedie_variance_power': 1.4375872112626924}"
      ]
     },
     "execution_count": 15,
     "metadata": {},
     "output_type": "execute_result"
    }
   ],
   "source": [
    "study.best_params"
   ]
  },
  {
   "cell_type": "code",
   "execution_count": 16,
   "id": "ac74f348-c1cd-4dbf-918b-52292d874a16",
   "metadata": {
    "tags": []
   },
   "outputs": [
    {
     "data": {
      "text/plain": [
       "FrozenTrial(number=0, state=TrialState.COMPLETE, values=[9.689218658589553], datetime_start=datetime.datetime(2023, 7, 27, 1, 39, 4, 604443), datetime_complete=datetime.datetime(2023, 7, 27, 1, 47, 9, 804887), params={'lambda': 0.003077053443211648, 'alpha': 0.14187101103672142, 'colsample_bytree': 0.682210700857315, 'max_depth': 4, 'min_child_weight': 0.00017240426024865184, 'gamma': 0.0014694435419424668, 'tweedie_variance_power': 1.4375872112626924}, user_attrs={}, system_attrs={}, intermediate_values={}, distributions={'lambda': FloatDistribution(high=100.0, log=True, low=1e-08, step=None), 'alpha': FloatDistribution(high=100.0, log=True, low=1e-08, step=None), 'colsample_bytree': FloatDistribution(high=1.0, log=False, low=0.2, step=None), 'max_depth': IntDistribution(high=6, log=False, low=2, step=1), 'min_child_weight': FloatDistribution(high=100.0, log=True, low=1e-08, step=None), 'gamma': FloatDistribution(high=1.0, log=True, low=1e-08, step=None), 'tweedie_variance_power': FloatDistribution(high=2.0, log=False, low=1.0, step=None)}, trial_id=0, value=None)"
      ]
     },
     "execution_count": 16,
     "metadata": {},
     "output_type": "execute_result"
    }
   ],
   "source": [
    "study.best_trial"
   ]
  },
  {
   "cell_type": "code",
   "execution_count": 17,
   "id": "dbc8d725-5aff-4339-bc45-d43f80aab454",
   "metadata": {
    "tags": []
   },
   "outputs": [
    {
     "data": {
      "text/plain": [
       "{'lambda': 0.003077053443211648,\n",
       " 'alpha': 0.14187101103672142,\n",
       " 'colsample_bytree': 0.682210700857315,\n",
       " 'max_depth': 4,\n",
       " 'min_child_weight': 0.00017240426024865184,\n",
       " 'gamma': 0.0014694435419424668,\n",
       " 'tweedie_variance_power': 1.4375872112626924}"
      ]
     },
     "execution_count": 17,
     "metadata": {},
     "output_type": "execute_result"
    }
   ],
   "source": [
    "# Make a deep copy to preserve the dictionary after deleting the Dask cluster\n",
    "best_params = copy.deepcopy(study.best_params)\n",
    "best_params"
   ]
  },
  {
   "cell_type": "code",
   "execution_count": 18,
   "id": "aa630ad6-e011-4652-b51c-1f2b8ce6564f",
   "metadata": {
    "tags": []
   },
   "outputs": [],
   "source": [
    "fs = gcsfs.GCSFileSystem()\n",
    "with fs.open(f\"{bucket_name}/params.json\", \"w\") as f:\n",
    "    json.dump(best_params, f)"
   ]
  },
  {
   "cell_type": "markdown",
   "id": "b5d02e80-c4e8-4445-bd0e-d05b9009c07f",
   "metadata": {},
   "source": [
    "## Train the final XGBoost model and evaluate"
   ]
  },
  {
   "cell_type": "markdown",
   "id": "ca9a2b78-8e08-47d9-9136-76faa8d21761",
   "metadata": {},
   "source": [
    "Using the optimal hyperparameters found in the search, fit a new model using the whole training data. As in the previous section, we fit a separate XGBoost model per data segment."
   ]
  },
  {
   "cell_type": "code",
   "execution_count": 19,
   "id": "3b665d27-8148-4959-ba6d-bdd54b18a311",
   "metadata": {
    "tags": []
   },
   "outputs": [],
   "source": [
    "fs = gcsfs.GCSFileSystem()\n",
    "with fs.open(f\"{bucket_name}/params.json\", \"r\") as f:\n",
    "    best_params = json.load(f)\n",
    "with fs.open(f\"{bucket_name}/product_weights.pkl\", \"rb\") as f:\n",
    "    product_weights = cudf.DataFrame(pd.read_pickle(f))"
   ]
  },
  {
   "cell_type": "code",
   "execution_count": 20,
   "id": "17c25588-b1e1-4a53-afe1-478bab418793",
   "metadata": {
    "tags": []
   },
   "outputs": [],
   "source": [
    "def final_train(best_params):\n",
    "    fs = gcsfs.GCSFileSystem()\n",
    "    params = {\n",
    "        \"n_estimators\": 100,\n",
    "        \"verbosity\": 0,\n",
    "        \"learning_rate\": 0.01,\n",
    "        \"objective\": \"reg:tweedie\",\n",
    "        \"tree_method\": \"gpu_hist\",\n",
    "        \"grow_policy\": \"depthwise\",\n",
    "        \"predictor\": \"gpu_predictor\",\n",
    "        \"enable_categorical\": True,\n",
    "    }\n",
    "    params.update(best_params)\n",
    "    model = {}\n",
    "    train_mask = [0, 1914]\n",
    "\n",
    "    for store in STORES:\n",
    "        print(f\"Processing store {store}...\")\n",
    "        with fs.open(f\"{bucket_name}/combined_df_store_{store}.pkl\", \"rb\") as f:\n",
    "            df = cudf.DataFrame(pd.read_pickle(f))\n",
    "\n",
    "        df_train = df[(df[\"day_id\"] >= train_mask[0]) & (df[\"day_id\"] < train_mask[1])]\n",
    "        X_train, y_train = df_train.drop(columns=[\"item_id\", \"dept_id\", \"cat_id\", \"day_id\", \"sales\"]), df_train[\"sales\"]\n",
    "\n",
    "        clf = xgb.XGBRegressor(**params)\n",
    "        clf.fit(X_train, y_train)\n",
    "        model[store] = clf\n",
    "    del df\n",
    "    gc.collect()\n",
    "    \n",
    "    return model"
   ]
  },
  {
   "cell_type": "code",
   "execution_count": 21,
   "id": "3170cd9d-cfb3-4de4-9eb8-80f0e96438c3",
   "metadata": {
    "tags": []
   },
   "outputs": [
    {
     "name": "stdout",
     "output_type": "stream",
     "text": [
      "Processing store CA_1...\n",
      "Processing store CA_2...\n",
      "Processing store CA_3...\n",
      "Processing store CA_4...\n",
      "Processing store TX_1...\n",
      "Processing store TX_2...\n",
      "Processing store TX_3...\n",
      "Processing store WI_1...\n",
      "Processing store WI_2...\n",
      "Processing store WI_3...\n"
     ]
    }
   ],
   "source": [
    "model = final_train(best_params)"
   ]
  },
  {
   "cell_type": "markdown",
   "id": "fa83a711-879a-44be-bfc6-70eaf0691934",
   "metadata": {},
   "source": [
    "Let's now evaluate the final model using the held-out test set:"
   ]
  },
  {
   "cell_type": "code",
   "execution_count": 23,
   "id": "7426afcd-5e22-4901-84fe-6155b172f8c4",
   "metadata": {
    "tags": []
   },
   "outputs": [
    {
     "name": "stdout",
     "output_type": "stream",
     "text": [
      "WRMSSE metric on the held-out test set: 10.495262182826213\n"
     ]
    }
   ],
   "source": [
    "test_wrmsse = 0\n",
    "for store in STORES:\n",
    "    with fs.open(f\"{bucket_name}/combined_df_store_{store}.pkl\", \"rb\") as f:\n",
    "        df = cudf.DataFrame(pd.read_pickle(f))\n",
    "    df_test = df[(df[\"day_id\"] >= holdout[0]) & (df[\"day_id\"] < holdout[1])]\n",
    "    X_test = df_test.drop(columns=[\"item_id\", \"dept_id\", \"cat_id\", \"day_id\", \"sales\"])\n",
    "    pred_sales = model[store].predict(X_test)\n",
    "    test_wrmsse += wrmsse(product_weights, df, pred_sales, train_mask=[0, 1914], valid_mask=holdout)\n",
    "print(f\"WRMSSE metric on the held-out test set: {test_wrmsse}\")"
   ]
  },
  {
   "cell_type": "code",
   "execution_count": 24,
   "id": "e6c804ce-3ac2-475e-a86a-3e6acf2f49ce",
   "metadata": {
    "tags": []
   },
   "outputs": [],
   "source": [
    "# Save the model to the Cloud Storage\n",
    "with fs.open(f\"{bucket_name}/final_model.pkl\", \"wb\") as f:\n",
    "    pickle.dump(model, f)"
   ]
  },
  {
   "cell_type": "markdown",
   "id": "bb62e220-d69a-42f4-90ee-acee6ef6144a",
   "metadata": {},
   "source": [
    "## Create an ensemble model using a different strategy for segmenting sales data"
   ]
  },
  {
   "cell_type": "markdown",
   "id": "d5714912-df6b-4686-83a0-2d6424e4d522",
   "metadata": {},
   "source": [
    "It is common to create an **ensemble model** where multiple machine learning methods are used to obtain better predictive performance. Prediction is made from an ensemble model by averaging the prediction output of the constituent models.\n",
    "\n",
    "In this example, we will create a second model by segmenting the sales data in a different way. Instead of splitting by stores, we will split the data by both stores and product categories."
   ]
  },
  {
   "cell_type": "code",
   "execution_count": 25,
   "id": "8461f1ca-4521-44f9-8a2b-0666b684b72d",
   "metadata": {
    "tags": []
   },
   "outputs": [],
   "source": [
    "def objective_alt(trial):\n",
    "    fs = gcsfs.GCSFileSystem()\n",
    "    with fs.open(f\"{bucket_name}/product_weights.pkl\", \"rb\") as f:\n",
    "        product_weights = cudf.DataFrame(pd.read_pickle(f))\n",
    "    params = {\n",
    "        \"n_estimators\": 100,\n",
    "        \"verbosity\": 0,\n",
    "        \"learning_rate\": 0.01,\n",
    "        \"objective\": \"reg:tweedie\",\n",
    "        \"tree_method\": \"gpu_hist\",\n",
    "        \"grow_policy\": \"depthwise\",\n",
    "        \"predictor\": \"gpu_predictor\",\n",
    "        \"enable_categorical\": True,\n",
    "        \"lambda\": trial.suggest_float(\"lambda\", 1e-8, 100.0, log=True),\n",
    "        \"alpha\": trial.suggest_float(\"alpha\", 1e-8, 100.0, log=True),\n",
    "        \"colsample_bytree\": trial.suggest_float(\"colsample_bytree\", 0.2, 1.0),\n",
    "        \"max_depth\": trial.suggest_int(\"max_depth\", 2, 6, step=1),\n",
    "        \"min_child_weight\": trial.suggest_float(\"min_child_weight\", 1e-8, 100, log=True),\n",
    "        \"gamma\": trial.suggest_float(\"gamma\", 1e-8, 1.0, log=True),\n",
    "        \"tweedie_variance_power\": trial.suggest_float(\"tweedie_variance_power\", 1, 2),\n",
    "    }\n",
    "    scores = [[] for i in range(len(STORES) * len(DEPTS))]\n",
    "    \n",
    "    for store_id, store in enumerate(STORES):\n",
    "        for dept_id, dept in enumerate(DEPTS):\n",
    "            print(f\"Processing store {store}, department {dept}...\")\n",
    "            with fs.open(f\"{bucket_name}/combined_df_store_{store}_dept_{dept}.pkl\", \"rb\") as f:\n",
    "                df = cudf.DataFrame(pd.read_pickle(f))\n",
    "            for train_mask, valid_mask in cv_folds:\n",
    "                df_train = df[(df[\"day_id\"] >= train_mask[0]) & (df[\"day_id\"] < train_mask[1])]\n",
    "                df_valid = df[(df[\"day_id\"] >= valid_mask[0]) & (df[\"day_id\"] < valid_mask[1])]\n",
    "\n",
    "                X_train, y_train = df_train.drop(columns=[\"item_id\", \"cat_id\", \"day_id\", \"sales\"]), df_train[\"sales\"]\n",
    "                X_valid = df_valid.drop(columns=[\"item_id\", \"cat_id\", \"day_id\", \"sales\"])\n",
    "\n",
    "                clf = xgb.XGBRegressor(**params)\n",
    "                clf.fit(X_train, y_train)\n",
    "                sales_pred = clf.predict(X_valid)\n",
    "                scores[store_id * len(DEPTS) + dept_id].append(wrmsse(product_weights, df, sales_pred, train_mask, valid_mask))\n",
    "                del df_train, df_valid, X_train, y_train, clf\n",
    "                gc.collect()\n",
    "            del df\n",
    "            gc.collect()\n",
    "    \n",
    "    # We can sum WRMSSE scores over data segments because data segments contain disjoint sets of time series\n",
    "    return np.array(scores).sum(axis=0).mean()"
   ]
  },
  {
   "cell_type": "code",
   "execution_count": 26,
   "id": "3e5c34ba-9709-4c71-bfcc-dca214891a2f",
   "metadata": {
    "tags": []
   },
   "outputs": [
    {
     "name": "stderr",
     "output_type": "stream",
     "text": [
      "/tmp/ipykernel_3102/383703293.py:7: ExperimentalWarning: DaskStorage is experimental (supported from v3.1.0). The interface can change in the future.\n",
      "  dask_storage = optuna.integration.DaskStorage(storage=backend_storage, client=client)\n"
     ]
    },
    {
     "name": "stdout",
     "output_type": "stream",
     "text": [
      "Testing hyperparameter combinations 0..3\n",
      "Best cross-validation metric: 9.657402162051978, Time elapsed = 663.513354638002\n",
      "Testing hyperparameter combinations 3..6\n",
      "Best cross-validation metric: 9.657402162051978, Time elapsed = 1379.8620550880005\n",
      "Testing hyperparameter combinations 6..9\n",
      "Best cross-validation metric: 9.657402162051978, Time elapsed = 2183.6284268570016\n",
      "Total time elapsed = 2183.632464492999\n"
     ]
    }
   ],
   "source": [
    "##### Number of hyperparameter combinations to try in parallel\n",
    "n_trials = 9  # Using a small n_trials so that the demo can finish quickly\n",
    "#n_trials = 100\n",
    "\n",
    "# Optimize in parallel on your Dask cluster\n",
    "backend_storage = optuna.storages.InMemoryStorage()\n",
    "dask_storage = optuna.integration.DaskStorage(storage=backend_storage, client=client)\n",
    "study = optuna.create_study(direction=\"minimize\",\n",
    "                            sampler=optuna.samplers.RandomSampler(seed=0),\n",
    "                            storage=dask_storage)\n",
    "futures = []\n",
    "for i in range(0, n_trials, n_workers):\n",
    "    iter_range = (i, min([i + n_workers, n_trials]))\n",
    "    futures.append(\n",
    "        {\n",
    "            \"range\": iter_range,\n",
    "            \"futures\": [\n",
    "                client.submit(study.optimize, objective_alt, n_trials=1, pure=False)\n",
    "                for _ in range(*iter_range)\n",
    "            ]\n",
    "        }\n",
    "    )\n",
    "\n",
    "tstart = time.perf_counter()\n",
    "for partition in futures:\n",
    "    iter_range = partition[\"range\"]\n",
    "    print(f\"Testing hyperparameter combinations {iter_range[0]}..{iter_range[1]}\")\n",
    "    _ = wait(partition[\"futures\"])\n",
    "    for fut in partition[\"futures\"]:\n",
    "        _ = fut.result()  # Ensure that the training job was successful\n",
    "    tnow = time.perf_counter()\n",
    "    print(f\"Best cross-validation metric: {study.best_value}, Time elapsed = {tnow - tstart}\")\n",
    "tend = time.perf_counter()\n",
    "print(f\"Total time elapsed = {tend - tstart}\")"
   ]
  },
  {
   "cell_type": "code",
   "execution_count": 27,
   "id": "0ce96895-8ef8-4897-bf52-b6bac69188c2",
   "metadata": {},
   "outputs": [
    {
     "data": {
      "text/plain": [
       "{'lambda': 0.003077053443211648,\n",
       " 'alpha': 0.14187101103672142,\n",
       " 'colsample_bytree': 0.682210700857315,\n",
       " 'max_depth': 4,\n",
       " 'min_child_weight': 0.00017240426024865184,\n",
       " 'gamma': 0.0014694435419424668,\n",
       " 'tweedie_variance_power': 1.4375872112626924}"
      ]
     },
     "execution_count": 27,
     "metadata": {},
     "output_type": "execute_result"
    }
   ],
   "source": [
    "# Make a deep copy to preserve the dictionary after deleting the Dask cluster\n",
    "best_params_alt = copy.deepcopy(study.best_params)\n",
    "best_params_alt"
   ]
  },
  {
   "cell_type": "code",
   "execution_count": 28,
   "id": "9841bf88-24ff-4fda-991f-108291866a43",
   "metadata": {},
   "outputs": [],
   "source": [
    "fs = gcsfs.GCSFileSystem()\n",
    "with fs.open(f\"{bucket_name}/params_alt.json\", \"w\") as f:\n",
    "    json.dump(best_params_alt, f)"
   ]
  },
  {
   "cell_type": "markdown",
   "id": "e04f712f-b7d6-4063-979d-22358da9fbc0",
   "metadata": {},
   "source": [
    "Using the optimal hyperparameters found in the search, fit a new model using the whole training data."
   ]
  },
  {
   "cell_type": "code",
   "execution_count": 33,
   "id": "44bbde76-93e6-4c69-bb12-d71e93e775db",
   "metadata": {
    "tags": []
   },
   "outputs": [],
   "source": [
    "def final_train_alt(best_params):\n",
    "    fs = gcsfs.GCSFileSystem()\n",
    "    with fs.open(f\"{bucket_name}/product_weights.pkl\", \"rb\") as f:\n",
    "        product_weights = cudf.DataFrame(pd.read_pickle(f))\n",
    "    params = {\n",
    "        \"n_estimators\": 100,\n",
    "        \"verbosity\": 0,\n",
    "        \"learning_rate\": 0.01,\n",
    "        \"objective\": \"reg:tweedie\",\n",
    "        \"tree_method\": \"gpu_hist\",\n",
    "        \"grow_policy\": \"depthwise\",\n",
    "        \"predictor\": \"gpu_predictor\",\n",
    "        \"enable_categorical\": True,\n",
    "    }\n",
    "    params.update(best_params)\n",
    "    model = {}\n",
    "    train_mask = [0, 1914]\n",
    "    \n",
    "    for store_id, store in enumerate(STORES):\n",
    "        for dept_id, dept in enumerate(DEPTS):\n",
    "            print(f\"Processing store {store}, department {dept}...\")\n",
    "            with fs.open(f\"{bucket_name}/combined_df_store_{store}_dept_{dept}.pkl\", \"rb\") as f:\n",
    "                df = cudf.DataFrame(pd.read_pickle(f))\n",
    "            for train_mask, valid_mask in cv_folds:\n",
    "                df_train = df[(df[\"day_id\"] >= train_mask[0]) & (df[\"day_id\"] < train_mask[1])]\n",
    "                X_train, y_train = df_train.drop(columns=[\"item_id\", \"cat_id\", \"day_id\", \"sales\"]), df_train[\"sales\"]\n",
    "\n",
    "                clf = xgb.XGBRegressor(**params)\n",
    "                clf.fit(X_train, y_train)\n",
    "                model[(store, dept)] = clf\n",
    "            del df\n",
    "            gc.collect()\n",
    "    \n",
    "    return model"
   ]
  },
  {
   "cell_type": "code",
   "execution_count": 34,
   "id": "0af52a5c-4d7c-454c-90a9-c47f570d6457",
   "metadata": {
    "tags": []
   },
   "outputs": [],
   "source": [
    "fs = gcsfs.GCSFileSystem()\n",
    "with fs.open(f\"{bucket_name}/params_alt.json\", \"r\") as f:\n",
    "    best_params_alt = json.load(f)\n",
    "with fs.open(f\"{bucket_name}/product_weights.pkl\", \"rb\") as f:\n",
    "    product_weights = cudf.DataFrame(pd.read_pickle(f))"
   ]
  },
  {
   "cell_type": "code",
   "execution_count": 35,
   "id": "fdd3b3a4-9e5a-4ebe-b138-57774c8cacf9",
   "metadata": {
    "scrolled": true,
    "tags": []
   },
   "outputs": [
    {
     "name": "stdout",
     "output_type": "stream",
     "text": [
      "Processing store CA_1, department HOBBIES_1...\n",
      "Processing store CA_1, department HOBBIES_2...\n",
      "Processing store CA_1, department HOUSEHOLD_1...\n",
      "Processing store CA_1, department HOUSEHOLD_2...\n",
      "Processing store CA_1, department FOODS_1...\n",
      "Processing store CA_1, department FOODS_2...\n",
      "Processing store CA_1, department FOODS_3...\n",
      "Processing store CA_2, department HOBBIES_1...\n",
      "Processing store CA_2, department HOBBIES_2...\n",
      "Processing store CA_2, department HOUSEHOLD_1...\n",
      "Processing store CA_2, department HOUSEHOLD_2...\n",
      "Processing store CA_2, department FOODS_1...\n",
      "Processing store CA_2, department FOODS_2...\n",
      "Processing store CA_2, department FOODS_3...\n",
      "Processing store CA_3, department HOBBIES_1...\n",
      "Processing store CA_3, department HOBBIES_2...\n",
      "Processing store CA_3, department HOUSEHOLD_1...\n",
      "Processing store CA_3, department HOUSEHOLD_2...\n",
      "Processing store CA_3, department FOODS_1...\n",
      "Processing store CA_3, department FOODS_2...\n",
      "Processing store CA_3, department FOODS_3...\n",
      "Processing store CA_4, department HOBBIES_1...\n",
      "Processing store CA_4, department HOBBIES_2...\n",
      "Processing store CA_4, department HOUSEHOLD_1...\n",
      "Processing store CA_4, department HOUSEHOLD_2...\n",
      "Processing store CA_4, department FOODS_1...\n",
      "Processing store CA_4, department FOODS_2...\n",
      "Processing store CA_4, department FOODS_3...\n",
      "Processing store TX_1, department HOBBIES_1...\n",
      "Processing store TX_1, department HOBBIES_2...\n",
      "Processing store TX_1, department HOUSEHOLD_1...\n",
      "Processing store TX_1, department HOUSEHOLD_2...\n",
      "Processing store TX_1, department FOODS_1...\n",
      "Processing store TX_1, department FOODS_2...\n",
      "Processing store TX_1, department FOODS_3...\n",
      "Processing store TX_2, department HOBBIES_1...\n",
      "Processing store TX_2, department HOBBIES_2...\n",
      "Processing store TX_2, department HOUSEHOLD_1...\n",
      "Processing store TX_2, department HOUSEHOLD_2...\n",
      "Processing store TX_2, department FOODS_1...\n",
      "Processing store TX_2, department FOODS_2...\n",
      "Processing store TX_2, department FOODS_3...\n",
      "Processing store TX_3, department HOBBIES_1...\n",
      "Processing store TX_3, department HOBBIES_2...\n",
      "Processing store TX_3, department HOUSEHOLD_1...\n",
      "Processing store TX_3, department HOUSEHOLD_2...\n",
      "Processing store TX_3, department FOODS_1...\n",
      "Processing store TX_3, department FOODS_2...\n",
      "Processing store TX_3, department FOODS_3...\n",
      "Processing store WI_1, department HOBBIES_1...\n",
      "Processing store WI_1, department HOBBIES_2...\n",
      "Processing store WI_1, department HOUSEHOLD_1...\n",
      "Processing store WI_1, department HOUSEHOLD_2...\n",
      "Processing store WI_1, department FOODS_1...\n",
      "Processing store WI_1, department FOODS_2...\n",
      "Processing store WI_1, department FOODS_3...\n",
      "Processing store WI_2, department HOBBIES_1...\n",
      "Processing store WI_2, department HOBBIES_2...\n",
      "Processing store WI_2, department HOUSEHOLD_1...\n",
      "Processing store WI_2, department HOUSEHOLD_2...\n",
      "Processing store WI_2, department FOODS_1...\n",
      "Processing store WI_2, department FOODS_2...\n",
      "Processing store WI_2, department FOODS_3...\n",
      "Processing store WI_3, department HOBBIES_1...\n",
      "Processing store WI_3, department HOBBIES_2...\n",
      "Processing store WI_3, department HOUSEHOLD_1...\n",
      "Processing store WI_3, department HOUSEHOLD_2...\n",
      "Processing store WI_3, department FOODS_1...\n",
      "Processing store WI_3, department FOODS_2...\n",
      "Processing store WI_3, department FOODS_3...\n"
     ]
    }
   ],
   "source": [
    "model_alt = final_train_alt(best_params_alt)"
   ]
  },
  {
   "cell_type": "code",
   "execution_count": 57,
   "id": "b00cf96a-8589-4ee6-8c29-51a5aa81af2c",
   "metadata": {
    "tags": []
   },
   "outputs": [],
   "source": [
    "# Save the model to the Cloud Storage\n",
    "with fs.open(f\"{bucket_name}/final_model_alt.pkl\", \"wb\") as f:\n",
    "    pickle.dump(model_alt, f)"
   ]
  },
  {
   "cell_type": "markdown",
   "id": "49fe134a-ebd8-4322-887f-ffcb97a380a2",
   "metadata": {},
   "source": [
    "Now consider an ensemble consisting of the two models `model` and `model_alt`. We evaluate the ensemble by computing the WRMSSE metric for the average of the predictions of the two models."
   ]
  },
  {
   "cell_type": "code",
   "execution_count": 58,
   "id": "99495acc-0355-40cf-935c-91658a6909ea",
   "metadata": {
    "tags": []
   },
   "outputs": [
    {
     "name": "stdout",
     "output_type": "stream",
     "text": [
      "Processing store CA_1...\n",
      "Processing store CA_2...\n",
      "Processing store CA_3...\n",
      "Processing store CA_4...\n",
      "Processing store TX_1...\n",
      "Processing store TX_2...\n",
      "Processing store TX_3...\n",
      "Processing store WI_1...\n",
      "Processing store WI_2...\n",
      "Processing store WI_3...\n",
      "WRMSSE metric on the held-out test set: 11.055364531163706\n"
     ]
    }
   ],
   "source": [
    "test_wrmsse = 0\n",
    "for store in STORES:\n",
    "    print(f\"Processing store {store}...\")\n",
    "    # Prediction from Model 1\n",
    "    with fs.open(f\"{bucket_name}/combined_df_store_{store}.pkl\", \"rb\") as f:\n",
    "        df = cudf.DataFrame(pd.read_pickle(f))\n",
    "    df_test = df[(df[\"day_id\"] >= holdout[0]) & (df[\"day_id\"] < holdout[1])]\n",
    "    X_test = df_test.drop(columns=[\"item_id\", \"dept_id\", \"cat_id\", \"day_id\", \"sales\"])\n",
    "    df_test[\"pred1\"] = model[store].predict(X_test)\n",
    "    \n",
    "    # Prediction from Model 2\n",
    "    df_test[\"pred2\"] = [np.nan] * len(df_test)\n",
    "    df_test[\"pred2\"] = df_test[\"pred2\"].astype(\"float32\")\n",
    "    for dept in DEPTS:\n",
    "        with fs.open(f\"{bucket_name}/combined_df_store_{store}_dept_{dept}.pkl\", \"rb\") as f:\n",
    "            df2 = cudf.DataFrame(pd.read_pickle(f))\n",
    "        df2_test = df2[(df2[\"day_id\"] >= holdout[0]) & (df2[\"day_id\"] < holdout[1])]\n",
    "        X_test = df2_test.drop(columns=[\"item_id\", \"cat_id\", \"day_id\", \"sales\"])\n",
    "        assert np.sum(df_test[\"dept_id\"] == dept) == len(X_test)\n",
    "        df_test[\"pred2\"][df_test[\"dept_id\"] == dept] = model_alt[(store, dept)].predict(X_test)\n",
    "    \n",
    "    # Average prediction\n",
    "    df_test[\"avg_pred\"] = (df_test[\"pred1\"] + df_test[\"pred2\"]) / 2.0\n",
    "\n",
    "    test_wrmsse += wrmsse(product_weights, df, df_test[\"avg_pred\"],\n",
    "                          train_mask=[0, 1914], valid_mask=holdout)\n",
    "print(f\"WRMSSE metric on the held-out test set: {test_wrmsse}\")"
   ]
  },
  {
   "cell_type": "code",
   "execution_count": null,
   "id": "fda530fd-9d8e-4200-bc08-20432f4ffa53",
   "metadata": {
    "tags": []
   },
   "outputs": [],
   "source": [
    "# Close the Dask cluster to clean up\n",
    "cluster.close()"
   ]
  },
  {
   "cell_type": "code",
   "execution_count": null,
   "id": "ae38a58b-5c5e-41b7-adcb-06cbfd81bbfc",
   "metadata": {},
   "outputs": [],
   "source": []
  }
 ],
 "metadata": {
  "kernelspec": {
   "display_name": "Python 3 (ipykernel)",
   "language": "python",
   "name": "python3"
  },
  "language_info": {
   "codemirror_mode": {
    "name": "ipython",
    "version": 3
   },
   "file_extension": ".py",
   "mimetype": "text/x-python",
   "name": "python",
   "nbconvert_exporter": "python",
   "pygments_lexer": "ipython3",
   "version": "3.10.12"
  }
 },
 "nbformat": 4,
 "nbformat_minor": 5
}
